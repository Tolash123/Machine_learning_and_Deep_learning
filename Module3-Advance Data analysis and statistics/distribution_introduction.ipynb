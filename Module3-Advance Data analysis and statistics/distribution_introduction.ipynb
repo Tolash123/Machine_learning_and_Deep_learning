{
 "cells": [
  {
   "cell_type": "markdown",
   "metadata": {},
   "source": [
    "# Introduction to Data Distributions with Scipy Module\n",
    "\n",
    "## What's Covered\n",
    "1. Understanding the Role of a Data Analyst\n",
    "2. What is a Data Distribution?\n",
    "3. Key characteristics of a Data Distributions\n",
    "4. Types of Distributions\n",
    "5. Why Study Data Distributions?\n",
    "6. Importing Libraries and Creating Helper Functions\n",
    "7. Discrete Distribution\n",
    "- Bernoulli Distribution\n",
    "- Binomial Distribution\n",
    "- Poisson Distribution\n",
    "- Multinomial Distribution\n",
    "- Conclusion\n",
    "8. Continuous Distribution\n",
    "- Uniform Distribution\n",
    "- Gaussian (Normal) Distribution and 68-95-99.7% Rule\n",
    "- Exponential Distribution\n",
    "- Log Normal Distribution\n",
    "- Pareto (Power Law) Distribution\n",
    "- Conclusion\n",
    "9. Case Study\n",
    "- Scenario: Setting Up a Garment Store\n",
    "- Import the Libraries and Load the Data\n",
    "- Domain Knowledge\n",
    "- Task to Solve\n",
    "10. Verify the Type of Distribution - QQ Plot\n",
    "11. Feature Engineering\n",
    "- Feature Scaling (Rescaling)\n",
    "- - Min-Max Scaling (Normalization)\n",
    "- - z-transformation (Standardization)\n",
    "- Data Transformation\n",
    "- - Log Transformation\n",
    "- - Box Cox Transformation"
   ]
  },
  {
   "cell_type": "markdown",
   "metadata": {},
   "source": [
    "## Understanding the Role of a Data Analyst\n",
    "1. No matter in what format the data comes (for eg: .csv, .xlsx, MySQL, PostgreSQL, MongoDB, Oracle, .JSON, .XML, .TXT, .JPG, .PNG, Google Sheet, AWS Server, GCP Server, Azure, etc..) you should be able to EXTRACT the data and LOAD in the tool which you are most comfortable with.\n",
    "2. You should be able to perform TRANSFORMATION of data so that it is ready for analysis.\n",
    "3. You should be able to perform DATA ANALYSIS using the skillset which you are most comfortable with.\n",
    "4. You as a DATA ANALYST should be able to generate ACTIONABLE INSIGHTS from the given data so that the client/businesses can take a DATA DRIVEN DECISION."
   ]
  },
  {
   "cell_type": "markdown",
   "metadata": {},
   "source": [
    "### What is a Data Distribution?\n",
    "A data distribution refers to the way in which data values are spread or distributed across a dataset. It provides information about the possible values a variable can take and how frequently each value occurs. Understanding the distribution of data is fundamental in statistics and data analysis, as it forms the basis for making inferences, building models, and drawing conclusions about a population based on a sample.\n",
    "\n",
    "### Key characteristics of a Data Distributions\n",
    "1. Cardinality(nunique) and Unique (For Discrete Columns)\n",
    "2. Count, Min and Max (For Numerical Columns)\n",
    "3. Central Tendency: This indicates the \"center\" of the data. Common measures of central tendency include the mean (average), median (middle value), and mode (most frequently occurring value).\n",
    "4. Dispersion or Spread: This describes how spread out the data points are. Measures of dispersion include range, variance, and standard deviation.\n",
    "5. Shape: This refers to the overall pattern or form of the distribution. Common shapes include normal (bell-shaped), skewed (lopsided), and uniform (evenly distributed)."
   ]
  },
  {
   "cell_type": "markdown",
   "metadata": {},
   "source": [
    "### Types of Distributions\n",
    "\n",
    "There are two broad categories of Data Distributions:\n",
    "\n",
    "1. Discrete Distribution (Categorical or Discrete Numerical Columns)\n",
    "2. Continuous Distribution (Continuos/Real Numerical Feature)\n",
    "Based on key characteristics of data distribution, we can further classify them into following types:\n",
    "\n",
    "1. Discrete Distribution (Categorical or Discrete Numerical Columns)\n",
    "- Bernoulli Distribution\n",
    "- Binomial Distribution\n",
    "- Poisson Distribution\n",
    "- Multinomial Distribution\n",
    "2. Continuous Distribution (Continuos/Real Numerical Feature)\n",
    "- Uniform Distribution\n",
    "- Gaussian (Normal) Distribution\n",
    "- Exponential Distribution\n",
    "- Log Normal Distribution\n",
    "- Pareto (Power Law) Distribution\n",
    "We will learn the PMFs and PDFs for the above mentioned distributions. The main distinction between PMFs and PDFs is that PMFs give probabilities associated with specific points, while PDFs describe probabilities over intervals."
   ]
  },
  {
   "cell_type": "markdown",
   "metadata": {},
   "source": [
    "### Why Study Data Distributions?\n",
    "\n",
    "Understanding the distribution of data is crucial in a wide range of fields, including statistics, data science, economics, finance, healthcare, and more. It informs decision-making, helps in selecting appropriate statistical tests or models, and provides insights into the underlying patterns and characteristics of a dataset. Following are the benefits of studying data distributions:\n",
    "\n",
    "1. Outlier and Missing Values - Outliers are data points that are significantly different from the rest of the data. Knowledge of Data Distribution helps perform a better outlier and missing value treatment.\n",
    "2. Advance Data Analysis - Knowledge of data distributions and their PMFs/PDFs can help us with better insight generation from the given data and take data driven decisions.\n",
    "3. Inferential Statistics - Knowledge of Distribution can help us select the appropriate Statistical Tests.\n",
    "4. ML and DL - It also helps us identify appropriate Algorithms for Data Modelling in ML and DL."
   ]
  },
  {
   "cell_type": "markdown",
   "metadata": {},
   "source": [
    "Importing Libraries and Creating Helper Functions"
   ]
  },
  {
   "cell_type": "code",
   "execution_count": 1,
   "metadata": {},
   "outputs": [],
   "source": [
    "import numpy as np\n",
    "import pandas as pd \n",
    "import matplotlib.pyplot as plt \n",
    "import seaborn as sns\n",
    "\n",
    "from scipy import stats"
   ]
  },
  {
   "cell_type": "code",
   "execution_count": 3,
   "metadata": {},
   "outputs": [],
   "source": [
    "# Creating the helper functions for non visual analysis\n",
    "def discrete_non_viz_analysis(data):\n",
    "    '''\n",
    "    This function performs a complete statistical \n",
    "    analysis of discrete data (categorical and numerical).\n",
    "    '''\n",
    "    series = pd.Series(data)\n",
    "    print(series.agg(['count', 'nunique', 'unique']))\n",
    "    print('Value Counts: \\n', series.value_counts())\n",
    "    print()\n",
    "\n",
    "\n",
    "def continuous_non_viz_analysis(data):\n",
    "    '''\n",
    "    This function performs a complete statistical \n",
    "    analysis of continuous numerical data.\n",
    "    '''\n",
    "    series = pd.Series(data)\n",
    "    print(series.agg(['count', 'min', 'max', 'mean', 'median', 'var', 'std', 'skew', 'kurt']).round(2))\n",
    "    print()"
   ]
  },
  {
   "cell_type": "code",
   "execution_count": 5,
   "metadata": {},
   "outputs": [],
   "source": [
    "# Creating the helper functions for visual analysis\n",
    "def discrete_viz_analysis(data):\n",
    "    '''\n",
    "    This function performs a complete visual \n",
    "    analysis of discrete data (categorical and numerical).\n",
    "    '''\n",
    "    fig, ax = plt.subplots(figsize=(5, 3), constrained_layout=True)\n",
    "    fig.suptitle(\"Discrete Distribution Plot\")\n",
    "    \n",
    "    ax.set_title(\"Count Plot\")\n",
    "    sns.countplot(x=data, ax=ax)\n",
    "    \n",
    "    plt.xticks(rotation=45)\n",
    "    plt.show()\n",
    "\n",
    "\n",
    "\n",
    "def continuous_viz_analysis(data):\n",
    "    '''\n",
    "    This function performs a complete visual \n",
    "    analysis of continuous numerical data.\n",
    "    '''\n",
    "\n",
    "    fig, axes = plt.subplots(1, 3, figsize=(8, 3), constrained_layout=True)\n",
    "    fig.suptitle(\"Continuous Distribution Plot\")\n",
    "    \n",
    "    axes[0].set_title(\"Histogram Plot\")\n",
    "    sns.histplot(data, ax=axes[0])\n",
    "    \n",
    "    axes[1].set_title(\"KDE Plot\")\n",
    "    sns.kdeplot(data, fill=True, ax=axes[1])\n",
    "\n",
    "    axes[2].set_title(\"Box Plot\")\n",
    "    sns.boxplot(data, ax=axes[2])\n",
    "\n",
    "    plt.show()"
   ]
  },
  {
   "cell_type": "markdown",
   "metadata": {},
   "source": [
    "#### Discrete Distributions\n",
    "\n",
    "Bernoulli Distribution\n",
    "The Bernoulli distribution models a random experiment with two possible outcomes, often labeled as \"success\" and \"failure.\" It is characterized by a single parameter, p, which represents the probability of success.\n",
    "For eg:\n",
    "\n",
    "- Loan Approval - Suppose a bank is considering a loan application. The outcome can be either \"Approved\" (success) or \"Rejected\" (failure) based on certain criteria. Let's say the probability of loan approval (p) is 0.8.\n",
    "> What will be the probabilily of rejection?\n",
    "  Ans: ___________\n",
    "\n",
    "- Student Pass/Fail Outcome in a final exam - Suppose a university is considering a pass/fail criterion for a final exam. The outcome for each student can be either \"Pass\" (success) or \"Fail\" (failure) based on a predefined threshold. Probability of a student passing the exam is 0.7 (p).\n",
    "> What is the probability of student failing the   exam?\n",
    " Ans: ___________\n",
    "\n",
    "If data follows bernoulli distribution, we represent it like this:\n",
    " x ~ B(1,p)\n",
    "Probability Mass Function\n",
    " f(x)={ p if x=1, 1-p if x=0}\n",
    " "
   ]
  },
  {
   "cell_type": "code",
   "execution_count": 6,
   "metadata": {},
   "outputs": [],
   "source": [
    "def bernoulli_distribution(p,size):\n",
    "     # Define the number of trials (n) and the probability of success (p)\n",
    "    return np.random.binomial(n=1, p=p, size=size)"
   ]
  },
  {
   "cell_type": "code",
   "execution_count": 7,
   "metadata": {},
   "outputs": [
    {
     "name": "stdout",
     "output_type": "stream",
     "text": [
      "count         100\n",
      "nunique         2\n",
      "unique     [0, 1]\n",
      "dtype: object\n",
      "Value Counts: \n",
      " 0    69\n",
      "1    31\n",
      "Name: count, dtype: int64\n",
      "\n"
     ]
    },
    {
     "data": {
      "image/png": "[encoded data removed]",
      "text/plain": [
       "<Figure size 500x300 with 1 Axes>"
      ]
     },
     "metadata": {},
     "output_type": "display_data"
    }
   ],
   "source": [
    "bernoulli_dist = bernoulli_distribution(p=0.30,size=100)\n",
    "\n",
    "discrete_non_viz_analysis(data=bernoulli_dist)\n",
    "\n",
    "discrete_viz_analysis(data=bernoulli_dist)"
   ]
  },
  {
   "cell_type": "code",
   "execution_count": 9,
   "metadata": {},
   "outputs": [
    {
     "name": "stdout",
     "output_type": "stream",
     "text": [
      "count       10000\n",
      "nunique         2\n",
      "unique     [0, 1]\n",
      "dtype: object\n",
      "Value Counts: \n",
      " 0    6909\n",
      "1    3091\n",
      "Name: count, dtype: int64\n",
      "\n"
     ]
    },
    {
     "data": {
      "image/png": "[encoded data removed]",
      "text/plain": [
       "<Figure size 500x300 with 1 Axes>"
      ]
     },
     "metadata": {},
     "output_type": "display_data"
    },
    {
     "name": "stdout",
     "output_type": "stream",
     "text": [
      "F(k=0): 0.7000000000000002\n",
      "F(k=1): 0.3\n"
     ]
    }
   ],
   "source": [
    "# Using scipy.stats to generate the bernoulli distribution\n",
    "prob_success = 0.30\n",
    "\n",
    "var = stats.bernoulli.rvs(p=prob_success, size=10000)\n",
    "discrete_non_viz_analysis(data=var)\n",
    "discrete_viz_analysis(data=var)\n",
    "\n",
    "# calculating pmf\n",
    "print('F(k=0):', stats.bernoulli.pmf(k=0, p=prob_success))\n",
    "print('F(k=1):', stats.bernoulli.pmf(k=1, p=prob_success))"
   ]
  },
  {
   "cell_type": "markdown",
   "metadata": {},
   "source": [
    "### Binomial Distribution\n",
    "\n",
    "The binomial distribution models the number of successes (x) in a fixed number of independent Bernoulli trials (n), each with the same probability of success (p). For eg:\n",
    "\n",
    "1. Number of Loan Approvals in a day - Assuming the bank receives 20 loan applications in a day (i.e. n), and each application has an independent probability of approval of p = 0.8.\n",
    "What is the probability of approving exactly 15 loans?\n",
    "Ans: _________\n",
    "\n",
    "2. Success Rate in a Tutoring Program - In a tutoring program, 50 students (i.e. n) are enrolled, and each student has an independent probability of success (p=0.7).\n",
    "What is the probability of exactly 30 students succeeding?\n",
    "Ans: __________\n",
    "\n",
    "If data follows binomial distribution, we represent it like this:\n",
    " X~B(n,p)\n",
    "\n",
    "Probability Mass Function\n",
    " f(x)=(n,x)(p)^x(1-p)^n-x\n",
    " (n,x)= n!/x!(n-x)!\n",
    "\n",
    "here,\n",
    " \n"
   ]
  },
  {
   "cell_type": "code",
   "execution_count": 11,
   "metadata": {},
   "outputs": [],
   "source": [
    "def binomial_distribution(n,p,size):\n",
    "    # Define the number of trials (n) and the probability of success (p)\n",
    "    return np.random.binomial(n=n, p=p, size=size)"
   ]
  },
  {
   "cell_type": "code",
   "execution_count": 12,
   "metadata": {},
   "outputs": [
    {
     "name": "stdout",
     "output_type": "stream",
     "text": [
      "count                            10000\n",
      "nunique                              9\n",
      "unique     [3, 4, 1, 2, 5, 0, 8, 6, 7]\n",
      "dtype: object\n",
      "Value Counts: \n",
      " 3    2656\n",
      "2    2422\n",
      "4    1920\n",
      "1    1205\n",
      "5    1046\n",
      "6     383\n",
      "0     267\n",
      "7      85\n",
      "8      16\n",
      "Name: count, dtype: int64\n",
      "\n"
     ]
    },
    {
     "data": {
      "image/png": "[encoded data removed]",
      "text/plain": [
       "<Figure size 500x300 with 1 Axes>"
      ]
     },
     "metadata": {},
     "output_type": "display_data"
    }
   ],
   "source": [
    "binomial_dist = binomial_distribution(n=10, p=0.30, size=10000)\n",
    "discrete_non_viz_analysis(data=binomial_dist)\n",
    "discrete_viz_analysis(data=binomial_dist)"
   ]
  },
  {
   "cell_type": "code",
   "execution_count": 15,
   "metadata": {},
   "outputs": [
    {
     "name": "stdout",
     "output_type": "stream",
     "text": [
      "count                               10000\n",
      "nunique                                10\n",
      "unique     [4, 5, 1, 2, 3, 0, 6, 8, 7, 9]\n",
      "dtype: object\n",
      "Value Counts: \n",
      " 3    2671\n",
      "2    2333\n",
      "4    2040\n",
      "1    1214\n",
      "5    1006\n",
      "6     338\n",
      "0     292\n",
      "7      93\n",
      "8      12\n",
      "9       1\n",
      "Name: count, dtype: int64\n",
      "\n"
     ]
    },
    {
     "data": {
      "image/png": "[encoded data removed]",
      "text/plain": [
       "<Figure size 500x300 with 1 Axes>"
      ]
     },
     "metadata": {},
     "output_type": "display_data"
    },
    {
     "name": "stdout",
     "output_type": "stream",
     "text": [
      "probability of 0 success out of 10 trials: 0.0282475249\n",
      "Probability of 1 success out of 10 trials: 0.12106082099999989\n",
      "Probability of 2 successes out of 10 trials: 0.2334744405000001\n",
      "Probability of <=2 success out of 10 trials: 0.3827827863999998\n"
     ]
    }
   ],
   "source": [
    "# using scipy.stats to generate the binomial distribution\n",
    "n_trials = 10\n",
    "prob_success = 0.30\n",
    "var = stats.binom.rvs(n=n_trials, p=prob_success, size=10000)\n",
    "discrete_non_viz_analysis(data=var)\n",
    "discrete_viz_analysis(data=var)\n",
    "\n",
    "# computing pmf and cdf\n",
    "print('probability of 0 success out of 10 trials:', stats.binom.pmf(k=0, n=n_trials, p=prob_success))\n",
    "print(\"Probability of 1 success out of 10 trials:\", stats.binom.pmf(k=1, n=n_trials, p=prob_success))\n",
    "print(\"Probability of 2 successes out of 10 trials:\", stats.binom.pmf(k=2, n=n_trials, p=prob_success))\n",
    "print(\"Probability of <=2 success out of 10 trials:\", stats.binom.cdf(k=2, n=n_trials, p=prob_success))"
   ]
  }
 ],
 "metadata": {
  "kernelspec": {
   "display_name": "Python 3",
   "language": "python",
   "name": "python3"
  },
  "language_info": {
   "codemirror_mode": {
    "name": "ipython",
    "version": 3
   },
   "file_extension": ".py",
   "mimetype": "text/x-python",
   "name": "python",
   "nbconvert_exporter": "python",
   "pygments_lexer": "ipython3",
   "version": "3.9.2"
  }
 },
 "nbformat": 4,
 "nbformat_minor": 2
}
