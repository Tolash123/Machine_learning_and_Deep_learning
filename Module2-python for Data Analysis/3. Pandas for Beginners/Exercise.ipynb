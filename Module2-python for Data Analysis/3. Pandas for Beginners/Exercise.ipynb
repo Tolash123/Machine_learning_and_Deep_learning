{
 "cells": [
  {
   "cell_type": "markdown",
   "metadata": {},
   "source": [
    "Putting Some Pandas In Your Python 🐼\n",
    "# Introduction to Pandas 🐼\n",
    "\n",
    "pandas is a Python package providing fast, flexible, and expressive data structures designed to make working with relational or labeled data both easy and intuitive. It aims to be the fundamental high-level building block for doing practical, real-world data analysis in Python.\n",
    "\n",
    "Reference: https://pandas.pydata.org/docs/getting_started/index.html\n",
    "\n",
    "- Question: What are the Data Structures in Pandas?\n",
    "- Answer: Series (similar to 1 dim numpy array) and DataFrame (similar to 2 dim numpy array)\n",
    "\n",
    "Installation Command\n",
    "! pip install pandas\n",
    "\n",
    "Importing Pandas\n",
    "import pandas as pd"
   ]
  },
  {
   "cell_type": "markdown",
   "metadata": {},
   "source": [
    "### What's covered in this notebook?\n",
    "1. Pandas Data Structure - Series (ndarray-like)\n",
    "Creating Series using Python list or dict\n",
    "Creating Series from Numpy ndarray\n",
    "Creating Series from scalar\n",
    "Accessing Properties/Attributes and Methods of Series\n",
    "Accessing data using Indexing and Slicing\n",
    "2. Pandas Data Structure - DataFrame\n",
    "Creating DataFrame using Python dict, list or tuple\n",
    "Creating DataFrame using Numpy Array\n",
    "Accessing Attributes/Properties and Methods of DataFrame\n",
    "3. Working with Tabular Data\n",
    "Dataframe to .csv & .xlsx\n",
    "Reading .xlsx File\n",
    "Reading .csv File - Iris Dataset\n",
    "4. Non-Visual Data Analysis using Pandas (Statistical Analysis)\n",
    "sum()\n",
    "min() and max()\n",
    "mean(), median(), var() and std()\n",
    "describe() to summarize the data\n",
    "corr(), skew() and kurt()\n",
    "count(), unique() and value_counts() for categorical column\n",
    "DataFrame.agg()\n",
    "5. Accessing Data in a DataFrame using Indexing and Slicing in Pandas DataFrame\n",
    "Reading .csv File - Weather Dataset\n",
    "Filtering Single Column vs Multiple Columns from a DataFrame\n",
    "Filtering Rows from a DataFrame\n",
    "Filtering specific rows and columns from a DataFrame\n",
    "loc() vs iloc()\n",
    "6. Renaming Columns, Modifying DataTypes, Creating New Columns and Deleting Columns in Pandas DataFrame\n",
    "Reading .csv File - Retail Store Sales Data\n",
    "Renaming Columns\n",
    "Modifying Columns DataTypes\n",
    "Creating a Derived Column\n",
    "Creating columns using apply() function\n",
    "Deleting column(s) in DataFrame\n",
    "7. Adding/Inserting Row(s)\n",
    "Reading .xlsx File - Weather Data\n",
    "Insert Row(s) using pandas.concat()\n",
    "Inserting a Row using List - .loc[] and .iloc[]\n",
    "Inserting a Row at a Specific Index of a DataFrame\n",
    "Saving DataFrame to .xlsx\n",
    "8. Handling TimeSeries Data\n",
    "Reading .csv File - Online Store Sales Data\n",
    "pd.to_datetime()\n",
    "Working with DateTime in Pandas\n",
    "Creating a Column containing only the Order Month\n",
    "Calculating Delivery Time from Order Date and Ship Date\n",
    "pandas.Timedelta\n",
    "Creating a Column containing Delivery Time in Number of Days\n",
    "Improve Performance by Setting Date Column as the Index\n",
    "Sorting Data Based on Index vs Values and Resetting Index\n",
    "9. Summary"
   ]
  },
  {
   "cell_type": "markdown",
   "metadata": {},
   "source": [
    "Q1. Import Pandas Module and numpy module"
   ]
  },
  {
   "cell_type": "markdown",
   "metadata": {},
   "source": [
    "Q2. Create Series using Python list or dict"
   ]
  },
  {
   "cell_type": "markdown",
   "metadata": {},
   "source": [
    "Q3. Create Series from Numpy ndarray"
   ]
  },
  {
   "cell_type": "markdown",
   "metadata": {},
   "source": [
    "Q4. Create Series from scalar and the index should start from 1 or a"
   ]
  },
  {
   "cell_type": "markdown",
   "metadata": {},
   "source": [
    "Accessing Properties/Attributes and Methods of Series"
   ]
  },
  {
   "cell_type": "markdown",
   "metadata": {},
   "source": [
    "Q1. Create array of numbers, check for the data type, shape, values and the length"
   ]
  },
  {
   "cell_type": "markdown",
   "metadata": {},
   "source": [
    "Q2. convert to numpy array s = pd.Series([1,2,3,4,5,6,7,8,9]) using to_numpy()"
   ]
  },
  {
   "cell_type": "markdown",
   "metadata": {},
   "source": [
    "Q3. Access variable using head(),tail() and info()"
   ]
  },
  {
   "cell_type": "markdown",
   "metadata": {},
   "source": [
    "Accessing data using Indexing and Slicing"
   ]
  },
  {
   "cell_type": "markdown",
   "metadata": {},
   "source": [
    "Q1. Access the 2nd and 4th elements in s = pd.Series([1, 2, 3, 4, 5]) using the indexing or slicing method"
   ]
  },
  {
   "cell_type": "markdown",
   "metadata": {},
   "source": [
    "Q2. Create a pandas series with index=['a', 'b', 'c', 'd', 'e']"
   ]
  },
  {
   "cell_type": "markdown",
   "metadata": {},
   "source": [
    "## Pandas Data Structure - DataFrame\n",
    "\n",
    "Pandas is a general 2D labeled, value and size-mutable tabular structure with potentially heterogeneously-typed column.\n",
    "\n",
    "Important Note: Pandas data structures are value-mutable (the values they contain can be altered) as well as size-mutable."
   ]
  },
  {
   "cell_type": "markdown",
   "metadata": {},
   "source": [
    "Q1. Create a DataFrame using Python dict, list or tuple to print Name, Age and Gender"
   ]
  },
  {
   "cell_type": "markdown",
   "metadata": {},
   "source": [
    "Q2. Create a Dataframe using Tuple, assingn it to a variable named data\n",
    "       ('1/1/2019', 13, 6, 'Rain'),\n",
    "       ('2/1/2019', 11, 7, 'Fog'),\n",
    "       ('3/1/2019', 12, 8, 'Sunny'),\n",
    "       ('4/1/2019', 8, 5, 'Snow'),\n",
    "       ('5/1/2019', 9, 6, 'Rain')\n",
    "Note: The minimum rows should be 50"
   ]
  },
  {
   "cell_type": "markdown",
   "metadata": {},
   "source": [
    "Q2. Create a column for Q2: Day, Temperature, Windspeed and Event"
   ]
  },
  {
   "cell_type": "markdown",
   "metadata": {},
   "source": [
    "Q3. print the Temperature column"
   ]
  },
  {
   "cell_type": "markdown",
   "metadata": {},
   "source": [
    "Creating DataFrame using Numpy Array"
   ]
  },
  {
   "cell_type": "markdown",
   "metadata": {},
   "source": [
    "Q1. Create an array using random.randint. choose the range and the size should be (1000,100)"
   ]
  },
  {
   "cell_type": "markdown",
   "metadata": {},
   "source": [
    "Q2. Convert Q1 to a DataFrame "
   ]
  },
  {
   "cell_type": "markdown",
   "metadata": {},
   "source": [
    "Q3. Write a program to output col_1 to col_100 for the Dataframe in Q2\n",
    "Hint: col_ + str(i) followed by a for loop"
   ]
  },
  {
   "cell_type": "markdown",
   "metadata": {},
   "source": [
    "Accessing Attributes/Properties and Methods of DataFrame"
   ]
  },
  {
   "cell_type": "markdown",
   "metadata": {},
   "source": [
    "Q1. Create a dictionary of series, assign it to a variable name data"
   ]
  },
  {
   "cell_type": "markdown",
   "metadata": {},
   "source": [
    "Q2. Print the shape, column, data type, axes and value of Q1"
   ]
  },
  {
   "cell_type": "markdown",
   "metadata": {},
   "source": [
    "Q3. Check for the dataframe information"
   ]
  },
  {
   "cell_type": "markdown",
   "metadata": {},
   "source": [
    "Q4. Output the last 2 row in the dataframe"
   ]
  },
  {
   "cell_type": "markdown",
   "metadata": {},
   "source": [
    "### Working with Tabular Data\n",
    "\n",
    "Remember\n",
    "Getting data in to pandas from many different file formats or data sources is supported by read_* functions.\n",
    "Exporting data out of pandas is provided by different to_* methods.\n",
    "The head/tail/info methods and the dtypes attribute are convenient for a first check."
   ]
  },
  {
   "cell_type": "markdown",
   "metadata": {},
   "source": [
    "Q1. Create an array using random.randint. choose the range and the size should be (1000,100)"
   ]
  },
  {
   "cell_type": "markdown",
   "metadata": {},
   "source": [
    "Q2. Write Q1 dataframe to csv with the name new_data.csv without index"
   ]
  },
  {
   "cell_type": "markdown",
   "metadata": {},
   "source": [
    "Q3. Write Q1 dataframe to xsls with the sheet_name = new_data.xlsx without index"
   ]
  },
  {
   "cell_type": "markdown",
   "metadata": {},
   "source": [
    "Q4. Read the data in the temp/iris.csv. use head(),tail(),info() and dtype"
   ]
  },
  {
   "cell_type": "markdown",
   "metadata": {},
   "source": [
    "The iris data set is widely used as a beginner's dataset for machine learning purposes."
   ]
  },
  {
   "cell_type": "markdown",
   "metadata": {},
   "source": [
    "##### Non-Visual Data Analysis using Pandas (Statistical Analysis)\n",
    "groupby provides the power of the split-apply-combine pattern.\n",
    "value_counts is a convenient shortcut to count the number of entries in each category of a variable."
   ]
  },
  {
   "cell_type": "markdown",
   "metadata": {},
   "source": [
    "Q5. print the columns in Q3"
   ]
  },
  {
   "cell_type": "markdown",
   "metadata": {},
   "source": [
    "Q6. Sum each columns, output the min, max, mean, median, var, std"
   ]
  },
  {
   "cell_type": "markdown",
   "metadata": {},
   "source": [
    "count(), nunique(), unique() and value_counts() for categorical column"
   ]
  },
  {
   "cell_type": "markdown",
   "metadata": {},
   "source": [
    "Q7. Use the above for analysing the data in Q3"
   ]
  },
  {
   "cell_type": "markdown",
   "metadata": {},
   "source": [
    "Q8. Describe the data and include(object)"
   ]
  },
  {
   "cell_type": "markdown",
   "metadata": {},
   "source": [
    "corr(), skew() and kurt()"
   ]
  },
  {
   "cell_type": "markdown",
   "metadata": {},
   "source": [
    "df.agg(\n",
    "    {\n",
    "        \"SepalLengthCm\" : [\"min\", \"max\", \"median\", \"count\"],\n",
    "        \"PetalWidthCm\" : [\"min\", \"max\", \"mean\", \"count\"],\n",
    "        \"Species\" : [\"count\"]\n",
    "    }\n",
    ")"
   ]
  },
  {
   "cell_type": "markdown",
   "metadata": {},
   "source": [
    "##### Accessing Data in a DataFrame using Indexing and Slicing in Pandas DataFrame\n",
    "You can assign new values to a selection based on loc/iloc."
   ]
  },
  {
   "cell_type": "markdown",
   "metadata": {},
   "source": [
    "Reading .csv File - Weather Dataset"
   ]
  },
  {
   "cell_type": "markdown",
   "metadata": {},
   "source": [
    "Q1. Read the weather Dataset(nyc_weather.csv)"
   ]
  },
  {
   "cell_type": "markdown",
   "metadata": {},
   "source": [
    "Q2. Access the data using head(), tail(), info, columns and shape"
   ]
  },
  {
   "cell_type": "markdown",
   "metadata": {},
   "source": [
    "Q3. Check for the min and max Temperature"
   ]
  },
  {
   "cell_type": "markdown",
   "metadata": {},
   "source": [
    "Q4. Select Multiple column(Temerature, Deewpoint and Humidity)"
   ]
  },
  {
   "cell_type": "markdown",
   "metadata": {},
   "source": [
    "Q5. Filter the rows using Slicing method. Row 1 to 30"
   ]
  },
  {
   "cell_type": "markdown",
   "metadata": {},
   "source": [
    "Q6. Check for in the Temperature column values greater than 30"
   ]
  },
  {
   "cell_type": "markdown",
   "metadata": {},
   "source": [
    "Q7. Show the whole Dataframe for Q6 which shows the index of values greater than 30"
   ]
  },
  {
   "cell_type": "markdown",
   "metadata": {},
   "source": [
    "Q8. Using isin: check if '1/10/2016', '1/16/2016', '1/2/2016' isin EST"
   ]
  },
  {
   "cell_type": "markdown",
   "metadata": {},
   "source": [
    "Q9. Use loc and iloc to print row 30"
   ]
  },
  {
   "cell_type": "markdown",
   "metadata": {},
   "source": [
    "Q10. Show EST and DewPoint for Q9"
   ]
  },
  {
   "cell_type": "markdown",
   "metadata": {},
   "source": [
    "Reading .csv File - Retail Store Sales Data"
   ]
  },
  {
   "cell_type": "markdown",
   "metadata": {},
   "source": [
    "Q1. Read retail_store_sales.xlsx file after importing the necessary module"
   ]
  },
  {
   "cell_type": "markdown",
   "metadata": {},
   "source": [
    "Q2. What comes to your mind immediately after looking at the dataset?\n",
    "\n",
    "Answer the following:\n",
    "How many sales records do we have in the dataset?\n",
    "How many customers do we have?\n",
    "What is the date range of data?\n",
    "Which country recorded maximum sales count?\n",
    "What is the minimum order amount and maximum order amount?\n",
    "How many orders for each customer?\n",
    "What is the revenue contributed by each customer?\n",
    "What is the revenue generated each year?\n",
    "Which customer contributed to the maximum revenue each year and how much?\n",
    "Are there more orders placed on weekends?\n",
    "How many customers churned (i.e. Customers not making any purchases for more than or equal to 2 months)?\n",
    "\n",
    "NB:\n",
    "Try to understand that as a data analyst, first we should be capable to ask right questions. Answering these questions can be done with the help of Pandas module."
   ]
  },
  {
   "cell_type": "markdown",
   "metadata": {},
   "source": [
    "Q3. Rename the column using the code below "
   ]
  },
  {
   "cell_type": "code",
   "execution_count": 20,
   "metadata": {},
   "outputs": [
    {
     "name": "stdout",
     "output_type": "stream",
     "text": [
      "['invoice_no', 'stock_code', 'product_description', 'quantity', 'invoice_date', 'unit_price', 'cust_id', 'country']\n"
     ]
    }
   ],
   "source": [
    "#col_names = [ col.strip().lower().replace(' ', '_').replace('-', '_') for col in df_renamed ]\n"
   ]
  },
  {
   "cell_type": "markdown",
   "metadata": {},
   "source": [
    "Q4. Convert all columns to string type using astype(str)"
   ]
  },
  {
   "cell_type": "markdown",
   "metadata": {},
   "source": [
    "Q5. Convert quantity,unit_price,cust_id"
   ]
  },
  {
   "cell_type": "markdown",
   "metadata": {},
   "source": [
    "Q6. Convert ship date and order date to datetime"
   ]
  },
  {
   "cell_type": "markdown",
   "metadata": {},
   "source": [
    "Q7. Apply a function on the complete column at once\n",
    "ex:df_renamed[['amount']].apply(np.mean)"
   ]
  },
  {
   "cell_type": "markdown",
   "metadata": {},
   "source": [
    "Q8. Create a new column using apply() and lambda "
   ]
  },
  {
   "cell_type": "markdown",
   "metadata": {},
   "source": [
    "Deleting column(s) in DataFrame"
   ]
  },
  {
   "cell_type": "markdown",
   "metadata": {},
   "source": [
    "Q1. Delete the amount column using drop and axis=1"
   ]
  },
  {
   "cell_type": "markdown",
   "metadata": {},
   "source": [
    "Q2. Use iloc to delete a column"
   ]
  },
  {
   "cell_type": "markdown",
   "metadata": {},
   "source": [
    "Q3. Use pop to delete a column"
   ]
  }
 ],
 "metadata": {
  "kernelspec": {
   "display_name": "Python 3",
   "language": "python",
   "name": "python3"
  },
  "language_info": {
   "codemirror_mode": {
    "name": "ipython",
    "version": 3
   },
   "file_extension": ".py",
   "mimetype": "text/x-python",
   "name": "python",
   "nbconvert_exporter": "python",
   "pygments_lexer": "ipython3",
   "version": "3.9.2"
  },
  "orig_nbformat": 4
 },
 "nbformat": 4,
 "nbformat_minor": 2
}
