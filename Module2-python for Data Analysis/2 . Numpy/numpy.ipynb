{
 "cells": [
  {
   "cell_type": "markdown",
   "metadata": {},
   "source": [
    "High Speed Numerical Array Computation using Numpy Module"
   ]
  },
  {
   "cell_type": "markdown",
   "metadata": {},
   "source": [
    "Installing Numpy and Numpy Array Creation"
   ]
  },
  {
   "cell_type": "code",
   "execution_count": null,
   "metadata": {},
   "outputs": [],
   "source": [
    "# Install a pip package in the current Jupyter kernel\n",
    "# ! pip install numpy"
   ]
  },
  {
   "cell_type": "code",
   "execution_count": 3,
   "metadata": {},
   "outputs": [
    {
     "name": "stdout",
     "output_type": "stream",
     "text": [
      "<class 'list'>\n",
      "List:  [1, 2, 3, 4, 5, 6]\n"
     ]
    }
   ],
   "source": [
    "lst = [1,2,3,4,5,6]\n",
    "print(type(lst))\n",
    "print('List: ', lst)"
   ]
  },
  {
   "cell_type": "code",
   "execution_count": 4,
   "metadata": {},
   "outputs": [
    {
     "name": "stdout",
     "output_type": "stream",
     "text": [
      "<class 'numpy.ndarray'>\n",
      "Numpy array:  [1 2 3 4 5 6]\n"
     ]
    }
   ],
   "source": [
    "# Importing the numpy library\n",
    "import numpy as np\n",
    "arr = np.array(lst)\n",
    "print(type(arr))\n",
    "print('Numpy array: ',arr)"
   ]
  },
  {
   "cell_type": "code",
   "execution_count": 5,
   "metadata": {},
   "outputs": [
    {
     "name": "stdout",
     "output_type": "stream",
     "text": [
      "<class 'numpy.ndarray'>\n",
      "Numpy Array:  [1 2 3 4]\n"
     ]
    }
   ],
   "source": [
    "# Creating a simple array in numpy\n",
    "\n",
    "arr = np.array([1, 2, 3, 4])\n",
    "\n",
    "print(type(arr))\n",
    "\n",
    "print(\"Numpy Array: \", arr)"
   ]
  },
  {
   "cell_type": "code",
   "execution_count": 6,
   "metadata": {},
   "outputs": [
    {
     "name": "stdout",
     "output_type": "stream",
     "text": [
      "<class 'numpy.ndarray'>\n",
      "Numpy Array:  [0 1 2 3 4 5 6 7 8 9]\n"
     ]
    }
   ],
   "source": [
    "# Creating a simple array in numpy using np.arange\n",
    "\n",
    "arr = np.arange(10)\n",
    "\n",
    "print(type(arr))\n",
    "\n",
    "print(\"Numpy Array: \", arr)"
   ]
  },
  {
   "cell_type": "markdown",
   "metadata": {},
   "source": [
    "Why Numpy?\n",
    "Most powerful numerical processing library in python. Array Oriented computing.\n",
    "Provides extension package to python for multi dimensional array.\n",
    "Very efficient.\n",
    "Scientific computation."
   ]
  },
  {
   "cell_type": "markdown",
   "metadata": {},
   "source": [
    "But WHY numpy, when we already have lists?"
   ]
  },
  {
   "cell_type": "code",
   "execution_count": 7,
   "metadata": {},
   "outputs": [
    {
     "name": "stdout",
     "output_type": "stream",
     "text": [
      "CPU times: user 472 ms, sys: 92.6 ms, total: 565 ms\n",
      "Wall time: 910 ms\n"
     ]
    }
   ],
   "source": [
    "%%time\n",
    "lst = list(range(1000000))\n",
    "for i in range(1000000):\n",
    "    lst[i] *= lst[i]\n",
    "    "
   ]
  },
  {
   "cell_type": "code",
   "execution_count": 8,
   "metadata": {},
   "outputs": [
    {
     "name": "stdout",
     "output_type": "stream",
     "text": [
      "CPU times: user 0 ns, sys: 82.3 ms, total: 82.3 ms\n",
      "Wall time: 339 ms\n"
     ]
    }
   ],
   "source": [
    "%%time\n",
    "\n",
    "arr = np.arange(1000000)\n",
    "arr = arr * arr"
   ]
  },
  {
   "cell_type": "markdown",
   "metadata": {},
   "source": [
    "Numpy Array and It's Attributes/Properties"
   ]
  },
  {
   "cell_type": "code",
   "execution_count": 9,
   "metadata": {},
   "outputs": [
    {
     "name": "stdout",
     "output_type": "stream",
     "text": [
      "Array: \n",
      " [1 2 3 4]\n",
      "Shape:  (4,)\n",
      "Data Type:  int64\n",
      "Item Size:  8\n",
      "Dimensionality:  1\n"
     ]
    }
   ],
   "source": [
    "import numpy as np\n",
    "\n",
    "arr = np.array([1, 2, 3, 4])\n",
    "\n",
    "print(\"Array: \\n\", arr)\n",
    "\n",
    "# Print shape\n",
    "print(\"Shape: \", arr.shape)\n",
    "\n",
    "# Print datatype\n",
    "print(\"Data Type: \", arr.dtype)\n",
    "\n",
    "# Print item size in byte of each element\n",
    "print(\"Item Size: \", arr.itemsize)\n",
    "\n",
    "# Print the dimensionality of the numpy array\n",
    "print(\"Dimensionality: \", arr.ndim)"
   ]
  },
  {
   "cell_type": "code",
   "execution_count": 10,
   "metadata": {},
   "outputs": [
    {
     "name": "stdout",
     "output_type": "stream",
     "text": [
      "Array: \n",
      " [[1 2 3]\n",
      " [4 5 6]]\n",
      "Shape:  (2, 3)\n",
      "Data Type:  int64\n",
      "Item Size:  8\n",
      "Dimensionality:  2\n"
     ]
    }
   ],
   "source": [
    "arr = np.array([[1, 2, 3], [4, 5, 6]])\n",
    "\n",
    "print(\"Array: \\n\", arr)\n",
    "\n",
    "# Print shape\n",
    "print(\"Shape: \", arr.shape)\n",
    "\n",
    "# Print datatype\n",
    "print(\"Data Type: \", arr.dtype)\n",
    "\n",
    "# Print item size in byte of each element\n",
    "print(\"Item Size: \", arr.itemsize)\n",
    "\n",
    "# Print the dimensionality of the numpy array\n",
    "print(\"Dimensionality: \", arr.ndim)"
   ]
  },
  {
   "cell_type": "markdown",
   "metadata": {},
   "source": [
    "Functions for creating Numpy Array"
   ]
  },
  {
   "cell_type": "code",
   "execution_count": 11,
   "metadata": {},
   "outputs": [
    {
     "name": "stdout",
     "output_type": "stream",
     "text": [
      "Array: \n",
      " [0 1 2 3 4 5 6 7 8 9]\n",
      "Shape:  (10,)\n",
      "Data Type:  int64\n",
      "Item Size:  8\n",
      "Dimensionality:  1\n"
     ]
    }
   ],
   "source": [
    "arr = np.arange(10)\n",
    "\n",
    "print(\"Array: \\n\", arr)\n",
    "\n",
    "# Print shape\n",
    "print(\"Shape: \", arr.shape)\n",
    "\n",
    "# Print datatype\n",
    "print(\"Data Type: \", arr.dtype)\n",
    "\n",
    "# Print item size in byte of each element\n",
    "print(\"Item Size: \", arr.itemsize)\n",
    "\n",
    "# Print the dimensionality of the numpy array\n",
    "print(\"Dimensionality: \", arr.ndim)"
   ]
  },
  {
   "cell_type": "code",
   "execution_count": 12,
   "metadata": {},
   "outputs": [
    {
     "name": "stdout",
     "output_type": "stream",
     "text": [
      "Array: \n",
      " [1 2 3 4 5 6 7 8 9]\n",
      "Shape:  (9,)\n",
      "Data Type:  int64\n",
      "Item Size:  8\n",
      "Dimensionality:  1\n"
     ]
    }
   ],
   "source": [
    "arr = np.arange(1, 10)\n",
    "\n",
    "print(\"Array: \\n\", arr)\n",
    "\n",
    "# Print shape\n",
    "print(\"Shape: \", arr.shape)\n",
    "\n",
    "# Print datatype\n",
    "print(\"Data Type: \", arr.dtype)\n",
    "\n",
    "# Print item size in byte of each element\n",
    "print(\"Item Size: \", arr.itemsize)\n",
    "\n",
    "# Print the dimensionality of the numpy array\n",
    "print(\"Dimensionality: \", arr.ndim)"
   ]
  },
  {
   "cell_type": "code",
   "execution_count": 15,
   "metadata": {},
   "outputs": [
    {
     "name": "stdout",
     "output_type": "stream",
     "text": [
      "Even number between 0-51:  [ 2  4  6  8 10 12 14 16 18 20 22 24 26 28 30 32 34 36 38 40 42 44 46 48\n",
      " 50]\n"
     ]
    }
   ],
   "source": [
    "# To print even numbers\n",
    "arr = np.arange(2,51,2)\n",
    "print('Even number between 0-51: ',arr)"
   ]
  },
  {
   "cell_type": "code",
   "execution_count": 17,
   "metadata": {},
   "outputs": [
    {
     "name": "stdout",
     "output_type": "stream",
     "text": [
      "Odd numberss between 0-50:  [ 1  3  5  7  9 11 13 15 17 19 21 23 25 27 29 31 33 35 37 39 41 43 45 47\n",
      " 49]\n"
     ]
    }
   ],
   "source": [
    "# To print odd numbers\n",
    "arr = np.arange(1,50,2)\n",
    "print('Odd numberss between 0-50: ',arr)"
   ]
  },
  {
   "cell_type": "code",
   "execution_count": 22,
   "metadata": {},
   "outputs": [
    {
     "name": "stdout",
     "output_type": "stream",
     "text": [
      "[[1 1 1 1]\n",
      " [1 1 1 1]\n",
      " [1 1 1 1]\n",
      " [1 1 1 1]]\n"
     ]
    }
   ],
   "source": [
    "# np.ones\n",
    "arr = np.ones((4,4), dtype= int)\n",
    "print(arr) # prints 4rows and 4columns"
   ]
  },
  {
   "cell_type": "code",
   "execution_count": 23,
   "metadata": {},
   "outputs": [
    {
     "name": "stdout",
     "output_type": "stream",
     "text": [
      "[[0 0 0 0]\n",
      " [0 0 0 0]\n",
      " [0 0 0 0]\n",
      " [0 0 0 0]]\n"
     ]
    }
   ],
   "source": [
    "# np.zeros\n",
    "arr = np.zeros((4,4), dtype= int)\n",
    "print(arr) # prints 4rows and 4columns"
   ]
  },
  {
   "cell_type": "code",
   "execution_count": 24,
   "metadata": {},
   "outputs": [
    {
     "name": "stdout",
     "output_type": "stream",
     "text": [
      "Array: \n",
      " [[1. 0. 0.]\n",
      " [0. 1. 0.]\n",
      " [0. 0. 1.]]\n",
      "Shape:  (3, 3)\n",
      "Data Type:  float64\n",
      "Item Size:  8\n",
      "Dimensionality:  2\n"
     ]
    }
   ],
   "source": [
    "# np.eyes\n",
    "arr = np.eye(3)\n",
    "\n",
    "print(\"Array: \\n\", arr)\n",
    "\n",
    "# Print shape\n",
    "print(\"Shape: \", arr.shape)\n",
    "\n",
    "# Print datatype\n",
    "print(\"Data Type: \", arr.dtype)\n",
    "\n",
    "# Print item size in byte of each element\n",
    "print(\"Item Size: \", arr.itemsize)\n",
    "\n",
    "# Print the dimensionality of the numpy array\n",
    "print(\"Dimensionality: \", arr.ndim)"
   ]
  },
  {
   "cell_type": "markdown",
   "metadata": {},
   "source": [
    "Datatypes in Numpy\n",
    "Below is a list of all data types in NumPy and the characters used to represent them.\n",
    "\n",
    "i - integer\n",
    "b - boolean\n",
    "str - string\n",
    "f - float\n",
    "m - timedelta\n",
    "M - datetime\n",
    "O - object\n",
    "u - unsigned integer\n",
    "c - complex float\n",
    "U - unicode string\n",
    "V - fixed chunk of memory for other type ( void )"
   ]
  },
  {
   "cell_type": "code",
   "execution_count": 27,
   "metadata": {},
   "outputs": [
    {
     "name": "stdout",
     "output_type": "stream",
     "text": [
      "Array: \n",
      " [2. 1. 4. 5.]\n",
      "Data Type:  float32\n"
     ]
    }
   ],
   "source": [
    "import numpy as np\n",
    "\n",
    "arr = np.array([2, 1, 4, 5], dtype='f')\n",
    "print(\"Array: \\n\", arr)\n",
    "# Print datatype\n",
    "print(\"Data Type: \", arr.dtype)"
   ]
  },
  {
   "cell_type": "code",
   "execution_count": 28,
   "metadata": {},
   "outputs": [
    {
     "name": "stdout",
     "output_type": "stream",
     "text": [
      "Array: \n",
      " [2 1 4 5]\n",
      "Data Type:  object\n"
     ]
    }
   ],
   "source": [
    "import numpy as np\n",
    "\n",
    "arr = np.array([2, 1, 4, 5], dtype='O')\n",
    "print(\"Array: \\n\", arr)\n",
    "# Print datatype\n",
    "print(\"Data Type: \", arr.dtype)"
   ]
  },
  {
   "cell_type": "markdown",
   "metadata": {},
   "source": [
    "## Numpy Random Numbers\n",
    "np.random.rand - generates an array with random numbers that are uniformly distribute between 0 and 1.\n",
    "np.random.randn - generates an array with random numbers that are normally distributed, mean = 0 and stdev = 1.\n",
    "np.random.randint - generates an array with random numbers (integers) that are uniformly distribute between 0 and given number.\n",
    "np.random.uniform - generates an array with random numbers (float) between given numbers."
   ]
  },
  {
   "cell_type": "code",
   "execution_count": 29,
   "metadata": {},
   "outputs": [
    {
     "name": "stdout",
     "output_type": "stream",
     "text": [
      "Numpy Array: \n",
      " [0.91311267 0.02719265 0.8955667  0.59263949 0.90167596]\n"
     ]
    }
   ],
   "source": [
    "import numpy as np\n",
    "\n",
    "arr = np.random.rand(5)\n",
    "\n",
    "print(\"Numpy Array: \\n\", arr)"
   ]
  },
  {
   "cell_type": "code",
   "execution_count": 30,
   "metadata": {},
   "outputs": [
    {
     "name": "stdout",
     "output_type": "stream",
     "text": [
      "Numpy Array generated randomly from uniform distribution: \n",
      " [[0.63191827 0.62604073]\n",
      " [0.26839833 0.46727688]\n",
      " [0.73664338 0.3829104 ]\n",
      " [0.83238977 0.77203049]\n",
      " [0.49849042 0.35980221]\n",
      " [0.56811285 0.49908811]\n",
      " [0.71556547 0.33531876]\n",
      " [0.14172557 0.82472822]\n",
      " [0.05773253 0.13271412]\n",
      " [0.2344864  0.18505771]]\n"
     ]
    }
   ],
   "source": [
    "# Randomly generate an array with 10 rows and 2 columns\n",
    "arr = np.random.rand(10, 2)\n",
    "\n",
    "print(\"Numpy Array generated randomly from uniform distribution: \\n\", arr)"
   ]
  },
  {
   "cell_type": "code",
   "execution_count": 31,
   "metadata": {},
   "outputs": [
    {
     "name": "stdout",
     "output_type": "stream",
     "text": [
      "Numpy Array: \n",
      " [-0.24492265  0.09799667 -0.41831612 -2.61199788 -1.34774072]\n"
     ]
    }
   ],
   "source": [
    "# Randomly generate an array from normal distribution\n",
    "\n",
    "arr = np.random.randn(5)\n",
    "print(\"Numpy Array: \\n\", arr)"
   ]
  },
  {
   "cell_type": "code",
   "execution_count": 32,
   "metadata": {},
   "outputs": [
    {
     "name": "stdout",
     "output_type": "stream",
     "text": [
      "Numpy Array generated randomly from normal distribution: \n",
      " [[ 1.02029308e+00  1.54016324e+00 -3.24063809e-01 -7.83518730e-01]\n",
      " [-7.40756128e-01 -5.98052597e-01  2.37538679e-01 -9.82687516e-01]\n",
      " [-4.99849665e-01  1.54321973e+00 -1.37989805e+00  1.13815951e-01]\n",
      " [-1.05848827e-03 -5.83954418e-01 -4.26441504e-01 -4.16051612e-01]\n",
      " [ 2.46925204e+00 -1.08674832e+00  9.63738208e-01  2.06498585e-02]]\n"
     ]
    }
   ],
   "source": [
    "# Randomly generate an array with 5 rows and 4 columns\n",
    "arr = np.random.randn(5, 4)\n",
    "\n",
    "print(\"Numpy Array generated randomly from normal distribution: \\n\", arr)"
   ]
  },
  {
   "cell_type": "code",
   "execution_count": 33,
   "metadata": {},
   "outputs": [
    {
     "name": "stdout",
     "output_type": "stream",
     "text": [
      "3\n"
     ]
    }
   ],
   "source": [
    "value = np.random.randint(10)\n",
    "\n",
    "print(value)"
   ]
  },
  {
   "cell_type": "code",
   "execution_count": 48,
   "metadata": {},
   "outputs": [
    {
     "name": "stdout",
     "output_type": "stream",
     "text": [
      "Too high 0\n",
      "Thanks for guessing\n"
     ]
    }
   ],
   "source": [
    "# simple game\n",
    "guess = int(input('Guess the number: '))\n",
    "value = np.random.randint(10)\n",
    "def guessing():\n",
    "    while True:\n",
    "        if guess == value:\n",
    "            print('Correct', value)\n",
    "        elif guess > value:\n",
    "            print('Too high', value)\n",
    "            break\n",
    "        elif guess < value:\n",
    "            print('Too low ', value)\n",
    "            break\n",
    "        else:\n",
    "           pass\n",
    "guessing()\n",
    "\n",
    "print('Thanks for guessing')"
   ]
  },
  {
   "cell_type": "code",
   "execution_count": 50,
   "metadata": {},
   "outputs": [
    {
     "name": "stdout",
     "output_type": "stream",
     "text": [
      "Numpy Array: \n",
      " [[3 2 5 4]\n",
      " [6 3 3 3]\n",
      " [4 3 0 6]\n",
      " [4 1 6 9]\n",
      " [8 6 0 3]]\n",
      "2\n"
     ]
    }
   ],
   "source": [
    "# Randomly generate a 5*4 array containing values in the range of 0 to 9\n",
    "arr = np.random.randint(10, size = (5, 4))\n",
    "print(\"Numpy Array: \\n\", arr)\n",
    "print(arr.ndim)"
   ]
  },
  {
   "cell_type": "code",
   "execution_count": 51,
   "metadata": {},
   "outputs": [
    {
     "name": "stdout",
     "output_type": "stream",
     "text": [
      "Numpy Array: \n",
      " [[30 35 25 27 34 32 27 15 31 10]\n",
      " [30 13 12 22 28 20 38 25 18 26]\n",
      " [29 25 25 25 16 16 29 32 31 17]\n",
      " [36 30 21 37 19 34 12 12 17 11]\n",
      " [23 14 28 16 16 23 15 28 13 32]]\n"
     ]
    }
   ],
   "source": [
    "# Randomly generate a 5*10 array containing values in the range of 10 to 39\n",
    "arr = np.random.randint(10, 40, size = (5, 10))\n",
    "\n",
    "print(\"Numpy Array: \\n\", arr)"
   ]
  },
  {
   "cell_type": "code",
   "execution_count": 52,
   "metadata": {},
   "outputs": [
    {
     "name": "stdout",
     "output_type": "stream",
     "text": [
      "5.148639137614059\n"
     ]
    }
   ],
   "source": [
    "# Generate one random decimal value between 0 to 10\n",
    "value = np.random.uniform(10)\n",
    "print(value)"
   ]
  },
  {
   "cell_type": "code",
   "execution_count": 53,
   "metadata": {},
   "outputs": [
    {
     "name": "stdout",
     "output_type": "stream",
     "text": [
      "Numpy Array: \n",
      " [[6.62689092 8.06335934 9.02482093 2.67635108]\n",
      " [7.82658207 7.24825975 3.54588463 6.91335816]\n",
      " [8.81664017 3.46321955 2.58593616 4.84185441]\n",
      " [1.58901821 5.04110632 4.66671875 7.81576859]\n",
      " [8.53726656 7.3912787  6.02112026 8.18883513]]\n"
     ]
    }
   ],
   "source": [
    "# Randomly generate a 5*4 array containing values in the range of 0 to 10\n",
    "arr = np.random.uniform(10, size = (5, 4))\n",
    "\n",
    "print(\"Numpy Array: \\n\", arr)"
   ]
  },
  {
   "cell_type": "markdown",
   "metadata": {},
   "source": [
    "Numpy Array - Indexing, Slicing and Updating\n",
    "Since data in numpy array is stored sequentially, it is possible to access the data with the help of Indexing and Slicing operation. NumPy offers more indexing facilities than regular Python sequences. In addition to indexing by integers and slices, as we saw before, arrays can be indexed by arrays of integers and arrays of booleans.\n",
    "\n",
    "Also remember that numpy array's are mutable. i.e. Data stored in numpy array can be updated/changed."
   ]
  },
  {
   "cell_type": "markdown",
   "metadata": {},
   "source": [
    "Data Accessing using Indexing in Numpy Array"
   ]
  },
  {
   "cell_type": "code",
   "execution_count": 60,
   "metadata": {},
   "outputs": [
    {
     "name": "stdout",
     "output_type": "stream",
     "text": [
      "Numpy Array: \n",
      " [76 56 48  5 50]\n",
      "Shape:  (5,)\n"
     ]
    }
   ],
   "source": [
    "# Randomly generating 1 dimensional array\n",
    "arr = np.random.randint(100, size = (5, ))\n",
    "print(\"Numpy Array: \\n\", arr)\n",
    "print(\"Shape: \", arr.shape)"
   ]
  },
  {
   "cell_type": "code",
   "execution_count": 61,
   "metadata": {},
   "outputs": [
    {
     "name": "stdout",
     "output_type": "stream",
     "text": [
      "Value at 2nd index:  48\n"
     ]
    }
   ],
   "source": [
    "# Accessing 2nd index\n",
    "print(\"Value at 2nd index: \", arr[2])"
   ]
  },
  {
   "cell_type": "code",
   "execution_count": 62,
   "metadata": {},
   "outputs": [
    {
     "name": "stdout",
     "output_type": "stream",
     "text": [
      "Value at 5th index:  50\n"
     ]
    }
   ],
   "source": [
    "# Accessing 4th index\n",
    "print(\"Value at 5th index: \", arr[4])"
   ]
  },
  {
   "cell_type": "code",
   "execution_count": 71,
   "metadata": {},
   "outputs": [
    {
     "name": "stdout",
     "output_type": "stream",
     "text": [
      "Numpy Array: \n",
      " [[66 17 73 96]\n",
      " [ 4 53 42 98]\n",
      " [50 46 20 86]\n",
      " [31 62 59 32]\n",
      " [65 71 98 31]]\n"
     ]
    }
   ],
   "source": [
    "# Randomly generating 2 dimensional array\n",
    "arr = np.random.randint(100, size = (5, 4))\n",
    "print(\"Numpy Array: \\n\", arr)"
   ]
  },
  {
   "cell_type": "code",
   "execution_count": 73,
   "metadata": {},
   "outputs": [
    {
     "name": "stdout",
     "output_type": "stream",
     "text": [
      "Numpy Array: \n",
      " [ 6 12 50 47 95 69 83 92 40 47]\n",
      "Shape:  (10,)\n"
     ]
    }
   ],
   "source": [
    "# Data Accessing using Slicing in Numpy Array\n",
    "# Randomly generating 1 dimensional array\n",
    "import numpy as np\n",
    "\n",
    "arr = np.random.randint(100, size = (10, ))\n",
    "print(\"Numpy Array: \\n\", arr)\n",
    "print(\"Shape: \", arr.shape)"
   ]
  },
  {
   "cell_type": "code",
   "execution_count": 74,
   "metadata": {},
   "outputs": [
    {
     "name": "stdout",
     "output_type": "stream",
     "text": [
      "[12 50 47]\n",
      "[ 6 12 50 47 95 69]\n",
      "[ 6 50 95 83 40]\n"
     ]
    }
   ],
   "source": [
    "print(arr[1:4])\n",
    "print(arr[0:-4])\n",
    "print(arr[::2])"
   ]
  },
  {
   "cell_type": "code",
   "execution_count": 75,
   "metadata": {},
   "outputs": [
    {
     "name": "stdout",
     "output_type": "stream",
     "text": [
      "Numpy Array: \n",
      " [78 32 20 67 43 18 48 81 13 81]\n",
      "Shape:  (10,)\n"
     ]
    }
   ],
   "source": [
    "# Indexing with Boolean Arrays\n",
    "# Randomly generating 1 dimensional array\n",
    "import numpy as np\n",
    "\n",
    "arr = np.random.randint(100, size = (10, ))\n",
    "\n",
    "print(\"Numpy Array: \\n\", arr)\n",
    "\n",
    "print(\"Shape: \", arr.shape)"
   ]
  },
  {
   "cell_type": "code",
   "execution_count": 77,
   "metadata": {},
   "outputs": [
    {
     "name": "stdout",
     "output_type": "stream",
     "text": [
      "[78 32 18 13 81]\n"
     ]
    }
   ],
   "source": [
    "idx = [True, True, False, False, False, True, False, False, True, True]\n",
    "\n",
    "print(arr[idx])"
   ]
  },
  {
   "cell_type": "code",
   "execution_count": 80,
   "metadata": {},
   "outputs": [
    {
     "name": "stdout",
     "output_type": "stream",
     "text": [
      "Original Array: \n",
      " [[34 90 96 33]\n",
      " [52 43 91 35]\n",
      " [26 30 79 99]\n",
      " [16 39 69 45]\n",
      " [88 54 27 68]]\n",
      "Updated Array: \n",
      " [[34 90 96 33]\n",
      " [52 43 91 35]\n",
      " [26 30 99 99]\n",
      " [16 39 69 45]\n",
      " [88 54 27 68]]\n"
     ]
    }
   ],
   "source": [
    "# Updating value in the array\n",
    "\n",
    "# Randomly generating 2 dimensional array\n",
    "arr = np.random.randint(100, size = (5, 4))\n",
    "\n",
    "print(\"Original Array: \\n\", arr)\n",
    "\n",
    "arr[2, 2] = 99\n",
    "\n",
    "print(\"Updated Array: \\n\", arr)"
   ]
  },
  {
   "cell_type": "markdown",
   "metadata": {},
   "source": [
    "Numpy Flatten and Ravel"
   ]
  },
  {
   "cell_type": "code",
   "execution_count": 82,
   "metadata": {},
   "outputs": [
    {
     "name": "stdout",
     "output_type": "stream",
     "text": [
      "Numpy Array: \n",
      " [[18 21 21 17 27 18 23 26 26 27]\n",
      " [13 21 15 31 17 22 28 14 32 17]\n",
      " [10 35 14 25 34 11 20 27 10 34]\n",
      " [29 17 33 28 37 27 10 14 31 33]\n",
      " [15 33 22 12 22 30 24 31 23 25]]\n",
      "Shape:  (5, 10)\n"
     ]
    }
   ],
   "source": [
    "# Randomly generate a 5*10 array containing values in the range of 10 to 39\n",
    "arr = np.random.randint(10, 40, size = (5, 10))\n",
    "print(\"Numpy Array: \\n\", arr)\n",
    "print(\"Shape: \", arr.shape)"
   ]
  },
  {
   "cell_type": "code",
   "execution_count": 83,
   "metadata": {},
   "outputs": [
    {
     "name": "stdout",
     "output_type": "stream",
     "text": [
      "Flatten Array: \n",
      " [18 21 21 17 27 18 23 26 26 27 13 21 15 31 17 22 28 14 32 17 10 35 14 25\n",
      " 34 11 20 27 10 34 29 17 33 28 37 27 10 14 31 33 15 33 22 12 22 30 24 31\n",
      " 23 25]\n",
      "Shape:  (50,)\n"
     ]
    }
   ],
   "source": [
    "flatten_arr = arr.flatten()\n",
    "\n",
    "print(\"Flatten Array: \\n\", flatten_arr)\n",
    "print(\"Shape: \", flatten_arr.shape)"
   ]
  },
  {
   "cell_type": "code",
   "execution_count": 85,
   "metadata": {},
   "outputs": [
    {
     "name": "stdout",
     "output_type": "stream",
     "text": [
      "Ravel Array: \n",
      " [18 21 21 17 27 18 23 26 26 27 13 21 15 31 17 22 28 14 32 17 10 35 14 25\n",
      " 34 11 20 27 10 34 29 17 33 28 37 27 10 14 31 33 15 33 22 12 22 30 24 31\n",
      " 23 25]\n",
      "Shape:  (50,)\n"
     ]
    }
   ],
   "source": [
    "ravel_arr = arr.ravel()\n",
    "\n",
    "print(\"Ravel Array: \\n\", ravel_arr)\n",
    "print(\"Shape: \", ravel_arr.shape)"
   ]
  },
  {
   "cell_type": "code",
   "execution_count": 86,
   "metadata": {},
   "outputs": [
    {
     "name": "stdout",
     "output_type": "stream",
     "text": [
      "Flatten Array: \n",
      " [18 21 21 17 27 18 23 26 26 27 13 21 15 31 17 22 28 14 32 17 10 35 14 25\n",
      " 34 11 20 27 10 34 29 17 33 28 37 27 10 14 31 33 15 33 22 12 22 30 24 31\n",
      " 23 25]\n",
      "Ravel Array: \n",
      " [18 21 21 17 27 18 23 26 26 27 13 21 15 31 17 22 28 14 32 17 10 35 14 25\n",
      " 34 11 20 27 10 34 29 17 33 28 37 27 10 14 31 33 15 33 22 12 22 30 24 31\n",
      " 23 25]\n"
     ]
    }
   ],
   "source": [
    "print(\"Flatten Array: \\n\", flatten_arr)\n",
    "\n",
    "print(\"Ravel Array: \\n\", ravel_arr)"
   ]
  },
  {
   "cell_type": "markdown",
   "metadata": {},
   "source": [
    "Observation\n",
    "Ravel is faster than flatten() as it does not occupy any memory. Ravel returns a view of the original array."
   ]
  },
  {
   "cell_type": "markdown",
   "metadata": {},
   "source": [
    "Numpy Reshape"
   ]
  },
  {
   "cell_type": "code",
   "execution_count": 2,
   "metadata": {},
   "outputs": [
    {
     "name": "stdout",
     "output_type": "stream",
     "text": [
      "Numpy Array: \n",
      " [[16 30 35 29 28 30 37 13 35 34]\n",
      " [20 29 34 29 15 34 13 34 39 21]\n",
      " [25 38 37 14 23 30 10 19 39 11]\n",
      " [13 32 38 33 37 14 16 34 21 19]\n",
      " [28 27 21 28 37 12 25 11 10 14]]\n",
      "Shape:  (5, 10)\n"
     ]
    }
   ],
   "source": [
    "# Randomly generate a 5*10 array containing values in the range of 10 to 39\n",
    "import numpy as np\n",
    "arr = np.random.randint(10, 40, size = (5, 10))\n",
    "print(\"Numpy Array: \\n\", arr)\n",
    "print(\"Shape: \", arr.shape)"
   ]
  },
  {
   "cell_type": "code",
   "execution_count": 3,
   "metadata": {},
   "outputs": [
    {
     "name": "stdout",
     "output_type": "stream",
     "text": [
      "[[16 30 35 29 28]\n",
      " [30 37 13 35 34]\n",
      " [20 29 34 29 15]\n",
      " [34 13 34 39 21]\n",
      " [25 38 37 14 23]\n",
      " [30 10 19 39 11]\n",
      " [13 32 38 33 37]\n",
      " [14 16 34 21 19]\n",
      " [28 27 21 28 37]\n",
      " [12 25 11 10 14]]\n"
     ]
    }
   ],
   "source": [
    "re_shape = arr.reshape(10,5)\n",
    "print(re_shape)"
   ]
  },
  {
   "cell_type": "markdown",
   "metadata": {},
   "source": [
    "Iterating over Numpy Array\n",
    "Iterating over a 1 Dimensional Array"
   ]
  },
  {
   "cell_type": "code",
   "execution_count": 5,
   "metadata": {},
   "outputs": [
    {
     "name": "stdout",
     "output_type": "stream",
     "text": [
      "[19 34 16  5 36]\n"
     ]
    }
   ],
   "source": [
    "# Randomly generate an array containing values in the range of 10 to 39\n",
    "import numpy as np\n",
    "\n",
    "arr1d = np.random.randint(5,40, size=(5,))\n",
    "print(arr1d)"
   ]
  },
  {
   "cell_type": "code",
   "execution_count": 7,
   "metadata": {},
   "outputs": [
    {
     "name": "stdout",
     "output_type": "stream",
     "text": [
      "19 34 16 5 36 "
     ]
    }
   ],
   "source": [
    "# looping over items in the array\n",
    "for item in arr1d:\n",
    "    print(item, end=' ')"
   ]
  },
  {
   "cell_type": "markdown",
   "metadata": {},
   "source": [
    "Iterating over a 2 Dimensional Array"
   ]
  },
  {
   "cell_type": "code",
   "execution_count": 8,
   "metadata": {},
   "outputs": [
    {
     "name": "stdout",
     "output_type": "stream",
     "text": [
      "[[32 16 12 29 37 17 21 30 15 22]\n",
      " [36 28 35 18 17 10 28 35 27 26]\n",
      " [30 31 12 18 12 16 25 34 30 36]\n",
      " [18 34 20 19 37 35 32 10 22 24]\n",
      " [22 12 18 28 12 18 21 10 36 30]]\n"
     ]
    }
   ],
   "source": [
    "arr2d = np.random.randint(10,40 , size=(5,10))\n",
    "print(arr2d)"
   ]
  },
  {
   "cell_type": "code",
   "execution_count": 9,
   "metadata": {},
   "outputs": [
    {
     "name": "stdout",
     "output_type": "stream",
     "text": [
      "[32 16 12 29 37 17 21 30 15 22]\n",
      "[36 28 35 18 17 10 28 35 27 26]\n",
      "[30 31 12 18 12 16 25 34 30 36]\n",
      "[18 34 20 19 37 35 32 10 22 24]\n",
      "[22 12 18 28 12 18 21 10 36 30]\n"
     ]
    }
   ],
   "source": [
    "# looping over rows in the 2d array\n",
    "for row in arr2d:\n",
    "    print(row)"
   ]
  },
  {
   "cell_type": "code",
   "execution_count": 11,
   "metadata": {},
   "outputs": [
    {
     "name": "stdout",
     "output_type": "stream",
     "text": [
      "32 16 12 29 37 17 21 30 15 22 36 28 35 18 17 10 28 35 27 26 30 31 12 18 12 16 25 34 30 36 18 34 20 19 37 35 32 10 22 24 22 12 18 28 12 18 21 10 36 30 "
     ]
    }
   ],
   "source": [
    "# looping over rows in the 2d array\n",
    "for row in arr2d.ravel():\n",
    "    print(row, end=' ')"
   ]
  },
  {
   "cell_type": "markdown",
   "metadata": {},
   "source": [
    "Iterating using np.nditer()"
   ]
  },
  {
   "cell_type": "code",
   "execution_count": 13,
   "metadata": {},
   "outputs": [
    {
     "name": "stdout",
     "output_type": "stream",
     "text": [
      "19 34 16 5 36 "
     ]
    }
   ],
   "source": [
    "for item in np.nditer(arr1d):\n",
    "    print(item, end=' ')"
   ]
  },
  {
   "cell_type": "code",
   "execution_count": 14,
   "metadata": {},
   "outputs": [
    {
     "name": "stdout",
     "output_type": "stream",
     "text": [
      "32 16 12 29 37 17 21 30 15 22 36 28 35 18 17 10 28 35 27 26 30 31 12 18 12 16 25 34 30 36 18 34 20 19 37 35 32 10 22 24 22 12 18 28 12 18 21 10 36 30 "
     ]
    }
   ],
   "source": [
    "for row in np.nditer(arr2d):\n",
    "    print(row, end=' ')"
   ]
  },
  {
   "cell_type": "code",
   "execution_count": 15,
   "metadata": {},
   "outputs": [
    {
     "name": "stdout",
     "output_type": "stream",
     "text": [
      "Original Array:  [19 34 16  5 36]\n",
      "updated array:  [19  0 16  5  0]\n"
     ]
    }
   ],
   "source": [
    "print(\"Original Array: \", arr1d)\n",
    "for item in np.nditer(arr1d, op_flags=['readwrite']):\n",
    "    if item > 20:\n",
    "        item[...] = (item*0)\n",
    "print('updated array: ', arr1d)\n"
   ]
  },
  {
   "cell_type": "markdown",
   "metadata": {},
   "source": [
    "Exercise: Write a program to generate an array with shape 5*4 at random containing positive integer. Perform an update by replacing all odd numbers with -1. (Using a Loop)"
   ]
  },
  {
   "cell_type": "code",
   "execution_count": 16,
   "metadata": {},
   "outputs": [
    {
     "name": "stdout",
     "output_type": "stream",
     "text": [
      "[[22 43 41 31]\n",
      " [27 14 19  7]\n",
      " [41 46 40 30]\n",
      " [13 40 40 44]\n",
      " [25 21 25 35]]\n"
     ]
    }
   ],
   "source": [
    "# step1:\n",
    "arr = np.random.randint(5,50, size=(5,4))\n",
    "print(arr)\n"
   ]
  },
  {
   "cell_type": "code",
   "execution_count": 21,
   "metadata": {},
   "outputs": [
    {
     "name": "stdout",
     "output_type": "stream",
     "text": [
      "[[ 22 -43 -41 -31]\n",
      " [-27  14 -19  -7]\n",
      " [-41  46  40  30]\n",
      " [-13  40  40  44]\n",
      " [-25 -21 -25 -35]]\n"
     ]
    }
   ],
   "source": [
    "#step2: to perform update\n",
    "for item in np.nditer(arr, op_flags=['readwrite']):\n",
    "    if item%2 == 1:\n",
    "        item[...] = (item)\n",
    "print(arr)"
   ]
  },
  {
   "cell_type": "markdown",
   "metadata": {},
   "source": [
    "Exercise2: Given an array [1, -10, 2, 3, 0, 6], print the array in this order [0, 6, -10, 2, 1, 3]"
   ]
  },
  {
   "cell_type": "markdown",
   "metadata": {},
   "source": [
    "- Python Operators on Numpy Array\n",
    "We can apply any python operator on Numpy Array.\n",
    "It will perform the operation on each element of a numpy array.\n",
    "\n",
    "x = np.array([[1, 2, 3], [4, 5, 6]])\n",
    "\n",
    "print(\"Original Array: \\n\", x)"
   ]
  },
  {
   "cell_type": "code",
   "execution_count": 22,
   "metadata": {},
   "outputs": [
    {
     "name": "stdout",
     "output_type": "stream",
     "text": [
      "2\n",
      "Original Array: \n",
      " [[1 2 3]\n",
      " [4 5 6]]\n"
     ]
    }
   ],
   "source": [
    "x = np.array([[1, 2, 3], [4, 5, 6]])\n",
    "print(x.ndim)\n",
    "print(\"Original Array: \\n\", x)"
   ]
  },
  {
   "cell_type": "code",
   "execution_count": 23,
   "metadata": {},
   "outputs": [
    {
     "name": "stdout",
     "output_type": "stream",
     "text": [
      "[[ 6  7  8]\n",
      " [ 9 10 11]]\n"
     ]
    }
   ],
   "source": [
    "print(x+5)"
   ]
  },
  {
   "cell_type": "code",
   "execution_count": 24,
   "metadata": {},
   "outputs": [
    {
     "name": "stdout",
     "output_type": "stream",
     "text": [
      "[[1 0 1]\n",
      " [0 1 0]]\n"
     ]
    }
   ],
   "source": [
    "print(x%2)"
   ]
  },
  {
   "cell_type": "code",
   "execution_count": 25,
   "metadata": {},
   "outputs": [
    {
     "name": "stdout",
     "output_type": "stream",
     "text": [
      "[[False False  True]\n",
      " [ True  True  True]]\n"
     ]
    }
   ],
   "source": [
    "print(x >=3)"
   ]
  },
  {
   "cell_type": "markdown",
   "metadata": {},
   "source": [
    "Exercise: Write a program to filter the values from the array based on below mentioned conditions:\n",
    "Either value should be divisible by 5.\n",
    "(or) value should be an odd number and factor of 7."
   ]
  },
  {
   "cell_type": "markdown",
   "metadata": {},
   "source": [
    "Numpy Maths\n",
    "Reference: https://numpy.org/doc/stable/reference/routines.math.html"
   ]
  },
  {
   "cell_type": "code",
   "execution_count": 26,
   "metadata": {},
   "outputs": [
    {
     "name": "stdout",
     "output_type": "stream",
     "text": [
      "Square Root:  2.0\n",
      "Exponent:  2.718281828459045\n",
      "Trigonometric Sin:  0.0\n",
      "Trigonometric Cos:  1.0\n",
      "... and many more\n"
     ]
    }
   ],
   "source": [
    "print(\"Square Root: \", np.sqrt(4))\n",
    "\n",
    "print(\"Exponent: \", np.exp(1))\n",
    "\n",
    "print(\"Trigonometric Sin: \", np.sin(0))\n",
    "\n",
    "print(\"Trigonometric Cos: \", np.cos(0))\n",
    "\n",
    "print(\"... and many more\")"
   ]
  },
  {
   "cell_type": "code",
   "execution_count": 27,
   "metadata": {},
   "outputs": [
    {
     "name": "stdout",
     "output_type": "stream",
     "text": [
      "Square Root:  [1.         1.41421356 1.73205081 2.        ]\n",
      "Exponent:  [ 2.71828183  7.3890561  20.08553692 54.59815003]\n",
      "Trigonometric Sin:  [ 0.84147098  0.90929743  0.14112001 -0.7568025 ]\n",
      "Trigonometric Cos:  [ 0.54030231 -0.41614684 -0.9899925  -0.65364362]\n"
     ]
    }
   ],
   "source": [
    "arr = np.array([1, 2, 3, 4])\n",
    "\n",
    "print(\"Square Root: \", np.sqrt(arr))\n",
    "print(\"Exponent: \", np.exp(arr))\n",
    "print(\"Trigonometric Sin: \", np.sin(arr))\n",
    "print(\"Trigonometric Cos: \", np.cos(arr))"
   ]
  },
  {
   "cell_type": "code",
   "execution_count": 28,
   "metadata": {},
   "outputs": [
    {
     "name": "stdout",
     "output_type": "stream",
     "text": [
      "Elementwise Addition: \n",
      " [[ 6  8]\n",
      " [10 12]]\n",
      "Elementwise Subtraction: \n",
      " [[-4 -4]\n",
      " [-4 -4]]\n",
      "Elementwise Multiplication: \n",
      " [[ 5 12]\n",
      " [21 32]]\n",
      "Elementwise Division: \n",
      " [[0.2        0.33333333]\n",
      " [0.42857143 0.5       ]]\n"
     ]
    }
   ],
   "source": [
    "# ELEMENT WISE OPERATIONS\n",
    "\n",
    "x = np.array([[1,2], [3,4]])\n",
    "y = np.array([[5,6], [7,8]])\n",
    "\n",
    "print(\"Elementwise Addition: \\n\", np.add(x, y))\n",
    "print(\"Elementwise Subtraction: \\n\", np.subtract(x, y))\n",
    "print(\"Elementwise Multiplication: \\n\", np.multiply(x, y))\n",
    "print(\"Elementwise Division: \\n\", np.divide(x, y))"
   ]
  },
  {
   "cell_type": "markdown",
   "metadata": {},
   "source": [
    "Matrix multiplication"
   ]
  },
  {
   "cell_type": "code",
   "execution_count": 29,
   "metadata": {},
   "outputs": [
    {
     "name": "stdout",
     "output_type": "stream",
     "text": [
      "Matrix Multiplication (Way-1): \n",
      " [[19 22]\n",
      " [43 50]]\n",
      "Matrix Multiplication (Way-2): \n",
      " [[19 22]\n",
      " [43 50]]\n",
      "Matrix Multiplication (Way-3): \n",
      " [[19 22]\n",
      " [43 50]]\n"
     ]
    }
   ],
   "source": [
    "import numpy as np\n",
    "\n",
    "x = np.array([[1,2], [3,4]])\n",
    "y = np.array([[5,6], [7,8]])\n",
    "\n",
    "print(\"Matrix Multiplication (Way-1): \\n\", np.matmul(x, y))\n",
    "print(\"Matrix Multiplication (Way-2): \\n\", np.dot(x, y))\n",
    "print(\"Matrix Multiplication (Way-3): \\n\", x @ y)"
   ]
  },
  {
   "cell_type": "markdown",
   "metadata": {},
   "source": [
    "Diagonal elements"
   ]
  },
  {
   "cell_type": "code",
   "execution_count": 30,
   "metadata": {},
   "outputs": [
    {
     "name": "stdout",
     "output_type": "stream",
     "text": [
      "Original Array: \n",
      " [[1 2 3]\n",
      " [4 5 6]]\n",
      "Diagonal:  [1 5]\n"
     ]
    }
   ],
   "source": [
    "x = np.array([[1, 2, 3], [4, 5, 6]])\n",
    "\n",
    "print(\"Original Array: \\n\", x)\n",
    "print(\"Diagonal: \", np.diag(x))"
   ]
  },
  {
   "cell_type": "markdown",
   "metadata": {},
   "source": [
    "Transpose of an array"
   ]
  },
  {
   "cell_type": "code",
   "execution_count": 31,
   "metadata": {},
   "outputs": [
    {
     "name": "stdout",
     "output_type": "stream",
     "text": [
      "Original Array: \n",
      " [[1 2 3]\n",
      " [4 5 6]]\n",
      "\n",
      "Transpose: \n",
      " [[1 4]\n",
      " [2 5]\n",
      " [3 6]]\n"
     ]
    }
   ],
   "source": [
    "x = np.array([[1, 2, 3], [4, 5, 6]])\n",
    "\n",
    "print(\"Original Array: \\n\", x)\n",
    "print()\n",
    "print(\"Transpose: \\n\", x.T)"
   ]
  },
  {
   "cell_type": "markdown",
   "metadata": {},
   "source": [
    "Numpy Statistics"
   ]
  },
  {
   "cell_type": "code",
   "execution_count": 32,
   "metadata": {},
   "outputs": [
    {
     "name": "stdout",
     "output_type": "stream",
     "text": [
      "Array: \n",
      " [1 2 3 4]\n",
      "Sum:  10\n",
      "Columnwise Sum:  [4 6]\n",
      "Rowwise Sum:  [3 7]\n"
     ]
    }
   ],
   "source": [
    "x = np.array([[1,2], [3,4]])\n",
    "\n",
    "print(\"Array: \\n\", arr)\n",
    "print(\"Sum: \", np.sum(x))\n",
    "print(\"Columnwise Sum: \", np.sum(x, axis=0)) # Column Wise\n",
    "print(\"Rowwise Sum: \", np.sum(x, axis=1)) # Row wise"
   ]
  },
  {
   "cell_type": "code",
   "execution_count": 33,
   "metadata": {},
   "outputs": [
    {
     "name": "stdout",
     "output_type": "stream",
     "text": [
      "Array: \n",
      " [[1 2 3]\n",
      " [4 5 6]]\n",
      "Minimum:  1\n",
      "Columnwise Minimum:  [1 2 3]\n",
      "Rowwise Minimum:  [1 4]\n"
     ]
    }
   ],
   "source": [
    "x = np.array([[1, 2, 3], [4, 5, 6]])\n",
    "\n",
    "print(\"Array: \\n\", x)\n",
    "print(\"Minimum: \", np.min(x))\n",
    "print(\"Columnwise Minimum: \", np.min(x, axis=0)) # Column Wise\n",
    "print(\"Rowwise Minimum: \", np.min(x, axis=1)) # Row wise"
   ]
  },
  {
   "cell_type": "code",
   "execution_count": 34,
   "metadata": {},
   "outputs": [
    {
     "name": "stdout",
     "output_type": "stream",
     "text": [
      "Array: \n",
      " [160 180 146 162 184 180]\n",
      "Minimum:  146\n",
      "Maximum:  184\n",
      "Mean:  168.66666666666666\n",
      "Median:  171.0\n",
      "Variance:  187.55555555555557\n",
      "Std Dev:  13.695092389449425\n"
     ]
    }
   ],
   "source": [
    "x = np.array([160, 180, 146, 162, 184, 180])\n",
    "\n",
    "print(\"Array: \\n\", x)\n",
    "print(\"Minimum: \", np.min(x))\n",
    "print(\"Maximum: \", np.max(x))\n",
    "print(\"Mean: \", np.mean(x))\n",
    "print(\"Median: \", np.median(x))\n",
    "print(\"Variance: \", np.var(x))\n",
    "print(\"Std Dev: \", np.std(x))"
   ]
  },
  {
   "cell_type": "code",
   "execution_count": 35,
   "metadata": {},
   "outputs": [
    {
     "name": "stdout",
     "output_type": "stream",
     "text": [
      "Array: \n",
      " [[1 2 3]\n",
      " [4 5 6]]\n",
      "Minimum:  1\n",
      "Maximum:  6\n",
      "Mean:  3.5\n",
      "Median:  3.5\n",
      "Variance:  2.9166666666666665\n",
      "Std Dev:  1.707825127659933\n"
     ]
    }
   ],
   "source": [
    "x = np.array([[1, 2, 3], [4, 5, 6]])\n",
    "\n",
    "print(\"Array: \\n\", x)\n",
    "print(\"Minimum: \", np.min(x))\n",
    "print(\"Maximum: \", np.max(x))\n",
    "print(\"Mean: \", np.mean(x))\n",
    "print(\"Median: \", np.median(x))\n",
    "print(\"Variance: \", np.var(x))\n",
    "print(\"Std Dev: \", np.std(x))"
   ]
  },
  {
   "cell_type": "code",
   "execution_count": 36,
   "metadata": {},
   "outputs": [
    {
     "data": {
      "text/plain": [
       "array([[1.        , 0.88546942],\n",
       "       [0.88546942, 1.        ]])"
      ]
     },
     "execution_count": 36,
     "metadata": {},
     "output_type": "execute_result"
    }
   ],
   "source": [
    "heights = np.array([160, 180, 146, 162, 184, 180])\n",
    "weights = np.array([50, 78, 45, 51, 80, 60])\n",
    "np.corrcoef(heights, weights)"
   ]
  },
  {
   "cell_type": "markdown",
   "metadata": {},
   "source": [
    "#### Explore the following functions:\n",
    "np.insert()\n",
    "np.append()\n",
    "np.delete()"
   ]
  },
  {
   "cell_type": "markdown",
   "metadata": {},
   "source": [
    "Miscellaneous Topics"
   ]
  },
  {
   "cell_type": "markdown",
   "metadata": {},
   "source": [
    "Linspace"
   ]
  },
  {
   "cell_type": "code",
   "execution_count": 37,
   "metadata": {},
   "outputs": [
    {
     "name": "stdout",
     "output_type": "stream",
     "text": [
      "[2 3 4 6]\n"
     ]
    }
   ],
   "source": [
    "print(np.linspace(2,6,4, dtype='int'))\n",
    "# float by default\n"
   ]
  },
  {
   "cell_type": "markdown",
   "metadata": {},
   "source": [
    "Sorting"
   ]
  },
  {
   "cell_type": "code",
   "execution_count": 38,
   "metadata": {},
   "outputs": [
    {
     "name": "stdout",
     "output_type": "stream",
     "text": [
      "[[64 98 59 54 67 84 78 89 96 87]\n",
      " [76 97 75 78 56 83 65 52 83 55]\n",
      " [58 89 51 71 67 85 79 53 57 94]\n",
      " [70 66 62 56 65 90 93 57 68 99]\n",
      " [52 74 54 65 65 96 59 97 70 80]]\n"
     ]
    }
   ],
   "source": [
    "arr = np.random.randint(50, 100, size = (5, 10))\n",
    "print(arr)"
   ]
  },
  {
   "cell_type": "code",
   "execution_count": 39,
   "metadata": {},
   "outputs": [
    {
     "data": {
      "text/plain": [
       "array([[54, 59, 64, 67, 78, 84, 87, 89, 96, 98],\n",
       "       [52, 55, 56, 65, 75, 76, 78, 83, 83, 97],\n",
       "       [51, 53, 57, 58, 67, 71, 79, 85, 89, 94],\n",
       "       [56, 57, 62, 65, 66, 68, 70, 90, 93, 99],\n",
       "       [52, 54, 59, 65, 65, 70, 74, 80, 96, 97]])"
      ]
     },
     "execution_count": 39,
     "metadata": {},
     "output_type": "execute_result"
    }
   ],
   "source": [
    "np.sort(arr)"
   ]
  },
  {
   "cell_type": "code",
   "execution_count": null,
   "metadata": {},
   "outputs": [],
   "source": [
    "# Column Wise Sorting\n",
    "\n",
    "np.sort(arr, axis = 0)"
   ]
  },
  {
   "cell_type": "code",
   "execution_count": 40,
   "metadata": {},
   "outputs": [
    {
     "data": {
      "text/plain": [
       "array([[54, 59, 64, 67, 78, 84, 87, 89, 96, 98],\n",
       "       [52, 55, 56, 65, 75, 76, 78, 83, 83, 97],\n",
       "       [51, 53, 57, 58, 67, 71, 79, 85, 89, 94],\n",
       "       [56, 57, 62, 65, 66, 68, 70, 90, 93, 99],\n",
       "       [52, 54, 59, 65, 65, 70, 74, 80, 96, 97]])"
      ]
     },
     "execution_count": 40,
     "metadata": {},
     "output_type": "execute_result"
    }
   ],
   "source": [
    "# Row Wise Sorting\n",
    "\n",
    "np.sort(arr, axis = 1)"
   ]
  },
  {
   "cell_type": "markdown",
   "metadata": {},
   "source": [
    "Stacking"
   ]
  },
  {
   "cell_type": "code",
   "execution_count": 48,
   "metadata": {},
   "outputs": [
    {
     "name": "stdout",
     "output_type": "stream",
     "text": [
      "[[ 0  1  2  3  4]\n",
      " [ 5  6  7  8  9]\n",
      " [10 11 12 13 14]]\n"
     ]
    }
   ],
   "source": [
    "arr_1 = np.arange(0,15).reshape(3,5)\n",
    "print(arr_1)"
   ]
  },
  {
   "cell_type": "code",
   "execution_count": 43,
   "metadata": {},
   "outputs": [
    {
     "name": "stdout",
     "output_type": "stream",
     "text": [
      "[[20 21 22 23 24]\n",
      " [25 26 27 28 29]\n",
      " [30 31 32 33 34]]\n"
     ]
    }
   ],
   "source": [
    "arr_2 = np.arange(20,35).reshape(3,5)\n",
    "print(arr_2)"
   ]
  },
  {
   "cell_type": "code",
   "execution_count": 49,
   "metadata": {},
   "outputs": [
    {
     "data": {
      "text/plain": [
       "array([[ 0,  1,  2,  3,  4],\n",
       "       [ 5,  6,  7,  8,  9],\n",
       "       [10, 11, 12, 13, 14],\n",
       "       [20, 21, 22, 23, 24],\n",
       "       [25, 26, 27, 28, 29],\n",
       "       [30, 31, 32, 33, 34]])"
      ]
     },
     "execution_count": 49,
     "metadata": {},
     "output_type": "execute_result"
    }
   ],
   "source": [
    "np.vstack([arr_1, arr_2]) # vertical stack"
   ]
  },
  {
   "cell_type": "code",
   "execution_count": 50,
   "metadata": {},
   "outputs": [
    {
     "data": {
      "text/plain": [
       "array([[ 0,  1,  2,  3,  4, 20, 21, 22, 23, 24],\n",
       "       [ 5,  6,  7,  8,  9, 25, 26, 27, 28, 29],\n",
       "       [10, 11, 12, 13, 14, 30, 31, 32, 33, 34]])"
      ]
     },
     "execution_count": 50,
     "metadata": {},
     "output_type": "execute_result"
    }
   ],
   "source": [
    "np.hstack([arr_1, arr_2]) #horizontal stack"
   ]
  },
  {
   "cell_type": "markdown",
   "metadata": {},
   "source": [
    "Concantenate"
   ]
  },
  {
   "cell_type": "code",
   "execution_count": 51,
   "metadata": {},
   "outputs": [
    {
     "data": {
      "text/plain": [
       "array([[ 0,  1,  2,  3,  4],\n",
       "       [ 5,  6,  7,  8,  9],\n",
       "       [10, 11, 12, 13, 14],\n",
       "       [20, 21, 22, 23, 24],\n",
       "       [25, 26, 27, 28, 29],\n",
       "       [30, 31, 32, 33, 34]])"
      ]
     },
     "execution_count": 51,
     "metadata": {},
     "output_type": "execute_result"
    }
   ],
   "source": [
    "np.concatenate([arr_1, arr_2], axis = 0) # concatinating - vertical stacking"
   ]
  },
  {
   "cell_type": "code",
   "execution_count": 52,
   "metadata": {},
   "outputs": [
    {
     "data": {
      "text/plain": [
       "array([[ 0,  1,  2,  3,  4, 20, 21, 22, 23, 24],\n",
       "       [ 5,  6,  7,  8,  9, 25, 26, 27, 28, 29],\n",
       "       [10, 11, 12, 13, 14, 30, 31, 32, 33, 34]])"
      ]
     },
     "execution_count": 52,
     "metadata": {},
     "output_type": "execute_result"
    }
   ],
   "source": [
    "np.concatenate([arr_1, arr_2], axis = 1) # concatinating - horizontal stacking"
   ]
  },
  {
   "cell_type": "markdown",
   "metadata": {},
   "source": [
    "Append"
   ]
  },
  {
   "cell_type": "code",
   "execution_count": 53,
   "metadata": {},
   "outputs": [
    {
     "data": {
      "text/plain": [
       "array([[ 0,  1,  2,  3,  4],\n",
       "       [ 5,  6,  7,  8,  9],\n",
       "       [10, 11, 12, 13, 14],\n",
       "       [20, 21, 22, 23, 24],\n",
       "       [25, 26, 27, 28, 29],\n",
       "       [30, 31, 32, 33, 34]])"
      ]
     },
     "execution_count": 53,
     "metadata": {},
     "output_type": "execute_result"
    }
   ],
   "source": [
    "np.append(arr_1, arr_2, axis = 0) # Appending - vertical stacking"
   ]
  },
  {
   "cell_type": "code",
   "execution_count": 54,
   "metadata": {},
   "outputs": [
    {
     "data": {
      "text/plain": [
       "array([[ 0,  1,  2,  3,  4, 20, 21, 22, 23, 24],\n",
       "       [ 5,  6,  7,  8,  9, 25, 26, 27, 28, 29],\n",
       "       [10, 11, 12, 13, 14, 30, 31, 32, 33, 34]])"
      ]
     },
     "execution_count": 54,
     "metadata": {},
     "output_type": "execute_result"
    }
   ],
   "source": [
    "np.append(arr_1, arr_2, axis = 1) # Appending - horizontal stacking"
   ]
  },
  {
   "cell_type": "markdown",
   "metadata": {},
   "source": [
    "Where - Process Array Elements Conditionally\n",
    "Understanding np.where() Syntax\n",
    "numpy.where(  \n",
    "  condition,   # Where True, yield x, otherwise y  \n",
    "  [x, y, ]     # Values to choose from  \n",
    ")"
   ]
  },
  {
   "cell_type": "code",
   "execution_count": 55,
   "metadata": {},
   "outputs": [
    {
     "name": "stdout",
     "output_type": "stream",
     "text": [
      "[[50 51 52 53 54 55 56 57 58 59]\n",
      " [60 61 62 63 64 65 66 67 68 69]\n",
      " [70 71 72 73 74 75 76 77 78 79]\n",
      " [80 81 82 83 84 85 86 87 88 89]\n",
      " [90 91 92 93 94 95 96 97 98 99]]\n"
     ]
    }
   ],
   "source": [
    "arr = np.arange(50, 100).reshape(5, 10)\n",
    "\n",
    "print(arr)"
   ]
  },
  {
   "cell_type": "code",
   "execution_count": 56,
   "metadata": {},
   "outputs": [
    {
     "data": {
      "text/plain": [
       "array([[1, 1, 1, 1, 1, 1, 1, 1, 1, 1],\n",
       "       [1, 1, 1, 1, 1, 0, 0, 0, 0, 0],\n",
       "       [0, 0, 0, 0, 0, 0, 0, 0, 0, 0],\n",
       "       [0, 0, 0, 0, 0, 0, 0, 0, 0, 0],\n",
       "       [0, 0, 0, 0, 0, 0, 0, 0, 0, 0]])"
      ]
     },
     "execution_count": 56,
     "metadata": {},
     "output_type": "execute_result"
    }
   ],
   "source": [
    "np.where(arr > 64, 0, 1)"
   ]
  },
  {
   "cell_type": "code",
   "execution_count": 58,
   "metadata": {},
   "outputs": [
    {
     "data": {
      "text/plain": [
       "array([[50, 51, 52, 53, 54, 55, 56, 57, 58, 59],\n",
       "       [60, 61, 62, 63, 64,  0,  0,  0,  0,  0],\n",
       "       [ 0,  0,  0,  0,  0,  0,  0,  0,  0,  0],\n",
       "       [ 0,  0,  0,  0,  0,  0,  0,  0,  0,  0],\n",
       "       [ 0,  0,  0,  0,  0,  0,  0,  0,  0,  0]])"
      ]
     },
     "execution_count": 58,
     "metadata": {},
     "output_type": "execute_result"
    }
   ],
   "source": [
    "np.where(arr > 64, 0, arr)"
   ]
  },
  {
   "cell_type": "code",
   "execution_count": 62,
   "metadata": {},
   "outputs": [
    {
     "data": {
      "text/plain": [
       "array([[50. , 51. , 52. , 53. , 54. , 55. , 56. , 57. , 58. , 59. ],\n",
       "       [60. , 61. , 62. , 63. , 64. ,  6.5,  6.6,  6.7,  6.8,  6.9],\n",
       "       [ 7. ,  7.1,  7.2,  7.3,  7.4,  7.5,  7.6,  7.7,  7.8,  7.9],\n",
       "       [ 8. ,  8.1,  8.2,  8.3,  8.4,  8.5,  8.6,  8.7,  8.8,  8.9],\n",
       "       [ 9. ,  9.1,  9.2,  9.3,  9.4,  9.5,  9.6,  9.7,  9.8,  9.9]])"
      ]
     },
     "execution_count": 62,
     "metadata": {},
     "output_type": "execute_result"
    }
   ],
   "source": [
    "np.where(arr > 64, arr/10, arr)"
   ]
  },
  {
   "cell_type": "markdown",
   "metadata": {},
   "source": [
    "argsort"
   ]
  },
  {
   "cell_type": "code",
   "execution_count": 63,
   "metadata": {},
   "outputs": [
    {
     "name": "stdout",
     "output_type": "stream",
     "text": [
      "Indexes:  [1 3 2 0]\n",
      "Sorted Array:  [-5 -1  6 10]\n"
     ]
    }
   ],
   "source": [
    "import numpy as np\n",
    "\n",
    "arr = np.array([10, -5, 6, -1])\n",
    "print(\"Indexes: \", arr.argsort()) # Returns indexes\n",
    "print(\"Sorted Array: \", arr[arr.argsort()])\n"
   ]
  },
  {
   "cell_type": "markdown",
   "metadata": {},
   "source": [
    "Numpy Broadcasting\n",
    "Start matching the dimensions backward (Right to Left)\n",
    "  - Compatible - If same number appears or if one of them is 1\n",
    "  - Incompatible - Otherwise"
   ]
  },
  {
   "cell_type": "code",
   "execution_count": 64,
   "metadata": {},
   "outputs": [
    {
     "name": "stdout",
     "output_type": "stream",
     "text": [
      "[[2 4 6]\n",
      " [5 7 9]]\n"
     ]
    }
   ],
   "source": [
    "arr_1 = np.array([[1, 2, 3], [4, 5, 6]])\n",
    "arr_2 = np.array([1, 2, 3])\n",
    "\n",
    "print(arr_1 + arr_2)"
   ]
  },
  {
   "cell_type": "markdown",
   "metadata": {},
   "source": [
    "Reading CSV into Numpy Array\n",
    "using loadtxt()"
   ]
  },
  {
   "cell_type": "code",
   "execution_count": 68,
   "metadata": {},
   "outputs": [
    {
     "name": "stdout",
     "output_type": "stream",
     "text": [
      "[['EST' 'Temperature' 'DewPoint' 'Humidity' 'Sea Level PressureIn'\n",
      "  'VisibilityMiles' 'WindSpeedMPH' 'PrecipitationIn' 'CloudCover'\n",
      "  'Events' 'WindDirDegrees']\n",
      " ['1/1/2016' '38' '23' '52' '30.03' '10' '8' '0' '5' '' '281']\n",
      " ['1/2/2016' '36' '18' '46' '30.02' '10' '7' '0' '3' '' '275']\n",
      " ['1/3/2016' '40' '21' '47' '29.86' '10' '8' '0' '1' '' '277']\n",
      " ['1/4/2016' '25' '9' '44' '30.05' '10' '9' '0' '3' '' '345']\n",
      " ['1/5/2016' '20' '-3' '41' '30.57' '10' '5' '0' '0' '' '333']\n",
      " ['1/6/2016' '33' '4' '35' '30.5' '10' '4' '0' '0' '' '259']\n",
      " ['1/7/2016' '39' '11' '33' '30.28' '10' '2' '0' '3' '' '293']\n",
      " ['1/8/2016' '39' '29' '64' '30.2' '10' '4' '0' '8' '' '79']\n",
      " ['1/9/2016' '44' '38' '77' '30.16' '9' '8' 'T' '8' 'Rain' '76']\n",
      " ['1/10/2016' '50' '46' '71' '29.59' '4' '' '1.8' '7' 'Rain' '109']\n",
      " ['1/11/2016' '33' '8' '37' '29.92' '10' '' '0' '1' '' '289']\n",
      " ['1/12/2016' '35' '15' '53' '29.85' '10' '6' 'T' '4' '' '235']\n",
      " ['1/13/2016' '26' '4' '42' '29.94' '10' '10' '0' '0' '' '284']\n",
      " ['1/14/2016' '30' '12' '47' '29.95' '10' '5' 'T' '7' '' '266']\n",
      " ['1/15/2016' '43' '31' '62' '29.82' '9' '5' 'T' '2' '' '101']\n",
      " ['1/16/2016' '47' '37' '70' '29.52' '8' '7' '0.24' '7' 'Rain' '340']\n",
      " ['1/17/2016' '36' '23' '66' '29.78' '8' '6' '0.05' '6' 'Fog-Snow' '345']\n",
      " ['1/18/2016' '25' '6' '53' '29.83' '9' '12' 'T' '2' 'Snow' '293']\n",
      " ['1/19/2016' '22' '3' '42' '30.03' '10' '11' '0' '1' '' '293']\n",
      " ['1/20/2016' '32' '15' '49' '30.13' '10' '6' '0' '2' '' '302']\n",
      " ['1/21/2016' '31' '11' '45' '30.15' '10' '6' '0' '1' '' '312']\n",
      " ['1/22/2016' '26' '6' '41' '30.21' '9' '' '0.01' '3' 'Snow' '34']\n",
      " ['1/23/2016' '26' '21' '78' '29.77' '1' '16' '2.31' '8' 'Fog-Snow' '42']\n",
      " ['1/24/2016' '28' '11' '53' '29.92' '8' '6' 'T' '3' 'Snow' '327']\n",
      " ['1/25/2016' '34' '18' '54' '30.25' '10' '3' '0' '2' '' '286']\n",
      " ['1/26/2016' '43' '29' '56' '30.03' '10' '7' '0' '2' '' '244']\n",
      " ['1/27/2016' '41' '22' '45' '30.03' '10' '7' 'T' '3' 'Rain' '311']\n",
      " ['1/28/2016' '37' '20' '51' '29.9' '10' '5' '0' '1' '' '234']\n",
      " ['1/29/2016' '36' '21' '50' '29.58' '10' '8' '0' '4' '' '298']\n",
      " ['1/30/2016' '34' '16' '46' '30.01' '10' '7' '0' '0' '' '257']\n",
      " ['1/31/2016' '46' '28' '52' '29.9' '10' '5' '0' '0' '' '241']]\n"
     ]
    }
   ],
   "source": [
    "import numpy as np\n",
    " \n",
    "# using loadtxt()\n",
    "arr = np.loadtxt(\"data/nyc_weather.csv\", delimiter=\",\", dtype='str')\n",
    "print(arr)"
   ]
  }
 ],
 "metadata": {
  "kernelspec": {
   "display_name": "Python 3",
   "language": "python",
   "name": "python3"
  },
  "language_info": {
   "codemirror_mode": {
    "name": "ipython",
    "version": 3
   },
   "file_extension": ".py",
   "mimetype": "text/x-python",
   "name": "python",
   "nbconvert_exporter": "python",
   "pygments_lexer": "ipython3",
   "version": "3.9.2"
  },
  "orig_nbformat": 4
 },
 "nbformat": 4,
 "nbformat_minor": 2
}
