{
 "cells": [
  {
   "cell_type": "markdown",
   "metadata": {},
   "source": [
    "Data Types in Python\n"
   ]
  },
  {
   "cell_type": "markdown",
   "metadata": {},
   "source": [
    "Q1. What are the basic data types available in python? Highlight it with some examples."
   ]
  },
  {
   "cell_type": "markdown",
   "metadata": {},
   "source": [
    "Q2. What kind of data type is x = 5 +16j"
   ]
  },
  {
   "cell_type": "markdown",
   "metadata": {},
   "source": [
    "Q3. Use the word isinstance to check if x =16+2 is complex or not."
   ]
  },
  {
   "cell_type": "markdown",
   "metadata": {},
   "source": [
    "Q4. Split the string s = ' We are learning Python programming! '"
   ]
  },
  {
   "cell_type": "markdown",
   "metadata": {},
   "source": [
    "Q5. Join the the splitted word in Q4 with an hyphen"
   ]
  },
  {
   "cell_type": "markdown",
   "metadata": {},
   "source": [
    "Q6. What is the index of 'ogmi' in s = 'programiz'"
   ]
  },
  {
   "cell_type": "markdown",
   "metadata": {},
   "source": [
    "Q7. What kind of data type is sea_creatures = ['shark', 'cuttlefish', 'squid', 'mantisshrimp', 'anemone']\n",
    "b. print the length"
   ]
  },
  {
   "cell_type": "markdown",
   "metadata": {},
   "source": [
    "Q8. Insert pen,soap to the list  item = ['book', 'pencil','bag']"
   ]
  },
  {
   "cell_type": "markdown",
   "metadata": {},
   "source": [
    "Q9. Given two variables:\n",
    "set_a = {1,2,3,4,5,6}\n",
    "set_b = {2,3,4,5,7}\n",
    "Find: a-intersection b- union "
   ]
  },
  {
   "cell_type": "markdown",
   "metadata": {},
   "source": [
    "Q10. What is 10 factorial?"
   ]
  },
  {
   "cell_type": "markdown",
   "metadata": {},
   "source": [
    "Q11. What kind of data type is this student = {1: 'Alade', 2: 'Dristol', 3: 'Frank'}?"
   ]
  },
  {
   "cell_type": "markdown",
   "metadata": {},
   "source": [
    "Q12. Create a tuple with the following data ['commerce','book','economics'],['basket','rubber']"
   ]
  },
  {
   "cell_type": "markdown",
   "metadata": {},
   "source": [
    "Q13. Find the position of each alphabet:\n",
    "('(?![p-x])[a-z]', 'abcdefghijklmnopqrstuvwxyz')\n",
    "Hint: import re module and use your start(),end and group"
   ]
  },
  {
   "cell_type": "markdown",
   "metadata": {},
   "source": [
    "# Summary of the session\n",
    "\n",
    "## Strings\n",
    "\n",
    "String is a sequence of characters.\n",
    "Use index to access characters in a string\n",
    "If we try to access index out of range or use decimal numbers we will get an error.\n",
    "Python supports both +ve and -ve index\n",
    "Strings are immutable. Elemets of strings can't be changed once it has been assigned. We can simply reassign different strings to the same name\n",
    "Strings support indexing as well as slicing.\n",
    "\n",
    "## Lists\n",
    "\n",
    "Sequence Data Structure.\n",
    "Used to store collection of items.\n",
    "Order is preserved in a list\n",
    "Mutable\n",
    "Indexing and slicing\n",
    "Dynamic i.e. increase or decrease in size\n",
    "\n",
    "## Tuples\n",
    "Similar to list but immutable.\n",
    "Sequence data type.\n",
    "Supports indexing and slicing.\n",
    "\n",
    "## Set\n",
    "Unordered collection of items i.e. they can't be indexed\n",
    "No duplicates allowed\n",
    "Mutable\n",
    "Used to perform mathematical operations like Union, intersection, etc..\n",
    "\n",
    "## Dictionary\n",
    "Unordered collection of items i.e. can't be indexed\n",
    "Other compound data tupes have only values as an element, whereas a dictionary has a KEY:VALUE pair\n",
    "Keys are unique, values may not be unique\n",
    "Values can be of any type, but key must be immutable."
   ]
  }
 ],
 "metadata": {
  "kernelspec": {
   "display_name": "Python 3",
   "language": "python",
   "name": "python3"
  },
  "language_info": {
   "codemirror_mode": {
    "name": "ipython",
    "version": 3
   },
   "file_extension": ".py",
   "mimetype": "text/x-python",
   "name": "python",
   "nbconvert_exporter": "python",
   "pygments_lexer": "ipython3",
   "version": "3.9.2"
  },
  "orig_nbformat": 4
 },
 "nbformat": 4,
 "nbformat_minor": 2
}
