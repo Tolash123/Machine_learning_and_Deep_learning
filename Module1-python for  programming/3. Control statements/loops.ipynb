{
 "cells": [
  {
   "cell_type": "code",
   "execution_count": 1,
   "metadata": {},
   "outputs": [
    {
     "name": "stdout",
     "output_type": "stream",
     "text": [
      "The count is:   0\n",
      "The count is:   1\n",
      "The count is:   2\n",
      "The count is:   3\n",
      "The count is:   4\n",
      "The count is:   5\n",
      "The count is:   6\n",
      "The count is:   7\n",
      "The count is:   8\n",
      "The count is:   9\n",
      "Good bye! count is:  10\n"
     ]
    }
   ],
   "source": [
    "# While loops\n",
    "\n",
    "count = 0\n",
    "while(count < 10):\n",
    "    print('The count is:  ', count)\n",
    "    count = count + 1\n",
    "print('Good bye! count is: ', count)"
   ]
  },
  {
   "cell_type": "code",
   "execution_count": 2,
   "metadata": {},
   "outputs": [
    {
     "name": "stdout",
     "output_type": "stream",
     "text": [
      "Product = 120\n"
     ]
    }
   ],
   "source": [
    "tup = (1,2,3,4,5)\n",
    "\n",
    "prod = 1\n",
    "index = 0\n",
    "\n",
    "while index < len(tup):\n",
    "    prod *= tup[index]\n",
    "    index += 1\n",
    "\n",
    "print('Product = {}'.format(prod))"
   ]
  },
  {
   "cell_type": "code",
   "execution_count": 4,
   "metadata": {},
   "outputs": [
    {
     "name": "stdout",
     "output_type": "stream",
     "text": [
      "The count is:   1\n",
      "The count is:   3\n",
      "The count is:   5\n",
      "The count is:   7\n",
      "The count is:   9\n",
      "Good bye!\n"
     ]
    }
   ],
   "source": [
    "for count in range(1, 10, 2):\n",
    "    print('The count is:  ', count)\n",
    "print('Good bye!')\n"
   ]
  },
  {
   "cell_type": "markdown",
   "metadata": {},
   "source": [
    "Foor Loop"
   ]
  },
  {
   "cell_type": "code",
   "execution_count": 5,
   "metadata": {},
   "outputs": [
    {
     "name": "stdout",
     "output_type": "stream",
     "text": [
      "The count is:   0\n",
      "The count is:   1\n",
      "The count is:   2\n",
      "The count is:   3\n",
      "The count is:   4\n",
      "Good bye!\n"
     ]
    }
   ],
   "source": [
    "for count in range(10):\n",
    "    if count == 5:\n",
    "        break\n",
    "    print('The count is:  ', count)\n",
    "print('Good bye!')"
   ]
  },
  {
   "cell_type": "code",
   "execution_count": 16,
   "metadata": {},
   "outputs": [
    {
     "name": "stdout",
     "output_type": "stream",
     "text": [
      "When the girl was 22, she met the love of her life./n It was her last day of college, and when she saw him, she knew he was the one she was going to be with forever—and the boy knew the same./n After graduation, the boy and the girl ran away together to elope./nThey lived together happily for the rest of their days.\n",
      ".syad rieht fo tser eht rof ylippah rehtegot devil yehTn/.epole ot rehtegot yawa nar lrig eht dna yob eht ,noitaudarg retfA n/.emas eht wenk yob eht dna—reverof htiw eb ot gniog saw ehs eno eht saw eh wenk ehs ,mih was ehs nehw dna ,egelloc fo yad tsal reh saw tI n/.efil reh fo evol eht tem ehs ,22 saw lrig eht nehW"
     ]
    }
   ],
   "source": [
    "name = \"When the girl was 22, she met the love of her life./n It was her last day of college, and when she saw him, she knew he was the one she was going to be with forever—and the boy knew the same./n After graduation, the boy and the girl ran away together to elope./nThey lived together happily for the rest of their days.\"\n",
    "n = len(name)\n",
    "i = 0\n",
    "for item in name:\n",
    "    if i<n:\n",
    "        print(name[i], end='')\n",
    "        i+=1\n",
    "    else:\n",
    "        pass\n",
    "i = -1\n",
    "print()\n",
    "for item in name:\n",
    "    if i<=n:\n",
    "        print(name[i], end='')\n",
    "        i-=1\n",
    "    else:\n",
    "        pass\n"
   ]
  },
  {
   "cell_type": "code",
   "execution_count": 7,
   "metadata": {},
   "outputs": [
    {
     "name": "stdout",
     "output_type": "stream",
     "text": [
      "Wrong Number!!\\nGAME OVER\n",
      "Congratulations, you entered an even number.\n"
     ]
    }
   ],
   "source": [
    "# To check for even number\n",
    "while True:\n",
    "    num = int(input(\"Enter a number to check if its even or odd: \"))\n",
    "    if num % 2 == 0:\n",
    "        print('Congratulations, you entered an even number.')\n",
    "        break\n",
    "    else:\n",
    "        pass\n",
    "    print('Wrong Number!!\\\\nGAME OVER')"
   ]
  },
  {
   "cell_type": "markdown",
   "metadata": {},
   "source": [
    "Program to print words backward using the while loop"
   ]
  },
  {
   "cell_type": "code",
   "execution_count": null,
   "metadata": {},
   "outputs": [],
   "source": [
    "name = 'Alade'\n",
    "n = len(name)\n",
    "i = 0\n",
    "while i<n:\n",
    "    print(name[i],end='')\n",
    "    i+=1\n",
    "print()\n",
    "i=-1\n",
    "while i<=n:\n",
    "    print(name[i], end='')\n",
    "    i-=1\n"
   ]
  }
 ],
 "metadata": {
  "kernelspec": {
   "display_name": "Python 3",
   "language": "python",
   "name": "python3"
  },
  "language_info": {
   "codemirror_mode": {
    "name": "ipython",
    "version": 3
   },
   "file_extension": ".py",
   "mimetype": "text/x-python",
   "name": "python",
   "nbconvert_exporter": "python",
   "pygments_lexer": "ipython3",
   "version": "3.9.2"
  },
  "orig_nbformat": 4
 },
 "nbformat": 4,
 "nbformat_minor": 2
}
