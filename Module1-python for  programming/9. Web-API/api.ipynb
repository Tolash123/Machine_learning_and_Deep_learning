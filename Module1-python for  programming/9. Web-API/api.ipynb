{
 "cells": [
  {
   "cell_type": "code",
   "execution_count": 1,
   "metadata": {},
   "outputs": [],
   "source": [
    "import requests"
   ]
  },
  {
   "cell_type": "code",
   "execution_count": 2,
   "metadata": {},
   "outputs": [],
   "source": [
    "response = requests.get(\"https://google.com/search?q=thataiguy\")"
   ]
  },
  {
   "cell_type": "code",
   "execution_count": 3,
   "metadata": {},
   "outputs": [
    {
     "name": "stdout",
     "output_type": "stream",
     "text": [
      "{'Content-Type': 'text/html; charset=ISO-8859-1', 'Date': 'Thu, 28 Dec 2023 12:22:46 GMT', 'Expires': '-1', 'Cache-Control': 'private, max-age=0', 'Content-Security-Policy': \"object-src 'none';base-uri 'self';script-src 'nonce-yA3_oZ04CprkfBjwFe4jbw' 'strict-dynamic' 'report-sample' 'unsafe-eval' 'unsafe-inline' https: http:;report-uri https://csp.withgoogle.com/csp/gws/xsrp\", 'P3P': 'CP=\"This is not a P3P policy! See g.co/p3phelp for more info.\"', 'Content-Encoding': 'gzip', 'Server': 'gws', 'X-XSS-Protection': '0', 'X-Frame-Options': 'SAMEORIGIN', 'Set-Cookie': '1P_JAR=2023-12-28-12; expires=Sat, 27-Jan-2024 12:22:46 GMT; path=/; domain=.google.com; Secure, AEC=Ackid1TWexTtDjzIT5CVR81hVnGoUxRHX-uFo3X4vnL8uQOxSmdeyXopesg; expires=Tue, 25-Jun-2024 12:22:46 GMT; path=/; domain=.google.com; Secure; HttpOnly; SameSite=lax, NID=511=pHARDvX8bYXA3wjykPWDTSEohe8BkWsizogXIjMtZ_nh7nVWGrKeyQNm6TOLN61UouuJOjcnC_w1noztT-DT1_ufp6GdUfmPqIV3M6TxVK-4PX1FKc9GbRxx4Z_E5KzW0-QK0pcTSJPFWb9uezX5-szo4nrwTj816biWwFIJRQU; expires=Fri, 28-Jun-2024 12:22:46 GMT; path=/; domain=.google.com; HttpOnly', 'Alt-Svc': 'h3=\":443\"; ma=2592000,h3-29=\":443\"; ma=2592000', 'Transfer-Encoding': 'chunked'}\n"
     ]
    }
   ],
   "source": [
    "print(response.headers)"
   ]
  },
  {
   "cell_type": "code",
   "execution_count": 4,
   "metadata": {},
   "outputs": [
    {
     "name": "stdout",
     "output_type": "stream",
     "text": [
      "https://www.google.com/search?q=thataiguy\n"
     ]
    }
   ],
   "source": [
    "# Check the response URL\n",
    "\n",
    "print(response.url)"
   ]
  },
  {
   "cell_type": "code",
   "execution_count": 5,
   "metadata": {},
   "outputs": [
    {
     "name": "stdout",
     "output_type": "stream",
     "text": [
      "200\n"
     ]
    }
   ],
   "source": [
    "# Check the status code of the response\n",
    "\n",
    "print(response.status_code)"
   ]
  },
  {
   "cell_type": "code",
   "execution_count": 6,
   "metadata": {},
   "outputs": [
    {
     "name": "stdout",
     "output_type": "stream",
     "text": [
      "ISO-8859-1\n"
     ]
    }
   ],
   "source": [
    "# Check the response encoding\n",
    "\n",
    "print(response.encoding)"
   ]
  },
  {
   "cell_type": "code",
   "execution_count": 7,
   "metadata": {},
   "outputs": [
    {
     "name": "stdout",
     "output_type": "stream",
     "text": [
      "text/html; charset=ISO-8859-1\n"
     ]
    }
   ],
   "source": [
    "# Check the response content type\n",
    "\n",
    "print(response.headers['Content-Type'])\n",
    "\n",
    "# Using this way, we can find the Date, Expires and other header properties as well"
   ]
  },
  {
   "cell_type": "markdown",
   "metadata": {},
   "source": [
    "Status Code\n",
    "Here are some codes that are relevant to GET requests:\n",
    "\n",
    "200 - everything went okay, and the result has been returned (if any).\n",
    "301 - the server is redirecting you to a different endpoint. This can happen when a company switches domain names, or an endpoint name is changed.\n",
    "401 - the server thinks you're not authenticated. This happens when you don't send the right credentials to access an API (we'll talk about authentication in a later post).\n",
    "400 - the server thinks you made a bad request. This can happen when you don't send along the right data, among other things.\n",
    "403 - the resource you're trying to access is forbidden -- you don't have the right permissions to see it.\n",
    "404 - the resource you tried to access wasn't found on the server.\n",
    "\n",
    "Remember\n",
    "\n",
    "1xx - Information\n",
    "2xx - Success\n",
    "3xx - Redirection\n",
    "4xx - Client Error\n",
    "5xx - Server Error"
   ]
  },
  {
   "cell_type": "code",
   "execution_count": 2,
   "metadata": {},
   "outputs": [
    {
     "name": "stdout",
     "output_type": "stream",
     "text": [
      "<Response [200]>\n"
     ]
    }
   ],
   "source": [
    "import requests\n",
    "\n",
    "response = requests.get('https://www.apple.com/')\n",
    "print(response)"
   ]
  }
 ],
 "metadata": {
  "kernelspec": {
   "display_name": "Python 3",
   "language": "python",
   "name": "python3"
  },
  "language_info": {
   "codemirror_mode": {
    "name": "ipython",
    "version": 3
   },
   "file_extension": ".py",
   "mimetype": "text/x-python",
   "name": "python",
   "nbconvert_exporter": "python",
   "pygments_lexer": "ipython3",
   "version": "3.9.2"
  },
  "orig_nbformat": 4
 },
 "nbformat": 4,
 "nbformat_minor": 2
}
