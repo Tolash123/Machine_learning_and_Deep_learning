{
 "cells": [
  {
   "cell_type": "code",
   "execution_count": 1,
   "metadata": {},
   "outputs": [],
   "source": [
    "import requests"
   ]
  },
  {
   "cell_type": "code",
   "execution_count": 2,
   "metadata": {},
   "outputs": [],
   "source": [
    "response = requests.get(\"https://google.com/search?q=thataiguy\")"
   ]
  },
  {
   "cell_type": "code",
   "execution_count": 3,
   "metadata": {},
   "outputs": [
    {
     "name": "stdout",
     "output_type": "stream",
     "text": [
      "{'Content-Type': 'text/html; charset=ISO-8859-1', 'Date': 'Thu, 28 Dec 2023 12:22:46 GMT', 'Expires': '-1', 'Cache-Control': 'private, max-age=0', 'Content-Security-Policy': \"object-src 'none';base-uri 'self';script-src 'nonce-yA3_oZ04CprkfBjwFe4jbw' 'strict-dynamic' 'report-sample' 'unsafe-eval' 'unsafe-inline' https: http:;report-uri https://csp.withgoogle.com/csp/gws/xsrp\", 'P3P': 'CP=\"This is not a P3P policy! See g.co/p3phelp for more info.\"', 'Content-Encoding': 'gzip', 'Server': 'gws', 'X-XSS-Protection': '0', 'X-Frame-Options': 'SAMEORIGIN', 'Set-Cookie': '1P_JAR=2023-12-28-12; expires=Sat, 27-Jan-2024 12:22:46 GMT; path=/; domain=.google.com; Secure, AEC=Ackid1TWexTtDjzIT5CVR81hVnGoUxRHX-uFo3X4vnL8uQOxSmdeyXopesg; expires=Tue, 25-Jun-2024 12:22:46 GMT; path=/; domain=.google.com; Secure; HttpOnly; SameSite=lax, NID=511=pHARDvX8bYXA3wjykPWDTSEohe8BkWsizogXIjMtZ_nh7nVWGrKeyQNm6TOLN61UouuJOjcnC_w1noztT-DT1_ufp6GdUfmPqIV3M6TxVK-4PX1FKc9GbRxx4Z_E5KzW0-QK0pcTSJPFWb9uezX5-szo4nrwTj816biWwFIJRQU; expires=Fri, 28-Jun-2024 12:22:46 GMT; path=/; domain=.google.com; HttpOnly', 'Alt-Svc': 'h3=\":443\"; ma=2592000,h3-29=\":443\"; ma=2592000', 'Transfer-Encoding': 'chunked'}\n"
     ]
    }
   ],
   "source": [
    "print(response.headers)"
   ]
  },
  {
   "cell_type": "code",
   "execution_count": 4,
   "metadata": {},
   "outputs": [
    {
     "name": "stdout",
     "output_type": "stream",
     "text": [
      "https://www.google.com/search?q=thataiguy\n"
     ]
    }
   ],
   "source": [
    "# Check the response URL\n",
    "\n",
    "print(response.url)"
   ]
  },
  {
   "cell_type": "code",
   "execution_count": 5,
   "metadata": {},
   "outputs": [
    {
     "name": "stdout",
     "output_type": "stream",
     "text": [
      "200\n"
     ]
    }
   ],
   "source": [
    "# Check the status code of the response\n",
    "\n",
    "print(response.status_code)"
   ]
  },
  {
   "cell_type": "code",
   "execution_count": 6,
   "metadata": {},
   "outputs": [
    {
     "name": "stdout",
     "output_type": "stream",
     "text": [
      "ISO-8859-1\n"
     ]
    }
   ],
   "source": [
    "# Check the response encoding\n",
    "\n",
    "print(response.encoding)"
   ]
  },
  {
   "cell_type": "code",
   "execution_count": 7,
   "metadata": {},
   "outputs": [
    {
     "name": "stdout",
     "output_type": "stream",
     "text": [
      "text/html; charset=ISO-8859-1\n"
     ]
    }
   ],
   "source": [
    "# Check the response content type\n",
    "\n",
    "print(response.headers['Content-Type'])\n",
    "\n",
    "# Using this way, we can find the Date, Expires and other header properties as well"
   ]
  },
  {
   "cell_type": "markdown",
   "metadata": {},
   "source": [
    "Status Code\n",
    "Here are some codes that are relevant to GET requests:\n",
    "\n",
    "200 - everything went okay, and the result has been returned (if any).\n",
    "301 - the server is redirecting you to a different endpoint. This can happen when a company switches domain names, or an endpoint name is changed.\n",
    "401 - the server thinks you're not authenticated. This happens when you don't send the right credentials to access an API (we'll talk about authentication in a later post).\n",
    "400 - the server thinks you made a bad request. This can happen when you don't send along the right data, among other things.\n",
    "403 - the resource you're trying to access is forbidden -- you don't have the right permissions to see it.\n",
    "404 - the resource you tried to access wasn't found on the server.\n",
    "\n",
    "Remember\n",
    "\n",
    "1xx - Information\n",
    "2xx - Success\n",
    "3xx - Redirection\n",
    "4xx - Client Error\n",
    "5xx - Server Error"
   ]
  },
  {
   "cell_type": "code",
   "execution_count": 1,
   "metadata": {},
   "outputs": [
    {
     "name": "stdout",
     "output_type": "stream",
     "text": [
      "<Response [200]>\n"
     ]
    }
   ],
   "source": [
    "import requests\n",
    "\n",
    "response = requests.get('https://www.apple.com/')\n",
    "print(response)"
   ]
  },
  {
   "cell_type": "code",
   "execution_count": 2,
   "metadata": {},
   "outputs": [
    {
     "name": "stdout",
     "output_type": "stream",
     "text": [
      "404\n"
     ]
    }
   ],
   "source": [
    "# Try the endpoint that doesnot exist\n",
    "\n",
    "response = requests.get(\"https://google.com/abcd\")\n",
    "\n",
    "print(response.status_code)"
   ]
  },
  {
   "cell_type": "markdown",
   "metadata": {},
   "source": [
    "Query Parameters"
   ]
  },
  {
   "cell_type": "code",
   "execution_count": 3,
   "metadata": {},
   "outputs": [
    {
     "name": "stdout",
     "output_type": "stream",
     "text": [
      "200\n"
     ]
    }
   ],
   "source": [
    "# Request without query parameter\n",
    "response = requests.get('https://www.google.com/search')\n",
    "print(response.status_code)"
   ]
  },
  {
   "cell_type": "code",
   "execution_count": 4,
   "metadata": {},
   "outputs": [
    {
     "name": "stdout",
     "output_type": "stream",
     "text": [
      "200\n"
     ]
    }
   ],
   "source": [
    "parameters = {\"q\": \"Alade Idris\"}\n",
    "\n",
    "# Request with query parameter\n",
    "response = requests.get(\"https://google.com/search\", params=parameters)\n",
    "\n",
    "print(response.status_code)"
   ]
  },
  {
   "cell_type": "markdown",
   "metadata": {},
   "source": [
    "### Request and Response from International Space Station API\n",
    "\n",
    "Demonstrating an example with OpenNotify API\n",
    "In order to demonstrate, we will be using OpenNotify's API. OpenNotify has several API endpoints.\n",
    "OpenNotify API Documentation - http://open-notify.org/Open-Notify-API/\n",
    "\n",
    "API Endpoint\n",
    "\n",
    "An API endpoint is a digital location where an API receives requests about a specific resource on its server.\n",
    "\n",
    "/iss-now.json endpoint\n",
    "\n",
    "The first endpoint we'll look at on OpenNotify is the iss-now.json endpoint.\n",
    "This endpoint gets the current latitude and longitude of the International Space Station.\n",
    "As you can see, retrieving this data isn't a great fit for a dataset, because it involves some calculation on the server, and changes quickly."
   ]
  },
  {
   "cell_type": "code",
   "execution_count": 5,
   "metadata": {},
   "outputs": [
    {
     "name": "stdout",
     "output_type": "stream",
     "text": [
      "{'Server': 'nginx/1.10.3', 'Date': 'Fri, 29 Dec 2023 15:23:14 GMT', 'Content-Type': 'application/json', 'Content-Length': '113', 'Connection': 'keep-alive', 'access-control-allow-origin': '*'}\n"
     ]
    }
   ],
   "source": [
    "# Make a get request to get the latest position of the international space station from the opennotify api.\n",
    "\n",
    "response = requests.get(\"http://api.open-notify.org/iss-now.json\")\n",
    "print(response.headers)"
   ]
  },
  {
   "cell_type": "code",
   "execution_count": 6,
   "metadata": {},
   "outputs": [
    {
     "name": "stdout",
     "output_type": "stream",
     "text": [
      "application/json\n"
     ]
    }
   ],
   "source": [
    "# Check the response content type\n",
    "\n",
    "print(response.headers['Content-Type'])"
   ]
  },
  {
   "cell_type": "code",
   "execution_count": 7,
   "metadata": {},
   "outputs": [
    {
     "name": "stdout",
     "output_type": "stream",
     "text": [
      "application/json\n"
     ]
    }
   ],
   "source": [
    "# Check the response content type\n",
    "\n",
    "print(response.headers['Content-Type'])"
   ]
  },
  {
   "cell_type": "code",
   "execution_count": 8,
   "metadata": {},
   "outputs": [
    {
     "name": "stdout",
     "output_type": "stream",
     "text": [
      "http://api.open-notify.org/iss-now.json\n"
     ]
    }
   ],
   "source": [
    "# Check the response url\n",
    "\n",
    "print(response.url)"
   ]
  },
  {
   "cell_type": "code",
   "execution_count": 9,
   "metadata": {},
   "outputs": [
    {
     "name": "stdout",
     "output_type": "stream",
     "text": [
      "200\n"
     ]
    }
   ],
   "source": [
    "# Check the status code of the response\n",
    "\n",
    "print(response.status_code)"
   ]
  },
  {
   "cell_type": "code",
   "execution_count": 10,
   "metadata": {},
   "outputs": [
    {
     "name": "stdout",
     "output_type": "stream",
     "text": [
      "utf-8\n"
     ]
    }
   ],
   "source": [
    "# Check the response encoding\n",
    "\n",
    "print(response.encoding)"
   ]
  },
  {
   "cell_type": "code",
   "execution_count": 11,
   "metadata": {},
   "outputs": [
    {
     "name": "stdout",
     "output_type": "stream",
     "text": [
      "{\"timestamp\": 1703863394, \"iss_position\": {\"longitude\": \"-95.4605\", \"latitude\": \"29.9906\"}, \"message\": \"success\"}\n"
     ]
    }
   ],
   "source": [
    "# Text Response Content\n",
    "# This is useful if the response body contains text data\n",
    "\n",
    "print(response.text)"
   ]
  },
  {
   "cell_type": "code",
   "execution_count": 12,
   "metadata": {},
   "outputs": [
    {
     "name": "stdout",
     "output_type": "stream",
     "text": [
      "b'{\"timestamp\": 1703863394, \"iss_position\": {\"longitude\": \"-95.4605\", \"latitude\": \"29.9906\"}, \"message\": \"success\"}'\n"
     ]
    }
   ],
   "source": [
    "# Binary Response Content\n",
    "# This is useful if the response body contains non-text data\n",
    "\n",
    "print(response.content)"
   ]
  },
  {
   "cell_type": "code",
   "execution_count": 13,
   "metadata": {},
   "outputs": [
    {
     "name": "stdout",
     "output_type": "stream",
     "text": [
      "{'timestamp': 1703863394, 'iss_position': {'longitude': '-95.4605', 'latitude': '29.9906'}, 'message': 'success'}\n"
     ]
    }
   ],
   "source": [
    "# JSON Response Content\n",
    "# This is useful if the response body contains JSON data\n",
    "\n",
    "print(response.json())"
   ]
  },
  {
   "cell_type": "markdown",
   "metadata": {},
   "source": [
    "Are there people in Space Right Now ?\n",
    "/astros.json endpoint\n",
    "\n",
    "This API returns the current number of people in space.\n",
    "When known it also returns the names and spacecraft those people are on."
   ]
  },
  {
   "cell_type": "code",
   "execution_count": 14,
   "metadata": {},
   "outputs": [
    {
     "name": "stdout",
     "output_type": "stream",
     "text": [
      "application/json\n"
     ]
    }
   ],
   "source": [
    "response = requests.get(\"http://api.open-notify.org/astros.json\")\n",
    "\n",
    "print(response.headers[\"Content-Type\"])"
   ]
  },
  {
   "cell_type": "code",
   "execution_count": 15,
   "metadata": {},
   "outputs": [
    {
     "name": "stdout",
     "output_type": "stream",
     "text": [
      "{'Server': 'nginx/1.10.3', 'Date': 'Fri, 29 Dec 2023 15:34:49 GMT', 'Content-Type': 'application/json', 'Content-Length': '360', 'Connection': 'keep-alive', 'access-control-allow-origin': '*'}\n"
     ]
    }
   ],
   "source": [
    "print(response.headers)"
   ]
  },
  {
   "cell_type": "code",
   "execution_count": 16,
   "metadata": {},
   "outputs": [
    {
     "name": "stdout",
     "output_type": "stream",
     "text": [
      "<class 'dict'>\n"
     ]
    }
   ],
   "source": [
    "data = response.json()\n",
    "print(type(data))"
   ]
  },
  {
   "cell_type": "code",
   "execution_count": 17,
   "metadata": {},
   "outputs": [
    {
     "name": "stdout",
     "output_type": "stream",
     "text": [
      "{'message': 'success', 'people': [{'name': 'Jasmin Moghbeli', 'craft': 'ISS'}, {'name': 'Andreas Mogensen', 'craft': 'ISS'}, {'name': 'Satoshi Furukawa', 'craft': 'ISS'}, {'name': 'Konstantin Borisov', 'craft': 'ISS'}, {'name': 'Oleg Kononenko', 'craft': 'ISS'}, {'name': 'Nikolai Chub', 'craft': 'ISS'}, {'name': \"Loral O'Hara\", 'craft': 'ISS'}], 'number': 7}\n"
     ]
    }
   ],
   "source": [
    "print(data)"
   ]
  },
  {
   "cell_type": "markdown",
   "metadata": {},
   "source": [
    "Finding the Number and Names of Astronauts in Space"
   ]
  },
  {
   "cell_type": "code",
   "execution_count": 18,
   "metadata": {},
   "outputs": [
    {
     "data": {
      "text/plain": [
       "dict_keys(['message', 'people', 'number'])"
      ]
     },
     "execution_count": 18,
     "metadata": {},
     "output_type": "execute_result"
    }
   ],
   "source": [
    "data.keys()"
   ]
  },
  {
   "cell_type": "code",
   "execution_count": 19,
   "metadata": {},
   "outputs": [
    {
     "name": "stdout",
     "output_type": "stream",
     "text": [
      "7\n"
     ]
    }
   ],
   "source": [
    "print(data['number'])"
   ]
  },
  {
   "cell_type": "code",
   "execution_count": 20,
   "metadata": {},
   "outputs": [
    {
     "name": "stdout",
     "output_type": "stream",
     "text": [
      "[{'name': 'Jasmin Moghbeli', 'craft': 'ISS'}, {'name': 'Andreas Mogensen', 'craft': 'ISS'}, {'name': 'Satoshi Furukawa', 'craft': 'ISS'}, {'name': 'Konstantin Borisov', 'craft': 'ISS'}, {'name': 'Oleg Kononenko', 'craft': 'ISS'}, {'name': 'Nikolai Chub', 'craft': 'ISS'}, {'name': \"Loral O'Hara\", 'craft': 'ISS'}]\n"
     ]
    }
   ],
   "source": [
    "print(data['people'])"
   ]
  },
  {
   "cell_type": "code",
   "execution_count": 21,
   "metadata": {},
   "outputs": [
    {
     "name": "stdout",
     "output_type": "stream",
     "text": [
      "Jasmin Moghbeli\n",
      "Andreas Mogensen\n",
      "Satoshi Furukawa\n",
      "Konstantin Borisov\n",
      "Oleg Kononenko\n",
      "Nikolai Chub\n",
      "Loral O'Hara\n"
     ]
    }
   ],
   "source": [
    "people_in_space = data['people']\n",
    "for astronaut in people_in_space:\n",
    "    print(astronaut['name'])"
   ]
  },
  {
   "cell_type": "markdown",
   "metadata": {},
   "source": [
    "### Converting the JSON data from API to DataFrame\n",
    "\n",
    "- Purpose\n",
    "Many APIs return data in JSON format, and the data might be nested. We must know how to convert JSON into a DataFrame that can be easily analyzed.\n",
    "\n",
    "Steps\n",
    "\n",
    "- Use the requests library to make HTTP requests to the API endpoint and retrieve the data. The API key, if required, needs to be included in the request headers.\n",
    "- Once you have the data, you can push it in a pandas DataFrame to analyze and process it."
   ]
  },
  {
   "cell_type": "code",
   "execution_count": 22,
   "metadata": {},
   "outputs": [],
   "source": [
    "import requests\n",
    "import pandas as pd"
   ]
  },
  {
   "cell_type": "code",
   "execution_count": 23,
   "metadata": {},
   "outputs": [],
   "source": [
    "# Way 1\n",
    "\n",
    "# Using \"requests\" library make a HTTP request to \"/astros.json\" endpoint\n",
    "response = requests.get(\"http://api.open-notify.org/astros.json\")"
   ]
  },
  {
   "cell_type": "code",
   "execution_count": 26,
   "metadata": {},
   "outputs": [
    {
     "name": "stdout",
     "output_type": "stream",
     "text": [
      "{'message': 'success', 'people': [{'name': 'Jasmin Moghbeli', 'craft': 'ISS'}, {'name': 'Andreas Mogensen', 'craft': 'ISS'}, {'name': 'Satoshi Furukawa', 'craft': 'ISS'}, {'name': 'Konstantin Borisov', 'craft': 'ISS'}, {'name': 'Oleg Kononenko', 'craft': 'ISS'}, {'name': 'Nikolai Chub', 'craft': 'ISS'}, {'name': \"Loral O'Hara\", 'craft': 'ISS'}], 'number': 7}\n"
     ]
    }
   ],
   "source": [
    "# Push data to DataFrame\n",
    "data = response.json()\n",
    "print(data)"
   ]
  },
  {
   "cell_type": "code",
   "execution_count": 29,
   "metadata": {},
   "outputs": [
    {
     "data": {
      "text/html": [
       "<div>\n",
       "<style scoped>\n",
       "    .dataframe tbody tr th:only-of-type {\n",
       "        vertical-align: middle;\n",
       "    }\n",
       "\n",
       "    .dataframe tbody tr th {\n",
       "        vertical-align: top;\n",
       "    }\n",
       "\n",
       "    .dataframe thead th {\n",
       "        text-align: right;\n",
       "    }\n",
       "</style>\n",
       "<table border=\"1\" class=\"dataframe\">\n",
       "  <thead>\n",
       "    <tr style=\"text-align: right;\">\n",
       "      <th></th>\n",
       "      <th>message</th>\n",
       "      <th>people</th>\n",
       "      <th>number</th>\n",
       "    </tr>\n",
       "  </thead>\n",
       "  <tbody>\n",
       "    <tr>\n",
       "      <th>0</th>\n",
       "      <td>success</td>\n",
       "      <td>{'name': 'Jasmin Moghbeli', 'craft': 'ISS'}</td>\n",
       "      <td>7</td>\n",
       "    </tr>\n",
       "    <tr>\n",
       "      <th>1</th>\n",
       "      <td>success</td>\n",
       "      <td>{'name': 'Andreas Mogensen', 'craft': 'ISS'}</td>\n",
       "      <td>7</td>\n",
       "    </tr>\n",
       "    <tr>\n",
       "      <th>2</th>\n",
       "      <td>success</td>\n",
       "      <td>{'name': 'Satoshi Furukawa', 'craft': 'ISS'}</td>\n",
       "      <td>7</td>\n",
       "    </tr>\n",
       "    <tr>\n",
       "      <th>3</th>\n",
       "      <td>success</td>\n",
       "      <td>{'name': 'Konstantin Borisov', 'craft': 'ISS'}</td>\n",
       "      <td>7</td>\n",
       "    </tr>\n",
       "    <tr>\n",
       "      <th>4</th>\n",
       "      <td>success</td>\n",
       "      <td>{'name': 'Oleg Kononenko', 'craft': 'ISS'}</td>\n",
       "      <td>7</td>\n",
       "    </tr>\n",
       "    <tr>\n",
       "      <th>5</th>\n",
       "      <td>success</td>\n",
       "      <td>{'name': 'Nikolai Chub', 'craft': 'ISS'}</td>\n",
       "      <td>7</td>\n",
       "    </tr>\n",
       "    <tr>\n",
       "      <th>6</th>\n",
       "      <td>success</td>\n",
       "      <td>{'name': 'Loral O'Hara', 'craft': 'ISS'}</td>\n",
       "      <td>7</td>\n",
       "    </tr>\n",
       "  </tbody>\n",
       "</table>\n",
       "</div>"
      ],
      "text/plain": [
       "   message                                          people  number\n",
       "0  success     {'name': 'Jasmin Moghbeli', 'craft': 'ISS'}       7\n",
       "1  success    {'name': 'Andreas Mogensen', 'craft': 'ISS'}       7\n",
       "2  success    {'name': 'Satoshi Furukawa', 'craft': 'ISS'}       7\n",
       "3  success  {'name': 'Konstantin Borisov', 'craft': 'ISS'}       7\n",
       "4  success      {'name': 'Oleg Kononenko', 'craft': 'ISS'}       7\n",
       "5  success        {'name': 'Nikolai Chub', 'craft': 'ISS'}       7\n",
       "6  success        {'name': 'Loral O'Hara', 'craft': 'ISS'}       7"
      ]
     },
     "execution_count": 29,
     "metadata": {},
     "output_type": "execute_result"
    }
   ],
   "source": [
    "df = pd.DataFrame(data)\n",
    "df"
   ]
  },
  {
   "cell_type": "code",
   "execution_count": 30,
   "metadata": {},
   "outputs": [
    {
     "data": {
      "text/html": [
       "<div>\n",
       "<style scoped>\n",
       "    .dataframe tbody tr th:only-of-type {\n",
       "        vertical-align: middle;\n",
       "    }\n",
       "\n",
       "    .dataframe tbody tr th {\n",
       "        vertical-align: top;\n",
       "    }\n",
       "\n",
       "    .dataframe thead th {\n",
       "        text-align: right;\n",
       "    }\n",
       "</style>\n",
       "<table border=\"1\" class=\"dataframe\">\n",
       "  <thead>\n",
       "    <tr style=\"text-align: right;\">\n",
       "      <th></th>\n",
       "      <th>name</th>\n",
       "      <th>craft</th>\n",
       "    </tr>\n",
       "  </thead>\n",
       "  <tbody>\n",
       "    <tr>\n",
       "      <th>0</th>\n",
       "      <td>Jasmin Moghbeli</td>\n",
       "      <td>ISS</td>\n",
       "    </tr>\n",
       "    <tr>\n",
       "      <th>1</th>\n",
       "      <td>Andreas Mogensen</td>\n",
       "      <td>ISS</td>\n",
       "    </tr>\n",
       "    <tr>\n",
       "      <th>2</th>\n",
       "      <td>Satoshi Furukawa</td>\n",
       "      <td>ISS</td>\n",
       "    </tr>\n",
       "    <tr>\n",
       "      <th>3</th>\n",
       "      <td>Konstantin Borisov</td>\n",
       "      <td>ISS</td>\n",
       "    </tr>\n",
       "    <tr>\n",
       "      <th>4</th>\n",
       "      <td>Oleg Kononenko</td>\n",
       "      <td>ISS</td>\n",
       "    </tr>\n",
       "    <tr>\n",
       "      <th>5</th>\n",
       "      <td>Nikolai Chub</td>\n",
       "      <td>ISS</td>\n",
       "    </tr>\n",
       "    <tr>\n",
       "      <th>6</th>\n",
       "      <td>Loral O'Hara</td>\n",
       "      <td>ISS</td>\n",
       "    </tr>\n",
       "  </tbody>\n",
       "</table>\n",
       "</div>"
      ],
      "text/plain": [
       "                 name craft\n",
       "0     Jasmin Moghbeli   ISS\n",
       "1    Andreas Mogensen   ISS\n",
       "2    Satoshi Furukawa   ISS\n",
       "3  Konstantin Borisov   ISS\n",
       "4      Oleg Kononenko   ISS\n",
       "5        Nikolai Chub   ISS\n",
       "6        Loral O'Hara   ISS"
      ]
     },
     "execution_count": 30,
     "metadata": {},
     "output_type": "execute_result"
    }
   ],
   "source": [
    "astronaut = pd.DataFrame(data['people'])\n",
    "astronaut"
   ]
  },
  {
   "cell_type": "markdown",
   "metadata": {},
   "source": [
    "### Way 2 - Using pd.json_normalize()\n",
    "The json_normalize function in Pandas is used to normalize semi-structured JSON data into a flat table. It is particularly useful when dealing with nested JSON structures, where certain fields might contain nested dictionaries or lists."
   ]
  },
  {
   "cell_type": "code",
   "execution_count": 31,
   "metadata": {},
   "outputs": [
    {
     "data": {
      "text/html": [
       "<div>\n",
       "<style scoped>\n",
       "    .dataframe tbody tr th:only-of-type {\n",
       "        vertical-align: middle;\n",
       "    }\n",
       "\n",
       "    .dataframe tbody tr th {\n",
       "        vertical-align: top;\n",
       "    }\n",
       "\n",
       "    .dataframe thead th {\n",
       "        text-align: right;\n",
       "    }\n",
       "</style>\n",
       "<table border=\"1\" class=\"dataframe\">\n",
       "  <thead>\n",
       "    <tr style=\"text-align: right;\">\n",
       "      <th></th>\n",
       "      <th>message</th>\n",
       "      <th>people</th>\n",
       "      <th>number</th>\n",
       "    </tr>\n",
       "  </thead>\n",
       "  <tbody>\n",
       "    <tr>\n",
       "      <th>0</th>\n",
       "      <td>success</td>\n",
       "      <td>[{'name': 'Jasmin Moghbeli', 'craft': 'ISS'}, ...</td>\n",
       "      <td>7</td>\n",
       "    </tr>\n",
       "  </tbody>\n",
       "</table>\n",
       "</div>"
      ],
      "text/plain": [
       "   message                                             people  number\n",
       "0  success  [{'name': 'Jasmin Moghbeli', 'craft': 'ISS'}, ...       7"
      ]
     },
     "execution_count": 31,
     "metadata": {},
     "output_type": "execute_result"
    }
   ],
   "source": [
    "# Way 2\n",
    "\n",
    "# Using \"requests\" library make a HTTP request to \"/astros.json\" endpoint\n",
    "response = requests.get(\"http://api.open-notify.org/astros.json\")\n",
    "\n",
    "# Retrieve the data from the \"response\"\n",
    "data = response.json()\n",
    "\n",
    "# Use \"json_normalize()\" to normalize JSON data into flat table\n",
    "df = pd.json_normalize(data)\n",
    "\n",
    "df"
   ]
  },
  {
   "cell_type": "code",
   "execution_count": 32,
   "metadata": {},
   "outputs": [
    {
     "data": {
      "text/html": [
       "<div>\n",
       "<style scoped>\n",
       "    .dataframe tbody tr th:only-of-type {\n",
       "        vertical-align: middle;\n",
       "    }\n",
       "\n",
       "    .dataframe tbody tr th {\n",
       "        vertical-align: top;\n",
       "    }\n",
       "\n",
       "    .dataframe thead th {\n",
       "        text-align: right;\n",
       "    }\n",
       "</style>\n",
       "<table border=\"1\" class=\"dataframe\">\n",
       "  <thead>\n",
       "    <tr style=\"text-align: right;\">\n",
       "      <th></th>\n",
       "      <th>name</th>\n",
       "      <th>craft</th>\n",
       "    </tr>\n",
       "  </thead>\n",
       "  <tbody>\n",
       "    <tr>\n",
       "      <th>0</th>\n",
       "      <td>Jasmin Moghbeli</td>\n",
       "      <td>ISS</td>\n",
       "    </tr>\n",
       "    <tr>\n",
       "      <th>1</th>\n",
       "      <td>Andreas Mogensen</td>\n",
       "      <td>ISS</td>\n",
       "    </tr>\n",
       "    <tr>\n",
       "      <th>2</th>\n",
       "      <td>Satoshi Furukawa</td>\n",
       "      <td>ISS</td>\n",
       "    </tr>\n",
       "    <tr>\n",
       "      <th>3</th>\n",
       "      <td>Konstantin Borisov</td>\n",
       "      <td>ISS</td>\n",
       "    </tr>\n",
       "    <tr>\n",
       "      <th>4</th>\n",
       "      <td>Oleg Kononenko</td>\n",
       "      <td>ISS</td>\n",
       "    </tr>\n",
       "    <tr>\n",
       "      <th>5</th>\n",
       "      <td>Nikolai Chub</td>\n",
       "      <td>ISS</td>\n",
       "    </tr>\n",
       "    <tr>\n",
       "      <th>6</th>\n",
       "      <td>Loral O'Hara</td>\n",
       "      <td>ISS</td>\n",
       "    </tr>\n",
       "  </tbody>\n",
       "</table>\n",
       "</div>"
      ],
      "text/plain": [
       "                 name craft\n",
       "0     Jasmin Moghbeli   ISS\n",
       "1    Andreas Mogensen   ISS\n",
       "2    Satoshi Furukawa   ISS\n",
       "3  Konstantin Borisov   ISS\n",
       "4      Oleg Kononenko   ISS\n",
       "5        Nikolai Chub   ISS\n",
       "6        Loral O'Hara   ISS"
      ]
     },
     "execution_count": 32,
     "metadata": {},
     "output_type": "execute_result"
    }
   ],
   "source": [
    "# # This is not the expected outcome\n",
    "# # Fixing way 2\n",
    "\n",
    "# Using \"requests\" library make a HTTP request to \"/astros.json\" endpoint\n",
    "response = requests.get(\"http://api.open-notify.org/astros.json\")\n",
    "\n",
    "# Retrieve the data from the \"response\"\n",
    "data = response.json()\n",
    "\n",
    "# Convert JSON data to DataFrame\n",
    "astronauts = pd.json_normalize(data, record_path=['people'])\n",
    "\n",
    "astronauts"
   ]
  },
  {
   "cell_type": "code",
   "execution_count": 33,
   "metadata": {},
   "outputs": [
    {
     "data": {
      "text/html": [
       "<div>\n",
       "<style scoped>\n",
       "    .dataframe tbody tr th:only-of-type {\n",
       "        vertical-align: middle;\n",
       "    }\n",
       "\n",
       "    .dataframe tbody tr th {\n",
       "        vertical-align: top;\n",
       "    }\n",
       "\n",
       "    .dataframe thead th {\n",
       "        text-align: right;\n",
       "    }\n",
       "</style>\n",
       "<table border=\"1\" class=\"dataframe\">\n",
       "  <thead>\n",
       "    <tr style=\"text-align: right;\">\n",
       "      <th></th>\n",
       "      <th>message</th>\n",
       "      <th>people</th>\n",
       "      <th>number</th>\n",
       "    </tr>\n",
       "  </thead>\n",
       "  <tbody>\n",
       "    <tr>\n",
       "      <th>0</th>\n",
       "      <td>success</td>\n",
       "      <td>{'name': 'Jasmin Moghbeli', 'craft': 'ISS'}</td>\n",
       "      <td>7</td>\n",
       "    </tr>\n",
       "    <tr>\n",
       "      <th>1</th>\n",
       "      <td>success</td>\n",
       "      <td>{'name': 'Andreas Mogensen', 'craft': 'ISS'}</td>\n",
       "      <td>7</td>\n",
       "    </tr>\n",
       "    <tr>\n",
       "      <th>2</th>\n",
       "      <td>success</td>\n",
       "      <td>{'name': 'Satoshi Furukawa', 'craft': 'ISS'}</td>\n",
       "      <td>7</td>\n",
       "    </tr>\n",
       "    <tr>\n",
       "      <th>3</th>\n",
       "      <td>success</td>\n",
       "      <td>{'name': 'Konstantin Borisov', 'craft': 'ISS'}</td>\n",
       "      <td>7</td>\n",
       "    </tr>\n",
       "    <tr>\n",
       "      <th>4</th>\n",
       "      <td>success</td>\n",
       "      <td>{'name': 'Oleg Kononenko', 'craft': 'ISS'}</td>\n",
       "      <td>7</td>\n",
       "    </tr>\n",
       "    <tr>\n",
       "      <th>5</th>\n",
       "      <td>success</td>\n",
       "      <td>{'name': 'Nikolai Chub', 'craft': 'ISS'}</td>\n",
       "      <td>7</td>\n",
       "    </tr>\n",
       "    <tr>\n",
       "      <th>6</th>\n",
       "      <td>success</td>\n",
       "      <td>{'name': 'Loral O'Hara', 'craft': 'ISS'}</td>\n",
       "      <td>7</td>\n",
       "    </tr>\n",
       "  </tbody>\n",
       "</table>\n",
       "</div>"
      ],
      "text/plain": [
       "   message                                          people  number\n",
       "0  success     {'name': 'Jasmin Moghbeli', 'craft': 'ISS'}       7\n",
       "1  success    {'name': 'Andreas Mogensen', 'craft': 'ISS'}       7\n",
       "2  success    {'name': 'Satoshi Furukawa', 'craft': 'ISS'}       7\n",
       "3  success  {'name': 'Konstantin Borisov', 'craft': 'ISS'}       7\n",
       "4  success      {'name': 'Oleg Kononenko', 'craft': 'ISS'}       7\n",
       "5  success        {'name': 'Nikolai Chub', 'craft': 'ISS'}       7\n",
       "6  success        {'name': 'Loral O'Hara', 'craft': 'ISS'}       7"
      ]
     },
     "execution_count": 33,
     "metadata": {},
     "output_type": "execute_result"
    }
   ],
   "source": [
    "# Way 3\n",
    "\n",
    "df = pd.read_json(\"http://api.open-notify.org/astros.json\")\n",
    "\n",
    "df"
   ]
  },
  {
   "cell_type": "code",
   "execution_count": 34,
   "metadata": {},
   "outputs": [
    {
     "data": {
      "text/html": [
       "<div>\n",
       "<style scoped>\n",
       "    .dataframe tbody tr th:only-of-type {\n",
       "        vertical-align: middle;\n",
       "    }\n",
       "\n",
       "    .dataframe tbody tr th {\n",
       "        vertical-align: top;\n",
       "    }\n",
       "\n",
       "    .dataframe thead th {\n",
       "        text-align: right;\n",
       "    }\n",
       "</style>\n",
       "<table border=\"1\" class=\"dataframe\">\n",
       "  <thead>\n",
       "    <tr style=\"text-align: right;\">\n",
       "      <th></th>\n",
       "      <th>name</th>\n",
       "      <th>craft</th>\n",
       "    </tr>\n",
       "  </thead>\n",
       "  <tbody>\n",
       "    <tr>\n",
       "      <th>0</th>\n",
       "      <td>Jasmin Moghbeli</td>\n",
       "      <td>ISS</td>\n",
       "    </tr>\n",
       "    <tr>\n",
       "      <th>1</th>\n",
       "      <td>Andreas Mogensen</td>\n",
       "      <td>ISS</td>\n",
       "    </tr>\n",
       "    <tr>\n",
       "      <th>2</th>\n",
       "      <td>Satoshi Furukawa</td>\n",
       "      <td>ISS</td>\n",
       "    </tr>\n",
       "    <tr>\n",
       "      <th>3</th>\n",
       "      <td>Konstantin Borisov</td>\n",
       "      <td>ISS</td>\n",
       "    </tr>\n",
       "    <tr>\n",
       "      <th>4</th>\n",
       "      <td>Oleg Kononenko</td>\n",
       "      <td>ISS</td>\n",
       "    </tr>\n",
       "    <tr>\n",
       "      <th>5</th>\n",
       "      <td>Nikolai Chub</td>\n",
       "      <td>ISS</td>\n",
       "    </tr>\n",
       "    <tr>\n",
       "      <th>6</th>\n",
       "      <td>Loral O'Hara</td>\n",
       "      <td>ISS</td>\n",
       "    </tr>\n",
       "  </tbody>\n",
       "</table>\n",
       "</div>"
      ],
      "text/plain": [
       "                 name craft\n",
       "0     Jasmin Moghbeli   ISS\n",
       "1    Andreas Mogensen   ISS\n",
       "2    Satoshi Furukawa   ISS\n",
       "3  Konstantin Borisov   ISS\n",
       "4      Oleg Kononenko   ISS\n",
       "5        Nikolai Chub   ISS\n",
       "6        Loral O'Hara   ISS"
      ]
     },
     "execution_count": 34,
     "metadata": {},
     "output_type": "execute_result"
    }
   ],
   "source": [
    "# We don't need message and number column. We want two columns with Person Name and Craft. \n",
    "# Fixing way 3\n",
    "\n",
    "# Convert JSON data to DataFrame\n",
    "astronauts = pd.json_normalize(df['people'])\n",
    "\n",
    "astronauts"
   ]
  },
  {
   "cell_type": "markdown",
   "metadata": {},
   "source": [
    "Working with JSON\n",
    "Converting Python Objects to JSON and vice versa using dumps() and loads()\n",
    "Saving the data to JSON files and vice versa using dump() and load()"
   ]
  },
  {
   "cell_type": "markdown",
   "metadata": {},
   "source": [
    "dumps() and loads()\n",
    "We can convert lists, tuples and dictionaries to JSON strings, and convert JSON strings to lists and dictionaries.\n",
    "\n",
    "The json module has two main methods for doing this:\n",
    "\n",
    "json.dumps(PYTHON_OBJECT) - Takes in a Python object, and converts it to a JSON string.\n",
    "json.loads(JSON_STRING) - Takes a JSON string, and converts it to a Python object."
   ]
  },
  {
   "cell_type": "code",
   "execution_count": 1,
   "metadata": {},
   "outputs": [],
   "source": [
    "# Import the json library\n",
    "import json"
   ]
  },
  {
   "cell_type": "markdown",
   "metadata": {},
   "source": [
    "dumps() & loads() on python list"
   ]
  },
  {
   "cell_type": "code",
   "execution_count": 2,
   "metadata": {},
   "outputs": [
    {
     "name": "stdout",
     "output_type": "stream",
     "text": [
      "<class 'list'>\n",
      "['Alade', 'Dristol', 'Ayodele', 'Odunlade']\n"
     ]
    }
   ],
   "source": [
    "# Make a list of superheros\n",
    "sup_hero = ['Alade', 'Dristol','Ayodele','Odunlade']\n",
    "\n",
    "# checking the type of 'sup_hero'\n",
    "print(type(sup_hero))\n",
    "print(sup_hero)"
   ]
  },
  {
   "cell_type": "code",
   "execution_count": 3,
   "metadata": {},
   "outputs": [
    {
     "name": "stdout",
     "output_type": "stream",
     "text": [
      "<class 'str'>\n",
      "[\"Alade\", \"Dristol\", \"Ayodele\", \"Odunlade\"]\n"
     ]
    }
   ],
   "source": [
    "# Use json.dumps to convert list into string\n",
    "sup_hero_str = json.dumps(sup_hero)\n",
    "print(type(sup_hero_str))\n",
    "print(sup_hero_str)"
   ]
  },
  {
   "cell_type": "code",
   "execution_count": 5,
   "metadata": {},
   "outputs": [
    {
     "name": "stdout",
     "output_type": "stream",
     "text": [
      "<class 'list'>\n",
      "['Alade', 'Dristol', 'Ayodele', 'Odunlade']\n"
     ]
    }
   ],
   "source": [
    "# Converting it back to list\n",
    "sup_hero_list = json.loads(sup_hero_str)\n",
    "print(type(sup_hero_list))\n",
    "print(sup_hero_list)\n"
   ]
  },
  {
   "cell_type": "markdown",
   "metadata": {},
   "source": [
    "dumps() & loads() on Python Dictionary"
   ]
  },
  {
   "cell_type": "code",
   "execution_count": 6,
   "metadata": {},
   "outputs": [
    {
     "name": "stdout",
     "output_type": "stream",
     "text": [
      "<class 'dict'>\n",
      "{'Subway': 24722, 'McDonalds': 14098, 'Starbucks': 10821, 'Pizza Hut': 7600}\n"
     ]
    }
   ],
   "source": [
    "# Make a dictionary\n",
    "fast_food_franchise = {\n",
    "    \"Subway\": 24722,\n",
    "    \"McDonalds\": 14098,\n",
    "    \"Starbucks\": 10821,\n",
    "    \"Pizza Hut\": 7600\n",
    "}\n",
    "\n",
    "print(type(fast_food_franchise))\n",
    "\n",
    "print(fast_food_franchise)"
   ]
  },
  {
   "cell_type": "code",
   "execution_count": 7,
   "metadata": {},
   "outputs": [
    {
     "name": "stdout",
     "output_type": "stream",
     "text": [
      "<class 'str'>\n",
      "{\"Subway\": 24722, \"McDonalds\": 14098, \"Starbucks\": 10821, \"Pizza Hut\": 7600}\n"
     ]
    }
   ],
   "source": [
    "# We can also dump a dictionary to a string and load it.\n",
    "fast_food_franchise_str = json.dumps(fast_food_franchise)\n",
    "\n",
    "print(type(fast_food_franchise_str))\n",
    "\n",
    "print(fast_food_franchise_str)"
   ]
  },
  {
   "cell_type": "code",
   "execution_count": 8,
   "metadata": {},
   "outputs": [
    {
     "name": "stdout",
     "output_type": "stream",
     "text": [
      "<class 'tuple'>\n",
      "('Alade', 'Tolani', 'Data Science')\n"
     ]
    }
   ],
   "source": [
    "tup = ('Alade', \"Tolani\", \"Data Science\")\n",
    "\n",
    "print(type(tup))\n",
    "\n",
    "print(tup)"
   ]
  },
  {
   "cell_type": "markdown",
   "metadata": {},
   "source": [
    "dump() and load()\n",
    "We can create and read JSON files.\n",
    "\n",
    "The json module has two main methods for doing this:\n",
    "\n",
    "json.dump(data, file_object) - This helps in writing data into a JSON file format.\n",
    "json.load(file_object) - This helps to read a JSON file."
   ]
  },
  {
   "cell_type": "code",
   "execution_count": 9,
   "metadata": {},
   "outputs": [
    {
     "name": "stdout",
     "output_type": "stream",
     "text": [
      "{'Subway': 24722, 'McDonalds': 14098, 'Starbucks': 10821, 'Pizza Hut': 7600}\n"
     ]
    }
   ],
   "source": [
    "print(fast_food_franchise)"
   ]
  },
  {
   "cell_type": "code",
   "execution_count": null,
   "metadata": {},
   "outputs": [],
   "source": [
    "file_name = 'data/fast_food.json'\n",
    "with open(file_name, 'w') as f:\n",
    "    json.dumps(fast_food_franchise, f)"
   ]
  },
  {
   "cell_type": "markdown",
   "metadata": {},
   "source": [
    "Popular API Documentations"
   ]
  },
  {
   "cell_type": "markdown",
   "metadata": {},
   "source": [
    "fakestoreapi\n",
    "\n",
    "https://fakestoreapi.com/docs\n",
    "fakeStoreApi can be used with any type of shopping project that needs products, carts, and users in JSON format. You can use examples below to check how fakeStoreApi works and feel free to enjoy it in your awesome projects!\n",
    "\n",
    "coingecko\n",
    "\n",
    "https://www.coingecko.com/en/api/documentation\n",
    "CoinGecko was founded in 2014 with the mission to democratize the access of crypto data and empower users with actionable insights."
   ]
  },
  {
   "cell_type": "markdown",
   "metadata": {},
   "source": [
    "Extracting Crypto Data using Coingecko API"
   ]
  },
  {
   "cell_type": "markdown",
   "metadata": {},
   "source": [
    "ROOT_URL = \"https://api.coingecko.com/api/v3\"\n",
    "\n",
    "API End Points\n",
    "\n",
    "Ping - /ping\n",
    "Coin List - /coin/list\n",
    "Coin Market - /coins/markets\n",
    "Coin History - /coins/{id}/history\n",
    "Coin Market Chart - coins/{id}/market_chart\n",
    "\n",
    "Endpoint - /ping"
   ]
  },
  {
   "cell_type": "code",
   "execution_count": 12,
   "metadata": {},
   "outputs": [
    {
     "data": {
      "text/plain": [
       "200"
      ]
     },
     "execution_count": 12,
     "metadata": {},
     "output_type": "execute_result"
    }
   ],
   "source": [
    "import requests\n",
    "\n",
    "url = \"https://api.coingecko.com/api/v3\"\n",
    "endpoint = \"/ping\"\n",
    "\n",
    "res = requests.get(url + endpoint)\n",
    "\n",
    "res.status_code"
   ]
  },
  {
   "cell_type": "code",
   "execution_count": 13,
   "metadata": {},
   "outputs": [
    {
     "data": {
      "text/plain": [
       "{'Date': 'Wed, 03 Jan 2024 18:26:09 GMT', 'Content-Type': 'application/json; charset=utf-8', 'Transfer-Encoding': 'chunked', 'Connection': 'keep-alive', 'X-Frame-Options': 'SAMEORIGIN', 'X-XSS-Protection': '0', 'X-Content-Type-Options': 'nosniff', 'X-Download-Options': 'noopen', 'X-Permitted-Cross-Domain-Policies': 'none', 'Referrer-Policy': 'strict-origin-when-cross-origin', 'Access-Control-Allow-Origin': '*', 'Access-Control-Allow-Methods': 'POST, PUT, DELETE, GET, OPTIONS', 'Access-Control-Request-Method': '*', 'Access-Control-Allow-Headers': 'Origin, X-Requested-With, Content-Type, Accept, Authorization', 'Access-Control-Expose-Headers': 'link, per-page, total', 'Vary': 'Accept-Encoding, Origin', 'Content-Encoding': 'gzip', 'ETag': 'W/\"4f751b6c9bdb5b193377171515e12134\"', 'Cache-Control': 'max-age=0, private, must-revalidate', 'X-Request-Id': 'fe015998-31c5-42ec-b62d-dcad4e7ec566', 'X-Runtime': '0.002126', 'Alternate-Protocol': '443:npn-spdy/2', 'Strict-Transport-Security': 'max-age=15724800; includeSubdomains', 'CF-Cache-Status': 'MISS', 'Set-Cookie': '__cf_bm=LKnJWmZVUhELxyUB2btlttrM6tavJrhXly2Wy9XcVhg-1704306369-1-AeA0NvzbVwxhBPEqoVCAuut/N+5QdVAaPe8AWBEBtjceIQLakZaC26NGzt9F+8t/cUysfwGeVcq8Z2H8KFWTzTY=; path=/; expires=Wed, 03-Jan-24 18:56:09 GMT; domain=.api.coingecko.com; HttpOnly; Secure; SameSite=None', 'Server': 'cloudflare', 'CF-RAY': '83fd49d5de6863df-LHR'}"
      ]
     },
     "execution_count": 13,
     "metadata": {},
     "output_type": "execute_result"
    }
   ],
   "source": [
    "res.headers"
   ]
  },
  {
   "cell_type": "code",
   "execution_count": 14,
   "metadata": {},
   "outputs": [
    {
     "data": {
      "text/plain": [
       "'{\"gecko_says\":\"(V3) To the Moon!\"}'"
      ]
     },
     "execution_count": 14,
     "metadata": {},
     "output_type": "execute_result"
    }
   ],
   "source": [
    "res.text"
   ]
  },
  {
   "cell_type": "markdown",
   "metadata": {},
   "source": [
    "Endpoint - /coin/list\n",
    "Use this to obtain all the coins' id in order to make API calls"
   ]
  },
  {
   "cell_type": "code",
   "execution_count": 16,
   "metadata": {},
   "outputs": [
    {
     "data": {
      "text/plain": [
       "[{'id': '01coin', 'symbol': 'zoc', 'name': '01coin'},\n",
       " {'id': '0chain', 'symbol': 'zcn', 'name': 'Zus'},\n",
       " {'id': '0-knowledge-network', 'symbol': '0kn', 'name': '0 Knowledge Network'},\n",
       " {'id': '0-mee', 'symbol': 'ome', 'name': 'O-MEE'},\n",
       " {'id': '0vix-protocol', 'symbol': 'vix', 'name': '0VIX Protocol'},\n",
       " {'id': '0x', 'symbol': 'zrx', 'name': '0x Protocol'},\n",
       " {'id': '0x0-ai-ai-smart-contract',\n",
       "  'symbol': '0x0',\n",
       "  'name': '0x0.ai: AI Smart Contract'},\n",
       " {'id': '0x1-tools-ai-multi-tool',\n",
       "  'symbol': '0x1',\n",
       "  'name': '0x1.tools: AI Multi-tool'},\n",
       " {'id': '0xaiswap', 'symbol': '0xaiswap', 'name': '0xAISwap'},\n",
       " {'id': '0xanon', 'symbol': '0xanon', 'name': '0xAnon'}]"
      ]
     },
     "execution_count": 16,
     "metadata": {},
     "output_type": "execute_result"
    }
   ],
   "source": [
    "import requests\n",
    "\n",
    "url = \"https://api.coingecko.com/api/v3\"\n",
    "endpoint = \"/coins/list\"\n",
    "res = requests.get(url + endpoint)\n",
    "res.json()[:10]"
   ]
  },
  {
   "cell_type": "code",
   "execution_count": 17,
   "metadata": {},
   "outputs": [
    {
     "name": "stdout",
     "output_type": "stream",
     "text": [
      "<class 'list'>\n"
     ]
    }
   ],
   "source": [
    "data = res.json()\n",
    "print(type(data))"
   ]
  },
  {
   "cell_type": "code",
   "execution_count": 19,
   "metadata": {},
   "outputs": [
    {
     "data": {
      "text/html": [
       "<div>\n",
       "<style scoped>\n",
       "    .dataframe tbody tr th:only-of-type {\n",
       "        vertical-align: middle;\n",
       "    }\n",
       "\n",
       "    .dataframe tbody tr th {\n",
       "        vertical-align: top;\n",
       "    }\n",
       "\n",
       "    .dataframe thead th {\n",
       "        text-align: right;\n",
       "    }\n",
       "</style>\n",
       "<table border=\"1\" class=\"dataframe\">\n",
       "  <thead>\n",
       "    <tr style=\"text-align: right;\">\n",
       "      <th></th>\n",
       "      <th>id</th>\n",
       "      <th>symbol</th>\n",
       "      <th>name</th>\n",
       "    </tr>\n",
       "  </thead>\n",
       "  <tbody>\n",
       "    <tr>\n",
       "      <th>0</th>\n",
       "      <td>01coin</td>\n",
       "      <td>zoc</td>\n",
       "      <td>01coin</td>\n",
       "    </tr>\n",
       "    <tr>\n",
       "      <th>1</th>\n",
       "      <td>0chain</td>\n",
       "      <td>zcn</td>\n",
       "      <td>Zus</td>\n",
       "    </tr>\n",
       "    <tr>\n",
       "      <th>2</th>\n",
       "      <td>0-knowledge-network</td>\n",
       "      <td>0kn</td>\n",
       "      <td>0 Knowledge Network</td>\n",
       "    </tr>\n",
       "    <tr>\n",
       "      <th>3</th>\n",
       "      <td>0-mee</td>\n",
       "      <td>ome</td>\n",
       "      <td>O-MEE</td>\n",
       "    </tr>\n",
       "    <tr>\n",
       "      <th>4</th>\n",
       "      <td>0vix-protocol</td>\n",
       "      <td>vix</td>\n",
       "      <td>0VIX Protocol</td>\n",
       "    </tr>\n",
       "  </tbody>\n",
       "</table>\n",
       "</div>"
      ],
      "text/plain": [
       "                    id symbol                 name\n",
       "0               01coin    zoc               01coin\n",
       "1               0chain    zcn                  Zus\n",
       "2  0-knowledge-network    0kn  0 Knowledge Network\n",
       "3                0-mee    ome                O-MEE\n",
       "4        0vix-protocol    vix        0VIX Protocol"
      ]
     },
     "execution_count": 19,
     "metadata": {},
     "output_type": "execute_result"
    }
   ],
   "source": [
    "import pandas as pd\n",
    "df = pd.read_json(url+endpoint)\n",
    "df.head()"
   ]
  },
  {
   "cell_type": "code",
   "execution_count": 22,
   "metadata": {},
   "outputs": [
    {
     "data": {
      "text/plain": [
       "(11990, 3)"
      ]
     },
     "execution_count": 22,
     "metadata": {},
     "output_type": "execute_result"
    }
   ],
   "source": [
    "df.shape"
   ]
  },
  {
   "cell_type": "code",
   "execution_count": 23,
   "metadata": {},
   "outputs": [
    {
     "data": {
      "text/html": [
       "<div>\n",
       "<style scoped>\n",
       "    .dataframe tbody tr th:only-of-type {\n",
       "        vertical-align: middle;\n",
       "    }\n",
       "\n",
       "    .dataframe tbody tr th {\n",
       "        vertical-align: top;\n",
       "    }\n",
       "\n",
       "    .dataframe thead th {\n",
       "        text-align: right;\n",
       "    }\n",
       "</style>\n",
       "<table border=\"1\" class=\"dataframe\">\n",
       "  <thead>\n",
       "    <tr style=\"text-align: right;\">\n",
       "      <th></th>\n",
       "      <th>id</th>\n",
       "      <th>symbol</th>\n",
       "      <th>name</th>\n",
       "    </tr>\n",
       "  </thead>\n",
       "  <tbody>\n",
       "    <tr>\n",
       "      <th>1364</th>\n",
       "      <td>binance-peg-dogecoin</td>\n",
       "      <td>doge</td>\n",
       "      <td>Binance-Peg Dogecoin</td>\n",
       "    </tr>\n",
       "    <tr>\n",
       "      <th>1418</th>\n",
       "      <td>bitcoin</td>\n",
       "      <td>btc</td>\n",
       "      <td>Bitcoin</td>\n",
       "    </tr>\n",
       "    <tr>\n",
       "      <th>1441</th>\n",
       "      <td>bitcoin-on-sol</td>\n",
       "      <td>btc</td>\n",
       "      <td>Bitcoin on SOL</td>\n",
       "    </tr>\n",
       "    <tr>\n",
       "      <th>1785</th>\n",
       "      <td>bridged-binance-peg-ethereum-opbnb</td>\n",
       "      <td>eth</td>\n",
       "      <td>Bridged Binance-Peg Ethereum (opBNB)</td>\n",
       "    </tr>\n",
       "    <tr>\n",
       "      <th>1840</th>\n",
       "      <td>bridged-wrapped-ether-starkgate</td>\n",
       "      <td>eth</td>\n",
       "      <td>Bridged Ether (StarkGate)</td>\n",
       "    </tr>\n",
       "    <tr>\n",
       "      <th>3222</th>\n",
       "      <td>dogecoin</td>\n",
       "      <td>doge</td>\n",
       "      <td>Dogecoin</td>\n",
       "    </tr>\n",
       "    <tr>\n",
       "      <th>3251</th>\n",
       "      <td>doge-on-pulsechain</td>\n",
       "      <td>doge</td>\n",
       "      <td>Doge on Pulsechain</td>\n",
       "    </tr>\n",
       "    <tr>\n",
       "      <th>3740</th>\n",
       "      <td>ethereum</td>\n",
       "      <td>eth</td>\n",
       "      <td>Ethereum</td>\n",
       "    </tr>\n",
       "    <tr>\n",
       "      <th>3755</th>\n",
       "      <td>ethereum-wormhole</td>\n",
       "      <td>eth</td>\n",
       "      <td>Ethereum (Wormhole)</td>\n",
       "    </tr>\n",
       "  </tbody>\n",
       "</table>\n",
       "</div>"
      ],
      "text/plain": [
       "                                      id symbol  \\\n",
       "1364                binance-peg-dogecoin   doge   \n",
       "1418                             bitcoin    btc   \n",
       "1441                      bitcoin-on-sol    btc   \n",
       "1785  bridged-binance-peg-ethereum-opbnb    eth   \n",
       "1840     bridged-wrapped-ether-starkgate    eth   \n",
       "3222                            dogecoin   doge   \n",
       "3251                  doge-on-pulsechain   doge   \n",
       "3740                            ethereum    eth   \n",
       "3755                   ethereum-wormhole    eth   \n",
       "\n",
       "                                      name  \n",
       "1364                  Binance-Peg Dogecoin  \n",
       "1418                               Bitcoin  \n",
       "1441                        Bitcoin on SOL  \n",
       "1785  Bridged Binance-Peg Ethereum (opBNB)  \n",
       "1840             Bridged Ether (StarkGate)  \n",
       "3222                              Dogecoin  \n",
       "3251                    Doge on Pulsechain  \n",
       "3740                              Ethereum  \n",
       "3755                   Ethereum (Wormhole)  "
      ]
     },
     "execution_count": 23,
     "metadata": {},
     "output_type": "execute_result"
    }
   ],
   "source": [
    "df.loc[ (df.symbol == 'btc')| (df.symbol == 'eth')| (df.symbol == 'doge')]"
   ]
  },
  {
   "cell_type": "markdown",
   "metadata": {},
   "source": [
    "Endpoint - /coins/markets\n",
    "Use this to obtain all the coins market data (price, market cap, volume)"
   ]
  },
  {
   "cell_type": "code",
   "execution_count": 25,
   "metadata": {},
   "outputs": [
    {
     "data": {
      "text/plain": [
       "200"
      ]
     },
     "execution_count": 25,
     "metadata": {},
     "output_type": "execute_result"
    }
   ],
   "source": [
    "import requests\n",
    "\n",
    "url = \"https://api.coingecko.com/api/v3\"\n",
    "endpoint = \"/coins/markets\"\n",
    "\n",
    "payload = {'vs_currency': 'usd', 'ids': 'bitcoin, dogecoin, ethereum'}\n",
    "\n",
    "res = requests.get(url + endpoint, params=payload)\n",
    "res.status_code\n"
   ]
  },
  {
   "cell_type": "code",
   "execution_count": 26,
   "metadata": {},
   "outputs": [
    {
     "data": {
      "text/plain": [
       "[{'id': 'bitcoin',\n",
       "  'symbol': 'btc',\n",
       "  'name': 'Bitcoin',\n",
       "  'image': 'https://assets.coingecko.com/coins/images/1/large/bitcoin.png?1696501400',\n",
       "  'current_price': 42633,\n",
       "  'market_cap': 838506881102,\n",
       "  'market_cap_rank': 1,\n",
       "  'fully_diluted_valuation': 898917336537,\n",
       "  'total_volume': 44538481284,\n",
       "  'high_24h': 45469,\n",
       "  'low_24h': 41805,\n",
       "  'price_change_24h': -2582.673656334169,\n",
       "  'price_change_percentage_24h': -5.71188,\n",
       "  'market_cap_change_24h': -45847316329.361206,\n",
       "  'market_cap_change_percentage_24h': -5.18427,\n",
       "  'circulating_supply': 19588725.0,\n",
       "  'total_supply': 21000000.0,\n",
       "  'max_supply': 21000000.0,\n",
       "  'ath': 69045,\n",
       "  'ath_change_percentage': -37.7721,\n",
       "  'ath_date': '2021-11-10T14:24:11.849Z',\n",
       "  'atl': 67.81,\n",
       "  'atl_change_percentage': 63261.95586,\n",
       "  'atl_date': '2013-07-06T00:00:00.000Z',\n",
       "  'roi': None,\n",
       "  'last_updated': '2024-01-03T18:38:01.618Z'},\n",
       " {'id': 'ethereum',\n",
       "  'symbol': 'eth',\n",
       "  'name': 'Ethereum',\n",
       "  'image': 'https://assets.coingecko.com/coins/images/279/large/ethereum.png?1696501628',\n",
       "  'current_price': 2205.03,\n",
       "  'market_cap': 265542875007,\n",
       "  'market_cap_rank': 2,\n",
       "  'fully_diluted_valuation': 265542875007,\n",
       "  'total_volume': 33863245953,\n",
       "  'high_24h': 2383.28,\n",
       "  'low_24h': 2148.36,\n",
       "  'price_change_24h': -162.42972189467628,\n",
       "  'price_change_percentage_24h': -6.86093,\n",
       "  'market_cap_change_24h': -18320751093.9357,\n",
       "  'market_cap_change_percentage_24h': -6.45407,\n",
       "  'circulating_supply': 120185495.515931,\n",
       "  'total_supply': 120185495.515931,\n",
       "  'max_supply': None,\n",
       "  'ath': 4878.26,\n",
       "  'ath_change_percentage': -54.34111,\n",
       "  'ath_date': '2021-11-10T14:24:19.604Z',\n",
       "  'atl': 0.432979,\n",
       "  'atl_change_percentage': 514326.88385,\n",
       "  'atl_date': '2015-10-20T00:00:00.000Z',\n",
       "  'roi': {'times': 68.1184480774711,\n",
       "   'currency': 'btc',\n",
       "   'percentage': 6811.84480774711},\n",
       "  'last_updated': '2024-01-03T18:37:59.653Z'},\n",
       " {'id': 'dogecoin',\n",
       "  'symbol': 'doge',\n",
       "  'name': 'Dogecoin',\n",
       "  'image': 'https://assets.coingecko.com/coins/images/5/large/dogecoin.png?1696501409',\n",
       "  'current_price': 0.081927,\n",
       "  'market_cap': 11700446946,\n",
       "  'market_cap_rank': 11,\n",
       "  'fully_diluted_valuation': 11700437093,\n",
       "  'total_volume': 1040428380,\n",
       "  'high_24h': 0.092148,\n",
       "  'low_24h': 0.081351,\n",
       "  'price_change_24h': -0.009827173811961508,\n",
       "  'price_change_percentage_24h': -10.71035,\n",
       "  'market_cap_change_24h': -1374024991.2197819,\n",
       "  'market_cap_change_percentage_24h': -10.50922,\n",
       "  'circulating_supply': 142503956383.705,\n",
       "  'total_supply': 142503836383.705,\n",
       "  'max_supply': None,\n",
       "  'ath': 0.731578,\n",
       "  'ath_change_percentage': -88.73619,\n",
       "  'ath_date': '2021-05-08T05:08:23.458Z',\n",
       "  'atl': 8.69e-05,\n",
       "  'atl_change_percentage': 94721.62375,\n",
       "  'atl_date': '2015-05-06T00:00:00.000Z',\n",
       "  'roi': None,\n",
       "  'last_updated': '2024-01-03T18:37:59.729Z'}]"
      ]
     },
     "execution_count": 26,
     "metadata": {},
     "output_type": "execute_result"
    }
   ],
   "source": [
    "res.json()"
   ]
  },
  {
   "cell_type": "code",
   "execution_count": 27,
   "metadata": {},
   "outputs": [
    {
     "data": {
      "text/html": [
       "<div>\n",
       "<style scoped>\n",
       "    .dataframe tbody tr th:only-of-type {\n",
       "        vertical-align: middle;\n",
       "    }\n",
       "\n",
       "    .dataframe tbody tr th {\n",
       "        vertical-align: top;\n",
       "    }\n",
       "\n",
       "    .dataframe thead th {\n",
       "        text-align: right;\n",
       "    }\n",
       "</style>\n",
       "<table border=\"1\" class=\"dataframe\">\n",
       "  <thead>\n",
       "    <tr style=\"text-align: right;\">\n",
       "      <th></th>\n",
       "      <th>id</th>\n",
       "      <th>symbol</th>\n",
       "      <th>name</th>\n",
       "      <th>image</th>\n",
       "      <th>current_price</th>\n",
       "      <th>market_cap</th>\n",
       "      <th>market_cap_rank</th>\n",
       "      <th>fully_diluted_valuation</th>\n",
       "      <th>total_volume</th>\n",
       "      <th>high_24h</th>\n",
       "      <th>...</th>\n",
       "      <th>ath_change_percentage</th>\n",
       "      <th>ath_date</th>\n",
       "      <th>atl</th>\n",
       "      <th>atl_change_percentage</th>\n",
       "      <th>atl_date</th>\n",
       "      <th>roi</th>\n",
       "      <th>last_updated</th>\n",
       "      <th>roi.times</th>\n",
       "      <th>roi.currency</th>\n",
       "      <th>roi.percentage</th>\n",
       "    </tr>\n",
       "  </thead>\n",
       "  <tbody>\n",
       "    <tr>\n",
       "      <th>0</th>\n",
       "      <td>bitcoin</td>\n",
       "      <td>btc</td>\n",
       "      <td>Bitcoin</td>\n",
       "      <td>https://assets.coingecko.com/coins/images/1/la...</td>\n",
       "      <td>42633.000000</td>\n",
       "      <td>838506881102</td>\n",
       "      <td>1</td>\n",
       "      <td>898917336537</td>\n",
       "      <td>44538481284</td>\n",
       "      <td>45469.000000</td>\n",
       "      <td>...</td>\n",
       "      <td>-37.77210</td>\n",
       "      <td>2021-11-10T14:24:11.849Z</td>\n",
       "      <td>67.810000</td>\n",
       "      <td>63261.95586</td>\n",
       "      <td>2013-07-06T00:00:00.000Z</td>\n",
       "      <td>NaN</td>\n",
       "      <td>2024-01-03T18:38:01.618Z</td>\n",
       "      <td>NaN</td>\n",
       "      <td>NaN</td>\n",
       "      <td>NaN</td>\n",
       "    </tr>\n",
       "    <tr>\n",
       "      <th>1</th>\n",
       "      <td>ethereum</td>\n",
       "      <td>eth</td>\n",
       "      <td>Ethereum</td>\n",
       "      <td>https://assets.coingecko.com/coins/images/279/...</td>\n",
       "      <td>2205.030000</td>\n",
       "      <td>265542875007</td>\n",
       "      <td>2</td>\n",
       "      <td>265542875007</td>\n",
       "      <td>33863245953</td>\n",
       "      <td>2383.280000</td>\n",
       "      <td>...</td>\n",
       "      <td>-54.34111</td>\n",
       "      <td>2021-11-10T14:24:19.604Z</td>\n",
       "      <td>0.432979</td>\n",
       "      <td>514326.88385</td>\n",
       "      <td>2015-10-20T00:00:00.000Z</td>\n",
       "      <td>NaN</td>\n",
       "      <td>2024-01-03T18:37:59.653Z</td>\n",
       "      <td>68.118448</td>\n",
       "      <td>btc</td>\n",
       "      <td>6811.844808</td>\n",
       "    </tr>\n",
       "    <tr>\n",
       "      <th>2</th>\n",
       "      <td>dogecoin</td>\n",
       "      <td>doge</td>\n",
       "      <td>Dogecoin</td>\n",
       "      <td>https://assets.coingecko.com/coins/images/5/la...</td>\n",
       "      <td>0.081927</td>\n",
       "      <td>11700446946</td>\n",
       "      <td>11</td>\n",
       "      <td>11700437093</td>\n",
       "      <td>1040428380</td>\n",
       "      <td>0.092148</td>\n",
       "      <td>...</td>\n",
       "      <td>-88.73619</td>\n",
       "      <td>2021-05-08T05:08:23.458Z</td>\n",
       "      <td>0.000087</td>\n",
       "      <td>94721.62375</td>\n",
       "      <td>2015-05-06T00:00:00.000Z</td>\n",
       "      <td>NaN</td>\n",
       "      <td>2024-01-03T18:37:59.729Z</td>\n",
       "      <td>NaN</td>\n",
       "      <td>NaN</td>\n",
       "      <td>NaN</td>\n",
       "    </tr>\n",
       "  </tbody>\n",
       "</table>\n",
       "<p>3 rows × 29 columns</p>\n",
       "</div>"
      ],
      "text/plain": [
       "         id symbol      name  \\\n",
       "0   bitcoin    btc   Bitcoin   \n",
       "1  ethereum    eth  Ethereum   \n",
       "2  dogecoin   doge  Dogecoin   \n",
       "\n",
       "                                               image  current_price  \\\n",
       "0  https://assets.coingecko.com/coins/images/1/la...   42633.000000   \n",
       "1  https://assets.coingecko.com/coins/images/279/...    2205.030000   \n",
       "2  https://assets.coingecko.com/coins/images/5/la...       0.081927   \n",
       "\n",
       "     market_cap  market_cap_rank  fully_diluted_valuation  total_volume  \\\n",
       "0  838506881102                1             898917336537   44538481284   \n",
       "1  265542875007                2             265542875007   33863245953   \n",
       "2   11700446946               11              11700437093    1040428380   \n",
       "\n",
       "       high_24h  ...  ath_change_percentage                  ath_date  \\\n",
       "0  45469.000000  ...              -37.77210  2021-11-10T14:24:11.849Z   \n",
       "1   2383.280000  ...              -54.34111  2021-11-10T14:24:19.604Z   \n",
       "2      0.092148  ...              -88.73619  2021-05-08T05:08:23.458Z   \n",
       "\n",
       "         atl  atl_change_percentage                  atl_date  roi  \\\n",
       "0  67.810000            63261.95586  2013-07-06T00:00:00.000Z  NaN   \n",
       "1   0.432979           514326.88385  2015-10-20T00:00:00.000Z  NaN   \n",
       "2   0.000087            94721.62375  2015-05-06T00:00:00.000Z  NaN   \n",
       "\n",
       "               last_updated  roi.times  roi.currency  roi.percentage  \n",
       "0  2024-01-03T18:38:01.618Z        NaN           NaN             NaN  \n",
       "1  2024-01-03T18:37:59.653Z  68.118448           btc     6811.844808  \n",
       "2  2024-01-03T18:37:59.729Z        NaN           NaN             NaN  \n",
       "\n",
       "[3 rows x 29 columns]"
      ]
     },
     "execution_count": 27,
     "metadata": {},
     "output_type": "execute_result"
    }
   ],
   "source": [
    "import pandas as pd\n",
    "df = pd.json_normalize(res.json())\n",
    "df.head()"
   ]
  },
  {
   "cell_type": "markdown",
   "metadata": {},
   "source": [
    "Endpoint - /coins/{id}/history\n",
    "Get historical data (name, price, market, stats) at a given date for a coin"
   ]
  },
  {
   "cell_type": "code",
   "execution_count": 31,
   "metadata": {},
   "outputs": [
    {
     "name": "stdout",
     "output_type": "stream",
     "text": [
      "Today's date:  03-01-2024\n"
     ]
    }
   ],
   "source": [
    "from datetime import date\n",
    "today = date.today().strftime(\"%d-%m-%Y\")\n",
    "print(\"Today's date: \", today)"
   ]
  },
  {
   "cell_type": "code",
   "execution_count": 32,
   "metadata": {},
   "outputs": [
    {
     "data": {
      "text/plain": [
       "200"
      ]
     },
     "execution_count": 32,
     "metadata": {},
     "output_type": "execute_result"
    }
   ],
   "source": [
    "import requests\n",
    "\n",
    "uid = \"bitcoin\"\n",
    "\n",
    "ROOT_URL = \"https://api.coingecko.com/api/v3\"\n",
    "endpoint = f\"/coins/{uid}/history\"\n",
    "payload = {'date': today}\n",
    "\n",
    "res = requests.get(ROOT_URL + endpoint, params=payload)\n",
    "\n",
    "res.status_code"
   ]
  },
  {
   "cell_type": "code",
   "execution_count": 33,
   "metadata": {},
   "outputs": [
    {
     "name": "stdout",
     "output_type": "stream",
     "text": [
      "{'id': 'bitcoin', 'symbol': 'btc', 'name': 'Bitcoin', 'localization': {'en': 'Bitcoin', 'de': 'Bitcoin', 'es': 'Bitcoin', 'fr': 'Bitcoin', 'it': 'Bitcoin', 'pl': 'Bitcoin', 'ro': 'Bitcoin', 'hu': 'Bitcoin', 'nl': 'Bitcoin', 'pt': 'Bitcoin', 'sv': 'Bitcoin', 'vi': 'Bitcoin', 'tr': 'Bitcoin', 'ru': 'Биткоин', 'ja': 'ビットコイン', 'zh': '比特币', 'zh-tw': '比特幣', 'ko': '비트코인', 'ar': 'بيتكوين', 'th': 'บิตคอยน์', 'id': 'Bitcoin', 'cs': 'Bitcoin', 'da': 'Bitcoin', 'el': 'Bitcoin', 'hi': 'Bitcoin', 'no': 'Bitcoin', 'sk': 'Bitcoin', 'uk': 'Bitcoin', 'he': 'Bitcoin', 'fi': 'Bitcoin', 'bg': 'Bitcoin', 'hr': 'Bitcoin', 'lt': 'Bitcoin', 'sl': 'Bitcoin'}, 'image': {'thumb': 'https://assets.coingecko.com/coins/images/1/thumb/bitcoin.png?1696501400', 'small': 'https://assets.coingecko.com/coins/images/1/small/bitcoin.png?1696501400'}, 'market_data': {'current_price': {'aed': 165256.438251778, 'ars': 36475060.441251114, 'aud': 66500.23822852365, 'bch': 174.9078320845553, 'bdt': 4939821.038112101, 'bhd': 16956.01788090593, 'bmd': 44994.67388689237, 'bnb': 144.17906493493, 'brl': 221544.77528428045, 'btc': 1.0, 'cad': 59942.93942961732, 'chf': 38257.03643504737, 'clp': 39818295.46556951, 'cny': 319408.19098827115, 'czk': 1014350.9291713182, 'dkk': 306602.7068000618, 'dot': 5348.321293723508, 'eos': 51980.870256378104, 'eth': 19.057408146953108, 'eur': 41121.44236936086, 'gbp': 35647.795296346536, 'gel': 120585.72601687165, 'hkd': 351647.9996950766, 'huf': 15698778.322966613, 'idr': 697594709.0087506, 'ils': 163767.11454612153, 'inr': 3746155.1298277155, 'jpy': 6394502.44444924, 'krw': 58983517.998327166, 'kwd': 13832.892571742885, 'lkr': 14493268.826632444, 'ltc': 616.1964708385983, 'mmk': 94516157.79586945, 'mxn': 766432.5257882412, 'myr': 207132.9812383085, 'ngn': 39804538.25403927, 'nok': 465596.02143080597, 'nzd': 71977.66485414449, 'php': 2500803.9746334706, 'pkr': 12686248.302409334, 'pln': 179660.8531712327, 'rub': 4068234.5196206286, 'sar': 168730.34203856313, 'sek': 459339.3770428124, 'sgd': 59685.43491096263, 'thb': 1542417.4208426736, 'try': 1338744.5300262645, 'twd': 1390065.4100669764, 'uah': 1716553.8729487467, 'usd': 44994.67388689237, 'vef': 4505.316696294525, 'vnd': 1094894266.494008, 'xag': 1902.4427538953719, 'xau': 21.841764544914174, 'xdr': 33547.93886071917, 'xlm': 347150.0237513247, 'xrp': 71652.76846800193, 'yfi': 5.489321853836634, 'zar': 835349.4279512289, 'bits': 1000359.7262865526, 'link': 2961.307623925999, 'sats': 100035972.62865525}, 'market_cap': {'aed': 3226169173603.137, 'ars': 712073410547500.0, 'aud': 1298230924493.6174, 'bch': 3424497718.0223494, 'bdt': 96436172320215.61, 'bhd': 331018765581.158, 'bmd': 878395004792.8407, 'bnb': 2820094178.3766932, 'brl': 4325041324598.9854, 'btc': 19587918.0, 'cad': 1170218028470.1333, 'chf': 746861501590.1466, 'clp': 777340712019492.5, 'cny': 6235550460023.417, 'czk': 19802361309048.895, 'dkk': 5985559241659.372, 'dot': 104529707112.69128, 'eos': 1017280750822.4126, 'eth': 373066701.9054714, 'eur': 802781005990.2638, 'gbp': 695923375262.2108, 'gel': 2354098612844.824, 'hkd': 6864942440832.615, 'huf': 306474683979456.6, 'idr': 13618583152832018, 'ils': 3197094298944.506, 'inr': 73133188196711.14, 'jpy': 124834753096768.58, 'krw': 1151488011782936, 'kwd': 270048489903.4827, 'lkr': 282940486966000.06, 'ltc': 12070780526.829742, 'mmk': 1845163298411848.5, 'mxn': 14962448752390.541, 'myr': 4043691404563.842, 'ngn': 777072140989986.2, 'nok': 9089458465780.371, 'nzd': 1405162340402.0742, 'php': 48821194366386.11, 'pkr': 247663471601341.62, 'pln': 3507375036857.5156, 'rub': 79420886332984.12, 'sar': 3293987416738.1895, 'sek': 8967315005178.928, 'sgd': 1165190973857.7034, 'thb': 30111380764298.633, 'try': 26135237935603.348, 'twd': 27137134399675.062, 'uah': 33510907340862.715, 'usd': 878395004792.8407, 'vef': 87953691829.90718, 'vnd': 21374744417134870, 'xag': 37139867179.09865, 'xau': 426399287.1765887, 'xdr': 654929558783.5334, 'xlm': 6802176128471.806, 'xrp': 1402585385212.1428, 'yfi': 107445225.7038286, 'zar': 16307858272591.578, 'bits': 19586431342656.62, 'link': 58007359540.88872, 'sats': 1958643134265662}, 'total_volume': {'aed': 143569578333.64526, 'ars': 31688381418860.125, 'aud': 57773308335.55816, 'bch': 151954404.71355712, 'bdt': 4291560625340.9844, 'bhd': 14730853231.088696, 'bmd': 39089952715.542786, 'bnb': 125258221.56296204, 'brl': 192471109180.78937, 'btc': 869080.9605015551, 'cad': 52076534076.55847, 'chf': 33236505926.05919, 'clp': 34592878501027.523, 'cny': 277491756337.0948, 'czk': 881236076028.6481, 'dkk': 266366755794.2515, 'dot': 4646452755.824651, 'eos': 45159339648.56486, 'eth': 16556474.777833937, 'eur': 35725011405.88339, 'gbp': 30969679568.08492, 'gel': 104761073277.65474, 'hkd': 305500684706.599, 'huf': 13638603179549.273, 'idr': 606048268253117.5, 'ils': 142275700898.76053, 'inr': 3254541354342.6694, 'jpy': 5555341923830.698, 'krw': 51243019014805.0, 'kwd': 12017580523.150194, 'lkr': 12591294573017.33, 'ltc': 535332047.724477, 'mmk': 82112655119645.61, 'mxn': 665852391063.6481, 'myr': 179950597326.00073, 'ngn': 34580926669804.87, 'nok': 404495129979.7513, 'nzd': 62531923729.38476, 'php': 2172619571929.8616, 'pkr': 11021412168147.312, 'pln': 156083679436.18872, 'rub': 3534353763902.6265, 'sar': 146587596312.95404, 'sek': 399059554784.79736, 'sgd': 51852822277.16741, 'thb': 1340003579088.8093, 'try': 1163058999126.6316, 'twd': 1207644960104.0237, 'uah': 1491287833220.5356, 'usd': 39089952715.542786, 'vef': 3914076965.407292, 'vnd': 951209585680268.2, 'xag': 1652782226.6417434, 'xau': 18975435.74670594, 'xdr': 29145390564.80326, 'xlm': 301592985155.3387, 'xrp': 62249664002.29597, 'yfi': 4768949.592706778, 'zar': 725725220759.5573, 'bits': 869080960501.5552, 'link': 2572690609.7027082, 'sats': 86908096050155.52}}, 'community_data': {'facebook_likes': None, 'twitter_followers': None, 'reddit_average_posts_48h': 0.0, 'reddit_average_comments_48h': 0.0, 'reddit_subscribers': None, 'reddit_accounts_active_48h': None}, 'developer_data': {'forks': 36362, 'stars': 73021, 'subscribers': 3962, 'total_issues': 7738, 'closed_issues': 7378, 'pull_requests_merged': 11206, 'pull_request_contributors': 846, 'code_additions_deletions_4_weeks': {'additions': 233, 'deletions': -88}, 'commit_count_4_weeks': 135}, 'public_interest_stats': {'alexa_rank': None, 'bing_matches': None}}\n"
     ]
    }
   ],
   "source": [
    "data = res.json()\n",
    "print(data)"
   ]
  },
  {
   "cell_type": "code",
   "execution_count": 34,
   "metadata": {},
   "outputs": [
    {
     "data": {
      "text/html": [
       "<div>\n",
       "<style scoped>\n",
       "    .dataframe tbody tr th:only-of-type {\n",
       "        vertical-align: middle;\n",
       "    }\n",
       "\n",
       "    .dataframe tbody tr th {\n",
       "        vertical-align: top;\n",
       "    }\n",
       "\n",
       "    .dataframe thead th {\n",
       "        text-align: right;\n",
       "    }\n",
       "</style>\n",
       "<table border=\"1\" class=\"dataframe\">\n",
       "  <thead>\n",
       "    <tr style=\"text-align: right;\">\n",
       "      <th></th>\n",
       "      <th>id</th>\n",
       "      <th>symbol</th>\n",
       "      <th>name</th>\n",
       "      <th>localization</th>\n",
       "      <th>image</th>\n",
       "      <th>market_data</th>\n",
       "      <th>community_data</th>\n",
       "      <th>developer_data</th>\n",
       "      <th>public_interest_stats</th>\n",
       "    </tr>\n",
       "  </thead>\n",
       "  <tbody>\n",
       "    <tr>\n",
       "      <th>en</th>\n",
       "      <td>bitcoin</td>\n",
       "      <td>btc</td>\n",
       "      <td>Bitcoin</td>\n",
       "      <td>Bitcoin</td>\n",
       "      <td>NaN</td>\n",
       "      <td>NaN</td>\n",
       "      <td>NaN</td>\n",
       "      <td>NaN</td>\n",
       "      <td>NaN</td>\n",
       "    </tr>\n",
       "    <tr>\n",
       "      <th>de</th>\n",
       "      <td>bitcoin</td>\n",
       "      <td>btc</td>\n",
       "      <td>Bitcoin</td>\n",
       "      <td>Bitcoin</td>\n",
       "      <td>NaN</td>\n",
       "      <td>NaN</td>\n",
       "      <td>NaN</td>\n",
       "      <td>NaN</td>\n",
       "      <td>NaN</td>\n",
       "    </tr>\n",
       "    <tr>\n",
       "      <th>es</th>\n",
       "      <td>bitcoin</td>\n",
       "      <td>btc</td>\n",
       "      <td>Bitcoin</td>\n",
       "      <td>Bitcoin</td>\n",
       "      <td>NaN</td>\n",
       "      <td>NaN</td>\n",
       "      <td>NaN</td>\n",
       "      <td>NaN</td>\n",
       "      <td>NaN</td>\n",
       "    </tr>\n",
       "    <tr>\n",
       "      <th>fr</th>\n",
       "      <td>bitcoin</td>\n",
       "      <td>btc</td>\n",
       "      <td>Bitcoin</td>\n",
       "      <td>Bitcoin</td>\n",
       "      <td>NaN</td>\n",
       "      <td>NaN</td>\n",
       "      <td>NaN</td>\n",
       "      <td>NaN</td>\n",
       "      <td>NaN</td>\n",
       "    </tr>\n",
       "    <tr>\n",
       "      <th>it</th>\n",
       "      <td>bitcoin</td>\n",
       "      <td>btc</td>\n",
       "      <td>Bitcoin</td>\n",
       "      <td>Bitcoin</td>\n",
       "      <td>NaN</td>\n",
       "      <td>NaN</td>\n",
       "      <td>NaN</td>\n",
       "      <td>NaN</td>\n",
       "      <td>NaN</td>\n",
       "    </tr>\n",
       "  </tbody>\n",
       "</table>\n",
       "</div>"
      ],
      "text/plain": [
       "         id symbol     name localization image market_data  community_data  \\\n",
       "en  bitcoin    btc  Bitcoin      Bitcoin   NaN         NaN             NaN   \n",
       "de  bitcoin    btc  Bitcoin      Bitcoin   NaN         NaN             NaN   \n",
       "es  bitcoin    btc  Bitcoin      Bitcoin   NaN         NaN             NaN   \n",
       "fr  bitcoin    btc  Bitcoin      Bitcoin   NaN         NaN             NaN   \n",
       "it  bitcoin    btc  Bitcoin      Bitcoin   NaN         NaN             NaN   \n",
       "\n",
       "   developer_data  public_interest_stats  \n",
       "en            NaN                    NaN  \n",
       "de            NaN                    NaN  \n",
       "es            NaN                    NaN  \n",
       "fr            NaN                    NaN  \n",
       "it            NaN                    NaN  "
      ]
     },
     "execution_count": 34,
     "metadata": {},
     "output_type": "execute_result"
    }
   ],
   "source": [
    "# Storing the data in a DataFrame\n",
    "url = f'https://api.coingecko.com/api/v3/coins/bitcoin/history?date={today}'\n",
    "df = pd.read_json(url)\n",
    "df.head()"
   ]
  },
  {
   "cell_type": "code",
   "execution_count": 35,
   "metadata": {},
   "outputs": [
    {
     "data": {
      "text/plain": [
       "(56, 9)"
      ]
     },
     "execution_count": 35,
     "metadata": {},
     "output_type": "execute_result"
    }
   ],
   "source": [
    "df.shape"
   ]
  },
  {
   "cell_type": "markdown",
   "metadata": {},
   "source": [
    "This is not a output expected from running this query. Let's try and fix this."
   ]
  },
  {
   "cell_type": "code",
   "execution_count": 36,
   "metadata": {},
   "outputs": [
    {
     "data": {
      "text/plain": [
       "dict_keys(['id', 'symbol', 'name', 'localization', 'image', 'market_data', 'community_data', 'developer_data', 'public_interest_stats'])"
      ]
     },
     "execution_count": 36,
     "metadata": {},
     "output_type": "execute_result"
    }
   ],
   "source": [
    "## Look at the json and try to see that you need \"market_data\" containing current_price, market_cap and total_volume\n",
    "\n",
    "data.keys()"
   ]
  },
  {
   "cell_type": "code",
   "execution_count": 37,
   "metadata": {},
   "outputs": [
    {
     "name": "stdout",
     "output_type": "stream",
     "text": [
      "{'current_price': {'aed': 165256.438251778, 'ars': 36475060.441251114, 'aud': 66500.23822852365, 'bch': 174.9078320845553, 'bdt': 4939821.038112101, 'bhd': 16956.01788090593, 'bmd': 44994.67388689237, 'bnb': 144.17906493493, 'brl': 221544.77528428045, 'btc': 1.0, 'cad': 59942.93942961732, 'chf': 38257.03643504737, 'clp': 39818295.46556951, 'cny': 319408.19098827115, 'czk': 1014350.9291713182, 'dkk': 306602.7068000618, 'dot': 5348.321293723508, 'eos': 51980.870256378104, 'eth': 19.057408146953108, 'eur': 41121.44236936086, 'gbp': 35647.795296346536, 'gel': 120585.72601687165, 'hkd': 351647.9996950766, 'huf': 15698778.322966613, 'idr': 697594709.0087506, 'ils': 163767.11454612153, 'inr': 3746155.1298277155, 'jpy': 6394502.44444924, 'krw': 58983517.998327166, 'kwd': 13832.892571742885, 'lkr': 14493268.826632444, 'ltc': 616.1964708385983, 'mmk': 94516157.79586945, 'mxn': 766432.5257882412, 'myr': 207132.9812383085, 'ngn': 39804538.25403927, 'nok': 465596.02143080597, 'nzd': 71977.66485414449, 'php': 2500803.9746334706, 'pkr': 12686248.302409334, 'pln': 179660.8531712327, 'rub': 4068234.5196206286, 'sar': 168730.34203856313, 'sek': 459339.3770428124, 'sgd': 59685.43491096263, 'thb': 1542417.4208426736, 'try': 1338744.5300262645, 'twd': 1390065.4100669764, 'uah': 1716553.8729487467, 'usd': 44994.67388689237, 'vef': 4505.316696294525, 'vnd': 1094894266.494008, 'xag': 1902.4427538953719, 'xau': 21.841764544914174, 'xdr': 33547.93886071917, 'xlm': 347150.0237513247, 'xrp': 71652.76846800193, 'yfi': 5.489321853836634, 'zar': 835349.4279512289, 'bits': 1000359.7262865526, 'link': 2961.307623925999, 'sats': 100035972.62865525}, 'market_cap': {'aed': 3226169173603.137, 'ars': 712073410547500.0, 'aud': 1298230924493.6174, 'bch': 3424497718.0223494, 'bdt': 96436172320215.61, 'bhd': 331018765581.158, 'bmd': 878395004792.8407, 'bnb': 2820094178.3766932, 'brl': 4325041324598.9854, 'btc': 19587918.0, 'cad': 1170218028470.1333, 'chf': 746861501590.1466, 'clp': 777340712019492.5, 'cny': 6235550460023.417, 'czk': 19802361309048.895, 'dkk': 5985559241659.372, 'dot': 104529707112.69128, 'eos': 1017280750822.4126, 'eth': 373066701.9054714, 'eur': 802781005990.2638, 'gbp': 695923375262.2108, 'gel': 2354098612844.824, 'hkd': 6864942440832.615, 'huf': 306474683979456.6, 'idr': 13618583152832018, 'ils': 3197094298944.506, 'inr': 73133188196711.14, 'jpy': 124834753096768.58, 'krw': 1151488011782936, 'kwd': 270048489903.4827, 'lkr': 282940486966000.06, 'ltc': 12070780526.829742, 'mmk': 1845163298411848.5, 'mxn': 14962448752390.541, 'myr': 4043691404563.842, 'ngn': 777072140989986.2, 'nok': 9089458465780.371, 'nzd': 1405162340402.0742, 'php': 48821194366386.11, 'pkr': 247663471601341.62, 'pln': 3507375036857.5156, 'rub': 79420886332984.12, 'sar': 3293987416738.1895, 'sek': 8967315005178.928, 'sgd': 1165190973857.7034, 'thb': 30111380764298.633, 'try': 26135237935603.348, 'twd': 27137134399675.062, 'uah': 33510907340862.715, 'usd': 878395004792.8407, 'vef': 87953691829.90718, 'vnd': 21374744417134870, 'xag': 37139867179.09865, 'xau': 426399287.1765887, 'xdr': 654929558783.5334, 'xlm': 6802176128471.806, 'xrp': 1402585385212.1428, 'yfi': 107445225.7038286, 'zar': 16307858272591.578, 'bits': 19586431342656.62, 'link': 58007359540.88872, 'sats': 1958643134265662}, 'total_volume': {'aed': 143569578333.64526, 'ars': 31688381418860.125, 'aud': 57773308335.55816, 'bch': 151954404.71355712, 'bdt': 4291560625340.9844, 'bhd': 14730853231.088696, 'bmd': 39089952715.542786, 'bnb': 125258221.56296204, 'brl': 192471109180.78937, 'btc': 869080.9605015551, 'cad': 52076534076.55847, 'chf': 33236505926.05919, 'clp': 34592878501027.523, 'cny': 277491756337.0948, 'czk': 881236076028.6481, 'dkk': 266366755794.2515, 'dot': 4646452755.824651, 'eos': 45159339648.56486, 'eth': 16556474.777833937, 'eur': 35725011405.88339, 'gbp': 30969679568.08492, 'gel': 104761073277.65474, 'hkd': 305500684706.599, 'huf': 13638603179549.273, 'idr': 606048268253117.5, 'ils': 142275700898.76053, 'inr': 3254541354342.6694, 'jpy': 5555341923830.698, 'krw': 51243019014805.0, 'kwd': 12017580523.150194, 'lkr': 12591294573017.33, 'ltc': 535332047.724477, 'mmk': 82112655119645.61, 'mxn': 665852391063.6481, 'myr': 179950597326.00073, 'ngn': 34580926669804.87, 'nok': 404495129979.7513, 'nzd': 62531923729.38476, 'php': 2172619571929.8616, 'pkr': 11021412168147.312, 'pln': 156083679436.18872, 'rub': 3534353763902.6265, 'sar': 146587596312.95404, 'sek': 399059554784.79736, 'sgd': 51852822277.16741, 'thb': 1340003579088.8093, 'try': 1163058999126.6316, 'twd': 1207644960104.0237, 'uah': 1491287833220.5356, 'usd': 39089952715.542786, 'vef': 3914076965.407292, 'vnd': 951209585680268.2, 'xag': 1652782226.6417434, 'xau': 18975435.74670594, 'xdr': 29145390564.80326, 'xlm': 301592985155.3387, 'xrp': 62249664002.29597, 'yfi': 4768949.592706778, 'zar': 725725220759.5573, 'bits': 869080960501.5552, 'link': 2572690609.7027082, 'sats': 86908096050155.52}}\n"
     ]
    }
   ],
   "source": [
    "market_data = data['market_data']\n",
    "print(market_data)"
   ]
  },
  {
   "cell_type": "code",
   "execution_count": 38,
   "metadata": {},
   "outputs": [
    {
     "data": {
      "text/html": [
       "<div>\n",
       "<style scoped>\n",
       "    .dataframe tbody tr th:only-of-type {\n",
       "        vertical-align: middle;\n",
       "    }\n",
       "\n",
       "    .dataframe tbody tr th {\n",
       "        vertical-align: top;\n",
       "    }\n",
       "\n",
       "    .dataframe thead th {\n",
       "        text-align: right;\n",
       "    }\n",
       "</style>\n",
       "<table border=\"1\" class=\"dataframe\">\n",
       "  <thead>\n",
       "    <tr style=\"text-align: right;\">\n",
       "      <th></th>\n",
       "      <th>current_price</th>\n",
       "      <th>market_cap</th>\n",
       "      <th>total_volume</th>\n",
       "    </tr>\n",
       "  </thead>\n",
       "  <tbody>\n",
       "    <tr>\n",
       "      <th>aed</th>\n",
       "      <td>1.652564e+05</td>\n",
       "      <td>3.226169e+12</td>\n",
       "      <td>1.435696e+11</td>\n",
       "    </tr>\n",
       "    <tr>\n",
       "      <th>ars</th>\n",
       "      <td>3.647506e+07</td>\n",
       "      <td>7.120734e+14</td>\n",
       "      <td>3.168838e+13</td>\n",
       "    </tr>\n",
       "    <tr>\n",
       "      <th>aud</th>\n",
       "      <td>6.650024e+04</td>\n",
       "      <td>1.298231e+12</td>\n",
       "      <td>5.777331e+10</td>\n",
       "    </tr>\n",
       "    <tr>\n",
       "      <th>bch</th>\n",
       "      <td>1.749078e+02</td>\n",
       "      <td>3.424498e+09</td>\n",
       "      <td>1.519544e+08</td>\n",
       "    </tr>\n",
       "    <tr>\n",
       "      <th>bdt</th>\n",
       "      <td>4.939821e+06</td>\n",
       "      <td>9.643617e+13</td>\n",
       "      <td>4.291561e+12</td>\n",
       "    </tr>\n",
       "  </tbody>\n",
       "</table>\n",
       "</div>"
      ],
      "text/plain": [
       "     current_price    market_cap  total_volume\n",
       "aed   1.652564e+05  3.226169e+12  1.435696e+11\n",
       "ars   3.647506e+07  7.120734e+14  3.168838e+13\n",
       "aud   6.650024e+04  1.298231e+12  5.777331e+10\n",
       "bch   1.749078e+02  3.424498e+09  1.519544e+08\n",
       "bdt   4.939821e+06  9.643617e+13  4.291561e+12"
      ]
     },
     "execution_count": 38,
     "metadata": {},
     "output_type": "execute_result"
    }
   ],
   "source": [
    "df = pd.DataFrame(market_data)\n",
    "df.head()"
   ]
  },
  {
   "cell_type": "code",
   "execution_count": 39,
   "metadata": {},
   "outputs": [
    {
     "data": {
      "text/html": [
       "<div>\n",
       "<style scoped>\n",
       "    .dataframe tbody tr th:only-of-type {\n",
       "        vertical-align: middle;\n",
       "    }\n",
       "\n",
       "    .dataframe tbody tr th {\n",
       "        vertical-align: top;\n",
       "    }\n",
       "\n",
       "    .dataframe thead th {\n",
       "        text-align: right;\n",
       "    }\n",
       "</style>\n",
       "<table border=\"1\" class=\"dataframe\">\n",
       "  <thead>\n",
       "    <tr style=\"text-align: right;\">\n",
       "      <th></th>\n",
       "      <th>symbol</th>\n",
       "      <th>current_price</th>\n",
       "      <th>market_cap</th>\n",
       "      <th>total_volume</th>\n",
       "    </tr>\n",
       "  </thead>\n",
       "  <tbody>\n",
       "    <tr>\n",
       "      <th>0</th>\n",
       "      <td>aed</td>\n",
       "      <td>1.652564e+05</td>\n",
       "      <td>3.226169e+12</td>\n",
       "      <td>1.435696e+11</td>\n",
       "    </tr>\n",
       "    <tr>\n",
       "      <th>1</th>\n",
       "      <td>ars</td>\n",
       "      <td>3.647506e+07</td>\n",
       "      <td>7.120734e+14</td>\n",
       "      <td>3.168838e+13</td>\n",
       "    </tr>\n",
       "    <tr>\n",
       "      <th>2</th>\n",
       "      <td>aud</td>\n",
       "      <td>6.650024e+04</td>\n",
       "      <td>1.298231e+12</td>\n",
       "      <td>5.777331e+10</td>\n",
       "    </tr>\n",
       "    <tr>\n",
       "      <th>3</th>\n",
       "      <td>bch</td>\n",
       "      <td>1.749078e+02</td>\n",
       "      <td>3.424498e+09</td>\n",
       "      <td>1.519544e+08</td>\n",
       "    </tr>\n",
       "    <tr>\n",
       "      <th>4</th>\n",
       "      <td>bdt</td>\n",
       "      <td>4.939821e+06</td>\n",
       "      <td>9.643617e+13</td>\n",
       "      <td>4.291561e+12</td>\n",
       "    </tr>\n",
       "    <tr>\n",
       "      <th>...</th>\n",
       "      <td>...</td>\n",
       "      <td>...</td>\n",
       "      <td>...</td>\n",
       "      <td>...</td>\n",
       "    </tr>\n",
       "    <tr>\n",
       "      <th>57</th>\n",
       "      <td>yfi</td>\n",
       "      <td>5.489322e+00</td>\n",
       "      <td>1.074452e+08</td>\n",
       "      <td>4.768950e+06</td>\n",
       "    </tr>\n",
       "    <tr>\n",
       "      <th>58</th>\n",
       "      <td>zar</td>\n",
       "      <td>8.353494e+05</td>\n",
       "      <td>1.630786e+13</td>\n",
       "      <td>7.257252e+11</td>\n",
       "    </tr>\n",
       "    <tr>\n",
       "      <th>59</th>\n",
       "      <td>bits</td>\n",
       "      <td>1.000360e+06</td>\n",
       "      <td>1.958643e+13</td>\n",
       "      <td>8.690810e+11</td>\n",
       "    </tr>\n",
       "    <tr>\n",
       "      <th>60</th>\n",
       "      <td>link</td>\n",
       "      <td>2.961308e+03</td>\n",
       "      <td>5.800736e+10</td>\n",
       "      <td>2.572691e+09</td>\n",
       "    </tr>\n",
       "    <tr>\n",
       "      <th>61</th>\n",
       "      <td>sats</td>\n",
       "      <td>1.000360e+08</td>\n",
       "      <td>1.958643e+15</td>\n",
       "      <td>8.690810e+13</td>\n",
       "    </tr>\n",
       "  </tbody>\n",
       "</table>\n",
       "<p>62 rows × 4 columns</p>\n",
       "</div>"
      ],
      "text/plain": [
       "   symbol  current_price    market_cap  total_volume\n",
       "0     aed   1.652564e+05  3.226169e+12  1.435696e+11\n",
       "1     ars   3.647506e+07  7.120734e+14  3.168838e+13\n",
       "2     aud   6.650024e+04  1.298231e+12  5.777331e+10\n",
       "3     bch   1.749078e+02  3.424498e+09  1.519544e+08\n",
       "4     bdt   4.939821e+06  9.643617e+13  4.291561e+12\n",
       "..    ...            ...           ...           ...\n",
       "57    yfi   5.489322e+00  1.074452e+08  4.768950e+06\n",
       "58    zar   8.353494e+05  1.630786e+13  7.257252e+11\n",
       "59   bits   1.000360e+06  1.958643e+13  8.690810e+11\n",
       "60   link   2.961308e+03  5.800736e+10  2.572691e+09\n",
       "61   sats   1.000360e+08  1.958643e+15  8.690810e+13\n",
       "\n",
       "[62 rows x 4 columns]"
      ]
     },
     "execution_count": 39,
     "metadata": {},
     "output_type": "execute_result"
    }
   ],
   "source": [
    "df.reset_index(names=\"symbol\")"
   ]
  },
  {
   "cell_type": "markdown",
   "metadata": {},
   "source": [
    "Endpoint - coins/{id}/market_chart\n",
    "Get historical market data include price, market cap, and 24h volume (granularity auto)\n",
    "\n",
    "Data granularity is automatic (cannot be adjusted)\n",
    "1 day from current time = 5 minute interval data\n",
    "1 - 90 days from current time = hourly data\n",
    "Above 90 days from current time = daily data (00:00 UTC)"
   ]
  },
  {
   "cell_type": "code",
   "execution_count": 40,
   "metadata": {},
   "outputs": [
    {
     "data": {
      "text/plain": [
       "200"
      ]
     },
     "execution_count": 40,
     "metadata": {},
     "output_type": "execute_result"
    }
   ],
   "source": [
    "import requests\n",
    "\n",
    "uid = \"bitcoin\"\n",
    "\n",
    "ROOT_URL = \"https://api.coingecko.com/api/v3\"\n",
    "endpoint = f\"/coins/{uid}/market_chart\"\n",
    "payload = {'vs_currency' : 'usd', 'days' : '1'}\n",
    "\n",
    "res = requests.get(ROOT_URL + endpoint, params=payload)\n",
    "\n",
    "res.status_code"
   ]
  },
  {
   "cell_type": "code",
   "execution_count": 41,
   "metadata": {},
   "outputs": [
    {
     "data": {
      "text/plain": [
       "{'prices': [[1704222302169, 45219.939089517415],\n",
       "  [1704222598409, 45205.2281085648],\n",
       "  [1704222895281, 45155.63329875293],\n",
       "  [1704223222791, 45178.407863163986],\n",
       "  [1704223516099, 45059.757810355986],\n",
       "  [1704223800793, 44910.53766134728],\n",
       "  [1704224104345, 44957.04536455582],\n",
       "  [1704224422191, 45039.64183642177],\n",
       "  [1704224715551, 44974.59685154912],\n",
       "  [1704225065524, 45049.95897530628],\n",
       "  [1704225297285, 45057.52771934436],\n",
       "  [1704225599360, 45118.52363178442],\n",
       "  [1704225919178, 45049.77986001943],\n",
       "  [1704226216407, 45137.323810860646],\n",
       "  [1704226515658, 45101.55731045859],\n",
       "  [1704226828964, 45142.21614110713],\n",
       "  [1704227118232, 44987.287898385366],\n",
       "  [1704227407688, 45001.01487140976],\n",
       "  [1704227690851, 44936.00484118131],\n",
       "  [1704228051235, 44918.17357227175],\n",
       "  [1704228303590, 44896.50646751835],\n",
       "  [1704228625917, 44888.150249541824],\n",
       "  [1704228900249, 44843.89446553527],\n",
       "  [1704229232565, 44833.277572566316],\n",
       "  [1704229494342, 44769.37327394689],\n",
       "  [1704229826633, 44717.4777307361],\n",
       "  [1704230092945, 44817.719882085454],\n",
       "  [1704230445457, 44892.26856031984],\n",
       "  [1704230712647, 44932.99948238711],\n",
       "  [1704231015481, 44916.627559328525],\n",
       "  [1704231333190, 44967.48282676912],\n",
       "  [1704231625845, 44877.013847531714],\n",
       "  [1704231895856, 45003.68655597974],\n",
       "  [1704232228953, 45050.03909321219],\n",
       "  [1704232538606, 45067.79304270769],\n",
       "  [1704232793061, 45051.12016247057],\n",
       "  [1704233110224, 45122.62969771032],\n",
       "  [1704233406984, 45235.077053204266],\n",
       "  [1704233698266, 45209.84164143184],\n",
       "  [1704233990269, 45180.16682850322],\n",
       "  [1704234327254, 45113.16274765213],\n",
       "  [1704234659989, 45073.70240822159],\n",
       "  [1704234917975, 44990.52096590585],\n",
       "  [1704235207940, 44953.186705791966],\n",
       "  [1704235508671, 45004.307823295574],\n",
       "  [1704235830509, 45075.81045803724],\n",
       "  [1704236099672, 45034.422922544996],\n",
       "  [1704236415337, 44986.18852534111],\n",
       "  [1704236726416, 44967.33495242385],\n",
       "  [1704237043269, 44990.782900412225],\n",
       "  [1704237290884, 44986.021576632666],\n",
       "  [1704237623004, 45036.19619596427],\n",
       "  [1704237888569, 45007.86353572661],\n",
       "  [1704238233319, 44967.5628149792],\n",
       "  [1704238512783, 44942.819220137775],\n",
       "  [1704238852441, 44907.14159607767],\n",
       "  [1704239091026, 44895.94656799414],\n",
       "  [1704239427270, 44843.7146200449],\n",
       "  [1704239707711, 44994.67388689237],\n",
       "  [1704240009707, 44952.42520571999],\n",
       "  [1704240304843, 45028.95667073979],\n",
       "  [1704240628181, 45034.15193918086],\n",
       "  [1704240925908, 44986.71159887583],\n",
       "  [1704241231295, 44978.88116864546],\n",
       "  [1704241530869, 44963.32864747235],\n",
       "  [1704241817830, 44892.91943237544],\n",
       "  [1704242127550, 45049.790268732766],\n",
       "  [1704242456314, 45039.835244315575],\n",
       "  [1704242728951, 45132.392922859355],\n",
       "  [1704243011440, 45175.41200257472],\n",
       "  [1704243307541, 45176.148806601595],\n",
       "  [1704243701382, 45149.32488546745],\n",
       "  [1704243891637, 45158.65766655758],\n",
       "  [1704244314606, 45228.809452724134],\n",
       "  [1704244562495, 45209.89958846321],\n",
       "  [1704244901992, 45187.3370189726],\n",
       "  [1704245115813, 45215.7289740408],\n",
       "  [1704245402448, 45181.29223504684],\n",
       "  [1704245713317, 45163.07747590983],\n",
       "  [1704246002544, 45206.18736767302],\n",
       "  [1704246321128, 45256.67524062091],\n",
       "  [1704246633903, 45231.64080416287],\n",
       "  [1704246921210, 45335.98767362982],\n",
       "  [1704247205029, 45319.70801668648],\n",
       "  [1704247532535, 45380.11565883883],\n",
       "  [1704247798601, 45415.48470621224],\n",
       "  [1704248107492, 45362.630083276475],\n",
       "  [1704248410766, 45266.94536890494],\n",
       "  [1704248698936, 45319.62833248498],\n",
       "  [1704249312380, 45367.49601502722],\n",
       "  [1704249598302, 45274.10555423414],\n",
       "  [1704249839920, 45278.4956766629],\n",
       "  [1704250216542, 45270.23063156782],\n",
       "  [1704250498189, 45259.18820551064],\n",
       "  [1704250806592, 45287.526903127036],\n",
       "  [1704251105700, 45300.780577927806],\n",
       "  [1704251397410, 45249.75460881228],\n",
       "  [1704251711928, 45264.61855044516],\n",
       "  [1704252003821, 45322.215917926536],\n",
       "  [1704252321901, 45239.06036391876],\n",
       "  [1704252627250, 45254.627172148845],\n",
       "  [1704252926055, 45214.639018069625],\n",
       "  [1704253217948, 45187.205529024555],\n",
       "  [1704253514429, 45201.871184055184],\n",
       "  [1704253802126, 45222.911994698195],\n",
       "  [1704254088871, 45221.630791345226],\n",
       "  [1704254401237, 45273.20242101492],\n",
       "  [1704254694050, 45258.66778827989],\n",
       "  [1704254999232, 45234.73354269865],\n",
       "  [1704255296096, 45228.8915058945],\n",
       "  [1704255594195, 45265.04584627386],\n",
       "  [1704255889696, 45275.067332635066],\n",
       "  [1704256226150, 45280.58742258846],\n",
       "  [1704256587198, 45161.87878421312],\n",
       "  [1704256807392, 45168.17207625351],\n",
       "  [1704257081896, 45167.65798808587],\n",
       "  [1704257400654, 45233.80500892875],\n",
       "  [1704257698629, 45170.27431068026],\n",
       "  [1704258069125, 45189.37813686382],\n",
       "  [1704258291446, 45173.90490909072],\n",
       "  [1704258637703, 45180.99308871865],\n",
       "  [1704258894860, 45209.300448541566],\n",
       "  [1704259200750, 45279.7350226051],\n",
       "  [1704259500047, 45259.8549850851],\n",
       "  [1704259805445, 45296.36148009526],\n",
       "  [1704260095759, 45302.47853706088],\n",
       "  [1704260410583, 45291.641135162696],\n",
       "  [1704260718649, 45262.159630794784],\n",
       "  [1704260990880, 45240.4996744124],\n",
       "  [1704261312694, 45222.62497060086],\n",
       "  [1704261597976, 45202.98165224368],\n",
       "  [1704261893277, 45197.75824829983],\n",
       "  [1704262210922, 45179.216136673735],\n",
       "  [1704262502287, 45215.166519169004],\n",
       "  [1704262842505, 45241.502404375955],\n",
       "  [1704263104042, 45312.00195280705],\n",
       "  [1704263422298, 45304.064654904585],\n",
       "  [1704263690435, 45277.18506734828],\n",
       "  [1704264012039, 45249.12526587535],\n",
       "  [1704264310274, 45260.287768650865],\n",
       "  [1704264613228, 45274.329481036875],\n",
       "  [1704264901962, 45307.36246416793],\n",
       "  [1704265178344, 45365.95596355543],\n",
       "  [1704265522970, 45322.83259267193],\n",
       "  [1704265783570, 45307.43515196058],\n",
       "  [1704266110360, 45361.643481415456],\n",
       "  [1704266406932, 45338.10427048277],\n",
       "  [1704266710892, 45340.66774003872],\n",
       "  [1704267010744, 45378.80725983163],\n",
       "  [1704267320691, 45358.76354169658],\n",
       "  [1704267626744, 45321.32558496385],\n",
       "  [1704267918035, 45144.60599313778],\n",
       "  [1704268196618, 45018.70602168241],\n",
       "  [1704268515328, 45034.88067411646],\n",
       "  [1704268790252, 45035.61692945153],\n",
       "  [1704269092739, 45045.74071128906],\n",
       "  [1704269410118, 45108.697307548886],\n",
       "  [1704269714673, 45101.37802101576],\n",
       "  [1704270018162, 45140.46119009478],\n",
       "  [1704270308447, 45166.22529349341],\n",
       "  [1704270664215, 45191.742012434304],\n",
       "  [1704270912561, 45166.56864564674],\n",
       "  [1704271201774, 45161.97942917133],\n",
       "  [1704271500596, 45105.74432653779],\n",
       "  [1704271817140, 45088.445658008655],\n",
       "  [1704272109184, 45127.99630916939],\n",
       "  [1704272433044, 45225.56660469353],\n",
       "  [1704272691212, 45270.11198073456],\n",
       "  [1704273053311, 45255.947625125955],\n",
       "  [1704273313170, 45312.62375052368],\n",
       "  [1704273612219, 45257.97648861905],\n",
       "  [1704273906758, 45299.943767517136],\n",
       "  [1704274210578, 45339.149545154774],\n",
       "  [1704274498671, 45345.634919359036],\n",
       "  [1704274798039, 45412.222538403425],\n",
       "  [1704275114531, 45468.808945705176],\n",
       "  [1704275412310, 45384.320925067776],\n",
       "  [1704275708049, 45421.13948039489],\n",
       "  [1704276083510, 45339.64996929106],\n",
       "  [1704276291757, 45375.4662280783],\n",
       "  [1704276637392, 45383.272860902296],\n",
       "  [1704276920205, 45399.41768253351],\n",
       "  [1704277214308, 45363.701311339675],\n",
       "  [1704277506616, 45311.24372721503],\n",
       "  [1704277809822, 45271.15101432253],\n",
       "  [1704278086662, 45297.192079543885],\n",
       "  [1704278403930, 45199.445824255214],\n",
       "  [1704278700068, 45051.96710525858],\n",
       "  [1704279004492, 45093.39999945374],\n",
       "  [1704279319507, 45126.65597563318],\n",
       "  [1704279617060, 45157.84698081585],\n",
       "  [1704279927643, 45131.56581559156],\n",
       "  [1704280244586, 44950.57866828387],\n",
       "  [1704280494297, 44837.378414831],\n",
       "  [1704280800577, 44822.19583218658],\n",
       "  [1704281098387, 44786.93492035065],\n",
       "  [1704281411015, 44488.10753326528],\n",
       "  [1704281704178, 44404.09925318916],\n",
       "  [1704282019373, 44538.33857547615],\n",
       "  [1704282299887, 44452.807929988885],\n",
       "  [1704282610134, 44454.17401516645],\n",
       "  [1704282920337, 44213.79521164363],\n",
       "  [1704283222809, 43730.8988415342],\n",
       "  [1704283481253, 42860.299688880405],\n",
       "  [1704283829922, 42700.97211097267],\n",
       "  [1704284104201, 41804.94661293541],\n",
       "  [1704284408753, 42536.14972413167],\n",
       "  [1704284726262, 42569.327754638456],\n",
       "  [1704285094519, 42315.529830374064],\n",
       "  [1704285355789, 42287.04296187481],\n",
       "  [1704285635005, 42364.28502904046],\n",
       "  [1704285907549, 42356.82281567622],\n",
       "  [1704286205993, 42522.89579781021],\n",
       "  [1704286500736, 42678.528203149304],\n",
       "  [1704286802789, 42738.22253017339],\n",
       "  [1704287092392, 42666.957165244414],\n",
       "  [1704287436458, 42674.33886824227],\n",
       "  [1704287715382, 42668.55637892351],\n",
       "  [1704288077394, 42611.47729882779],\n",
       "  [1704288313710, 42507.4278147341],\n",
       "  [1704288609230, 42516.32081946978],\n",
       "  [1704288891082, 42483.43493223266],\n",
       "  [1704289215893, 42726.09567370134],\n",
       "  [1704289518510, 42635.04348559741],\n",
       "  [1704289818051, 42457.96100919624],\n",
       "  [1704290109144, 42508.58624554182],\n",
       "  [1704290418930, 42479.95877495932],\n",
       "  [1704290691153, 42471.6852240994],\n",
       "  [1704291007731, 42444.56573785076],\n",
       "  [1704291321010, 42383.62327133323],\n",
       "  [1704291597755, 42305.528758339744],\n",
       "  [1704291934223, 42288.025525300625],\n",
       "  [1704292204472, 42138.75486867458],\n",
       "  [1704292509359, 42200.48953126005],\n",
       "  [1704292822506, 42132.48529943509],\n",
       "  [1704293084578, 42273.99106690711],\n",
       "  [1704293389400, 42277.63876833151],\n",
       "  [1704293711899, 42298.89025059538],\n",
       "  [1704294026881, 42252.72406815674],\n",
       "  [1704294291856, 42400.72713267141],\n",
       "  [1704294621889, 42434.71672285692],\n",
       "  [1704294898965, 42471.7677909701],\n",
       "  [1704295216709, 42476.62549760451],\n",
       "  [1704295521556, 42340.533714283985],\n",
       "  [1704295833720, 42444.591355379525],\n",
       "  [1704296124884, 42477.25799502548],\n",
       "  [1704296425058, 42469.3214663911],\n",
       "  [1704296693735, 42442.35815491051],\n",
       "  [1704297039125, 42459.25261132764],\n",
       "  [1704297318743, 42769.62592210019],\n",
       "  [1704297615016, 42989.20860272788],\n",
       "  [1704297910114, 43411.39957211148],\n",
       "  [1704298207441, 43353.63159449728],\n",
       "  [1704298523360, 43331.604123001816],\n",
       "  [1704298794747, 43290.72075674236],\n",
       "  [1704299103514, 43271.055917235295],\n",
       "  [1704299462653, 43452.47104967059],\n",
       "  [1704299707707, 43402.92723643547],\n",
       "  [1704299999543, 43206.02391660248],\n",
       "  [1704300307843, 42950.041048311876],\n",
       "  [1704300658309, 43043.06246560923],\n",
       "  [1704300892373, 43036.52837504717],\n",
       "  [1704301216486, 43030.766605647565],\n",
       "  [1704301511300, 42909.6594108464],\n",
       "  [1704301852111, 42929.44862486516],\n",
       "  [1704302096638, 42945.39351147569],\n",
       "  [1704302417111, 42808.81831440122],\n",
       "  [1704302699863, 42714.14385134757],\n",
       "  [1704302994826, 42792.98102405863],\n",
       "  [1704303317503, 42907.485675971206],\n",
       "  [1704303626873, 42875.340103621646],\n",
       "  [1704303919427, 42900.24709091873],\n",
       "  [1704304212470, 42739.85582390615],\n",
       "  [1704304516334, 42745.74960077739],\n",
       "  [1704304841334, 42858.76859532342],\n",
       "  [1704305139243, 42904.54421206951],\n",
       "  [1704305392515, 43029.679519109224],\n",
       "  [1704305711001, 42896.50360793329],\n",
       "  [1704306010293, 42988.071482995816],\n",
       "  [1704306302655, 42939.691634438066],\n",
       "  [1704306610683, 42801.246544280155],\n",
       "  [1704306898084, 42733.79551889836],\n",
       "  [1704307196455, 42653.70188408358],\n",
       "  [1704307487368, 42710.13110724238],\n",
       "  [1704307850355, 42630.2313845159],\n",
       "  [1704308096802, 42641.24034994968],\n",
       "  [1704308394021, 42262.51810319863],\n",
       "  [1704308494000, 42228.71869210947]],\n",
       " 'market_caps': [[1704222302169, 884948751941.1958],\n",
       "  [1704222598409, 884948751941.1958],\n",
       "  [1704222895281, 885072342144.51],\n",
       "  [1704223222791, 885072342144.51],\n",
       "  [1704223516099, 884978570119.6101],\n",
       "  [1704223800793, 884978570119.6101],\n",
       "  [1704224104345, 879104503564.8937],\n",
       "  [1704224422191, 879104503564.8937],\n",
       "  [1704224715551, 882226910848.1185],\n",
       "  [1704225065524, 882378687960.8594],\n",
       "  [1704225297285, 882378687960.8594],\n",
       "  [1704225599360, 882378687960.8594],\n",
       "  [1704225919178, 883863545934.9866],\n",
       "  [1704226216407, 883863545934.9866],\n",
       "  [1704226515658, 884149494771.3062],\n",
       "  [1704226828964, 884149494771.3062],\n",
       "  [1704227118232, 884237243035.372],\n",
       "  [1704227407688, 884237243035.372],\n",
       "  [1704227690851, 881426994107.7493],\n",
       "  [1704228051235, 879870799766.0491],\n",
       "  [1704228303590, 879870799766.0491],\n",
       "  [1704228625917, 879870799766.0491],\n",
       "  [1704228900249, 879260917444.6798],\n",
       "  [1704229232565, 878186395267.8539],\n",
       "  [1704229494342, 878186395267.8539],\n",
       "  [1704229826633, 878186395267.8539],\n",
       "  [1704230092945, 875872933695.7644],\n",
       "  [1704230445457, 879301978729.119],\n",
       "  [1704230712647, 879301978729.119],\n",
       "  [1704231015481, 879301978729.119],\n",
       "  [1704231333190, 879832167171.9636],\n",
       "  [1704231625845, 879832167171.9636],\n",
       "  [1704231895856, 879103572542.3698],\n",
       "  [1704232228953, 879103572542.3698],\n",
       "  [1704232538606, 882434534502.9537],\n",
       "  [1704232793061, 882434534502.9537],\n",
       "  [1704233110224, 882812029120.1244],\n",
       "  [1704233406984, 882812029120.1244],\n",
       "  [1704233698266, 886125434059.0486],\n",
       "  [1704233990269, 886125434059.0486],\n",
       "  [1704234327254, 885532747812.7643],\n",
       "  [1704234659989, 882847684710.3829],\n",
       "  [1704234917975, 882847684710.3829],\n",
       "  [1704235207940, 882847684710.3829],\n",
       "  [1704235508671, 880566886026.1917],\n",
       "  [1704235830509, 882939881685.4517],\n",
       "  [1704236099672, 882939881685.4517],\n",
       "  [1704236415337, 882939881685.4517],\n",
       "  [1704236726416, 881189929003.3185],\n",
       "  [1704237043269, 881220602909.2906],\n",
       "  [1704237290884, 881220602909.2906],\n",
       "  [1704237623004, 881220602909.2906],\n",
       "  [1704237888569, 882165955750.6523],\n",
       "  [1704238233319, 880820933079.6617],\n",
       "  [1704238512783, 880820933079.6617],\n",
       "  [1704238852441, 879802345073.8628],\n",
       "  [1704239091026, 879802345073.8628],\n",
       "  [1704239427270, 879802345073.8628],\n",
       "  [1704239707711, 878395004792.8407],\n",
       "  [1704240009707, 878395004792.8407],\n",
       "  [1704240304843, 880795181598.8872],\n",
       "  [1704240628181, 880795181598.8872],\n",
       "  [1704240925908, 882254124188.854],\n",
       "  [1704241231295, 882254124188.854],\n",
       "  [1704241530869, 881044075387.3689],\n",
       "  [1704241817830, 881044075387.3689],\n",
       "  [1704242127550, 879360261195.3986],\n",
       "  [1704242456314, 882224803594.7046],\n",
       "  [1704242728951, 882224803594.7046],\n",
       "  [1704243011440, 882224803594.7046],\n",
       "  [1704243307541, 884893711535.8335],\n",
       "  [1704243701382, 884332280589.002],\n",
       "  [1704243891637, 884332280589.002],\n",
       "  [1704244314606, 885990082901.4714],\n",
       "  [1704244562495, 885990082901.4714],\n",
       "  [1704244901992, 885164533672.2931],\n",
       "  [1704245115813, 885164533672.2931],\n",
       "  [1704245402448, 885164533672.2931],\n",
       "  [1704245713317, 884966321669.793],\n",
       "  [1704246002544, 884966321669.793],\n",
       "  [1704246321128, 885481732397.2384],\n",
       "  [1704246633903, 885997380071.9423],\n",
       "  [1704246921210, 885997380071.9423],\n",
       "  [1704247205029, 885997380071.9423],\n",
       "  [1704247532535, 887721451826.1196],\n",
       "  [1704247798601, 887721451826.1196],\n",
       "  [1704248107492, 889478172590.9053],\n",
       "  [1704248410766, 889478172590.9053],\n",
       "  [1704248698936, 886684133636.937],\n",
       "  [1704249312380, 886684133636.937],\n",
       "  [1704249598302, 886684133636.937],\n",
       "  [1704249839920, 886831443301.6161],\n",
       "  [1704250216542, 886489417285.7273],\n",
       "  [1704250498189, 886489417285.7273],\n",
       "  [1704250806592, 886489417285.7273],\n",
       "  [1704251105700, 887239870745.427],\n",
       "  [1704251397410, 887239870745.427],\n",
       "  [1704251711928, 886239962703.3228],\n",
       "  [1704252003821, 886239962703.3228],\n",
       "  [1704252321901, 887733442991.7443],\n",
       "  [1704252627250, 887733442991.7443],\n",
       "  [1704252926055, 886450171307.1731],\n",
       "  [1704253217948, 886450171307.1731],\n",
       "  [1704253514429, 885152990384.8866],\n",
       "  [1704253802126, 885152990384.8866],\n",
       "  [1704254088871, 885876655035.2384],\n",
       "  [1704254401237, 885876655035.2384],\n",
       "  [1704254694050, 886785672165.9583],\n",
       "  [1704254999232, 886785672165.9583],\n",
       "  [1704255296096, 886104849558.5385],\n",
       "  [1704255594195, 886104849558.5385],\n",
       "  [1704255889696, 886686415595.7014],\n",
       "  [1704256226150, 886686415595.7014],\n",
       "  [1704256587198, 886960446010.9847],\n",
       "  [1704256807392, 886960446010.9847],\n",
       "  [1704257081896, 884758942455.8938],\n",
       "  [1704257400654, 884758942455.8938],\n",
       "  [1704257698629, 885985959480.3528],\n",
       "  [1704258069125, 885217375564.0388],\n",
       "  [1704258291446, 885217375564.0388],\n",
       "  [1704258637703, 885010940245.957],\n",
       "  [1704258894860, 885010940245.957],\n",
       "  [1704259200750, 885010940245.957],\n",
       "  [1704259500047, 886777070741.5262],\n",
       "  [1704259805445, 886777070741.5262],\n",
       "  [1704260095759, 887252825820.7295],\n",
       "  [1704260410583, 887179460301.7372],\n",
       "  [1704260718649, 887179460301.7372],\n",
       "  [1704260990880, 887179460301.7372],\n",
       "  [1704261312694, 886376326055.0374],\n",
       "  [1704261597976, 886376326055.0374],\n",
       "  [1704261893277, 885016346816.5189],\n",
       "  [1704262210922, 885016346816.5189],\n",
       "  [1704262502287, 885015505737.1901],\n",
       "  [1704262842505, 886191900580.5483],\n",
       "  [1704263104042, 886191900580.5483],\n",
       "  [1704263422298, 886191900580.5483],\n",
       "  [1704263690435, 887425622921.9779],\n",
       "  [1704264012039, 887425622921.9779],\n",
       "  [1704264310274, 886281630545.1322],\n",
       "  [1704264613228, 886843164032.4004],\n",
       "  [1704264901962, 886843164032.4004],\n",
       "  [1704265178344, 886843164032.4004],\n",
       "  [1704265522970, 888486084456.7919],\n",
       "  [1704265783570, 888486084456.7919],\n",
       "  [1704266110360, 888416658335.0732],\n",
       "  [1704266406932, 888416658335.0732],\n",
       "  [1704266710892, 888094120976.2842],\n",
       "  [1704267010744, 888094120976.2842],\n",
       "  [1704267320691, 888892238125.9276],\n",
       "  [1704267626744, 887895557422.1731],\n",
       "  [1704267918035, 887895557422.1731],\n",
       "  [1704268196618, 887895557422.1731],\n",
       "  [1704268515328, 882078318975.1367],\n",
       "  [1704268790252, 882078318975.1367],\n",
       "  [1704269092739, 882558903135.4839],\n",
       "  [1704269410118, 882558903135.4839],\n",
       "  [1704269714673, 883726987622.3649],\n",
       "  [1704270018162, 883726987622.3649],\n",
       "  [1704270308447, 884224579946.7052],\n",
       "  [1704270664215, 885164687455.5073],\n",
       "  [1704270912561, 885164687455.5073],\n",
       "  [1704271201774, 885164687455.5073],\n",
       "  [1704271500596, 884637290496.2518],\n",
       "  [1704271817140, 883205684463.6515],\n",
       "  [1704272109184, 883205684463.6515],\n",
       "  [1704272433044, 883205684463.6515],\n",
       "  [1704272691212, 885892237676.1179],\n",
       "  [1704273053311, 886458777658.3691],\n",
       "  [1704273313170, 886458777658.3691],\n",
       "  [1704273612219, 886527092399.8755],\n",
       "  [1704273906758, 886527092399.8755],\n",
       "  [1704274210578, 886527092399.8755],\n",
       "  [1704274498671, 888117407105.1498],\n",
       "  [1704274798039, 888117407105.1498],\n",
       "  [1704275114531, 890111838895.7698],\n",
       "  [1704275412310, 890111838895.7698],\n",
       "  [1704275708049, 889016276056.9928],\n",
       "  [1704276083510, 887967225163.9564],\n",
       "  [1704276291757, 887967225163.9564],\n",
       "  [1704276637392, 888982842962.3083],\n",
       "  [1704276920205, 888982842962.3083],\n",
       "  [1704277214308, 888982842962.3083],\n",
       "  [1704277506616, 888595215210.5946],\n",
       "  [1704277809822, 888595215210.5946],\n",
       "  [1704278086662, 886787422598.3108],\n",
       "  [1704278403930, 886787422598.3108],\n",
       "  [1704278700068, 885218325618.4712],\n",
       "  [1704279004492, 885218325618.4712],\n",
       "  [1704279319507, 883313425287.5072],\n",
       "  [1704279617060, 883313425287.5072],\n",
       "  [1704279927643, 884845715926.1161],\n",
       "  [1704280244586, 880398460836.8236],\n",
       "  [1704280494297, 880398460836.8236],\n",
       "  [1704280800577, 880398460836.8236],\n",
       "  [1704281098387, 878348974718.1556],\n",
       "  [1704281411015, 878348974718.1556],\n",
       "  [1704281704178, 871451112533.2588],\n",
       "  [1704282019373, 871451112533.2588],\n",
       "  [1704282299887, 872496294756.2357],\n",
       "  [1704282610134, 872496294756.2357],\n",
       "  [1704282920337, 870786409003.7306],\n",
       "  [1704283222809, 870786409003.7306],\n",
       "  [1704283481253, 855654847060.2118],\n",
       "  [1704283829922, 855654847060.2118],\n",
       "  [1704284104201, 818511573172.4448],\n",
       "  [1704284408753, 818511573172.4448],\n",
       "  [1704284726262, 832418955959.1359],\n",
       "  [1704285094519, 832418955959.1359],\n",
       "  [1704285355789, 828895894198.9697],\n",
       "  [1704285635005, 828895894198.9697],\n",
       "  [1704285907549, 829754853840.7676],\n",
       "  [1704286205993, 829754853840.7676],\n",
       "  [1704286500736, 833114333842.8387],\n",
       "  [1704286802789, 833114333842.8387],\n",
       "  [1704287092392, 837149687188.6852],\n",
       "  [1704287436458, 837149687188.6852],\n",
       "  [1704287715382, 835926542966.5969],\n",
       "  [1704288077394, 836247819590.1681],\n",
       "  [1704288313710, 836247819590.1681],\n",
       "  [1704288609230, 836247819590.1681],\n",
       "  [1704288891082, 832832013280.2042],\n",
       "  [1704289215893, 832832013280.2042],\n",
       "  [1704289518510, 836941193256.6906],\n",
       "  [1704289818051, 836941193256.6906],\n",
       "  [1704290109144, 831688830677.6658],\n",
       "  [1704290418930, 831688830677.6658],\n",
       "  [1704290691153, 833928283774.495],\n",
       "  [1704291007731, 833928283774.495],\n",
       "  [1704291321010, 831406484505.1271],\n",
       "  [1704291597755, 831406484505.1271],\n",
       "  [1704291934223, 831096766571.012],\n",
       "  [1704292204472, 831096766571.012],\n",
       "  [1704292509359, 825436811711.4913],\n",
       "  [1704292822506, 825436811711.4913],\n",
       "  [1704293084578, 825313999984.8522],\n",
       "  [1704293389400, 825313999984.8522],\n",
       "  [1704293711899, 828596096893.9529],\n",
       "  [1704294026881, 828596096893.9529],\n",
       "  [1704294291856, 827631599874.0908],\n",
       "  [1704294621889, 827631599874.0908],\n",
       "  [1704294898965, 831273633254.8269],\n",
       "  [1704295216709, 831273633254.8269],\n",
       "  [1704295521556, 832041882496.2098],\n",
       "  [1704295833720, 832041882496.2098],\n",
       "  [1704296124884, 831429825111.848],\n",
       "  [1704296425058, 831429825111.848],\n",
       "  [1704296693735, 831914253191.2985],\n",
       "  [1704297039125, 831717018487.4844],\n",
       "  [1704297318743, 831717018487.4844],\n",
       "  [1704297615016, 831717018487.4844],\n",
       "  [1704297910114, 842098669570.647],\n",
       "  [1704298207441, 842098669570.647],\n",
       "  [1704298523360, 849066715978.3284],\n",
       "  [1704298794747, 849066715978.3284],\n",
       "  [1704299103514, 847036272052.1478],\n",
       "  [1704299462653, 850101346676.0028],\n",
       "  [1704299707707, 850101346676.0028],\n",
       "  [1704299999543, 850101346676.0028],\n",
       "  [1704300307843, 843328661022.6537],\n",
       "  [1704300658309, 843730686888.1067],\n",
       "  [1704300892373, 843730686888.1067],\n",
       "  [1704301216486, 843730686888.1067],\n",
       "  [1704301511300, 842915702038.8832],\n",
       "  [1704301852111, 840889174379.5045],\n",
       "  [1704302096638, 840889174379.5045],\n",
       "  [1704302417111, 840889174379.5045],\n",
       "  [1704302699863, 838241789234.6245],\n",
       "  [1704302994826, 838241789234.6245],\n",
       "  [1704303317503, 839200809593.9637],\n",
       "  [1704303626873, 839200809593.9637],\n",
       "  [1704303919427, 839872174687.8134],\n",
       "  [1704304212470, 839872174687.8134],\n",
       "  [1704304516334, 837218213777.7504],\n",
       "  [1704304841334, 837218213777.7504],\n",
       "  [1704305139243, 839547817535.8235],\n",
       "  [1704305392515, 839547817535.8235],\n",
       "  [1704305711001, 840507926771.4055],\n",
       "  [1704306010293, 840507926771.4055],\n",
       "  [1704306302655, 842080951715.818],\n",
       "  [1704306610683, 842080951715.818],\n",
       "  [1704306898084, 838506881102.393],\n",
       "  [1704307196455, 835531636439.2952],\n",
       "  [1704307487368, 835531636439.2952],\n",
       "  [1704307850355, 835071879277.6512],\n",
       "  [1704308096802, 835071879277.6512],\n",
       "  [1704308394021, 835071879277.6512],\n",
       "  [1704308494000, 826045712379.4459]],\n",
       " 'total_volumes': [[1704222302169, 38423037498.54063],\n",
       "  [1704222598409, 38996069604.90649],\n",
       "  [1704222895281, 37101924109.25903],\n",
       "  [1704223222791, 37023063060.83765],\n",
       "  [1704223516099, 29156596632.64348],\n",
       "  [1704223800793, 35314615574.80914],\n",
       "  [1704224104345, 33495413754.632614],\n",
       "  [1704224422191, 36624101712.779434],\n",
       "  [1704224715551, 35409333788.78256],\n",
       "  [1704225065524, 36591585535.99751],\n",
       "  [1704225297285, 31296203362.37618],\n",
       "  [1704225599360, 39671246500.49512],\n",
       "  [1704225919178, 39385142542.58185],\n",
       "  [1704226216407, 38161501767.521996],\n",
       "  [1704226515658, 33141325556.93738],\n",
       "  [1704226828964, 38074165562.04322],\n",
       "  [1704227118232, 39196756170.492836],\n",
       "  [1704227407688, 28033654630.924114],\n",
       "  [1704227690851, 37964078081.7332],\n",
       "  [1704228051235, 33919305592.73905],\n",
       "  [1704228303590, 38985170124.00396],\n",
       "  [1704228625917, 21514971634.080723],\n",
       "  [1704228900249, 38063338139.314186],\n",
       "  [1704229232565, 38910055485.39985],\n",
       "  [1704229494342, 37783510454.44689],\n",
       "  [1704229826633, 35726170075.65367],\n",
       "  [1704230092945, 39479828891.06419],\n",
       "  [1704230445457, 34212397673.916622],\n",
       "  [1704230712647, 34963565527.427605],\n",
       "  [1704231015481, 25063770482.970356],\n",
       "  [1704231333190, 39547246955.544205],\n",
       "  [1704231625845, 36302454130.96678],\n",
       "  [1704231895856, 39552990987.59],\n",
       "  [1704232228953, 37837945303.5772],\n",
       "  [1704232538606, 38371785495.83256],\n",
       "  [1704232793061, 38116872441.44314],\n",
       "  [1704233110224, 34736957492.64922],\n",
       "  [1704233406984, 39946398144.451996],\n",
       "  [1704233698266, 40059800489.50069],\n",
       "  [1704233990269, 29818352479.812523],\n",
       "  [1704234327254, 33323540335.923687],\n",
       "  [1704234659989, 32268506195.36909],\n",
       "  [1704234917975, 36812676328.50515],\n",
       "  [1704235207940, 36277529307.345116],\n",
       "  [1704235508671, 26874607613.997395],\n",
       "  [1704235830509, 39991935464.22892],\n",
       "  [1704236099672, 26105517961.456024],\n",
       "  [1704236415337, 38760630988.67763],\n",
       "  [1704236726416, 38380913907.49107],\n",
       "  [1704237043269, 38368330182.2439],\n",
       "  [1704237290884, 38688314977.76474],\n",
       "  [1704237623004, 27320095476.183983],\n",
       "  [1704237888569, 37006366064.78357],\n",
       "  [1704238233319, 38286452095.90612],\n",
       "  [1704238512783, 36297665463.03047],\n",
       "  [1704238852441, 36909751829.88326],\n",
       "  [1704239091026, 37364232951.80798],\n",
       "  [1704239427270, 33729616646.726784],\n",
       "  [1704239707711, 39089952715.542786],\n",
       "  [1704240009707, 35573879095.2398],\n",
       "  [1704240304843, 34486228524.709885],\n",
       "  [1704240628181, 38235452419.76428],\n",
       "  [1704240925908, 38072396045.744896],\n",
       "  [1704241231295, 37641808848.50204],\n",
       "  [1704241530869, 25083678473.635876],\n",
       "  [1704241817830, 35830327281.45052],\n",
       "  [1704242127550, 37028348659.98042],\n",
       "  [1704242456314, 30791339830.54852],\n",
       "  [1704242728951, 35828020134.67732],\n",
       "  [1704243011440, 32761203442.28458],\n",
       "  [1704243307541, 34659210666.73156],\n",
       "  [1704243701382, 35928928948.66794],\n",
       "  [1704243891637, 30874485811.57176],\n",
       "  [1704244314606, 32211221774.34281],\n",
       "  [1704244562495, 31618074180.208027],\n",
       "  [1704244901992, 33538473870.939877],\n",
       "  [1704245115813, 33678400138.36844],\n",
       "  [1704245402448, 34347585296.887917],\n",
       "  [1704245713317, 33443391341.437737],\n",
       "  [1704246002544, 33106811382.00555],\n",
       "  [1704246321128, 33285198522.065998],\n",
       "  [1704246633903, 33244173295.806507],\n",
       "  [1704246921210, 34105753883.69299],\n",
       "  [1704247205029, 25205300467.115093],\n",
       "  [1704247532535, 33439112003.261684],\n",
       "  [1704247798601, 33353965928.062405],\n",
       "  [1704248107492, 23180148886.717747],\n",
       "  [1704248410766, 33558548024.06102],\n",
       "  [1704248698936, 33287222491.805706],\n",
       "  [1704249312380, 32327701323.57622],\n",
       "  [1704249598302, 32547748900.542244],\n",
       "  [1704249839920, 24197084105.50338],\n",
       "  [1704250216542, 29771779514.19392],\n",
       "  [1704250498189, 31835377272.120155],\n",
       "  [1704250806592, 32135713633.47986],\n",
       "  [1704251105700, 31882894730.549927],\n",
       "  [1704251397410, 32115928621.11864],\n",
       "  [1704251711928, 32106527960.72261],\n",
       "  [1704252003821, 29424949770.19472],\n",
       "  [1704252321901, 32035712357.864532],\n",
       "  [1704252627250, 31887986382.03472],\n",
       "  [1704252926055, 25736461127.134228],\n",
       "  [1704253217948, 31695348945.652626],\n",
       "  [1704253514429, 16924451014.208471],\n",
       "  [1704253802126, 31588608608.739914],\n",
       "  [1704254088871, 31288474143.912766],\n",
       "  [1704254401237, 32028583756.4988],\n",
       "  [1704254694050, 30964649226.8497],\n",
       "  [1704254999232, 30822188470.579712],\n",
       "  [1704255296096, 31088669866.458546],\n",
       "  [1704255594195, 30865058807.77758],\n",
       "  [1704255889696, 30491741394.69618],\n",
       "  [1704256226150, 23695290210.444565],\n",
       "  [1704256587198, 28267340327.410748],\n",
       "  [1704256807392, 27597824618.949337],\n",
       "  [1704257081896, 28746438362.842007],\n",
       "  [1704257400654, 31511209153.475834],\n",
       "  [1704257698629, 26845069246.12152],\n",
       "  [1704258069125, 25942745948.185802],\n",
       "  [1704258291446, 30690888817.673347],\n",
       "  [1704258637703, 30572372262.060493],\n",
       "  [1704258894860, 30438065264.778664],\n",
       "  [1704259200750, 31233572805.615932],\n",
       "  [1704259500047, 27873914125.056847],\n",
       "  [1704259805445, 26848623609.897053],\n",
       "  [1704260095759, 30332529462.72654],\n",
       "  [1704260410583, 28868570272.688473],\n",
       "  [1704260718649, 23156217151.043327],\n",
       "  [1704260990880, 31090458676.100792],\n",
       "  [1704261312694, 27618545579.883297],\n",
       "  [1704261597976, 28270856371.24744],\n",
       "  [1704261893277, 28375047299.55413],\n",
       "  [1704262210922, 26859827818.23205],\n",
       "  [1704262502287, 30799943984.17974],\n",
       "  [1704262842505, 24773847123.01953],\n",
       "  [1704263104042, 27728745216.553898],\n",
       "  [1704263422298, 27883030445.100224],\n",
       "  [1704263690435, 30348068841.412834],\n",
       "  [1704264012039, 30194203749.72257],\n",
       "  [1704264310274, 30308497472.507347],\n",
       "  [1704264613228, 26837534528.760048],\n",
       "  [1704264901962, 30182038582.231754],\n",
       "  [1704265178344, 30981975389.11805],\n",
       "  [1704265522970, 30730389199.59293],\n",
       "  [1704265783570, 22374365958.0825],\n",
       "  [1704266110360, 29713553228.4516],\n",
       "  [1704266406932, 30224230875.266655],\n",
       "  [1704266710892, 29492917694.482418],\n",
       "  [1704267010744, 29296021621.120514],\n",
       "  [1704267320691, 29136789029.721996],\n",
       "  [1704267626744, 29125110118.951004],\n",
       "  [1704267918035, 22796437423.459972],\n",
       "  [1704268196618, 29969875505.783703],\n",
       "  [1704268515328, 23873597390.499107],\n",
       "  [1704268790252, 26879573160.12532],\n",
       "  [1704269092739, 26411341138.715214],\n",
       "  [1704269410118, 29053209592.59534],\n",
       "  [1704269714673, 29244321829.105568],\n",
       "  [1704270018162, 29146503646.0931],\n",
       "  [1704270308447, 28793952550.49049],\n",
       "  [1704270664215, 29402954913.703373],\n",
       "  [1704270912561, 27104823075.2696],\n",
       "  [1704271201774, 26468076737.37773],\n",
       "  [1704271500596, 27690633524.872917],\n",
       "  [1704271817140, 25519023219.745228],\n",
       "  [1704272109184, 24986577784.44058],\n",
       "  [1704272433044, 29341622657.920208],\n",
       "  [1704272691212, 29288202058.61027],\n",
       "  [1704273053311, 24967499318.89931],\n",
       "  [1704273313170, 28742426414.068634],\n",
       "  [1704273612219, 28243666837.123055],\n",
       "  [1704273906758, 27925479042.836143],\n",
       "  [1704274210578, 24854277363.56037],\n",
       "  [1704274498671, 28476306714.064415],\n",
       "  [1704274798039, 29240971193.826115],\n",
       "  [1704275114531, 28587986088.783348],\n",
       "  [1704275412310, 28240970169.92896],\n",
       "  [1704275708049, 26708008479.67668],\n",
       "  [1704276083510, 26996675718.234318],\n",
       "  [1704276291757, 28125656850.561768],\n",
       "  [1704276637392, 27840697669.781513],\n",
       "  [1704276920205, 26877199533.6507],\n",
       "  [1704277214308, 26262068644.03431],\n",
       "  [1704277506616, 26418580417.382652],\n",
       "  [1704277809822, 28250995029.668144],\n",
       "  [1704278086662, 25024904418.93974],\n",
       "  [1704278403930, 25889259945.92952],\n",
       "  [1704278700068, 29027103688.447037],\n",
       "  [1704279004492, 24198118074.145638],\n",
       "  [1704279319507, 25757179767.901253],\n",
       "  [1704279617060, 25523729480.464092],\n",
       "  [1704279927643, 28550601359.04651],\n",
       "  [1704280244586, 26577635433.14337],\n",
       "  [1704280494297, 28971053778.976334],\n",
       "  [1704280800577, 24941854240.917816],\n",
       "  [1704281098387, 24328552140.613026],\n",
       "  [1704281411015, 29129798693.659718],\n",
       "  [1704281704178, 29890246658.510933],\n",
       "  [1704282019373, 29875174019.285713],\n",
       "  [1704282299887, 29018192263.82593],\n",
       "  [1704282610134, 15655366312.783722],\n",
       "  [1704282920337, 32486780169.762688],\n",
       "  [1704283222809, 33123122422.781567],\n",
       "  [1704283481253, 32815464214.45645],\n",
       "  [1704283829922, 32922791886.542336],\n",
       "  [1704284104201, 36069991573.15728],\n",
       "  [1704284408753, 38422487620.43396],\n",
       "  [1704284726262, 39083288542.89275],\n",
       "  [1704285094519, 36442341999.26248],\n",
       "  [1704285355789, 33073575736.68483],\n",
       "  [1704285635005, 37025983065.45044],\n",
       "  [1704285907549, 37545804255.02921],\n",
       "  [1704286205993, 38817470922.75472],\n",
       "  [1704286500736, 39261734663.833466],\n",
       "  [1704286802789, 39577710033.81047],\n",
       "  [1704287092392, 39512666444.45726],\n",
       "  [1704287436458, 38771548472.67611],\n",
       "  [1704287715382, 39522557123.64808],\n",
       "  [1704288077394, 39099437610.382706],\n",
       "  [1704288313710, 40440328572.808525],\n",
       "  [1704288609230, 34669237067.69006],\n",
       "  [1704288891082, 36535446368.53983],\n",
       "  [1704289215893, 41149083854.20825],\n",
       "  [1704289518510, 39796468329.3588],\n",
       "  [1704289818051, 40009468901.02109],\n",
       "  [1704290109144, 41445700150.95022],\n",
       "  [1704290418930, 41497092054.749],\n",
       "  [1704290691153, 41025718137.92506],\n",
       "  [1704291007731, 37849779060.0169],\n",
       "  [1704291321010, 40517088293.02409],\n",
       "  [1704291597755, 41495045105.84523],\n",
       "  [1704291934223, 40396606893.32581],\n",
       "  [1704292204472, 41819575878.10419],\n",
       "  [1704292509359, 38172728629.82479],\n",
       "  [1704292822506, 37538532193.2259],\n",
       "  [1704293084578, 42186450677.98672],\n",
       "  [1704293389400, 42186241726.71405],\n",
       "  [1704293711899, 40620014556.34925],\n",
       "  [1704294026881, 33259441400.755596],\n",
       "  [1704294291856, 41675260424.61972],\n",
       "  [1704294621889, 41555486286.09058],\n",
       "  [1704294898965, 39638126393.48052],\n",
       "  [1704295216709, 41104763292.97378],\n",
       "  [1704295521556, 41341065494.186714],\n",
       "  [1704295833720, 41370550490.389206],\n",
       "  [1704296124884, 33592605267.285168],\n",
       "  [1704296425058, 35788475702.98333],\n",
       "  [1704296693735, 35712130555.68559],\n",
       "  [1704297039125, 38548123983.90079],\n",
       "  [1704297318743, 23106684255.098904],\n",
       "  [1704297615016, 35221031830.47234],\n",
       "  [1704297910114, 42515812205.5401],\n",
       "  [1704298207441, 40077495548.300354],\n",
       "  [1704298523360, 42864508509.08916],\n",
       "  [1704298794747, 40324230605.35552],\n",
       "  [1704299103514, 41045206483.60317],\n",
       "  [1704299462653, 43301205323.453384],\n",
       "  [1704299707707, 43240187858.57961],\n",
       "  [1704299999543, 43312994861.2321],\n",
       "  [1704300307843, 43194830132.54353],\n",
       "  [1704300658309, 43688466017.51822],\n",
       "  [1704300892373, 38007695712.19829],\n",
       "  [1704301216486, 40686105409.545845],\n",
       "  [1704301511300, 39851807358.03283],\n",
       "  [1704301852111, 42757787325.638824],\n",
       "  [1704302096638, 43537598741.36172],\n",
       "  [1704302417111, 34869361614.905594],\n",
       "  [1704302699863, 39788590773.36193],\n",
       "  [1704302994826, 41531400773.059074],\n",
       "  [1704303317503, 44455222880.03535],\n",
       "  [1704303626873, 42516892801.122284],\n",
       "  [1704303919427, 35062248418.73578],\n",
       "  [1704304212470, 43102112013.92388],\n",
       "  [1704304516334, 44387236012.22644],\n",
       "  [1704304841334, 44339182589.446915],\n",
       "  [1704305139243, 42454194837.771736],\n",
       "  [1704305392515, 44594406784.61035],\n",
       "  [1704305711001, 44311840573.655624],\n",
       "  [1704306010293, 44424008225.611824],\n",
       "  [1704306302655, 43191131729.62661],\n",
       "  [1704306610683, 44574942271.26886],\n",
       "  [1704306898084, 44609651957.675514],\n",
       "  [1704307196455, 44273665404.13812],\n",
       "  [1704307487368, 44097489210.97995],\n",
       "  [1704307850355, 44419158098.88562],\n",
       "  [1704308096802, 43414540455.414665],\n",
       "  [1704308394021, 22109741955.454475],\n",
       "  [1704308494000, 43606735901.23025]]}"
      ]
     },
     "execution_count": 41,
     "metadata": {},
     "output_type": "execute_result"
    }
   ],
   "source": [
    "res.json()"
   ]
  },
  {
   "cell_type": "code",
   "execution_count": 42,
   "metadata": {},
   "outputs": [
    {
     "data": {
      "text/plain": [
       "dict_keys(['prices', 'market_caps', 'total_volumes'])"
      ]
     },
     "execution_count": 42,
     "metadata": {},
     "output_type": "execute_result"
    }
   ],
   "source": [
    "data  = res.json()\n",
    "data.keys()"
   ]
  },
  {
   "cell_type": "code",
   "execution_count": 43,
   "metadata": {},
   "outputs": [
    {
     "data": {
      "text/plain": [
       "[[1704222302169, 884948751941.1958],\n",
       " [1704222598409, 884948751941.1958],\n",
       " [1704222895281, 885072342144.51],\n",
       " [1704223222791, 885072342144.51],\n",
       " [1704223516099, 884978570119.6101]]"
      ]
     },
     "execution_count": 43,
     "metadata": {},
     "output_type": "execute_result"
    }
   ],
   "source": [
    "data['market_caps'][:5]"
   ]
  },
  {
   "cell_type": "code",
   "execution_count": 44,
   "metadata": {},
   "outputs": [
    {
     "data": {
      "text/html": [
       "<div>\n",
       "<style scoped>\n",
       "    .dataframe tbody tr th:only-of-type {\n",
       "        vertical-align: middle;\n",
       "    }\n",
       "\n",
       "    .dataframe tbody tr th {\n",
       "        vertical-align: top;\n",
       "    }\n",
       "\n",
       "    .dataframe thead th {\n",
       "        text-align: right;\n",
       "    }\n",
       "</style>\n",
       "<table border=\"1\" class=\"dataframe\">\n",
       "  <thead>\n",
       "    <tr style=\"text-align: right;\">\n",
       "      <th></th>\n",
       "      <th>prices</th>\n",
       "      <th>market_caps</th>\n",
       "      <th>total_volumes</th>\n",
       "    </tr>\n",
       "  </thead>\n",
       "  <tbody>\n",
       "    <tr>\n",
       "      <th>0</th>\n",
       "      <td>[1704222302169, 45219.939089517415]</td>\n",
       "      <td>[1704222302169, 884948751941.1958]</td>\n",
       "      <td>[1704222302169, 38423037498.54063]</td>\n",
       "    </tr>\n",
       "    <tr>\n",
       "      <th>1</th>\n",
       "      <td>[1704222598409, 45205.2281085648]</td>\n",
       "      <td>[1704222598409, 884948751941.1958]</td>\n",
       "      <td>[1704222598409, 38996069604.90649]</td>\n",
       "    </tr>\n",
       "    <tr>\n",
       "      <th>2</th>\n",
       "      <td>[1704222895281, 45155.63329875293]</td>\n",
       "      <td>[1704222895281, 885072342144.51]</td>\n",
       "      <td>[1704222895281, 37101924109.25903]</td>\n",
       "    </tr>\n",
       "    <tr>\n",
       "      <th>3</th>\n",
       "      <td>[1704223222791, 45178.407863163986]</td>\n",
       "      <td>[1704223222791, 885072342144.51]</td>\n",
       "      <td>[1704223222791, 37023063060.83765]</td>\n",
       "    </tr>\n",
       "    <tr>\n",
       "      <th>4</th>\n",
       "      <td>[1704223516099, 45059.757810355986]</td>\n",
       "      <td>[1704223516099, 884978570119.6101]</td>\n",
       "      <td>[1704223516099, 29156596632.64348]</td>\n",
       "    </tr>\n",
       "  </tbody>\n",
       "</table>\n",
       "</div>"
      ],
      "text/plain": [
       "                                prices                         market_caps  \\\n",
       "0  [1704222302169, 45219.939089517415]  [1704222302169, 884948751941.1958]   \n",
       "1    [1704222598409, 45205.2281085648]  [1704222598409, 884948751941.1958]   \n",
       "2   [1704222895281, 45155.63329875293]    [1704222895281, 885072342144.51]   \n",
       "3  [1704223222791, 45178.407863163986]    [1704223222791, 885072342144.51]   \n",
       "4  [1704223516099, 45059.757810355986]  [1704223516099, 884978570119.6101]   \n",
       "\n",
       "                        total_volumes  \n",
       "0  [1704222302169, 38423037498.54063]  \n",
       "1  [1704222598409, 38996069604.90649]  \n",
       "2  [1704222895281, 37101924109.25903]  \n",
       "3  [1704223222791, 37023063060.83765]  \n",
       "4  [1704223516099, 29156596632.64348]  "
      ]
     },
     "execution_count": 44,
     "metadata": {},
     "output_type": "execute_result"
    }
   ],
   "source": [
    "df = pd.DataFrame(data)\n",
    "\n",
    "df.head()"
   ]
  },
  {
   "cell_type": "code",
   "execution_count": 45,
   "metadata": {},
   "outputs": [
    {
     "data": {
      "text/plain": [
       "0      1704222302169\n",
       "1      1704222598409\n",
       "2      1704222895281\n",
       "3      1704223222791\n",
       "4      1704223516099\n",
       "           ...      \n",
       "283    1704307487368\n",
       "284    1704307850355\n",
       "285    1704308096802\n",
       "286    1704308394021\n",
       "287    1704308494000\n",
       "Name: prices, Length: 288, dtype: int64"
      ]
     },
     "execution_count": 45,
     "metadata": {},
     "output_type": "execute_result"
    }
   ],
   "source": [
    "df['prices'].str[0]"
   ]
  },
  {
   "cell_type": "code",
   "execution_count": 46,
   "metadata": {},
   "outputs": [
    {
     "data": {
      "text/html": [
       "<div>\n",
       "<style scoped>\n",
       "    .dataframe tbody tr th:only-of-type {\n",
       "        vertical-align: middle;\n",
       "    }\n",
       "\n",
       "    .dataframe tbody tr th {\n",
       "        vertical-align: top;\n",
       "    }\n",
       "\n",
       "    .dataframe thead th {\n",
       "        text-align: right;\n",
       "    }\n",
       "</style>\n",
       "<table border=\"1\" class=\"dataframe\">\n",
       "  <thead>\n",
       "    <tr style=\"text-align: right;\">\n",
       "      <th></th>\n",
       "      <th>prices</th>\n",
       "      <th>market_caps</th>\n",
       "      <th>total_volumes</th>\n",
       "      <th>timestamp</th>\n",
       "    </tr>\n",
       "  </thead>\n",
       "  <tbody>\n",
       "    <tr>\n",
       "      <th>0</th>\n",
       "      <td>[1704222302169, 45219.939089517415]</td>\n",
       "      <td>[1704222302169, 884948751941.1958]</td>\n",
       "      <td>[1704222302169, 38423037498.54063]</td>\n",
       "      <td>1704222302169</td>\n",
       "    </tr>\n",
       "    <tr>\n",
       "      <th>1</th>\n",
       "      <td>[1704222598409, 45205.2281085648]</td>\n",
       "      <td>[1704222598409, 884948751941.1958]</td>\n",
       "      <td>[1704222598409, 38996069604.90649]</td>\n",
       "      <td>1704222598409</td>\n",
       "    </tr>\n",
       "    <tr>\n",
       "      <th>2</th>\n",
       "      <td>[1704222895281, 45155.63329875293]</td>\n",
       "      <td>[1704222895281, 885072342144.51]</td>\n",
       "      <td>[1704222895281, 37101924109.25903]</td>\n",
       "      <td>1704222895281</td>\n",
       "    </tr>\n",
       "    <tr>\n",
       "      <th>3</th>\n",
       "      <td>[1704223222791, 45178.407863163986]</td>\n",
       "      <td>[1704223222791, 885072342144.51]</td>\n",
       "      <td>[1704223222791, 37023063060.83765]</td>\n",
       "      <td>1704223222791</td>\n",
       "    </tr>\n",
       "    <tr>\n",
       "      <th>4</th>\n",
       "      <td>[1704223516099, 45059.757810355986]</td>\n",
       "      <td>[1704223516099, 884978570119.6101]</td>\n",
       "      <td>[1704223516099, 29156596632.64348]</td>\n",
       "      <td>1704223516099</td>\n",
       "    </tr>\n",
       "  </tbody>\n",
       "</table>\n",
       "</div>"
      ],
      "text/plain": [
       "                                prices                         market_caps  \\\n",
       "0  [1704222302169, 45219.939089517415]  [1704222302169, 884948751941.1958]   \n",
       "1    [1704222598409, 45205.2281085648]  [1704222598409, 884948751941.1958]   \n",
       "2   [1704222895281, 45155.63329875293]    [1704222895281, 885072342144.51]   \n",
       "3  [1704223222791, 45178.407863163986]    [1704223222791, 885072342144.51]   \n",
       "4  [1704223516099, 45059.757810355986]  [1704223516099, 884978570119.6101]   \n",
       "\n",
       "                        total_volumes      timestamp  \n",
       "0  [1704222302169, 38423037498.54063]  1704222302169  \n",
       "1  [1704222598409, 38996069604.90649]  1704222598409  \n",
       "2  [1704222895281, 37101924109.25903]  1704222895281  \n",
       "3  [1704223222791, 37023063060.83765]  1704223222791  \n",
       "4  [1704223516099, 29156596632.64348]  1704223516099  "
      ]
     },
     "execution_count": 46,
     "metadata": {},
     "output_type": "execute_result"
    }
   ],
   "source": [
    "df['timestamp'] = df['prices'].str[0]\n",
    "df.head()"
   ]
  },
  {
   "cell_type": "code",
   "execution_count": 47,
   "metadata": {},
   "outputs": [],
   "source": [
    "df['prices'] = df['prices'].str[1]\n",
    "\n",
    "df['market_caps'] = df['market_caps'].str[1]\n",
    "\n",
    "df['total_volumes'] = df['total_volumes'].str[1]"
   ]
  },
  {
   "cell_type": "code",
   "execution_count": 48,
   "metadata": {},
   "outputs": [
    {
     "data": {
      "text/html": [
       "<div>\n",
       "<style scoped>\n",
       "    .dataframe tbody tr th:only-of-type {\n",
       "        vertical-align: middle;\n",
       "    }\n",
       "\n",
       "    .dataframe tbody tr th {\n",
       "        vertical-align: top;\n",
       "    }\n",
       "\n",
       "    .dataframe thead th {\n",
       "        text-align: right;\n",
       "    }\n",
       "</style>\n",
       "<table border=\"1\" class=\"dataframe\">\n",
       "  <thead>\n",
       "    <tr style=\"text-align: right;\">\n",
       "      <th></th>\n",
       "      <th>prices</th>\n",
       "      <th>market_caps</th>\n",
       "      <th>total_volumes</th>\n",
       "      <th>timestamp</th>\n",
       "    </tr>\n",
       "  </thead>\n",
       "  <tbody>\n",
       "    <tr>\n",
       "      <th>0</th>\n",
       "      <td>45219.939090</td>\n",
       "      <td>8.849488e+11</td>\n",
       "      <td>3.842304e+10</td>\n",
       "      <td>1704222302169</td>\n",
       "    </tr>\n",
       "    <tr>\n",
       "      <th>1</th>\n",
       "      <td>45205.228109</td>\n",
       "      <td>8.849488e+11</td>\n",
       "      <td>3.899607e+10</td>\n",
       "      <td>1704222598409</td>\n",
       "    </tr>\n",
       "    <tr>\n",
       "      <th>2</th>\n",
       "      <td>45155.633299</td>\n",
       "      <td>8.850723e+11</td>\n",
       "      <td>3.710192e+10</td>\n",
       "      <td>1704222895281</td>\n",
       "    </tr>\n",
       "    <tr>\n",
       "      <th>3</th>\n",
       "      <td>45178.407863</td>\n",
       "      <td>8.850723e+11</td>\n",
       "      <td>3.702306e+10</td>\n",
       "      <td>1704223222791</td>\n",
       "    </tr>\n",
       "    <tr>\n",
       "      <th>4</th>\n",
       "      <td>45059.757810</td>\n",
       "      <td>8.849786e+11</td>\n",
       "      <td>2.915660e+10</td>\n",
       "      <td>1704223516099</td>\n",
       "    </tr>\n",
       "  </tbody>\n",
       "</table>\n",
       "</div>"
      ],
      "text/plain": [
       "         prices   market_caps  total_volumes      timestamp\n",
       "0  45219.939090  8.849488e+11   3.842304e+10  1704222302169\n",
       "1  45205.228109  8.849488e+11   3.899607e+10  1704222598409\n",
       "2  45155.633299  8.850723e+11   3.710192e+10  1704222895281\n",
       "3  45178.407863  8.850723e+11   3.702306e+10  1704223222791\n",
       "4  45059.757810  8.849786e+11   2.915660e+10  1704223516099"
      ]
     },
     "execution_count": 48,
     "metadata": {},
     "output_type": "execute_result"
    }
   ],
   "source": [
    "df.head()"
   ]
  },
  {
   "cell_type": "code",
   "execution_count": 49,
   "metadata": {},
   "outputs": [
    {
     "data": {
      "text/html": [
       "<div>\n",
       "<style scoped>\n",
       "    .dataframe tbody tr th:only-of-type {\n",
       "        vertical-align: middle;\n",
       "    }\n",
       "\n",
       "    .dataframe tbody tr th {\n",
       "        vertical-align: top;\n",
       "    }\n",
       "\n",
       "    .dataframe thead th {\n",
       "        text-align: right;\n",
       "    }\n",
       "</style>\n",
       "<table border=\"1\" class=\"dataframe\">\n",
       "  <thead>\n",
       "    <tr style=\"text-align: right;\">\n",
       "      <th></th>\n",
       "      <th>timestamp</th>\n",
       "      <th>prices</th>\n",
       "      <th>market_caps</th>\n",
       "      <th>total_volumes</th>\n",
       "    </tr>\n",
       "  </thead>\n",
       "  <tbody>\n",
       "    <tr>\n",
       "      <th>0</th>\n",
       "      <td>1704222302169</td>\n",
       "      <td>45219.939090</td>\n",
       "      <td>8.849488e+11</td>\n",
       "      <td>3.842304e+10</td>\n",
       "    </tr>\n",
       "    <tr>\n",
       "      <th>1</th>\n",
       "      <td>1704222598409</td>\n",
       "      <td>45205.228109</td>\n",
       "      <td>8.849488e+11</td>\n",
       "      <td>3.899607e+10</td>\n",
       "    </tr>\n",
       "    <tr>\n",
       "      <th>2</th>\n",
       "      <td>1704222895281</td>\n",
       "      <td>45155.633299</td>\n",
       "      <td>8.850723e+11</td>\n",
       "      <td>3.710192e+10</td>\n",
       "    </tr>\n",
       "    <tr>\n",
       "      <th>3</th>\n",
       "      <td>1704223222791</td>\n",
       "      <td>45178.407863</td>\n",
       "      <td>8.850723e+11</td>\n",
       "      <td>3.702306e+10</td>\n",
       "    </tr>\n",
       "    <tr>\n",
       "      <th>4</th>\n",
       "      <td>1704223516099</td>\n",
       "      <td>45059.757810</td>\n",
       "      <td>8.849786e+11</td>\n",
       "      <td>2.915660e+10</td>\n",
       "    </tr>\n",
       "  </tbody>\n",
       "</table>\n",
       "</div>"
      ],
      "text/plain": [
       "       timestamp        prices   market_caps  total_volumes\n",
       "0  1704222302169  45219.939090  8.849488e+11   3.842304e+10\n",
       "1  1704222598409  45205.228109  8.849488e+11   3.899607e+10\n",
       "2  1704222895281  45155.633299  8.850723e+11   3.710192e+10\n",
       "3  1704223222791  45178.407863  8.850723e+11   3.702306e+10\n",
       "4  1704223516099  45059.757810  8.849786e+11   2.915660e+10"
      ]
     },
     "execution_count": 49,
     "metadata": {},
     "output_type": "execute_result"
    }
   ],
   "source": [
    "df = df[['timestamp', 'prices', 'market_caps', 'total_volumes']]\n",
    "\n",
    "df.head()"
   ]
  },
  {
   "cell_type": "code",
   "execution_count": 50,
   "metadata": {},
   "outputs": [
    {
     "data": {
      "text/html": [
       "<div>\n",
       "<style scoped>\n",
       "    .dataframe tbody tr th:only-of-type {\n",
       "        vertical-align: middle;\n",
       "    }\n",
       "\n",
       "    .dataframe tbody tr th {\n",
       "        vertical-align: top;\n",
       "    }\n",
       "\n",
       "    .dataframe thead th {\n",
       "        text-align: right;\n",
       "    }\n",
       "</style>\n",
       "<table border=\"1\" class=\"dataframe\">\n",
       "  <thead>\n",
       "    <tr style=\"text-align: right;\">\n",
       "      <th></th>\n",
       "      <th>timestamp</th>\n",
       "      <th>prices</th>\n",
       "      <th>market_caps</th>\n",
       "      <th>total_volumes</th>\n",
       "    </tr>\n",
       "  </thead>\n",
       "  <tbody>\n",
       "    <tr>\n",
       "      <th>count</th>\n",
       "      <td>2.880000e+02</td>\n",
       "      <td>288.000000</td>\n",
       "      <td>2.880000e+02</td>\n",
       "      <td>2.880000e+02</td>\n",
       "    </tr>\n",
       "    <tr>\n",
       "      <th>mean</th>\n",
       "      <td>1.704266e+12</td>\n",
       "      <td>44398.825796</td>\n",
       "      <td>8.698849e+11</td>\n",
       "      <td>3.376537e+10</td>\n",
       "    </tr>\n",
       "    <tr>\n",
       "      <th>std</th>\n",
       "      <td>2.509367e+07</td>\n",
       "      <td>1152.415246</td>\n",
       "      <td>2.256025e+10</td>\n",
       "      <td>6.070140e+09</td>\n",
       "    </tr>\n",
       "    <tr>\n",
       "      <th>min</th>\n",
       "      <td>1.704222e+12</td>\n",
       "      <td>41804.946613</td>\n",
       "      <td>8.185116e+11</td>\n",
       "      <td>1.565537e+10</td>\n",
       "    </tr>\n",
       "    <tr>\n",
       "      <th>25%</th>\n",
       "      <td>1.704244e+12</td>\n",
       "      <td>42988.924323</td>\n",
       "      <td>8.427114e+11</td>\n",
       "      <td>2.904668e+10</td>\n",
       "    </tr>\n",
       "    <tr>\n",
       "      <th>50%</th>\n",
       "      <td>1.704266e+12</td>\n",
       "      <td>45042.787978</td>\n",
       "      <td>8.824345e+11</td>\n",
       "      <td>3.333875e+10</td>\n",
       "    </tr>\n",
       "    <tr>\n",
       "      <th>75%</th>\n",
       "      <td>1.704287e+12</td>\n",
       "      <td>45229.578830</td>\n",
       "      <td>8.861254e+11</td>\n",
       "      <td>3.884062e+10</td>\n",
       "    </tr>\n",
       "    <tr>\n",
       "      <th>max</th>\n",
       "      <td>1.704308e+12</td>\n",
       "      <td>45468.808946</td>\n",
       "      <td>8.901118e+11</td>\n",
       "      <td>4.460965e+10</td>\n",
       "    </tr>\n",
       "  </tbody>\n",
       "</table>\n",
       "</div>"
      ],
      "text/plain": [
       "          timestamp        prices   market_caps  total_volumes\n",
       "count  2.880000e+02    288.000000  2.880000e+02   2.880000e+02\n",
       "mean   1.704266e+12  44398.825796  8.698849e+11   3.376537e+10\n",
       "std    2.509367e+07   1152.415246  2.256025e+10   6.070140e+09\n",
       "min    1.704222e+12  41804.946613  8.185116e+11   1.565537e+10\n",
       "25%    1.704244e+12  42988.924323  8.427114e+11   2.904668e+10\n",
       "50%    1.704266e+12  45042.787978  8.824345e+11   3.333875e+10\n",
       "75%    1.704287e+12  45229.578830  8.861254e+11   3.884062e+10\n",
       "max    1.704308e+12  45468.808946  8.901118e+11   4.460965e+10"
      ]
     },
     "execution_count": 50,
     "metadata": {},
     "output_type": "execute_result"
    }
   ],
   "source": [
    "df.describe()"
   ]
  },
  {
   "cell_type": "code",
   "execution_count": 51,
   "metadata": {},
   "outputs": [
    {
     "name": "stdout",
     "output_type": "stream",
     "text": [
      "<class 'pandas.core.frame.DataFrame'>\n",
      "RangeIndex: 288 entries, 0 to 287\n",
      "Data columns (total 4 columns):\n",
      " #   Column         Non-Null Count  Dtype  \n",
      "---  ------         --------------  -----  \n",
      " 0   timestamp      288 non-null    int64  \n",
      " 1   prices         288 non-null    float64\n",
      " 2   market_caps    288 non-null    float64\n",
      " 3   total_volumes  288 non-null    float64\n",
      "dtypes: float64(3), int64(1)\n",
      "memory usage: 9.1 KB\n"
     ]
    }
   ],
   "source": [
    "df.info()"
   ]
  },
  {
   "cell_type": "code",
   "execution_count": 52,
   "metadata": {},
   "outputs": [
    {
     "data": {
      "text/plain": [
       "0     1970-01-01 00:28:24.222302169\n",
       "1     1970-01-01 00:28:24.222598409\n",
       "2     1970-01-01 00:28:24.222895281\n",
       "3     1970-01-01 00:28:24.223222791\n",
       "4     1970-01-01 00:28:24.223516099\n",
       "                   ...             \n",
       "283   1970-01-01 00:28:24.307487368\n",
       "284   1970-01-01 00:28:24.307850355\n",
       "285   1970-01-01 00:28:24.308096802\n",
       "286   1970-01-01 00:28:24.308394021\n",
       "287   1970-01-01 00:28:24.308494000\n",
       "Name: timestamp, Length: 288, dtype: datetime64[ns]"
      ]
     },
     "execution_count": 52,
     "metadata": {},
     "output_type": "execute_result"
    }
   ],
   "source": [
    "pd.to_datetime(df['timestamp'])"
   ]
  },
  {
   "cell_type": "code",
   "execution_count": 53,
   "metadata": {},
   "outputs": [
    {
     "data": {
      "text/plain": [
       "0     1970-01-01 00:28:24.222302169\n",
       "1     1970-01-01 00:28:24.222598409\n",
       "2     1970-01-01 00:28:24.222895281\n",
       "3     1970-01-01 00:28:24.223222791\n",
       "4     1970-01-01 00:28:24.223516099\n",
       "                   ...             \n",
       "283   1970-01-01 00:28:24.307487368\n",
       "284   1970-01-01 00:28:24.307850355\n",
       "285   1970-01-01 00:28:24.308096802\n",
       "286   1970-01-01 00:28:24.308394021\n",
       "287   1970-01-01 00:28:24.308494000\n",
       "Name: timestamp, Length: 288, dtype: datetime64[ns]"
      ]
     },
     "execution_count": 53,
     "metadata": {},
     "output_type": "execute_result"
    }
   ],
   "source": [
    "pd.to_datetime(df['timestamp'], unit='ns')"
   ]
  },
  {
   "cell_type": "code",
   "execution_count": 54,
   "metadata": {},
   "outputs": [
    {
     "data": {
      "text/plain": [
       "0     2024-01-02 19:05:02.169\n",
       "1     2024-01-02 19:09:58.409\n",
       "2     2024-01-02 19:14:55.281\n",
       "3     2024-01-02 19:20:22.791\n",
       "4     2024-01-02 19:25:16.099\n",
       "                ...          \n",
       "283   2024-01-03 18:44:47.368\n",
       "284   2024-01-03 18:50:50.355\n",
       "285   2024-01-03 18:54:56.802\n",
       "286   2024-01-03 18:59:54.021\n",
       "287   2024-01-03 19:01:34.000\n",
       "Name: timestamp, Length: 288, dtype: datetime64[ns]"
      ]
     },
     "execution_count": 54,
     "metadata": {},
     "output_type": "execute_result"
    }
   ],
   "source": [
    "# unit = (D, s, ms, us, ns)\n",
    "\n",
    "pd.to_datetime(df['timestamp'], unit='ms')"
   ]
  },
  {
   "cell_type": "code",
   "execution_count": 55,
   "metadata": {},
   "outputs": [],
   "source": [
    "df['timestamp'] = pd.to_datetime(df['timestamp'], unit='ms')"
   ]
  },
  {
   "cell_type": "code",
   "execution_count": 56,
   "metadata": {},
   "outputs": [
    {
     "name": "stdout",
     "output_type": "stream",
     "text": [
      "<class 'pandas.core.frame.DataFrame'>\n",
      "RangeIndex: 288 entries, 0 to 287\n",
      "Data columns (total 4 columns):\n",
      " #   Column         Non-Null Count  Dtype         \n",
      "---  ------         --------------  -----         \n",
      " 0   timestamp      288 non-null    datetime64[ns]\n",
      " 1   prices         288 non-null    float64       \n",
      " 2   market_caps    288 non-null    float64       \n",
      " 3   total_volumes  288 non-null    float64       \n",
      "dtypes: datetime64[ns](1), float64(3)\n",
      "memory usage: 9.1 KB\n"
     ]
    }
   ],
   "source": [
    "df.info()"
   ]
  },
  {
   "cell_type": "code",
   "execution_count": 57,
   "metadata": {},
   "outputs": [
    {
     "data": {
      "text/plain": [
       "Timestamp('2024-01-03 19:01:34')"
      ]
     },
     "execution_count": 57,
     "metadata": {},
     "output_type": "execute_result"
    }
   ],
   "source": [
    "df['timestamp'].max()"
   ]
  },
  {
   "cell_type": "markdown",
   "metadata": {},
   "source": [
    "Visualizing the Trends"
   ]
  },
  {
   "cell_type": "code",
   "execution_count": 59,
   "metadata": {},
   "outputs": [],
   "source": [
    "import matplotlib.pyplot as plt\n",
    "import seaborn as sns"
   ]
  },
  {
   "cell_type": "code",
   "execution_count": 61,
   "metadata": {},
   "outputs": [
    {
     "data": {
      "image/png": "[encoded data removed]",
      "text/plain": [
       "<Figure size 1200x300 with 1 Axes>"
      ]
     },
     "metadata": {},
     "output_type": "display_data"
    }
   ],
   "source": [
    "fig, ax = plt.subplots(figsize=(12,3))\n",
    "ax.set_title('Timeseries Plot')\n",
    "sns.lineplot(data=df, x='timestamp', y='prices', ax=ax)\n",
    "plt.xticks(rotation = 45)\n",
    "plt.grid(True)\n",
    "\n",
    "plt.show()"
   ]
  }
 ],
 "metadata": {
  "kernelspec": {
   "display_name": "Python 3",
   "language": "python",
   "name": "python3"
  },
  "language_info": {
   "codemirror_mode": {
    "name": "ipython",
    "version": 3
   },
   "file_extension": ".py",
   "mimetype": "text/x-python",
   "name": "python",
   "nbconvert_exporter": "python",
   "pygments_lexer": "ipython3",
   "version": "3.9.2"
  },
  "orig_nbformat": 4
 },
 "nbformat": 4,
 "nbformat_minor": 2
}
