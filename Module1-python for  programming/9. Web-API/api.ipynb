{
 "cells": [
  {
   "cell_type": "markdown",
   "metadata": {},
   "source": [
    "![Status-code1](https://github.com/bansalkanav/Machine_Learning_and_Deep_Learning/blob/master/Module%201%20-%20Python%20Programming/09.%20Web%20API/images/anatomy_url.PNG)"
   ]
  },
  {
   "cell_type": "markdown",
   "metadata": {},
   "source": [
    "![Status-code2](https://github.com/bansalkanav/Machine_Learning_and_Deep_Learning/blob/master/Module%201%20-%20Python%20Programming/09.%20Web%20API/images/status_code_2.png)"
   ]
  },
  {
   "cell_type": "code",
   "execution_count": null,
   "metadata": {},
   "outputs": [],
   "source": []
  }
 ],
 "metadata": {
  "language_info": {
   "name": "python"
  },
  "orig_nbformat": 4
 },
 "nbformat": 4,
 "nbformat_minor": 2
}
