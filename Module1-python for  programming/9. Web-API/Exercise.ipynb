{
 "cells": [
  {
   "cell_type": "markdown",
   "metadata": {},
   "source": [
    "Application Programming Interface Exercise"
   ]
  },
  {
   "cell_type": "markdown",
   "metadata": {},
   "source": [
    "Q1. How do we import the requests module"
   ]
  },
  {
   "cell_type": "markdown",
   "metadata": {},
   "source": [
    "Q2. Read the url= https://google.com/search?q=thataiguy\n",
    "- Find: a- headers b- status_code c- text d- url e- encoding f- content type"
   ]
  },
  {
   "cell_type": "markdown",
   "metadata": {},
   "source": [
    "Q3. What does it means when making a request: 200,300,403,400,401"
   ]
  },
  {
   "cell_type": "markdown",
   "metadata": {},
   "source": [
    "Q4. What was the response when you requests for https://google.com/abcd ?"
   ]
  },
  {
   "cell_type": "markdown",
   "metadata": {},
   "source": [
    "Q5. Request from google with this parameters = {\"q\": \"Alade Idris\"}"
   ]
  },
  {
   "cell_type": "markdown",
   "metadata": {},
   "source": [
    "Request and Response from International Space Station API\n",
    "\n",
    "Endpoint:\n",
    "/iss-now.json "
   ]
  },
  {
   "cell_type": "markdown",
   "metadata": {},
   "source": [
    "Q1. Make a get request to get the latest position of the international space station from the opennotify api.\n"
   ]
  },
  {
   "cell_type": "markdown",
   "metadata": {},
   "source": [
    "Q2. Are there people in Space Right Now ?\n",
    "-Endpoint: /astros.json endpoint"
   ]
  },
  {
   "cell_type": "markdown",
   "metadata": {},
   "source": [
    "Q3. Finding the Number and Names of Astronauts in Space using keys()"
   ]
  },
  {
   "cell_type": "markdown",
   "metadata": {},
   "source": [
    "Q4. How many astronauts are there now?"
   ]
  },
  {
   "cell_type": "markdown",
   "metadata": {},
   "source": [
    "Q5. Use \"json_normalize()\" to normalize JSON data into flat table assign it to a variable name astronauts"
   ]
  },
  {
   "cell_type": "markdown",
   "metadata": {},
   "source": [
    "dumps() & loads() on python list"
   ]
  },
  {
   "cell_type": "markdown",
   "metadata": {},
   "source": [
    "Q1. Make a list of superheroes and convert it to string using json.dumps\n",
    "Hint: import your json module\n"
   ]
  },
  {
   "cell_type": "markdown",
   "metadata": {},
   "source": [
    "Q2. Convert Q1 to list using loads"
   ]
  },
  {
   "cell_type": "markdown",
   "metadata": {},
   "source": [
    "Q3. Given that:\n",
    "fast_food_franchise = {\n",
    "    \"Subway\": 24722,\n",
    "    \"McDonalds\": 14098,\n",
    "    \"Starbucks\": 10821,\n",
    "    \"Pizza Hut\": 7600\n",
    "}\n",
    "\n",
    "a- What type of data is fast_food_franchise?\n",
    "b- convert it to string using dumps"
   ]
  },
  {
   "cell_type": "markdown",
   "metadata": {},
   "source": [
    "Popular API Documentations"
   ]
  },
  {
   "cell_type": "markdown",
   "metadata": {},
   "source": [
    "fakestoreapi\n",
    "\n",
    "https://fakestoreapi.com/docs\n",
    "fakeStoreApi can be used with any type of shopping project that needs products, carts, and users in JSON format. You can use examples below to check how fakeStoreApi works and feel free to enjoy it in your awesome projects!\n",
    "\n",
    "coingecko\n",
    "\n",
    "https://www.coingecko.com/en/api/documentation\n",
    "CoinGecko was founded in 2014 with the mission to democratize the access of crypto data and empower users with actionable insights."
   ]
  },
  {
   "cell_type": "markdown",
   "metadata": {},
   "source": [
    "Extracting Crypto Data using Coingecko API"
   ]
  },
  {
   "cell_type": "markdown",
   "metadata": {},
   "source": [
    "ROOT_URL = \"https://api.coingecko.com/api/v3\"\n",
    "\n",
    "API End Points\n",
    "\n",
    "Ping - /ping\n",
    "Coin List - /coin/list\n",
    "Coin Market - /coins/markets\n",
    "Coin History - /coins/{id}/history\n",
    "Coin Market Chart - coins/{id}/market_chart\n",
    "\n",
    "Endpoint - /ping"
   ]
  },
  {
   "cell_type": "markdown",
   "metadata": {},
   "source": [
    "Q1. Make a get request to \"https://api.coingecko.com/api/v3\" with endpoint = '/coins/list'\n",
    "a- What is the status_code? b- Make an API call to obtain the first ten coins\n"
   ]
  },
  {
   "cell_type": "markdown",
   "metadata": {},
   "source": [
    "Q2. What is the output of df.loc[ (df.symbol == 'btc')| (df.symbol == 'eth')| (df.symbol == 'doge')]"
   ]
  },
  {
   "cell_type": "markdown",
   "metadata": {},
   "source": [
    "Q3. Make a get request to \"https://api.coingecko.com/api/v3\" with endpoint = '/coins/markets'. payload = {'vs_currency': 'usd', 'ids': 'bitcoin, dogecoin, ethereum'}\n",
    "a- What is the status_code? "
   ]
  },
  {
   "cell_type": "markdown",
   "metadata": {},
   "source": [
    "Q4. Use json_normalize to flatten the table"
   ]
  },
  {
   "cell_type": "markdown",
   "metadata": {},
   "source": [
    "Q5. What is today's date? Use it as payload/parameter in Q6"
   ]
  },
  {
   "cell_type": "markdown",
   "metadata": {},
   "source": [
    "Q6. Make a get request to \"https://api.coingecko.com/api/v3\" with Endpoint - /coins/{id}/history.\n",
    "Get historical data (name, price, market, stats) at a given date for a coin \n",
    "url=f'https://api.coingecko.com/api/v3/coins/bitcoin/history?date={today}'"
   ]
  },
  {
   "cell_type": "markdown",
   "metadata": {},
   "source": [
    "Q7. State the units in datetime"
   ]
  },
  {
   "cell_type": "markdown",
   "metadata": {},
   "source": [
    "Visualizing the Trends"
   ]
  },
  {
   "cell_type": "markdown",
   "metadata": {},
   "source": [
    "Q1. import matplotlib and seaborn module"
   ]
  },
  {
   "cell_type": "markdown",
   "metadata": {},
   "source": [
    "Q2. Plot a lineplot of the data when x= timestamp and y=prices ax=ax\n",
    "Given that: fig, ax = plt.subplots(figsize=(12,3)). The title should be Timeseries plot and the xtics rotation is 45"
   ]
  },
  {
   "cell_type": "code",
   "execution_count": 61,
   "metadata": {},
   "outputs": [
    {
     "data": {
      "image/png": "[encoded data removed]",
      "text/plain": [
       "<Figure size 1200x300 with 1 Axes>"
      ]
     },
     "metadata": {},
     "output_type": "display_data"
    }
   ],
   "source": [
    "fig, ax = plt.subplots(figsize=(12,3))\n",
    "ax.set_title('Timeseries Plot')\n",
    "sns.lineplot(data=df, x='timestamp', y='prices', ax=ax)\n",
    "plt.xticks(rotation = 45)\n",
    "plt.grid(True)\n",
    "\n",
    "plt.show()"
   ]
  }
 ],
 "metadata": {
  "kernelspec": {
   "display_name": "Python 3",
   "language": "python",
   "name": "python3"
  },
  "language_info": {
   "codemirror_mode": {
    "name": "ipython",
    "version": 3
   },
   "file_extension": ".py",
   "mimetype": "text/x-python",
   "name": "python",
   "nbconvert_exporter": "python",
   "pygments_lexer": "ipython3",
   "version": "3.9.2"
  },
  "orig_nbformat": 4
 },
 "nbformat": 4,
 "nbformat_minor": 2
}
