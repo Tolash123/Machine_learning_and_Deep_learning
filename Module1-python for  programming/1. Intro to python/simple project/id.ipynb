{
 "cells": [
  {
   "cell_type": "markdown",
   "metadata": {},
   "source": [
    "👉 Day 36 Challenge\n",
    "Create a list of people's names. Ask for first and last name (surname) separately.\n",
    "Strip any extra spaces.\n",
    "Store names in a capitalized version.\n",
    "Create a new string using an fString that combines the tidied up version of the first name and tidied up version of the last name.\n",
    "Add those new versions to a list.\n",
    "Do not allow duplicates.\n",
    "Each time you add a new name, you should print out the full list"
   ]
  },
  {
   "cell_type": "code",
   "execution_count": null,
   "metadata": {},
   "outputs": [],
   "source": [
    "import os, time\n",
    "\n",
    "def pretty():\n",
    "    print('-'*10, 'List of Names' ,'-'*10)\n",
    "pretty() \n",
    "firstname = []\n",
    "lastname = []  \n",
    "Name = []\n",
    "while True:\n",
    "    name = input('Enter your firstname: ').capitalize().strip()\n",
    "    sname = input('Enter your lastname: ').capitalize().strip()\n",
    "    fullname = name + ' ' +sname\n",
    "    if fullname in Name:\n",
    "        Name.remove(fullname)\n",
    "        print('The name is in the list')\n",
    "        time.sleep(3)\n",
    "    else:\n",
    "        pass\n",
    "    os.system('clear')\n",
    "    pretty()\n",
    "    Name.append(fullname)\n",
    "    for item in Name:\n",
    "        print(item)\n",
    "    "
   ]
  },
  {
   "cell_type": "markdown",
   "metadata": {},
   "source": [
    "🌟Star Wars Name Generator🌟\n"
   ]
  },
  {
   "cell_type": "code",
   "execution_count": null,
   "metadata": {},
   "outputs": [],
   "source": [
    "import os,time\n",
    "def pretty():\n",
    "    os.system('clear')\n",
    "\n",
    "while True:\n",
    "    print(\"🌟Star Wars Name Generator🌟\")\n",
    "    print()\n",
    "    fname = input('Input your first name > ').capitalize().strip()\n",
    "    lname = input('Input your last name > ').capitalize().strip()\n",
    "    mname = input('Input your maiden name > ').capitalize().strip()\n",
    "    cname = input('Input your city name > ').capitalize().strip()\n",
    "    sname = (fname[:3]+lname[:3]).capitalize().strip()\n",
    "    sname1 = (mname[:3]+cname[:3]).capitalize().strip()\n",
    "    print('Your star wars name is: {} {}'.format(sname,sname1))\n",
    "    time.sleep(5)\n",
    "    pretty()   "
   ]
  },
  {
   "cell_type": "code",
   "execution_count": 1,
   "metadata": {},
   "outputs": [
    {
     "name": "stdout",
     "output_type": "stream",
     "text": [
      "D\n",
      "\u001b[0m\u001b[33ma\n",
      "\u001b[0my\n",
      "\u001b[0m \n",
      "\u001b[0m3\n",
      "\u001b[0m8\n",
      "\u001b[0m"
     ]
    }
   ],
   "source": [
    "myString = \"Day 38\"\n",
    "for letter in myString:\n",
    "  if letter.lower() == \"a\":\n",
    "    print('\\033[33m', end='') #yellow\n",
    "  print(letter)\n",
    "  print('\\033[0m', end='') #back to default\n",
    "\n",
    "# This code outputs (with a yellow 'a'):\n",
    "#D\n",
    "#a\n",
    "#y\n",
    "\n",
    "#3\n",
    "#8"
   ]
  }
 ],
 "metadata": {
  "kernelspec": {
   "display_name": "Python 3",
   "language": "python",
   "name": "python3"
  },
  "language_info": {
   "codemirror_mode": {
    "name": "ipython",
    "version": 3
   },
   "file_extension": ".py",
   "mimetype": "text/x-python",
   "name": "python",
   "nbconvert_exporter": "python",
   "pygments_lexer": "ipython3",
   "version": "3.9.2"
  },
  "orig_nbformat": 4
 },
 "nbformat": 4,
 "nbformat_minor": 2
}
