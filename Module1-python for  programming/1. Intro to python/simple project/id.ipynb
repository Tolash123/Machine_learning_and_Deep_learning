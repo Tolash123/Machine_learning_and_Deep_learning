{
 "cells": [
  {
   "cell_type": "markdown",
   "metadata": {},
   "source": [
    "👉 Day 36 Challenge\n",
    "Create a list of people's names. Ask for first and last name (surname) separately.\n",
    "Strip any extra spaces.\n",
    "Store names in a capitalized version.\n",
    "Create a new string using an fString that combines the tidied up version of the first name and tidied up version of the last name.\n",
    "Add those new versions to a list.\n",
    "Do not allow duplicates.\n",
    "Each time you add a new name, you should print out the full list"
   ]
  },
  {
   "cell_type": "code",
   "execution_count": null,
   "metadata": {},
   "outputs": [],
   "source": [
    "import os, time\n",
    "\n",
    "def pretty():\n",
    "    print('-'*10, 'List of Names' ,'-'*10)\n",
    "pretty() \n",
    "firstname = []\n",
    "lastname = []  \n",
    "Name = []\n",
    "while True:\n",
    "    name = input('Enter your firstname: ').capitalize().strip()\n",
    "    sname = input('Enter your lastname: ').capitalize().strip()\n",
    "    fullname = name + ' ' +sname\n",
    "    if fullname in Name:\n",
    "        Name.remove(fullname)\n",
    "        print('The name is in the list')\n",
    "        time.sleep(3)\n",
    "    else:\n",
    "        pass\n",
    "    os.system('clear')\n",
    "    pretty()\n",
    "    Name.append(fullname)\n",
    "    for item in Name:\n",
    "        print(item)\n",
    "    "
   ]
  },
  {
   "cell_type": "markdown",
   "metadata": {},
   "source": [
    "🌟Star Wars Name Generator🌟\n"
   ]
  },
  {
   "cell_type": "code",
   "execution_count": null,
   "metadata": {},
   "outputs": [],
   "source": [
    "import os,time\n",
    "def pretty():\n",
    "    os.system('clear')\n",
    "\n",
    "while True:\n",
    "    print(\"🌟Star Wars Name Generator🌟\")\n",
    "    print()\n",
    "    fname = input('Input your first name > ').capitalize().strip()\n",
    "    lname = input('Input your last name > ').capitalize().strip()\n",
    "    mname = input('Input your maiden name > ').capitalize().strip()\n",
    "    cname = input('Input your city name > ').capitalize().strip()\n",
    "    sname = (fname[:3]+lname[:3]).capitalize().strip()\n",
    "    sname1 = (mname[:3]+cname[:3]).capitalize().strip()\n",
    "    print('Your star wars name is: {} {}'.format(sname,sname1))\n",
    "    time.sleep(5)\n",
    "    pretty()   "
   ]
  },
  {
   "cell_type": "code",
   "execution_count": 1,
   "metadata": {},
   "outputs": [
    {
     "name": "stdout",
     "output_type": "stream",
     "text": [
      "D\n",
      "\u001b[0m\u001b[33ma\n",
      "\u001b[0my\n",
      "\u001b[0m \n",
      "\u001b[0m3\n",
      "\u001b[0m8\n",
      "\u001b[0m"
     ]
    }
   ],
   "source": [
    "myString = \"Day 38\"\n",
    "for letter in myString:\n",
    "  if letter.lower() == \"a\":\n",
    "    print('\\033[33m', end='') #yellow\n",
    "  print(letter)\n",
    "  print('\\033[0m', end='') #back to default\n",
    "\n",
    "# This code outputs (with a yellow 'a'):\n",
    "#D\n",
    "#a\n",
    "#y\n",
    "\n",
    "#3\n",
    "#8"
   ]
  },
  {
   "cell_type": "markdown",
   "metadata": {},
   "source": [
    "👉 Day 39 Challenge\n",
    "Once the word has been picked, the following things need to happen:\n",
    "\n",
    "Prompt the user to type in a letter.\n",
    "Check if the letter is in the word.\n",
    "If it does, output the word with all blanks apart from the letter(s) they've already guessed.\n",
    "Keep a running list of the letters they've used.\n",
    "Count how many times they've picked a letter that isn't in the word - more than 6 and they lose.\n",
    "Output a 'win' message if they reveal all the letters.\n",
    "🥳 Extra points for using ASCII art to draw the hangman as the player makes incorrect guesses.\n",
    "\n",
    "Example:\n",
    "\n",
    "🌟Hangman🌟\n",
    "Choose a letter: i\n",
    "Nope, not in there.\n",
    "5 left.\n",
    "Choose a letter: a\n",
    "Correct!\n",
    "__a__\n",
    "Choose a letter: s\n",
    "Correct!\n",
    "s_a__\n",
    "Choose a letter: u\n",
    "Correct!\n",
    "sua__\n",
    "# Repeat until.....\n",
    "# If user wins\n",
    "You won with 5 lives left.\n",
    "# Loses\n",
    "You lost!"
   ]
  },
  {
   "cell_type": "code",
   "execution_count": 23,
   "metadata": {},
   "outputs": [
    {
     "name": "stdout",
     "output_type": "stream",
     "text": [
      "---------- 🌟Hangman🌟 ----------\n"
     ]
    },
    {
     "name": "stdout",
     "output_type": "stream",
     "text": [
      "b correct\n"
     ]
    },
    {
     "ename": "KeyboardInterrupt",
     "evalue": "Interrupted by user",
     "output_type": "error",
     "traceback": [
      "\u001b[0;31m---------------------------------------------------------------------------\u001b[0m",
      "\u001b[0;31mKeyboardInterrupt\u001b[0m                         Traceback (most recent call last)",
      "\u001b[1;32m/home/idreesy31/Machine_learning_and_Deep_learning/Module1-python for  programming/1. Intro to python/simple project/id.ipynb Cell 7\u001b[0m line \u001b[0;36m5\n\u001b[1;32m      <a href='vscode-notebook-cell:/home/idreesy31/Machine_learning_and_Deep_learning/Module1-python%20for%20%20programming/1.%20Intro%20to%20python/simple%20project/id.ipynb#W6sZmlsZQ%3D%3D?line=2'>3</a>\u001b[0m lst \u001b[39m=\u001b[39m \u001b[39m'\u001b[39m\u001b[39mb a g\u001b[39m\u001b[39m'\u001b[39m\n\u001b[1;32m      <a href='vscode-notebook-cell:/home/idreesy31/Machine_learning_and_Deep_learning/Module1-python%20for%20%20programming/1.%20Intro%20to%20python/simple%20project/id.ipynb#W6sZmlsZQ%3D%3D?line=3'>4</a>\u001b[0m \u001b[39mwhile\u001b[39;00m \u001b[39mTrue\u001b[39;00m:\n\u001b[0;32m----> <a href='vscode-notebook-cell:/home/idreesy31/Machine_learning_and_Deep_learning/Module1-python%20for%20%20programming/1.%20Intro%20to%20python/simple%20project/id.ipynb#W6sZmlsZQ%3D%3D?line=4'>5</a>\u001b[0m     ls \u001b[39m=\u001b[39m \u001b[39minput\u001b[39;49m(\u001b[39m'\u001b[39;49m\u001b[39mGuess the letter > \u001b[39;49m\u001b[39m'\u001b[39;49m)\n\u001b[1;32m      <a href='vscode-notebook-cell:/home/idreesy31/Machine_learning_and_Deep_learning/Module1-python%20for%20%20programming/1.%20Intro%20to%20python/simple%20project/id.ipynb#W6sZmlsZQ%3D%3D?line=5'>6</a>\u001b[0m     \u001b[39mif\u001b[39;00m ls \u001b[39min\u001b[39;00m lst:\n\u001b[1;32m      <a href='vscode-notebook-cell:/home/idreesy31/Machine_learning_and_Deep_learning/Module1-python%20for%20%20programming/1.%20Intro%20to%20python/simple%20project/id.ipynb#W6sZmlsZQ%3D%3D?line=6'>7</a>\u001b[0m         \u001b[39mprint\u001b[39m(ls, \u001b[39m'\u001b[39m\u001b[39mcorrect\u001b[39m\u001b[39m'\u001b[39m)\n",
      "File \u001b[0;32m~/.local/lib/python3.9/site-packages/ipykernel/kernelbase.py:1261\u001b[0m, in \u001b[0;36mKernel.raw_input\u001b[0;34m(self, prompt)\u001b[0m\n\u001b[1;32m   1259\u001b[0m     msg \u001b[39m=\u001b[39m \u001b[39m\"\u001b[39m\u001b[39mraw_input was called, but this frontend does not support input requests.\u001b[39m\u001b[39m\"\u001b[39m\n\u001b[1;32m   1260\u001b[0m     \u001b[39mraise\u001b[39;00m StdinNotImplementedError(msg)\n\u001b[0;32m-> 1261\u001b[0m \u001b[39mreturn\u001b[39;00m \u001b[39mself\u001b[39;49m\u001b[39m.\u001b[39;49m_input_request(\n\u001b[1;32m   1262\u001b[0m     \u001b[39mstr\u001b[39;49m(prompt),\n\u001b[1;32m   1263\u001b[0m     \u001b[39mself\u001b[39;49m\u001b[39m.\u001b[39;49m_parent_ident[\u001b[39m\"\u001b[39;49m\u001b[39mshell\u001b[39;49m\u001b[39m\"\u001b[39;49m],\n\u001b[1;32m   1264\u001b[0m     \u001b[39mself\u001b[39;49m\u001b[39m.\u001b[39;49mget_parent(\u001b[39m\"\u001b[39;49m\u001b[39mshell\u001b[39;49m\u001b[39m\"\u001b[39;49m),\n\u001b[1;32m   1265\u001b[0m     password\u001b[39m=\u001b[39;49m\u001b[39mFalse\u001b[39;49;00m,\n\u001b[1;32m   1266\u001b[0m )\n",
      "File \u001b[0;32m~/.local/lib/python3.9/site-packages/ipykernel/kernelbase.py:1304\u001b[0m, in \u001b[0;36mKernel._input_request\u001b[0;34m(self, prompt, ident, parent, password)\u001b[0m\n\u001b[1;32m   1301\u001b[0m \u001b[39mexcept\u001b[39;00m \u001b[39mKeyboardInterrupt\u001b[39;00m:\n\u001b[1;32m   1302\u001b[0m     \u001b[39m# re-raise KeyboardInterrupt, to truncate traceback\u001b[39;00m\n\u001b[1;32m   1303\u001b[0m     msg \u001b[39m=\u001b[39m \u001b[39m\"\u001b[39m\u001b[39mInterrupted by user\u001b[39m\u001b[39m\"\u001b[39m\n\u001b[0;32m-> 1304\u001b[0m     \u001b[39mraise\u001b[39;00m \u001b[39mKeyboardInterrupt\u001b[39;00m(msg) \u001b[39mfrom\u001b[39;00m \u001b[39mNone\u001b[39;00m\n\u001b[1;32m   1305\u001b[0m \u001b[39mexcept\u001b[39;00m \u001b[39mException\u001b[39;00m:\n\u001b[1;32m   1306\u001b[0m     \u001b[39mself\u001b[39m\u001b[39m.\u001b[39mlog\u001b[39m.\u001b[39mwarning(\u001b[39m\"\u001b[39m\u001b[39mInvalid Message:\u001b[39m\u001b[39m\"\u001b[39m, exc_info\u001b[39m=\u001b[39m\u001b[39mTrue\u001b[39;00m)\n",
      "\u001b[0;31mKeyboardInterrupt\u001b[0m: Interrupted by user"
     ]
    }
   ],
   "source": [
    "import random\n",
    "print('-'*10,'🌟Hangman🌟','-'*10)\n",
    "lst = 'b a g'\n",
    "while True:\n",
    "    ls = input('Guess the letter > ')\n",
    "    if ls in lst:\n",
    "        print(ls, 'correct')\n",
    "    else:\n",
    "        print('incorrect')\n",
    "\n",
    "\n"
   ]
  }
 ],
 "metadata": {
  "kernelspec": {
   "display_name": "Python 3",
   "language": "python",
   "name": "python3"
  },
  "language_info": {
   "codemirror_mode": {
    "name": "ipython",
    "version": 3
   },
   "file_extension": ".py",
   "mimetype": "text/x-python",
   "name": "python",
   "nbconvert_exporter": "python",
   "pygments_lexer": "ipython3",
   "version": "3.9.2"
  },
  "orig_nbformat": 4
 },
 "nbformat": 4,
 "nbformat_minor": 2
}
