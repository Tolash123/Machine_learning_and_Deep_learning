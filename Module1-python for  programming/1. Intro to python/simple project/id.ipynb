{
 "cells": [
  {
   "cell_type": "markdown",
   "metadata": {},
   "source": [
    "👉 Day 36 Challenge\n",
    "Create a list of people's names. Ask for first and last name (surname) separately.\n",
    "Strip any extra spaces.\n",
    "Store names in a capitalized version.\n",
    "Create a new string using an fString that combines the tidied up version of the first name and tidied up version of the last name.\n",
    "Add those new versions to a list.\n",
    "Do not allow duplicates.\n",
    "Each time you add a new name, you should print out the full list"
   ]
  },
  {
   "cell_type": "code",
   "execution_count": null,
   "metadata": {},
   "outputs": [],
   "source": [
    "import os, time\n",
    "\n",
    "def pretty():\n",
    "    print('-'*10, 'List of Names' ,'-'*10)\n",
    "pretty() \n",
    "firstname = []\n",
    "lastname = []  \n",
    "Name = []\n",
    "while True:\n",
    "    name = input('Enter your firstname: ').capitalize().strip()\n",
    "    sname = input('Enter your lastname: ').capitalize().strip()\n",
    "    fullname = name + ' ' +sname\n",
    "    if fullname in Name:\n",
    "        Name.remove(fullname)\n",
    "        print('The name is in the list')\n",
    "        time.sleep(3)\n",
    "    else:\n",
    "        pass\n",
    "    os.system('clear')\n",
    "    pretty()\n",
    "    Name.append(fullname)\n",
    "    for item in Name:\n",
    "        print(item)\n",
    "    "
   ]
  }
 ],
 "metadata": {
  "language_info": {
   "name": "python"
  },
  "orig_nbformat": 4
 },
 "nbformat": 4,
 "nbformat_minor": 2
}
