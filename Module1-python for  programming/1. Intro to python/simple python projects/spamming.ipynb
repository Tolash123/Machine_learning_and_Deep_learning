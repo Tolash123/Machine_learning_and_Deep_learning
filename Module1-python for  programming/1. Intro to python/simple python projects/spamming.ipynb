{
 "cells": [
  {
   "cell_type": "markdown",
   "metadata": {},
   "source": [
    "👉 Challenge\n",
    "Let's extend this program and build option 4: \"Get SPAMMING\".\n",
    "\n",
    "Print out the first 10 email addresses with a custom email sent to each of those people.\n",
    "Print one email at a time, pause, and then clear the screen before the next email is printed."
   ]
  },
  {
   "cell_type": "markdown",
   "metadata": {},
   "source": [
    "Spamming Message:\n",
    "Dear john@test.com\n",
    "It has come to our attention that you're missing out on the amazing Replit 100 days of code. We insist you do it right away. If you don't we will pass on your email address to every spammer we've ever encountered and also sign you up to the My Little Pony newsletter, because that's neat. We might just do that anyway.\n",
    "\n",
    "Love and hugs,\n",
    "Ian Spammington III"
   ]
  },
  {
   "cell_type": "code",
   "execution_count": null,
   "metadata": {},
   "outputs": [],
   "source": [
    "import os, time\n",
    "listOfEmail = []\n",
    "\n",
    "def prettyPrint():\n",
    "  os.system(\"clear\") # start by clearing the screen\n",
    "  print(\"listofEmail\") # print the title of my program\n",
    "  print() # print a blank line\n",
    "  for email in listOfEmail: # use for loop to access list\n",
    "    print(email)\n",
    "  time.sleep(2)\n",
    "  os.system('clear')\n",
    "  \n",
    "\n",
    "while True:\n",
    "  print(\"SPAMMER Inc.\")\n",
    "  menu = input(\"1. Add email\\n2: Remove email\\n3. Show emails\\n4. Get SPAMMING\\n> \")\n",
    "  if menu == \"1\":\n",
    "    email = input(\"Email > \")\n",
    "    listOfEmail.append(email)\n",
    "    os.system('clear')\n",
    "  elif menu ==\"2\":\n",
    "    email = input (\"Email > \")\n",
    "    if email in listOfEmail:\n",
    "      listOfEmail.remove(email)\n",
    "      os.system('clear')\n",
    "  elif menu == '3':\n",
    "    prettyPrint()\n",
    "  elif menu == '4':\n",
    "    for i in range(2):\n",
    "      if i==1:\n",
    "        print('Dear', listOfEmail[0])\n",
    "        print(\"\"\"It has come to our attention that you're missing out on the amazing Replit 100 days of code. We insist you do it right away. If you don't we will pass on your email address to every spammer we've ever encountered and also sign you up to the My Little Pony newsletter, because that's neat. We might just do that anyway.\n",
    "\n",
    "        Love and hugs,\n",
    "        Ian Spammington III\"\"\")\n",
    "        time.sleep(3)\n",
    "        os.system('clear')\n",
    "      elif i==2:\n",
    "        print('Dear', listOfEmail[1])\n",
    "        print(\"\"\"It has come to our attention that you're missing out on the amazing Replit 100 days of code. We insist you do it right away. If you don't we will pass on your email address to every spammer we've ever encountered and also sign you up to the My Little Pony newsletter, because that's neat. We might just do that anyway.\n",
    "\n",
    "        Love and hugs,\n",
    "       Ian Spammington III\"\"\")\n",
    "        time.sleep(3)\n",
    "        os.system('clear')\n",
    "    \n",
    "\n",
    "\n",
    "    "
   ]
  }
 ],
 "metadata": {
  "kernelspec": {
   "display_name": "Python 3",
   "language": "python",
   "name": "python3"
  },
  "language_info": {
   "codemirror_mode": {
    "name": "ipython",
    "version": 3
   },
   "file_extension": ".py",
   "mimetype": "text/x-python",
   "name": "python",
   "nbconvert_exporter": "python",
   "pygments_lexer": "ipython3",
   "version": "3.9.2"
  },
  "orig_nbformat": 4
 },
 "nbformat": 4,
 "nbformat_minor": 2
}
