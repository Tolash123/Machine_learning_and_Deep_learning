{
 "cells": [
  {
   "cell_type": "markdown",
   "metadata": {},
   "source": [
    "# Regular Expressions\n",
    "\n",
    "What are Regualar Expressions?\n",
    "A regular expression, often abbreviated as \"regex\" or \"regexp,\" is a powerful tool used in computer science and text processing to describe and match patterns in strings. It's a sequence of characters that defines a search pattern. These patterns can be used for tasks like searching, extracting, replacing, and validating text.\n",
    "\n",
    "Regular expressions are widely used in tasks like text searching and manipulation, data validation, parsing, and more. They are supported by many programming languages and text processing tools, making them a versatile and essential tool for working with text data.\n",
    "\n",
    "Why Regular Expressions?\n",
    "Regular expressions are used for a variety of tasks in computer science, data processing, and text analysis due to their powerful pattern matching capabilities. Here are some key reasons why regular expressions are widely used:\n",
    "\n",
    "- Pattern Matching: Regular expressions allow you to search for specific patterns or sequences of characters within a larger body of text. This is useful for tasks like finding specific words, dates, email addresses, or other structured information.\n",
    "\n",
    "- Text Extraction: They can be used to extract specific pieces of information from a text document, such as names, phone numbers, URLs, or any other structured data.\n",
    "\n",
    "- Data Validation: Regular expressions are used to validate input data. For example, you can use them to check if a user-provided email address or phone number is in the correct format.\n",
    "\n",
    "- Search and Replace: They enable you to search for specific patterns in a text and replace them with something else. This is useful for tasks like cleaning up data or making text substitutions.\n",
    "\n",
    "- Parsing and Tokenization: Regular expressions are essential for breaking down text into smaller units or tokens. This is used in tasks like natural language processing and compiler design.\n",
    "\n",
    "- Web Scraping: When extracting data from websites, regular expressions can be used to locate and extract specific elements or information from HTML pages.\n",
    "\n",
    "- Log File Analysis: Regular expressions are invaluable for searching and parsing log files, allowing you to extract important information or identify patterns of interest.\n",
    "\n",
    "- Pattern Validation: They are used to validate whether a string adheres to a specific pattern or format, such as checking if a password meets certain criteria.\n",
    "\n",
    "- Data Transformation and Cleaning: Regular expressions can be used to clean and transform text data. For example, removing unnecessary characters or formatting.\n",
    "\n",
    "- Language Agnostic: Regular expressions are supported by most programming languages, making them a versatile tool that can be applied in a wide range of contexts.\n",
    "\n",
    "Efficiency: When used correctly, regular expressions can provide very efficient search and match operations, especially for complex patterns."
   ]
  },
  {
   "cell_type": "markdown",
   "metadata": {},
   "source": [
    "Overall, regular expressions are a fundamental tool for working with text data and are an essential skill for tasks ranging from data preprocessing to text analysis and beyond. They provide a flexible and powerful means to perform complex pattern matching operations."
   ]
  },
  {
   "cell_type": "markdown",
   "metadata": {},
   "source": [
    "## Applications of Regular Expressions\n",
    "\n",
    "Regular expressions (regex) find applications in a wide range of real-time scenarios across various domains. Here are some of the most important applications of regex:\n",
    "\n",
    "- Data Validation and Form Input:\n",
    "Ensuring that user-provided data (like email addresses, phone numbers, passwords, etc.) adhere to specified formats before processing.\n",
    "\n",
    "- Search and Replace in Text Editors:\n",
    "find and replace operations in text editors or IDEs, allowing for quick and precise changes in code or documents.\n",
    "\n",
    "- Log File Parsing and Analysis:\n",
    "Extracting relevant information from log files, helping to identify patterns, errors, or anomalies in system logs.\n",
    "\n",
    "- Web Scraping and Data Extraction:\n",
    "Extracting specific information from web pages, like email addresses, phone numbers, product names, etc., for further analysis.\n",
    "\n",
    "- Data Cleaning and Transformation:\n",
    "Preprocessing text data by removing unnecessary characters, fixing formatting issues, and standardizing data for analysis.\n",
    "\n",
    "- Search Engines and Information Retrieval:\n",
    "Powering search engines for matching user queries to relevant content on websites or databases.\n",
    "\n",
    "- URL Routing and Validation:\n",
    "Validating and parsing URLs to ensure they follow the correct format and extracting specific parameters from them.\n",
    "\n",
    "- Lexical Analysis in Compiler Design:\n",
    "Tokenizing source code into meaningful units for further processing by a compiler.\n",
    "\n",
    "- Natural Language Processing (NLP):\n",
    "Tokenizing sentences or words, extracting entities (like names, dates, locations), and performing advanced text processing tasks.\n",
    "\n",
    "- Network Security and Firewall Rules:\n",
    "Defining and enforcing rules for allowing or blocking specific types of traffic based on patterns in network traffic logs.\n",
    "\n",
    "- Database Querying and Validation:\n",
    "Validating and querying databases for specific patterns or formats, such as social security numbers, credit card numbers, etc.\n",
    "\n",
    "- Formal Language Theory and Automata:\n",
    "In computer science theory, regex is used in the definition of regular languages and finite automata.\n",
    "\n",
    "- Validation of Configuration Files:\n",
    "Ensuring that configuration files for software or systems follow the correct syntax and structure.\n",
    "\n",
    "- Extracting Metadata from Documents:\n",
    "Parsing documents (like PDFs, Word documents) to extract metadata such as titles, authors, dates, etc.\n",
    "\n",
    "- URL Rewriting in Web Servers:\n",
    "Modifying URLs on the fly to improve SEO or to direct traffic to specific pages.\n",
    "\n",
    "- Pattern Matching in DNA Sequences:\n",
    "Identifying specific genetic sequences or motifs in DNA for biological research."
   ]
  },
  {
   "cell_type": "markdown",
   "metadata": {},
   "source": [
    "These are just some of the many real-time applications of regular expressions. Their versatility and powerful pattern-matching capabilities make them an invaluable tool in various fields of computer science and data processing."
   ]
  },
  {
   "cell_type": "markdown",
   "metadata": {},
   "source": [
    "References for Practice\n",
    "Try to solve all the interactive tutorial from below mentioned website:\n",
    "\n",
    "https://regexone.com/lesson/introduction_abcs\n",
    "\n",
    "https://regex101.com"
   ]
  },
  {
   "cell_type": "markdown",
   "metadata": {},
   "source": [
    "### Meta Characters\n",
    "., ^, $, *, +, ?, {, }, [, ], (, ), |, \\"
   ]
  },
  {
   "cell_type": "markdown",
   "metadata": {},
   "source": [
    "User-defined Character Classes\n",
    "[abc] - Match either a or b or c\n",
    "[^abc] - Match any character except a or b or c\n",
    "[a-z] - Match a lower case english alphabet character\n",
    "[A-Z] - Match an upper case english alphabet character\n",
    "[a-zA-Z] - Match any english alphabet character\n",
    "[0-9] - Match any digit character\n",
    "[a-zA-Z0-9_] - Match any alphanumeric character\n",
    "[^a-zA-Z0-9_] - Match any character except alphanumeric character"
   ]
  },
  {
   "cell_type": "markdown",
   "metadata": {},
   "source": [
    "Pre-defined Character Classes\n",
    "\\d - Match a digit character i.e. [0-9]\n",
    "\\D - Match any character except digit character. i.e. [^0-9]\n",
    "\\w - Match an alpha-numeric character i.e. [a-zA-Z0-9_]\n",
    "\\W - Match any character except alpha-numeric character i.e. [^a-zA-Z0-9_]\n",
    "\\s - Match a space character.\n",
    "\\S - Match any character except space.\n",
    "\\t - Match a tab character.\n",
    "\\n - Match a next line character."
   ]
  },
  {
   "cell_type": "markdown",
   "metadata": {},
   "source": [
    "Quantifiers\n",
    "a* - Match zero or more number of characters\n",
    "a+ - Match one or more number of characters\n",
    "a? - Match atmost 1 character i.e. 0 or 1\n",
    "a{n} - Match exactly n number of character\n",
    "a{m, n} - Match atleast m number and atmost n number of characters"
   ]
  },
  {
   "cell_type": "markdown",
   "metadata": {},
   "source": [
    "Groups\n",
    "Capturing Groups - (X)\n",
    "Non Capturing Groups - (?:X)"
   ]
  },
  {
   "cell_type": "markdown",
   "metadata": {},
   "source": [
    "Importing the required module"
   ]
  },
  {
   "cell_type": "code",
   "execution_count": 1,
   "metadata": {},
   "outputs": [],
   "source": [
    "import re"
   ]
  },
  {
   "cell_type": "markdown",
   "metadata": {},
   "source": [
    "re.fullmatch()\n",
    "It returns a match object if and only if the entire string matches the pattern. Otherwise, it will return None."
   ]
  },
  {
   "cell_type": "markdown",
   "metadata": {},
   "source": [
    "Regular Expression to match a Nigeria number"
   ]
  },
  {
   "cell_type": "code",
   "execution_count": 50,
   "metadata": {},
   "outputs": [
    {
     "name": "stdout",
     "output_type": "stream",
     "text": [
      "\u001b[32m 07043360273 is valid\n"
     ]
    }
   ],
   "source": [
    "import re\n",
    "number = input('Enter your number:')\n",
    "regex = r\"[0-9]\\d{0,11}\"\n",
    "match = re.fullmatch(regex,number)\n",
    "if match:\n",
    "    print('\\033[32m',number, 'is valid')\n",
    "else:\n",
    "    print('\\033[31m',number, 'not valid')"
   ]
  },
  {
   "cell_type": "code",
   "execution_count": 23,
   "metadata": {},
   "outputs": [
    {
     "name": "stdout",
     "output_type": "stream",
     "text": [
      "90909090909 not valid.\n"
     ]
    }
   ],
   "source": [
    "# Step 1 - Ask the user to enter a phone number\n",
    "user_entered_mobile_number = input(\"Enter a mobile number to validate: \")\n",
    "\n",
    "# Step 2 - Create a regex pattern for Indian Phone Numbers\n",
    "regex = r\"[6-9]\\d{9}\"\n",
    "\n",
    "# Step 3 - Match the Regex with the user entered mobile number\n",
    "match = re.fullmatch(regex, user_entered_mobile_number)\n",
    "\n",
    "# Step 4 - If match exist, print \"Valid\"\n",
    "if match:\n",
    "    print(user_entered_mobile_number, 'is valid.')\n",
    "else:\n",
    "    print(user_entered_mobile_number, 'not valid.')"
   ]
  }
 ],
 "metadata": {
  "kernelspec": {
   "display_name": "Python 3",
   "language": "python",
   "name": "python3"
  },
  "language_info": {
   "codemirror_mode": {
    "name": "ipython",
    "version": 3
   },
   "file_extension": ".py",
   "mimetype": "text/x-python",
   "name": "python",
   "nbconvert_exporter": "python",
   "pygments_lexer": "ipython3",
   "version": "3.9.2"
  },
  "orig_nbformat": 4
 },
 "nbformat": 4,
 "nbformat_minor": 2
}
