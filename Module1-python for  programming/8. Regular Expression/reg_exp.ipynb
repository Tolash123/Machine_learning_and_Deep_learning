{
 "cells": [
  {
   "cell_type": "markdown",
   "metadata": {},
   "source": [
    "# Regular Expressions\n",
    "\n",
    "What are Regualar Expressions?\n",
    "A regular expression, often abbreviated as \"regex\" or \"regexp,\" is a powerful tool used in computer science and text processing to describe and match patterns in strings. It's a sequence of characters that defines a search pattern. These patterns can be used for tasks like searching, extracting, replacing, and validating text.\n",
    "\n",
    "Regular expressions are widely used in tasks like text searching and manipulation, data validation, parsing, and more. They are supported by many programming languages and text processing tools, making them a versatile and essential tool for working with text data.\n",
    "\n",
    "Why Regular Expressions?\n",
    "Regular expressions are used for a variety of tasks in computer science, data processing, and text analysis due to their powerful pattern matching capabilities. Here are some key reasons why regular expressions are widely used:\n",
    "\n",
    "- Pattern Matching: Regular expressions allow you to search for specific patterns or sequences of characters within a larger body of text. This is useful for tasks like finding specific words, dates, email addresses, or other structured information.\n",
    "\n",
    "- Text Extraction: They can be used to extract specific pieces of information from a text document, such as names, phone numbers, URLs, or any other structured data.\n",
    "\n",
    "- Data Validation: Regular expressions are used to validate input data. For example, you can use them to check if a user-provided email address or phone number is in the correct format.\n",
    "\n",
    "- Search and Replace: They enable you to search for specific patterns in a text and replace them with something else. This is useful for tasks like cleaning up data or making text substitutions.\n",
    "\n",
    "- Parsing and Tokenization: Regular expressions are essential for breaking down text into smaller units or tokens. This is used in tasks like natural language processing and compiler design.\n",
    "\n",
    "- Web Scraping: When extracting data from websites, regular expressions can be used to locate and extract specific elements or information from HTML pages.\n",
    "\n",
    "- Log File Analysis: Regular expressions are invaluable for searching and parsing log files, allowing you to extract important information or identify patterns of interest.\n",
    "\n",
    "- Pattern Validation: They are used to validate whether a string adheres to a specific pattern or format, such as checking if a password meets certain criteria.\n",
    "\n",
    "- Data Transformation and Cleaning: Regular expressions can be used to clean and transform text data. For example, removing unnecessary characters or formatting.\n",
    "\n",
    "- Language Agnostic: Regular expressions are supported by most programming languages, making them a versatile tool that can be applied in a wide range of contexts.\n",
    "\n",
    "Efficiency: When used correctly, regular expressions can provide very efficient search and match operations, especially for complex patterns."
   ]
  },
  {
   "cell_type": "markdown",
   "metadata": {},
   "source": [
    "Overall, regular expressions are a fundamental tool for working with text data and are an essential skill for tasks ranging from data preprocessing to text analysis and beyond. They provide a flexible and powerful means to perform complex pattern matching operations."
   ]
  },
  {
   "cell_type": "markdown",
   "metadata": {},
   "source": [
    "## Applications of Regular Expressions\n",
    "\n",
    "Regular expressions (regex) find applications in a wide range of real-time scenarios across various domains. Here are some of the most important applications of regex:\n",
    "\n",
    "- Data Validation and Form Input:\n",
    "Ensuring that user-provided data (like email addresses, phone numbers, passwords, etc.) adhere to specified formats before processing.\n",
    "\n",
    "- Search and Replace in Text Editors:\n",
    "find and replace operations in text editors or IDEs, allowing for quick and precise changes in code or documents.\n",
    "\n",
    "- Log File Parsing and Analysis:\n",
    "Extracting relevant information from log files, helping to identify patterns, errors, or anomalies in system logs.\n",
    "\n",
    "- Web Scraping and Data Extraction:\n",
    "Extracting specific information from web pages, like email addresses, phone numbers, product names, etc., for further analysis.\n",
    "\n",
    "- Data Cleaning and Transformation:\n",
    "Preprocessing text data by removing unnecessary characters, fixing formatting issues, and standardizing data for analysis.\n",
    "\n",
    "- Search Engines and Information Retrieval:\n",
    "Powering search engines for matching user queries to relevant content on websites or databases.\n",
    "\n",
    "- URL Routing and Validation:\n",
    "Validating and parsing URLs to ensure they follow the correct format and extracting specific parameters from them.\n",
    "\n",
    "- Lexical Analysis in Compiler Design:\n",
    "Tokenizing source code into meaningful units for further processing by a compiler.\n",
    "\n",
    "- Natural Language Processing (NLP):\n",
    "Tokenizing sentences or words, extracting entities (like names, dates, locations), and performing advanced text processing tasks.\n",
    "\n",
    "- Network Security and Firewall Rules:\n",
    "Defining and enforcing rules for allowing or blocking specific types of traffic based on patterns in network traffic logs.\n",
    "\n",
    "- Database Querying and Validation:\n",
    "Validating and querying databases for specific patterns or formats, such as social security numbers, credit card numbers, etc.\n",
    "\n",
    "- Formal Language Theory and Automata:\n",
    "In computer science theory, regex is used in the definition of regular languages and finite automata.\n",
    "\n",
    "- Validation of Configuration Files:\n",
    "Ensuring that configuration files for software or systems follow the correct syntax and structure.\n",
    "\n",
    "- Extracting Metadata from Documents:\n",
    "Parsing documents (like PDFs, Word documents) to extract metadata such as titles, authors, dates, etc.\n",
    "\n",
    "- URL Rewriting in Web Servers:\n",
    "Modifying URLs on the fly to improve SEO or to direct traffic to specific pages.\n",
    "\n",
    "- Pattern Matching in DNA Sequences:\n",
    "Identifying specific genetic sequences or motifs in DNA for biological research."
   ]
  },
  {
   "cell_type": "markdown",
   "metadata": {},
   "source": [
    "These are just some of the many real-time applications of regular expressions. Their versatility and powerful pattern-matching capabilities make them an invaluable tool in various fields of computer science and data processing."
   ]
  },
  {
   "cell_type": "markdown",
   "metadata": {},
   "source": [
    "References for Practice\n",
    "Try to solve all the interactive tutorial from below mentioned website:\n",
    "\n",
    "https://regexone.com/lesson/introduction_abcs\n",
    "\n",
    "https://regex101.com"
   ]
  },
  {
   "cell_type": "markdown",
   "metadata": {},
   "source": [
    "### Meta Characters\n",
    "., ^, $, *, +, ?, { }, [ ], (), |, \\"
   ]
  },
  {
   "cell_type": "markdown",
   "metadata": {},
   "source": [
    "User-defined Character Classes\n",
    "[abc] - Match either a or b or c\n",
    "[^abc] - Match any character except a or b or c\n",
    "[a-z] - Match a lower case english alphabet character\n",
    "[A-Z] - Match an upper case english alphabet character\n",
    "[a-zA-Z] - Match any english alphabet character\n",
    "[0-9] - Match any digit character\n",
    "[a-zA-Z0-9_] - Match any alphanumeric character\n",
    "[^a-zA-Z0-9_] - Match any character except alphanumeric character"
   ]
  },
  {
   "cell_type": "markdown",
   "metadata": {},
   "source": [
    "Pre-defined Character Classes\n",
    "\\d - Match a digit character i.e. [0-9]\n",
    "\\D - Match any character except digit character. i.e. [^0-9]\n",
    "\\w - Match an alpha-numeric character i.e. [a-zA-Z0-9_]\n",
    "\\W - Match any character except alpha-numeric character i.e. [^a-zA-Z0-9_]\n",
    "\\s - Match a space character.\n",
    "\\S - Match any character except space.\n",
    "\\t - Match a tab character.\n",
    "\\n - Match a next line character."
   ]
  },
  {
   "cell_type": "markdown",
   "metadata": {},
   "source": [
    "Quantifiers\n",
    "a* - Match zero or more number of characters\n",
    "a+ - Match one or more number of characters\n",
    "a? - Match atmost 1 character i.e. 0 or 1\n",
    "a{n} - Match exactly n number of character\n",
    "a{m, n} - Match atleast m number and atmost n number of characters"
   ]
  },
  {
   "cell_type": "markdown",
   "metadata": {},
   "source": [
    "Groups\n",
    "Capturing Groups - (X)\n",
    "Non Capturing Groups - (?:X)"
   ]
  },
  {
   "cell_type": "markdown",
   "metadata": {},
   "source": [
    "Importing the required module"
   ]
  },
  {
   "cell_type": "code",
   "execution_count": 1,
   "metadata": {},
   "outputs": [],
   "source": [
    "import re"
   ]
  },
  {
   "cell_type": "markdown",
   "metadata": {},
   "source": [
    "re.fullmatch()\n",
    "It returns a match object if and only if the entire string matches the pattern. Otherwise, it will return None."
   ]
  },
  {
   "cell_type": "markdown",
   "metadata": {},
   "source": [
    "Regular Expression to match a Nigeria number\n",
    "\n",
    "- Rules:\n",
    "1. should start with +234\n",
    "2. should contain exactly 14 digit"
   ]
  },
  {
   "cell_type": "code",
   "execution_count": 18,
   "metadata": {},
   "outputs": [
    {
     "name": "stdout",
     "output_type": "stream",
     "text": [
      "\u001b[32m +2347083446114 is valid\n"
     ]
    }
   ],
   "source": [
    "import re\n",
    "number = input('Enter your number: +2347083446114')\n",
    "regex = r'[+][234]+\\d{0,14}'\n",
    "match = re.fullmatch(regex, number)\n",
    "if match:\n",
    "    print('\\033[32m',number, 'is valid')\n",
    "else:\n",
    "    print('\\033[31m',number, 'not valid')"
   ]
  },
  {
   "cell_type": "code",
   "execution_count": 23,
   "metadata": {},
   "outputs": [
    {
     "name": "stdout",
     "output_type": "stream",
     "text": [
      "90909090909 not valid.\n"
     ]
    }
   ],
   "source": [
    "# Step 1 - Ask the user to enter a phone number\n",
    "user_entered_mobile_number = input(\"Enter a mobile number to validate: \")\n",
    "\n",
    "# Step 2 - Create a regex pattern for Indian Phone Numbers\n",
    "regex = r\"[6-9]\\d{9}\"\n",
    "\n",
    "# Step 3 - Match the Regex with the user entered mobile number\n",
    "match = re.fullmatch(regex, user_entered_mobile_number)\n",
    "\n",
    "# Step 4 - If match exist, print \"Valid\"\n",
    "if match:\n",
    "    print(user_entered_mobile_number, 'is valid.')\n",
    "else:\n",
    "    print(user_entered_mobile_number, 'not valid.')"
   ]
  },
  {
   "cell_type": "markdown",
   "metadata": {},
   "source": [
    "Preceding r in a string\n",
    "The 'r' at the start of the pattern string designates a python \"raw\" string.\n",
    "The 'r' means that the string is to be treated as a raw string, which means all escape codes will be ignored.\n",
    "For an example:\n",
    "'\\n' will be treated as a newline character, while r'\\n' will be treated as the characters \\ followed by n."
   ]
  },
  {
   "cell_type": "code",
   "execution_count": 19,
   "metadata": {},
   "outputs": [
    {
     "name": "stdout",
     "output_type": "stream",
     "text": [
      "This is the first line. \n",
      "\n",
      "There are two new lines before this line.\n"
     ]
    }
   ],
   "source": [
    "print('This is the first line. \\n')\n",
    "print('There are two new lines before this line.')"
   ]
  },
  {
   "cell_type": "code",
   "execution_count": 20,
   "metadata": {},
   "outputs": [
    {
     "name": "stdout",
     "output_type": "stream",
     "text": [
      "This is the first line. \\n\n",
      "There are two new lines before this line.\n"
     ]
    }
   ],
   "source": [
    "print(r'This is the first line. \\n')\n",
    "print(r'There are two new lines before this line.')"
   ]
  },
  {
   "cell_type": "markdown",
   "metadata": {},
   "source": [
    "Regular Expression to validate a Python Identifier\n",
    "\n",
    "- Rules:\n",
    "Should contain only alpha-numeric character (i.e. No special characters allowed)\n",
    "Should never start with a digit\n",
    "Has no length limit\n",
    "Reserved words or keywords not allowed"
   ]
  },
  {
   "cell_type": "code",
   "execution_count": 24,
   "metadata": {},
   "outputs": [
    {
     "name": "stdout",
     "output_type": "stream",
     "text": [
      "dristol_123 is valid.\n"
     ]
    }
   ],
   "source": [
    "identifier = input('Enter any identifier to validate')\n",
    "regex = r'[a-zA-z_]\\w*'\n",
    "match = re.fullmatch(regex,identifier)\n",
    "if match:\n",
    "    print(identifier, 'is valid.')\n",
    "else:\n",
    "    print(identifier, 'not valid.')"
   ]
  },
  {
   "cell_type": "code",
   "execution_count": null,
   "metadata": {},
   "outputs": [],
   "source": [
    "# Reserved word or keywords not allowed"
   ]
  },
  {
   "cell_type": "code",
   "execution_count": 26,
   "metadata": {},
   "outputs": [
    {
     "name": "stdout",
     "output_type": "stream",
     "text": [
      "You have entered a pre-defined python keyword.\n"
     ]
    }
   ],
   "source": [
    "# Create a list of predefined keywords in Python\n",
    "keywords = ['if', 'for', 'def', 'while', 'True', 'False', \"None\"]\n",
    "\n",
    "# Step 1 - Ask the user to enter a python identifier\n",
    "user_defined_identifier = input(\"Enter any identifier to validate:\")\n",
    "\n",
    "# Step 2 - Create a regex pattern for a valid Python Identifier\n",
    "regex = r\"[a-zA-Z_]\\w*\"\n",
    "\n",
    "# Step 3 - Match the Regex with the user entered identifier\n",
    "match = re.fullmatch(regex, user_defined_identifier)\n",
    "\n",
    "# Step 4 - If match exist, print \"Valid\"\n",
    "if user_defined_identifier in keywords:\n",
    "    print(\"You have entered a pre-defined python keyword.\")\n",
    "elif match:\n",
    "    print(user_defined_identifier, 'is valid.')\n",
    "else:\n",
    "    print(user_defined_identifier, 'not valid.')"
   ]
  },
  {
   "cell_type": "markdown",
   "metadata": {},
   "source": [
    "re.findall()\n",
    "It iterates over a string to find a subset of characters that match a specified pattern. It will return a list of every pattern match that occurs in a given string. The string is scanned left-to-right, and matches are returned in the order found.\n",
    "\n",
    "re.findall()\n",
    "It iterates over a string to find a subset of characters that match a specified pattern. It will return a list of every pattern match that occurs in a given string. The string is scanned left-to-right, and matches are returned in the order found.\n",
    "\n",
    "- Syntax\n",
    "import re\n",
    "re.findall(<regex_pattern>, string)"
   ]
  },
  {
   "cell_type": "code",
   "execution_count": 32,
   "metadata": {},
   "outputs": [],
   "source": [
    "string = \"\"\"MediaTek MT8183 Processor4 GB LPDDR4 RAMAndroid Operating System29.46 cm (11.6 Inch) Display1 Year Pick and Drop Warranty\n",
    "Intel Core i5 Processor (11th Gen)8 GB DDR4 RAMWindows 11 Operating System512 GB SSD39.62 cm (15.6 Inch) Display1 Year Carry-in Warranty\n",
    "AMD Athlon Dual Core Processor8 GB DDR4 RAMWindows 11 Operating System512 GB SSD39.62 cm (15.6 Inch) Display1 Year Onsite Warranty\n",
    "Apple M2 Processor8 GB Unified Memory RAMMac OS Operating System256 GB SSD34.54 cm (13.6 Inch) DisplayBuilt-in Apps: iMovie, Siri, GarageBand, Pages, Numbers, Photos, Keynote, Safari, Mail, FaceTime, Messages, Maps, Stocks, Home, Voice Memos, Notes, Calendar, Contacts, Reminders, Photo Booth, Preview, Books, App Store, Time Machine, TV, Music, Podcasts, Find My, QuickTime Player1 Year Limited Warranty\n",
    "Intel Core i3 Processor (10th Gen)8 GB LPDDR4X RAM64 bit Windows 11 Operating System512 GB SSD39.62 cm (15.6 inch) Display1 Year Onsite Warranty\n",
    "AMD Athlon Dual Core Processor4 GB DDR4 RAMDOS Operating System256 GB SSD39.62 cm (15.6 Inch) Display1 Year Onsite Warranty\n",
    "Intel Celeron Dual Core Processor (4th Gen)8 GB DDR4 RAM64 bit Windows 11 Operating System256 GB SSD39.62 cm (15.6 inch) Display1 Years\n",
    "MediaTek MT8183 Processor4 GB LPDDR4 RAMAndroid Operating System29.46 cm (11.6 Inch) Display1 Year Pick and Drop Warranty\n",
    "Intel Core i3 Processor (12th Gen)8 GB LPDDR5 RAM64 bit Windows 11 Operating System256 GB SSD39.62 cm (15.6 Inch) Display1 Year International Travelers Warranty\n",
    "AMD Ryzen 5 Hexa Core Processor8 GB DDR4 RAM64 bit Windows 11 Operating System512 GB SSD39.62 cm (15.6 inch) DisplayMicrosoft Office Home 2019 & Office 365, HP Documentation, HP SSRM, HP Smart1 Year Onsite Warranty\n",
    "\"\"\""
   ]
  },
  {
   "cell_type": "markdown",
   "metadata": {},
   "source": [
    "Extract the processor Details"
   ]
  },
  {
   "cell_type": "code",
   "execution_count": 28,
   "metadata": {},
   "outputs": [
    {
     "data": {
      "text/plain": [
       "['Intel Core i5 Processor',\n",
       " 'AMD Athlon Dual Core Processor',\n",
       " 'Apple M2 Processor',\n",
       " 'Intel Core i3 Processor',\n",
       " 'AMD Athlon Dual Core Processor',\n",
       " 'Intel Celeron Dual Core Processor',\n",
       " 'Intel Core i3 Processor',\n",
       " 'AMD Ryzen 5 Hexa Core Processor']"
      ]
     },
     "execution_count": 28,
     "metadata": {},
     "output_type": "execute_result"
    }
   ],
   "source": [
    "regex = r'(?:MediaTex|AMD|Intel|Apple)[\\s\\w]+Processor'\n",
    "re.findall(regex,string)"
   ]
  },
  {
   "cell_type": "markdown",
   "metadata": {},
   "source": [
    "Extract the RAM Details"
   ]
  },
  {
   "cell_type": "code",
   "execution_count": 29,
   "metadata": {},
   "outputs": [
    {
     "data": {
      "text/plain": [
       "['4 GB LPDDR4 RAM',\n",
       " '(11th Gen)8 GB DDR4 RAM',\n",
       " '8 GB DDR4 RAM',\n",
       " '8 GB Unified Memory RAM',\n",
       " '(10th Gen)8 GB LPDDR4X RAM',\n",
       " '4 GB DDR4 RAM',\n",
       " '(4th Gen)8 GB DDR4 RAM',\n",
       " '4 GB LPDDR4 RAM',\n",
       " '(12th Gen)8 GB LPDDR5 RAM',\n",
       " '8 GB DDR4 RAM']"
      ]
     },
     "execution_count": 29,
     "metadata": {},
     "output_type": "execute_result"
    }
   ],
   "source": [
    "regex = r'(?:\\([\\w\\s]+\\))?\\d+\\sGB[\\s\\w]+RAM'\n",
    "re.findall(regex,string)"
   ]
  },
  {
   "cell_type": "markdown",
   "metadata": {},
   "source": [
    "Extracting the OS Details"
   ]
  },
  {
   "cell_type": "code",
   "execution_count": 36,
   "metadata": {},
   "outputs": [
    {
     "data": {
      "text/plain": [
       "['Android Operating System',\n",
       " 'Windows 11 Operating System',\n",
       " 'Windows 11 Operating System',\n",
       " 'Mac OS Operating System',\n",
       " '64 bit Windows 11 Operating System',\n",
       " 'DOS Operating System',\n",
       " '64 bit Windows 11 Operating System',\n",
       " 'Android Operating System',\n",
       " '64 bit Windows 11 Operating System',\n",
       " '64 bit Windows 11 Operating System']"
      ]
     },
     "execution_count": 36,
     "metadata": {},
     "output_type": "execute_result"
    }
   ],
   "source": [
    "regex = r'(?:\\d+\\sbit|Android|Mac|Window|DOS)[\\s\\w]+Operating System'\n",
    "\n",
    "re.findall(regex, string)"
   ]
  },
  {
   "cell_type": "markdown",
   "metadata": {},
   "source": [
    "Extracting Storage Details"
   ]
  },
  {
   "cell_type": "code",
   "execution_count": 37,
   "metadata": {},
   "outputs": [
    {
     "data": {
      "text/plain": [
       "['512 GB SSD',\n",
       " '512 GB SSD',\n",
       " '256 GB SSD',\n",
       " '512 GB SSD',\n",
       " '256 GB SSD',\n",
       " '256 GB SSD',\n",
       " '256 GB SSD',\n",
       " '512 GB SSD']"
      ]
     },
     "execution_count": 37,
     "metadata": {},
     "output_type": "execute_result"
    }
   ],
   "source": [
    "regex = r'[\\d]+\\s(?:GB|TB)\\s(?:HDD|SSD)'\n",
    "\n",
    "re.findall(regex, string)"
   ]
  },
  {
   "cell_type": "markdown",
   "metadata": {},
   "source": [
    "Extract Display Details"
   ]
  },
  {
   "cell_type": "code",
   "execution_count": 38,
   "metadata": {},
   "outputs": [
    {
     "data": {
      "text/plain": [
       "['29.46 cm (11.6 Inch) Display',\n",
       " '39.62 cm (15.6 Inch) Display',\n",
       " '39.62 cm (15.6 Inch) Display',\n",
       " '34.54 cm (13.6 Inch) Display',\n",
       " '39.62 cm (15.6 inch) Display',\n",
       " '39.62 cm (15.6 Inch) Display',\n",
       " '39.62 cm (15.6 inch) Display',\n",
       " '29.46 cm (11.6 Inch) Display',\n",
       " '39.62 cm (15.6 Inch) Display',\n",
       " '39.62 cm (15.6 inch) Display']"
      ]
     },
     "execution_count": 38,
     "metadata": {},
     "output_type": "execute_result"
    }
   ],
   "source": [
    "regex = r'\\d+\\.?\\d+\\scm.*Display'\n",
    "\n",
    "re.findall(regex, string)"
   ]
  },
  {
   "cell_type": "markdown",
   "metadata": {},
   "source": [
    "Extract the warranty Details"
   ]
  },
  {
   "cell_type": "code",
   "execution_count": 39,
   "metadata": {},
   "outputs": [
    {
     "data": {
      "text/plain": [
       "['1 Year Pick and Drop Warranty',\n",
       " '1 Year Carry-in Warranty',\n",
       " '1 Year Onsite Warranty',\n",
       " '1 Year Limited Warranty',\n",
       " '1 Year Onsite Warranty',\n",
       " '1 Year Onsite Warranty',\n",
       " '1 Year Pick and Drop Warranty',\n",
       " '1 Year International Travelers Warranty',\n",
       " '1 Year Onsite Warranty']"
      ]
     },
     "execution_count": 39,
     "metadata": {},
     "output_type": "execute_result"
    }
   ],
   "source": [
    "regex = r'\\d\\sYear.*Warranty'\n",
    "re.findall(regex,string)"
   ]
  },
  {
   "cell_type": "markdown",
   "metadata": {},
   "source": [
    "Search and Replace"
   ]
  },
  {
   "cell_type": "code",
   "execution_count": 40,
   "metadata": {},
   "outputs": [
    {
     "name": "stdout",
     "output_type": "stream",
     "text": [
      "a#b#j#k#h#\n"
     ]
    }
   ],
   "source": [
    "# re.sub(pattern, replacement, targetString)\n",
    "import re\n",
    "s = re.sub('\\d', '#','a7b6j9k2h4')\n",
    "print(s)"
   ]
  },
  {
   "cell_type": "code",
   "execution_count": 46,
   "metadata": {},
   "outputs": [
    {
     "name": "stdout",
     "output_type": "stream",
     "text": [
      "Phone num:  0708-344-6114\n",
      "Phone number:  0708-344-6114\n",
      "07083446114\n",
      "####-###-####\n"
     ]
    }
   ],
   "source": [
    "number = '0708-344-6114'\n",
    "print('Phone num: ', number)\n",
    "num = re.sub('#.*$','',number)\n",
    "print('Phone number: ', num)\n",
    "num = re.sub('\\D','',number)\n",
    "print(num)\n",
    "#To change the digit to #\n",
    "hash = re.sub('\\d','#',number)\n",
    "print(hash)"
   ]
  },
  {
   "cell_type": "code",
   "execution_count": 47,
   "metadata": {},
   "outputs": [
    {
     "name": "stdout",
     "output_type": "stream",
     "text": [
      "Your contact has been saved ***********\n"
     ]
    }
   ],
   "source": [
    "phone = input('Enter your phone number: ')\n",
    "match = re.sub('\\d','*',phone)\n",
    "print('Your contact has been saved', match)"
   ]
  },
  {
   "cell_type": "markdown",
   "metadata": {},
   "source": [
    "re.split()"
   ]
  },
  {
   "cell_type": "code",
   "execution_count": 48,
   "metadata": {},
   "outputs": [
    {
     "name": "stdout",
     "output_type": "stream",
     "text": [
      "['I', 'learn', 'python', 'regex']\n"
     ]
    }
   ],
   "source": [
    "l = re.split('-','I-learn-python-regex')\n",
    "print(l)"
   ]
  },
  {
   "cell_type": "code",
   "execution_count": 49,
   "metadata": {},
   "outputs": [
    {
     "name": "stdout",
     "output_type": "stream",
     "text": [
      "['abcdefg', 'gmail', 'com']\n"
     ]
    }
   ],
   "source": [
    "l=re.split('\\W', 'abcdefg@gmail.com')\n",
    "print(l)"
   ]
  },
  {
   "cell_type": "code",
   "execution_count": 50,
   "metadata": {},
   "outputs": [
    {
     "name": "stdout",
     "output_type": "stream",
     "text": [
      "['www', 'github', 'com']\n"
     ]
    }
   ],
   "source": [
    "l = re.split('[.]', 'www.github.com')\n",
    "\n",
    "print(l)"
   ]
  },
  {
   "cell_type": "markdown",
   "metadata": {},
   "source": [
    "Step by Step creating RegEx\n",
    "STEP-1 : Create pattern object"
   ]
  },
  {
   "cell_type": "code",
   "execution_count": 51,
   "metadata": {},
   "outputs": [
    {
     "name": "stdout",
     "output_type": "stream",
     "text": [
      "<class 're.Pattern'>\n"
     ]
    }
   ],
   "source": [
    "# compile() -> convert the pattern into regex object\n",
    "\n",
    "import re\n",
    "\n",
    "pattern = re.compile('Python')\n",
    "print(type(pattern))"
   ]
  },
  {
   "cell_type": "markdown",
   "metadata": {},
   "source": [
    "step2: create matcher object"
   ]
  },
  {
   "cell_type": "code",
   "execution_count": 52,
   "metadata": {},
   "outputs": [
    {
     "name": "stdout",
     "output_type": "stream",
     "text": [
      "<class 'callable_iterator'>\n"
     ]
    }
   ],
   "source": [
    "# finditer() -> we can check how many matcher are available\n",
    "\n",
    "matcher = pattern.finditer('I  Python am learning python Regex in Python!')\n",
    "print(type(matcher))"
   ]
  },
  {
   "cell_type": "code",
   "execution_count": 53,
   "metadata": {},
   "outputs": [
    {
     "name": "stdout",
     "output_type": "stream",
     "text": [
      "<class 're.Match'>\n",
      "Match is at:3, End:9, Pattern found: Python\n",
      "<class 're.Match'>\n",
      "Match is at:38, End:44, Pattern found: Python\n",
      "DONE!!\n"
     ]
    }
   ],
   "source": [
    "#step3: Iterate over the matcher\n",
    "# start() -> starting index of matched string\n",
    "# end() -> end+1 index\n",
    "# group() -> returns matched \n",
    "for m in matcher:\n",
    "    print(type(m))\n",
    "    print('Match is at:{}, End:{}, Pattern found: {}'.\n",
    "          format(m.start(), m.end(), m.group()))\n",
    "print('DONE!!')"
   ]
  },
  {
   "cell_type": "code",
   "execution_count": 2,
   "metadata": {},
   "outputs": [
    {
     "name": "stdout",
     "output_type": "stream",
     "text": [
      "Match is at: 0, End 1, patter found: a\n",
      "Match is at: 2, End 3, patter found: a\n",
      "Match is at: 3, End 4, patter found: a\n",
      "Match is at: 5, End 6, patter found: a\n",
      "Match is at: 7, End 8, patter found: a\n",
      "Total count:  5\n"
     ]
    }
   ],
   "source": [
    "import re\n",
    "matcher = re.finditer('a', 'abaababa')\n",
    "count = 0\n",
    "for m in matcher:\n",
    "    count +=1\n",
    "    print('Match is at: {}, End {}, patter found: {}'.format(m.start(),m.end(),m.group()))\n",
    "print('Total count: ', count)"
   ]
  },
  {
   "cell_type": "code",
   "execution_count": 3,
   "metadata": {},
   "outputs": [
    {
     "name": "stdout",
     "output_type": "stream",
     "text": [
      "Match is at: 0, End: 1, Pattern found: a\n",
      "Match is at: 2, End: 4, Pattern found: aa\n",
      "Match is at: 5, End: 6, Pattern found: a\n",
      "Match is at: 7, End: 8, Pattern found: a\n",
      "Total count:  4\n"
     ]
    }
   ],
   "source": [
    "matcher = re.finditer('a+', 'abaababa')\n",
    "\n",
    "count = 0\n",
    "\n",
    "for m in matcher:\n",
    "    count += 1\n",
    "    print('Match is at: {}, End: {}, Pattern found: {}'.format(m.start(), m.end(), m.group()))\n",
    "print('Total count: ',count)"
   ]
  },
  {
   "cell_type": "code",
   "execution_count": 4,
   "metadata": {},
   "outputs": [
    {
     "name": "stdout",
     "output_type": "stream",
     "text": [
      "Match is at: 0, End: 1, Pattern found: a\n",
      "Match is at: 1, End: 1, Pattern found: \n",
      "Match is at: 2, End: 3, Pattern found: a\n",
      "Match is at: 3, End: 4, Pattern found: a\n",
      "Match is at: 4, End: 4, Pattern found: \n",
      "Match is at: 5, End: 6, Pattern found: a\n",
      "Match is at: 6, End: 6, Pattern found: \n",
      "Match is at: 7, End: 8, Pattern found: a\n",
      "Match is at: 8, End: 8, Pattern found: \n",
      "Total count:  9\n"
     ]
    }
   ],
   "source": [
    "matcher = re.finditer('a?', 'abaababa')\n",
    "\n",
    "count = 0\n",
    "\n",
    "for m in matcher:\n",
    "    count += 1\n",
    "    print('Match is at: {}, End: {}, Pattern found: {}'.format(m.start(), m.end(), m.group()))\n",
    "print('Total count: ',count)"
   ]
  },
  {
   "cell_type": "markdown",
   "metadata": {},
   "source": [
    "#### re.match()\n",
    "\n",
    "Used to match the given pattern at the beginning of the target string\n",
    "If it finds the pattern than returns match object.\n",
    "Now we can use start(), end(), group() with match object\n",
    "If nothing found then retuns None.\n"
   ]
  },
  {
   "cell_type": "code",
   "execution_count": 8,
   "metadata": {},
   "outputs": [
    {
     "name": "stdout",
     "output_type": "stream",
     "text": [
      "<class 're.Match'>\n",
      "Match found at beginning of the string.\n",
      "Match is at: 0, End: 8, Pattern found: abcdefgh\n"
     ]
    }
   ],
   "source": [
    "import re\n",
    "\n",
    "regex = input('Enter pattern: ')\n",
    "m = re.match(regex, 'abcdefgh')\n",
    "print(type(m))\n",
    "if m == None:\n",
    "    print('Match is not available at the beginning of the string')\n",
    "else:\n",
    "    print('Match found at beginning of the string.')\n",
    "    print('Match is at: {}, End: {}, Pattern found: {}'.format(m.start(), m.end(), m.group()))\n",
    "    \n",
    "\n"
   ]
  },
  {
   "cell_type": "markdown",
   "metadata": {},
   "source": [
    "### re.search()\n",
    "\n",
    "search the target irrespective of the location\n",
    "If match is found returns the first occurence otherwie returns None.\n",
    "If it finds the pattern than returns match object.\n",
    "Now we can use start(), end(), group() with match object\n",
    "If nothing found then retuns None.\n"
   ]
  },
  {
   "cell_type": "code",
   "execution_count": 12,
   "metadata": {},
   "outputs": [
    {
     "name": "stdout",
     "output_type": "stream",
     "text": [
      "Match available.\n",
      "First occurance is at: 1, End: 4, Pattern found: bcd\n"
     ]
    }
   ],
   "source": [
    "import re\n",
    "regex = input('Enter pattern: ')\n",
    "\n",
    "m = re.search(regex, 'abcdefghi')\n",
    "\n",
    "if m != None:\n",
    "    print('Match available.')\n",
    "    print('First occurance is at: {}, End: {}, Pattern found: {}'.format(m.start(), m.end(), m.group()))\n",
    "\n",
    "else:\n",
    "    print('Match is not available in the whole string!')"
   ]
  },
  {
   "cell_type": "markdown",
   "metadata": {},
   "source": [
    "### re.match() vs re.search()"
   ]
  },
  {
   "cell_type": "code",
   "execution_count": 13,
   "metadata": {},
   "outputs": [
    {
     "name": "stdout",
     "output_type": "stream",
     "text": [
      "NO MATCH\n",
      "SEARCH SUCC\n"
     ]
    }
   ],
   "source": [
    "target = 'Dogs are better than cats'\n",
    "\n",
    "pattern = 'cats'\n",
    "\n",
    "m = re.match(pattern, target)\n",
    "\n",
    "if m == None:\n",
    "    print('NO MATCH')\n",
    "else:\n",
    "    print('MATCH SUCC')\n",
    "    \n",
    "m = re.search(pattern, target)\n",
    "\n",
    "if m == None:\n",
    "    print('NO SEARCH')\n",
    "else:\n",
    "    print('SEARCH SUCC')"
   ]
  },
  {
   "cell_type": "code",
   "execution_count": 17,
   "metadata": {},
   "outputs": [
    {
     "name": "stdout",
     "output_type": "stream",
     "text": [
      "Not Cool!!\n"
     ]
    }
   ],
   "source": [
    "# Other examples\n",
    "#re.IGNORECASE flag\n",
    "import re\n",
    "s = 'I am learning Python'\n",
    "m = re.search('python$', s)\n",
    "if m:\n",
    "    print('Cool!!')\n",
    "    \n",
    "else:\n",
    "    print('Not Cool!!')"
   ]
  }
 ],
 "metadata": {
  "kernelspec": {
   "display_name": "Python 3",
   "language": "python",
   "name": "python3"
  },
  "language_info": {
   "codemirror_mode": {
    "name": "ipython",
    "version": 3
   },
   "file_extension": ".py",
   "mimetype": "text/x-python",
   "name": "python",
   "nbconvert_exporter": "python",
   "pygments_lexer": "ipython3",
   "version": "3.9.2"
  },
  "orig_nbformat": 4
 },
 "nbformat": 4,
 "nbformat_minor": 2
}
