{
 "cells": [
  {
   "cell_type": "markdown",
   "metadata": {},
   "source": [
    "# Case Study - Diamond Price Prediction\n",
    "\n",
    "Business Understanding\n",
    "Diamond is one of the strongest and the most valuable substances produced naturally as a form of carbon. However, unlike gold and silver, determining the price of a diamond is very complex because many features are to be considered for determining its price.\n",
    "\n",
    "The value of diamonds depends upon their structure, cut, inclusions (impurity), carats, and many other features. The uses of diamonds are many, such as in industries, as they are effective in cutting, polishing, and drilling. Since diamonds are extremely valuable, they have been traded across different countries for centuries now and this trade only increases with time. They are graded and certified based on the \"four Cs\", which are color, cut, clarity, and carat. These are the only metrics that are being used to the quality of diamonds and sets the price of the diamond. This metric allows uniform understanding for people across the world to buy diamonds, which allows ease of trade and value for what is purchased."
   ]
  },
  {
   "cell_type": "markdown",
   "metadata": {},
   "source": [
    "Understanding the 4 C's\n",
    " Cut\n",
    " Color\n",
    " Clarity\n",
    " Carat\n",
    "Credits - https://www.brides.com/story/choosing-engagement-ring-four-cs"
   ]
  },
  {
   "cell_type": "markdown",
   "metadata": {},
   "source": [
    "## Problem Statement\n",
    "\n",
    "Build a system which can take features of diamond like carat, cut, color, clarity, x, y, z, etc.. and predicts the price of diamond.\n",
    "\n",
    "Case Study Agenda\n",
    "In this notebook, you will learn:\n",
    "\n",
    "1. How to split the given data into Train and Test?\n",
    "2. How to perform Feature Engineering on Categorical and Numerical Features.\n",
    " Categorical Columns - OneHotEncoding and LabelEncoding\n",
    " Numerical Columns - Standardization and Normalization\n",
    "3. How to build ML models that can predict Price of a Diamond?"
   ]
  },
  {
   "cell_type": "markdown",
   "metadata": {},
   "source": [
    "Import the required libraries"
   ]
  },
  {
   "cell_type": "code",
   "execution_count": 1,
   "metadata": {},
   "outputs": [],
   "source": [
    "import numpy as np \n",
    "import pandas as pd \n",
    "import matplotlib.pyplot as plt \n",
    "import seaborn as sns"
   ]
  },
  {
   "cell_type": "markdown",
   "metadata": {},
   "source": [
    "Load the Data"
   ]
  },
  {
   "cell_type": "code",
   "execution_count": 3,
   "metadata": {},
   "outputs": [
    {
     "data": {
      "text/html": [
       "<div>\n",
       "<style scoped>\n",
       "    .dataframe tbody tr th:only-of-type {\n",
       "        vertical-align: middle;\n",
       "    }\n",
       "\n",
       "    .dataframe tbody tr th {\n",
       "        vertical-align: top;\n",
       "    }\n",
       "\n",
       "    .dataframe thead th {\n",
       "        text-align: right;\n",
       "    }\n",
       "</style>\n",
       "<table border=\"1\" class=\"dataframe\">\n",
       "  <thead>\n",
       "    <tr style=\"text-align: right;\">\n",
       "      <th></th>\n",
       "      <th>carat</th>\n",
       "      <th>cut</th>\n",
       "      <th>color</th>\n",
       "      <th>clarity</th>\n",
       "      <th>depth</th>\n",
       "      <th>table</th>\n",
       "      <th>price</th>\n",
       "      <th>x</th>\n",
       "      <th>y</th>\n",
       "      <th>z</th>\n",
       "    </tr>\n",
       "  </thead>\n",
       "  <tbody>\n",
       "    <tr>\n",
       "      <th>0</th>\n",
       "      <td>0.23</td>\n",
       "      <td>Ideal</td>\n",
       "      <td>E</td>\n",
       "      <td>SI2</td>\n",
       "      <td>61.5</td>\n",
       "      <td>55.0</td>\n",
       "      <td>326</td>\n",
       "      <td>3.95</td>\n",
       "      <td>3.98</td>\n",
       "      <td>2.43</td>\n",
       "    </tr>\n",
       "    <tr>\n",
       "      <th>1</th>\n",
       "      <td>0.21</td>\n",
       "      <td>Premium</td>\n",
       "      <td>E</td>\n",
       "      <td>SI1</td>\n",
       "      <td>59.8</td>\n",
       "      <td>61.0</td>\n",
       "      <td>326</td>\n",
       "      <td>3.89</td>\n",
       "      <td>3.84</td>\n",
       "      <td>2.31</td>\n",
       "    </tr>\n",
       "    <tr>\n",
       "      <th>2</th>\n",
       "      <td>0.23</td>\n",
       "      <td>Good</td>\n",
       "      <td>E</td>\n",
       "      <td>VS1</td>\n",
       "      <td>56.9</td>\n",
       "      <td>65.0</td>\n",
       "      <td>327</td>\n",
       "      <td>4.05</td>\n",
       "      <td>4.07</td>\n",
       "      <td>2.31</td>\n",
       "    </tr>\n",
       "    <tr>\n",
       "      <th>3</th>\n",
       "      <td>0.29</td>\n",
       "      <td>Premium</td>\n",
       "      <td>I</td>\n",
       "      <td>VS2</td>\n",
       "      <td>62.4</td>\n",
       "      <td>58.0</td>\n",
       "      <td>334</td>\n",
       "      <td>4.20</td>\n",
       "      <td>4.23</td>\n",
       "      <td>2.63</td>\n",
       "    </tr>\n",
       "    <tr>\n",
       "      <th>4</th>\n",
       "      <td>0.31</td>\n",
       "      <td>Good</td>\n",
       "      <td>J</td>\n",
       "      <td>SI2</td>\n",
       "      <td>63.3</td>\n",
       "      <td>58.0</td>\n",
       "      <td>335</td>\n",
       "      <td>4.34</td>\n",
       "      <td>4.35</td>\n",
       "      <td>2.75</td>\n",
       "    </tr>\n",
       "  </tbody>\n",
       "</table>\n",
       "</div>"
      ],
      "text/plain": [
       "   carat      cut color clarity  depth  table  price     x     y     z\n",
       "0   0.23    Ideal     E     SI2   61.5   55.0    326  3.95  3.98  2.43\n",
       "1   0.21  Premium     E     SI1   59.8   61.0    326  3.89  3.84  2.31\n",
       "2   0.23     Good     E     VS1   56.9   65.0    327  4.05  4.07  2.31\n",
       "3   0.29  Premium     I     VS2   62.4   58.0    334  4.20  4.23  2.63\n",
       "4   0.31     Good     J     SI2   63.3   58.0    335  4.34  4.35  2.75"
      ]
     },
     "execution_count": 3,
     "metadata": {},
     "output_type": "execute_result"
    }
   ],
   "source": [
    "df = pd.read_csv('diamonds.csv')\n",
    "df.head()"
   ]
  },
  {
   "cell_type": "code",
   "execution_count": 3,
   "metadata": {},
   "outputs": [
    {
     "data": {
      "text/plain": [
       "(53940, 10)"
      ]
     },
     "execution_count": 3,
     "metadata": {},
     "output_type": "execute_result"
    }
   ],
   "source": [
    "df.shape"
   ]
  },
  {
   "cell_type": "code",
   "execution_count": 4,
   "metadata": {},
   "outputs": [
    {
     "data": {
      "text/plain": [
       "Index(['carat', 'cut', 'color', 'clarity', 'depth', 'table', 'price', 'x', 'y',\n",
       "       'z'],\n",
       "      dtype='object')"
      ]
     },
     "execution_count": 4,
     "metadata": {},
     "output_type": "execute_result"
    }
   ],
   "source": [
    "df.columns"
   ]
  },
  {
   "cell_type": "markdown",
   "metadata": {},
   "source": [
    "Data Description\n",
    "Kindly find the data description for the features below:\n",
    "\n",
    "|Feature|\tDescription|\n",
    "-----------------------\n",
    "|price\t|price in US dollars ($ 326 - $ 18,823)|\n",
    "\n",
    "|carat\t|weight of the diamond (0.2 - 5.01)|\n",
    "\n",
    "|cut\t|quality of the cut (Fair, Good, Very Good, Premium, Ideal)|\n",
    "\n",
    "|color\t|diamond colour, (J (worst) to D (best))|\n",
    "\n",
    "|clarity|\ta measurement of how clear the diamond is (I1 (worst), SI2, SI1, VS2, VS1, VVS2, VVS1, IF (best))|\n",
    "\n",
    "|x\t|length in mm (0 - 10.74)|\n",
    "\n",
    "|y|\twidth in mm (0 - 58.9)|\n",
    "\n",
    "|z\t|depth in mm (0 - 31.8)|\n",
    "\n",
    "|depth|\ttotal depth percentage = z / mean(x, y) = 2 * z / (x + y) (43 - 79)|\n",
    "\n",
    "|table|\twidth of top of diamond relative to widest point (43 - 95)|"
   ]
  },
  {
   "cell_type": "markdown",
   "metadata": {},
   "source": [
    "Exploratory Data Analysis"
   ]
  },
  {
   "cell_type": "code",
   "execution_count": 5,
   "metadata": {},
   "outputs": [
    {
     "data": {
      "text/plain": [
       "(53940, 10)"
      ]
     },
     "execution_count": 5,
     "metadata": {},
     "output_type": "execute_result"
    }
   ],
   "source": [
    "df.shape"
   ]
  },
  {
   "cell_type": "code",
   "execution_count": 6,
   "metadata": {},
   "outputs": [
    {
     "data": {
      "text/plain": [
       "Index(['carat', 'cut', 'color', 'clarity', 'depth', 'table', 'price', 'x', 'y',\n",
       "       'z'],\n",
       "      dtype='object')"
      ]
     },
     "execution_count": 6,
     "metadata": {},
     "output_type": "execute_result"
    }
   ],
   "source": [
    "df.columns"
   ]
  },
  {
   "cell_type": "code",
   "execution_count": 7,
   "metadata": {},
   "outputs": [
    {
     "name": "stdout",
     "output_type": "stream",
     "text": [
      "<class 'pandas.core.frame.DataFrame'>\n",
      "RangeIndex: 53940 entries, 0 to 53939\n",
      "Data columns (total 10 columns):\n",
      " #   Column   Non-Null Count  Dtype  \n",
      "---  ------   --------------  -----  \n",
      " 0   carat    53940 non-null  float64\n",
      " 1   cut      53940 non-null  object \n",
      " 2   color    53940 non-null  object \n",
      " 3   clarity  53940 non-null  object \n",
      " 4   depth    53940 non-null  float64\n",
      " 5   table    53940 non-null  float64\n",
      " 6   price    53940 non-null  int64  \n",
      " 7   x        53940 non-null  float64\n",
      " 8   y        53940 non-null  float64\n",
      " 9   z        53940 non-null  float64\n",
      "dtypes: float64(6), int64(1), object(3)\n",
      "memory usage: 4.1+ MB\n"
     ]
    }
   ],
   "source": [
    "df.info()"
   ]
  },
  {
   "cell_type": "code",
   "execution_count": 8,
   "metadata": {},
   "outputs": [
    {
     "data": {
      "text/plain": [
       "<Axes: title={'center': 'Clarity'}, xlabel='clarity', ylabel='count'>"
      ]
     },
     "execution_count": 8,
     "metadata": {},
     "output_type": "execute_result"
    },
    {
     "data": {
      "image/png": "[encoded data removed]",
      "text/plain": [
       "<Figure size 1200x300 with 3 Axes>"
      ]
     },
     "metadata": {},
     "output_type": "display_data"
    }
   ],
   "source": [
    "fig, axs = plt.subplots(1,3, figsize=(12,3), layout='constrained')\n",
    "fig.suptitle(\"Univariate Plotting - Categorical Features\")\n",
    "\n",
    "axs[0].set_title(\"Cut\")\n",
    "sns.countplot(data=df, x='cut', ax=axs[0])\n",
    "\n",
    "axs[1].set_title(\"Color\")\n",
    "sns.countplot(data=df, x='color', ax=axs[1])\n",
    "\n",
    "axs[2].set_title(\"Clarity\")\n",
    "sns.countplot(data=df, x='clarity', ax=axs[2])"
   ]
  },
  {
   "cell_type": "code",
   "execution_count": 9,
   "metadata": {},
   "outputs": [
    {
     "data": {
      "image/png": "[encoded data removed]",
      "text/plain": [
       "<Figure size 1000x300 with 3 Axes>"
      ]
     },
     "metadata": {},
     "output_type": "display_data"
    }
   ],
   "source": [
    "fig, axs = plt.subplots(1, 3, figsize=(10, 3), constrained_layout=True)\n",
    "fig.suptitle(\"Numerical vs Categorical Feature Visualization with Seaborn\")\n",
    "\n",
    "axs[0].set_title(\"Cut vs Price\")\n",
    "sns.boxplot(data=df, x='price', y='cut', ax=axs[0])\n",
    "\n",
    "axs[1].set_title(\"Color vs Price\")\n",
    "sns.boxplot(data=df, x='price', y='color', ax=axs[1])\n",
    "\n",
    "axs[2].set_title(\"Clarity vs Price\")\n",
    "sns.boxplot(data=df, x='price', y='clarity', ax=axs[2])\n",
    "\n",
    "plt.show()"
   ]
  },
  {
   "cell_type": "code",
   "execution_count": 10,
   "metadata": {},
   "outputs": [
    {
     "name": "stderr",
     "output_type": "stream",
     "text": [
      "/home/idreesy31/.local/lib/python3.9/site-packages/seaborn/_oldcore.py:1119: FutureWarning: use_inf_as_na option is deprecated and will be removed in a future version. Convert inf values to NaN before operating instead.\n",
      "  with pd.option_context('mode.use_inf_as_na', True):\n",
      "/home/idreesy31/.local/lib/python3.9/site-packages/seaborn/_oldcore.py:1119: FutureWarning: use_inf_as_na option is deprecated and will be removed in a future version. Convert inf values to NaN before operating instead.\n",
      "  with pd.option_context('mode.use_inf_as_na', True):\n",
      "/home/idreesy31/.local/lib/python3.9/site-packages/seaborn/_oldcore.py:1119: FutureWarning: use_inf_as_na option is deprecated and will be removed in a future version. Convert inf values to NaN before operating instead.\n",
      "  with pd.option_context('mode.use_inf_as_na', True):\n"
     ]
    },
    {
     "data": {
      "text/plain": [
       "<Axes: title={'center': 'Table'}, xlabel='table', ylabel='Count'>"
      ]
     },
     "execution_count": 10,
     "metadata": {},
     "output_type": "execute_result"
    },
    {
     "data": {
      "image/png": "[encoded data removed]",
      "text/plain": [
       "<Figure size 1200x300 with 3 Axes>"
      ]
     },
     "metadata": {},
     "output_type": "display_data"
    }
   ],
   "source": [
    "fig, axs = plt.subplots(1, 3, figsize=(12, 3), constrained_layout=True)\n",
    "fig.suptitle(\"Univariate Plotting - Numerical Features\")\n",
    "\n",
    "axs[0].set_title(\"Carat\")\n",
    "sns.histplot(data=df, x='carat', ax=axs[0])\n",
    "\n",
    "axs[1].set_title(\"Depth\")\n",
    "sns.histplot(data=df, x='depth', ax=axs[1])\n",
    "\n",
    "axs[2].set_title(\"Table\")\n",
    "sns.histplot(data=df, x='table', ax=axs[2])"
   ]
  },
  {
   "cell_type": "code",
   "execution_count": 11,
   "metadata": {},
   "outputs": [
    {
     "data": {
      "text/plain": [
       "<seaborn.axisgrid.PairGrid at 0x79ea46c8b2b0>"
      ]
     },
     "execution_count": 11,
     "metadata": {},
     "output_type": "execute_result"
    },
    {
     "data": {
      "image/png": "[encoded data removed]",
      "text/plain": [
       "<Figure size 750x250 with 3 Axes>"
      ]
     },
     "metadata": {},
     "output_type": "display_data"
    }
   ],
   "source": [
    "sns.pairplot(data=df,\n",
    "             x_vars=['carat','depth','table'],\n",
    "             y_vars='price')"
   ]
  },
  {
   "cell_type": "code",
   "execution_count": 12,
   "metadata": {},
   "outputs": [
    {
     "name": "stderr",
     "output_type": "stream",
     "text": [
      "/home/idreesy31/.local/lib/python3.9/site-packages/seaborn/_oldcore.py:1119: FutureWarning: use_inf_as_na option is deprecated and will be removed in a future version. Convert inf values to NaN before operating instead.\n",
      "  with pd.option_context('mode.use_inf_as_na', True):\n",
      "/home/idreesy31/.local/lib/python3.9/site-packages/seaborn/_oldcore.py:1119: FutureWarning: use_inf_as_na option is deprecated and will be removed in a future version. Convert inf values to NaN before operating instead.\n",
      "  with pd.option_context('mode.use_inf_as_na', True):\n",
      "/home/idreesy31/.local/lib/python3.9/site-packages/seaborn/_oldcore.py:1119: FutureWarning: use_inf_as_na option is deprecated and will be removed in a future version. Convert inf values to NaN before operating instead.\n",
      "  with pd.option_context('mode.use_inf_as_na', True):\n"
     ]
    },
    {
     "data": {
      "text/plain": [
       "<Axes: title={'center': 'Z'}, xlabel='z', ylabel='Count'>"
      ]
     },
     "execution_count": 12,
     "metadata": {},
     "output_type": "execute_result"
    },
    {
     "data": {
      "image/png": "[encoded data removed]",
      "text/plain": [
       "<Figure size 1200x300 with 3 Axes>"
      ]
     },
     "metadata": {},
     "output_type": "display_data"
    }
   ],
   "source": [
    "fig, axs = plt.subplots(1, 3, figsize=(12, 3), constrained_layout=True)\n",
    "fig.suptitle(\"Univariate Plotting - Numerical Features\")\n",
    "\n",
    "axs[0].set_title(\"X\")\n",
    "sns.histplot(data=df, x='x', ax=axs[0])\n",
    "\n",
    "axs[1].set_title(\"Y\")\n",
    "sns.histplot(data=df, x='y', ax=axs[1])\n",
    "\n",
    "axs[2].set_title(\"Z\")\n",
    "sns.histplot(data=df, x='z', ax=axs[2])"
   ]
  },
  {
   "cell_type": "code",
   "execution_count": 13,
   "metadata": {},
   "outputs": [
    {
     "data": {
      "text/plain": [
       "<seaborn.axisgrid.PairGrid at 0x79ea442223a0>"
      ]
     },
     "execution_count": 13,
     "metadata": {},
     "output_type": "execute_result"
    },
    {
     "data": {
      "image/png": "[encoded data removed]",
      "text/plain": [
       "<Figure size 750x250 with 3 Axes>"
      ]
     },
     "metadata": {},
     "output_type": "display_data"
    }
   ],
   "source": [
    "sns.pairplot(data=df,\n",
    "           x_vars=['x', 'y', 'z'],\n",
    "           y_vars='price')"
   ]
  },
  {
   "cell_type": "markdown",
   "metadata": {},
   "source": [
    "### Data Preparation and Model Building Pipeline\n",
    "\n",
    "1. Identifying the inputs (X) and output (y)\n",
    "2. Split into train and test (X_train, X_test, y_train, y_test)\n",
    "3. Data Preparation: Data Cleaning and Feature Engineering.\n",
    " Clean the training data\n",
    " Preprocess the training data (X_train_transformed)\n",
    "4. Training Phase: Build a model\n",
    "5. Preprocess the test data (X_test_transformed)\n",
    "6. Predict on unseen data\n",
    "7. Evaluate the model performance"
   ]
  },
  {
   "cell_type": "code",
   "execution_count": 4,
   "metadata": {},
   "outputs": [
    {
     "name": "stdout",
     "output_type": "stream",
     "text": [
      "1.3.2\n"
     ]
    }
   ],
   "source": [
    "import sklearn\n",
    "print(sklearn.__version__)"
   ]
  },
  {
   "cell_type": "markdown",
   "metadata": {},
   "source": [
    "Step 1 - Identify Predictors and Target Variables"
   ]
  },
  {
   "cell_type": "code",
   "execution_count": 5,
   "metadata": {},
   "outputs": [],
   "source": [
    "y = df.pop('price')\n",
    "x = df"
   ]
  },
  {
   "cell_type": "markdown",
   "metadata": {},
   "source": [
    "Step 2 - Split the data into train and test"
   ]
  },
  {
   "cell_type": "code",
   "execution_count": 7,
   "metadata": {},
   "outputs": [
    {
     "name": "stdout",
     "output_type": "stream",
     "text": [
      "(40455, 9) (40455,)\n",
      "(13485, 9) (13485,)\n"
     ]
    }
   ],
   "source": [
    "# Split into train and test\n",
    "from sklearn.model_selection import train_test_split\n",
    "x_train, x_test,y_train,y_test = train_test_split(x,y,test_size=0.25, random_state=0)\n",
    "\n",
    "print(x_train.shape, y_train.shape)\n",
    "print(x_test.shape,y_test.shape)"
   ]
  },
  {
   "cell_type": "markdown",
   "metadata": {},
   "source": [
    "Step 3 - Data Preparation: Data Cleaning and Feature Engineering"
   ]
  },
  {
   "cell_type": "code",
   "execution_count": 17,
   "metadata": {},
   "outputs": [
    {
     "data": {
      "text/plain": [
       "carat      float64\n",
       "cut         object\n",
       "color       object\n",
       "clarity     object\n",
       "depth      float64\n",
       "table      float64\n",
       "x          float64\n",
       "y          float64\n",
       "z          float64\n",
       "dtype: object"
      ]
     },
     "execution_count": 17,
     "metadata": {},
     "output_type": "execute_result"
    }
   ],
   "source": [
    "x_train.dtypes"
   ]
  },
  {
   "cell_type": "markdown",
   "metadata": {},
   "source": [
    "Seperate numerical and categorical feature"
   ]
  },
  {
   "cell_type": "code",
   "execution_count": 8,
   "metadata": {},
   "outputs": [],
   "source": [
    "# seperating categorical and numerical columns\n",
    "x_train_cat = x_train.select_dtypes(include=['object'])\n",
    "x_train_num = x_train.select_dtypes(include=['int64','float64'])"
   ]
  },
  {
   "cell_type": "code",
   "execution_count": 20,
   "metadata": {},
   "outputs": [
    {
     "data": {
      "text/html": [
       "<div>\n",
       "<style scoped>\n",
       "    .dataframe tbody tr th:only-of-type {\n",
       "        vertical-align: middle;\n",
       "    }\n",
       "\n",
       "    .dataframe tbody tr th {\n",
       "        vertical-align: top;\n",
       "    }\n",
       "\n",
       "    .dataframe thead th {\n",
       "        text-align: right;\n",
       "    }\n",
       "</style>\n",
       "<table border=\"1\" class=\"dataframe\">\n",
       "  <thead>\n",
       "    <tr style=\"text-align: right;\">\n",
       "      <th></th>\n",
       "      <th>cut</th>\n",
       "      <th>color</th>\n",
       "      <th>clarity</th>\n",
       "    </tr>\n",
       "  </thead>\n",
       "  <tbody>\n",
       "    <tr>\n",
       "      <th>441</th>\n",
       "      <td>Premium</td>\n",
       "      <td>H</td>\n",
       "      <td>SI2</td>\n",
       "    </tr>\n",
       "    <tr>\n",
       "      <th>50332</th>\n",
       "      <td>Very Good</td>\n",
       "      <td>D</td>\n",
       "      <td>SI1</td>\n",
       "    </tr>\n",
       "    <tr>\n",
       "      <th>35652</th>\n",
       "      <td>Ideal</td>\n",
       "      <td>G</td>\n",
       "      <td>VVS2</td>\n",
       "    </tr>\n",
       "    <tr>\n",
       "      <th>9439</th>\n",
       "      <td>Very Good</td>\n",
       "      <td>H</td>\n",
       "      <td>VS1</td>\n",
       "    </tr>\n",
       "    <tr>\n",
       "      <th>15824</th>\n",
       "      <td>Good</td>\n",
       "      <td>F</td>\n",
       "      <td>VS2</td>\n",
       "    </tr>\n",
       "  </tbody>\n",
       "</table>\n",
       "</div>"
      ],
      "text/plain": [
       "             cut color clarity\n",
       "441      Premium     H     SI2\n",
       "50332  Very Good     D     SI1\n",
       "35652      Ideal     G    VVS2\n",
       "9439   Very Good     H     VS1\n",
       "15824       Good     F     VS2"
      ]
     },
     "execution_count": 20,
     "metadata": {},
     "output_type": "execute_result"
    }
   ],
   "source": [
    "x_train_cat.head()"
   ]
  },
  {
   "cell_type": "code",
   "execution_count": 21,
   "metadata": {},
   "outputs": [
    {
     "data": {
      "text/html": [
       "<div>\n",
       "<style scoped>\n",
       "    .dataframe tbody tr th:only-of-type {\n",
       "        vertical-align: middle;\n",
       "    }\n",
       "\n",
       "    .dataframe tbody tr th {\n",
       "        vertical-align: top;\n",
       "    }\n",
       "\n",
       "    .dataframe thead th {\n",
       "        text-align: right;\n",
       "    }\n",
       "</style>\n",
       "<table border=\"1\" class=\"dataframe\">\n",
       "  <thead>\n",
       "    <tr style=\"text-align: right;\">\n",
       "      <th></th>\n",
       "      <th>carat</th>\n",
       "      <th>depth</th>\n",
       "      <th>table</th>\n",
       "      <th>x</th>\n",
       "      <th>y</th>\n",
       "      <th>z</th>\n",
       "    </tr>\n",
       "  </thead>\n",
       "  <tbody>\n",
       "    <tr>\n",
       "      <th>441</th>\n",
       "      <td>0.89</td>\n",
       "      <td>60.2</td>\n",
       "      <td>59.0</td>\n",
       "      <td>6.26</td>\n",
       "      <td>6.23</td>\n",
       "      <td>3.76</td>\n",
       "    </tr>\n",
       "    <tr>\n",
       "      <th>50332</th>\n",
       "      <td>0.70</td>\n",
       "      <td>64.0</td>\n",
       "      <td>53.0</td>\n",
       "      <td>5.57</td>\n",
       "      <td>5.61</td>\n",
       "      <td>3.58</td>\n",
       "    </tr>\n",
       "    <tr>\n",
       "      <th>35652</th>\n",
       "      <td>0.31</td>\n",
       "      <td>62.7</td>\n",
       "      <td>57.0</td>\n",
       "      <td>4.33</td>\n",
       "      <td>4.31</td>\n",
       "      <td>2.71</td>\n",
       "    </tr>\n",
       "    <tr>\n",
       "      <th>9439</th>\n",
       "      <td>0.90</td>\n",
       "      <td>62.3</td>\n",
       "      <td>59.0</td>\n",
       "      <td>6.12</td>\n",
       "      <td>6.17</td>\n",
       "      <td>3.83</td>\n",
       "    </tr>\n",
       "    <tr>\n",
       "      <th>15824</th>\n",
       "      <td>1.01</td>\n",
       "      <td>60.6</td>\n",
       "      <td>62.0</td>\n",
       "      <td>6.52</td>\n",
       "      <td>6.49</td>\n",
       "      <td>3.94</td>\n",
       "    </tr>\n",
       "  </tbody>\n",
       "</table>\n",
       "</div>"
      ],
      "text/plain": [
       "       carat  depth  table     x     y     z\n",
       "441     0.89   60.2   59.0  6.26  6.23  3.76\n",
       "50332   0.70   64.0   53.0  5.57  5.61  3.58\n",
       "35652   0.31   62.7   57.0  4.33  4.31  2.71\n",
       "9439    0.90   62.3   59.0  6.12  6.17  3.83\n",
       "15824   1.01   60.6   62.0  6.52  6.49  3.94"
      ]
     },
     "execution_count": 21,
     "metadata": {},
     "output_type": "execute_result"
    }
   ],
   "source": [
    "x_train_num.head()"
   ]
  },
  {
   "cell_type": "markdown",
   "metadata": {},
   "source": [
    "Feature Engineering: Applying Standardization on Numerical Features"
   ]
  },
  {
   "cell_type": "code",
   "execution_count": 9,
   "metadata": {},
   "outputs": [
    {
     "data": {
      "text/html": [
       "<div>\n",
       "<style scoped>\n",
       "    .dataframe tbody tr th:only-of-type {\n",
       "        vertical-align: middle;\n",
       "    }\n",
       "\n",
       "    .dataframe tbody tr th {\n",
       "        vertical-align: top;\n",
       "    }\n",
       "\n",
       "    .dataframe thead th {\n",
       "        text-align: right;\n",
       "    }\n",
       "</style>\n",
       "<table border=\"1\" class=\"dataframe\">\n",
       "  <thead>\n",
       "    <tr style=\"text-align: right;\">\n",
       "      <th></th>\n",
       "      <th>carat</th>\n",
       "      <th>depth</th>\n",
       "      <th>table</th>\n",
       "      <th>x</th>\n",
       "      <th>y</th>\n",
       "      <th>z</th>\n",
       "    </tr>\n",
       "  </thead>\n",
       "  <tbody>\n",
       "    <tr>\n",
       "      <th>441</th>\n",
       "      <td>0.194920</td>\n",
       "      <td>-1.085697</td>\n",
       "      <td>0.694368</td>\n",
       "      <td>0.472201</td>\n",
       "      <td>0.430971</td>\n",
       "      <td>0.312528</td>\n",
       "    </tr>\n",
       "    <tr>\n",
       "      <th>50332</th>\n",
       "      <td>-0.205679</td>\n",
       "      <td>1.567623</td>\n",
       "      <td>-1.997562</td>\n",
       "      <td>-0.142482</td>\n",
       "      <td>-0.107276</td>\n",
       "      <td>0.058918</td>\n",
       "    </tr>\n",
       "    <tr>\n",
       "      <th>35652</th>\n",
       "      <td>-1.027961</td>\n",
       "      <td>0.659908</td>\n",
       "      <td>-0.202942</td>\n",
       "      <td>-1.247129</td>\n",
       "      <td>-1.235860</td>\n",
       "      <td>-1.166861</td>\n",
       "    </tr>\n",
       "    <tr>\n",
       "      <th>9439</th>\n",
       "      <td>0.216004</td>\n",
       "      <td>0.380611</td>\n",
       "      <td>0.694368</td>\n",
       "      <td>0.347483</td>\n",
       "      <td>0.378883</td>\n",
       "      <td>0.411154</td>\n",
       "    </tr>\n",
       "    <tr>\n",
       "      <th>15824</th>\n",
       "      <td>0.447930</td>\n",
       "      <td>-0.806400</td>\n",
       "      <td>2.040332</td>\n",
       "      <td>0.703821</td>\n",
       "      <td>0.656688</td>\n",
       "      <td>0.566137</td>\n",
       "    </tr>\n",
       "  </tbody>\n",
       "</table>\n",
       "</div>"
      ],
      "text/plain": [
       "          carat     depth     table         x         y         z\n",
       "441    0.194920 -1.085697  0.694368  0.472201  0.430971  0.312528\n",
       "50332 -0.205679  1.567623 -1.997562 -0.142482 -0.107276  0.058918\n",
       "35652 -1.027961  0.659908 -0.202942 -1.247129 -1.235860 -1.166861\n",
       "9439   0.216004  0.380611  0.694368  0.347483  0.378883  0.411154\n",
       "15824  0.447930 -0.806400  2.040332  0.703821  0.656688  0.566137"
      ]
     },
     "execution_count": 9,
     "metadata": {},
     "output_type": "execute_result"
    }
   ],
   "source": [
    "# Rescaling numerical features\n",
    "from sklearn.preprocessing import StandardScaler\n",
    "\n",
    "scaler = StandardScaler()\n",
    "# column names are (annoyingly) lost after Scaling\n",
    "# (i.e. the dataframe is converted to a numpy ndarray)\n",
    "X_train_num_transformed = pd.DataFrame(scaler.fit_transform(x_train_num), \n",
    "                                    columns = scaler.get_feature_names_out(), \n",
    "                                    index = x_train_num.index)\n",
    "\n",
    "X_train_num_transformed.head()"
   ]
  },
  {
   "cell_type": "code",
   "execution_count": 10,
   "metadata": {},
   "outputs": [
    {
     "name": "stdout",
     "output_type": "stream",
     "text": [
      "Number of Numerical Features: 6\n",
      "Feature Names: ['carat' 'depth' 'table' 'x' 'y' 'z']\n",
      "Mean of each column: [ 0.79755135 61.75490051 57.45233469  5.72994018  5.73356989  3.53818267]\n",
      "Std of each column: [0.47428986 1.43216771 2.22888453 1.1225301  1.15188634 0.7097527 ]\n"
     ]
    }
   ],
   "source": [
    "print(\"Number of Numerical Features:\", scaler.n_features_in_)\n",
    "print(\"Feature Names:\", scaler.get_feature_names_out())\n",
    "print(\"Mean of each column:\", scaler.mean_)\n",
    "print(\"Std of each column:\", np.sqrt(scaler.var_))"
   ]
  },
  {
   "cell_type": "markdown",
   "metadata": {},
   "source": [
    "Feature Engineering: Applying One-Hot Encoding on Categorical Features"
   ]
  },
  {
   "cell_type": "code",
   "execution_count": 16,
   "metadata": {},
   "outputs": [
    {
     "name": "stdout",
     "output_type": "stream",
     "text": [
      "Shape of Data before Transformation: (40455, 3)\n",
      "Shape of Data after Transformation: (40455, 20)\n"
     ]
    },
    {
     "data": {
      "text/html": [
       "<div>\n",
       "<style scoped>\n",
       "    .dataframe tbody tr th:only-of-type {\n",
       "        vertical-align: middle;\n",
       "    }\n",
       "\n",
       "    .dataframe tbody tr th {\n",
       "        vertical-align: top;\n",
       "    }\n",
       "\n",
       "    .dataframe thead th {\n",
       "        text-align: right;\n",
       "    }\n",
       "</style>\n",
       "<table border=\"1\" class=\"dataframe\">\n",
       "  <thead>\n",
       "    <tr style=\"text-align: right;\">\n",
       "      <th></th>\n",
       "      <th>cut_Fair</th>\n",
       "      <th>cut_Good</th>\n",
       "      <th>cut_Ideal</th>\n",
       "      <th>cut_Premium</th>\n",
       "      <th>cut_Very Good</th>\n",
       "      <th>color_D</th>\n",
       "      <th>color_E</th>\n",
       "      <th>color_F</th>\n",
       "      <th>color_G</th>\n",
       "      <th>color_H</th>\n",
       "      <th>color_I</th>\n",
       "      <th>color_J</th>\n",
       "      <th>clarity_I1</th>\n",
       "      <th>clarity_IF</th>\n",
       "      <th>clarity_SI1</th>\n",
       "      <th>clarity_SI2</th>\n",
       "      <th>clarity_VS1</th>\n",
       "      <th>clarity_VS2</th>\n",
       "      <th>clarity_VVS1</th>\n",
       "      <th>clarity_VVS2</th>\n",
       "    </tr>\n",
       "  </thead>\n",
       "  <tbody>\n",
       "    <tr>\n",
       "      <th>441</th>\n",
       "      <td>0.0</td>\n",
       "      <td>0.0</td>\n",
       "      <td>0.0</td>\n",
       "      <td>1.0</td>\n",
       "      <td>0.0</td>\n",
       "      <td>0.0</td>\n",
       "      <td>0.0</td>\n",
       "      <td>0.0</td>\n",
       "      <td>0.0</td>\n",
       "      <td>1.0</td>\n",
       "      <td>0.0</td>\n",
       "      <td>0.0</td>\n",
       "      <td>0.0</td>\n",
       "      <td>0.0</td>\n",
       "      <td>0.0</td>\n",
       "      <td>1.0</td>\n",
       "      <td>0.0</td>\n",
       "      <td>0.0</td>\n",
       "      <td>0.0</td>\n",
       "      <td>0.0</td>\n",
       "    </tr>\n",
       "    <tr>\n",
       "      <th>50332</th>\n",
       "      <td>0.0</td>\n",
       "      <td>0.0</td>\n",
       "      <td>0.0</td>\n",
       "      <td>0.0</td>\n",
       "      <td>1.0</td>\n",
       "      <td>1.0</td>\n",
       "      <td>0.0</td>\n",
       "      <td>0.0</td>\n",
       "      <td>0.0</td>\n",
       "      <td>0.0</td>\n",
       "      <td>0.0</td>\n",
       "      <td>0.0</td>\n",
       "      <td>0.0</td>\n",
       "      <td>0.0</td>\n",
       "      <td>1.0</td>\n",
       "      <td>0.0</td>\n",
       "      <td>0.0</td>\n",
       "      <td>0.0</td>\n",
       "      <td>0.0</td>\n",
       "      <td>0.0</td>\n",
       "    </tr>\n",
       "    <tr>\n",
       "      <th>35652</th>\n",
       "      <td>0.0</td>\n",
       "      <td>0.0</td>\n",
       "      <td>1.0</td>\n",
       "      <td>0.0</td>\n",
       "      <td>0.0</td>\n",
       "      <td>0.0</td>\n",
       "      <td>0.0</td>\n",
       "      <td>0.0</td>\n",
       "      <td>1.0</td>\n",
       "      <td>0.0</td>\n",
       "      <td>0.0</td>\n",
       "      <td>0.0</td>\n",
       "      <td>0.0</td>\n",
       "      <td>0.0</td>\n",
       "      <td>0.0</td>\n",
       "      <td>0.0</td>\n",
       "      <td>0.0</td>\n",
       "      <td>0.0</td>\n",
       "      <td>0.0</td>\n",
       "      <td>1.0</td>\n",
       "    </tr>\n",
       "    <tr>\n",
       "      <th>9439</th>\n",
       "      <td>0.0</td>\n",
       "      <td>0.0</td>\n",
       "      <td>0.0</td>\n",
       "      <td>0.0</td>\n",
       "      <td>1.0</td>\n",
       "      <td>0.0</td>\n",
       "      <td>0.0</td>\n",
       "      <td>0.0</td>\n",
       "      <td>0.0</td>\n",
       "      <td>1.0</td>\n",
       "      <td>0.0</td>\n",
       "      <td>0.0</td>\n",
       "      <td>0.0</td>\n",
       "      <td>0.0</td>\n",
       "      <td>0.0</td>\n",
       "      <td>0.0</td>\n",
       "      <td>1.0</td>\n",
       "      <td>0.0</td>\n",
       "      <td>0.0</td>\n",
       "      <td>0.0</td>\n",
       "    </tr>\n",
       "    <tr>\n",
       "      <th>15824</th>\n",
       "      <td>0.0</td>\n",
       "      <td>1.0</td>\n",
       "      <td>0.0</td>\n",
       "      <td>0.0</td>\n",
       "      <td>0.0</td>\n",
       "      <td>0.0</td>\n",
       "      <td>0.0</td>\n",
       "      <td>1.0</td>\n",
       "      <td>0.0</td>\n",
       "      <td>0.0</td>\n",
       "      <td>0.0</td>\n",
       "      <td>0.0</td>\n",
       "      <td>0.0</td>\n",
       "      <td>0.0</td>\n",
       "      <td>0.0</td>\n",
       "      <td>0.0</td>\n",
       "      <td>0.0</td>\n",
       "      <td>1.0</td>\n",
       "      <td>0.0</td>\n",
       "      <td>0.0</td>\n",
       "    </tr>\n",
       "  </tbody>\n",
       "</table>\n",
       "</div>"
      ],
      "text/plain": [
       "       cut_Fair  cut_Good  cut_Ideal  cut_Premium  cut_Very Good  color_D  \\\n",
       "441         0.0       0.0        0.0          1.0            0.0      0.0   \n",
       "50332       0.0       0.0        0.0          0.0            1.0      1.0   \n",
       "35652       0.0       0.0        1.0          0.0            0.0      0.0   \n",
       "9439        0.0       0.0        0.0          0.0            1.0      0.0   \n",
       "15824       0.0       1.0        0.0          0.0            0.0      0.0   \n",
       "\n",
       "       color_E  color_F  color_G  color_H  color_I  color_J  clarity_I1  \\\n",
       "441        0.0      0.0      0.0      1.0      0.0      0.0         0.0   \n",
       "50332      0.0      0.0      0.0      0.0      0.0      0.0         0.0   \n",
       "35652      0.0      0.0      1.0      0.0      0.0      0.0         0.0   \n",
       "9439       0.0      0.0      0.0      1.0      0.0      0.0         0.0   \n",
       "15824      0.0      1.0      0.0      0.0      0.0      0.0         0.0   \n",
       "\n",
       "       clarity_IF  clarity_SI1  clarity_SI2  clarity_VS1  clarity_VS2  \\\n",
       "441           0.0          0.0          1.0          0.0          0.0   \n",
       "50332         0.0          1.0          0.0          0.0          0.0   \n",
       "35652         0.0          0.0          0.0          0.0          0.0   \n",
       "9439          0.0          0.0          0.0          1.0          0.0   \n",
       "15824         0.0          0.0          0.0          0.0          1.0   \n",
       "\n",
       "       clarity_VVS1  clarity_VVS2  \n",
       "441             0.0           0.0  \n",
       "50332           0.0           0.0  \n",
       "35652           0.0           1.0  \n",
       "9439            0.0           0.0  \n",
       "15824           0.0           0.0  "
      ]
     },
     "execution_count": 16,
     "metadata": {},
     "output_type": "execute_result"
    }
   ],
   "source": [
    "# OneHotEncoding the categorical features\n",
    "from sklearn.preprocessing import OneHotEncoder\n",
    "\n",
    "encoder_ = OneHotEncoder(sparse_output=False)\n",
    "# column names are (annoyingly) lost after OneHotEncoding\n",
    "# (i.e. the dataframe is converted to a numpy ndarray)\n",
    "X_train_cat_tansformed = pd.DataFrame(encoder_.fit_transform(x_train_cat), \n",
    "                               columns=encoder_.get_feature_names_out(), \n",
    "                               index = x_train_cat.index)\n",
    "\n",
    "print(\"Shape of Data before Transformation:\", x_train_cat.shape)\n",
    "print(\"Shape of Data after Transformation:\", X_train_cat_tansformed.shape)\n",
    "\n",
    "X_train_cat_tansformed.head()"
   ]
  },
  {
   "cell_type": "code",
   "execution_count": 17,
   "metadata": {},
   "outputs": [
    {
     "name": "stdout",
     "output_type": "stream",
     "text": [
      "Applied encoding on: ['cut' 'color' 'clarity']\n",
      "Unique Categories: [array(['Fair', 'Good', 'Ideal', 'Premium', 'Very Good'], dtype=object), array(['D', 'E', 'F', 'G', 'H', 'I', 'J'], dtype=object), array(['I1', 'IF', 'SI1', 'SI2', 'VS1', 'VS2', 'VVS1', 'VVS2'],\n",
      "      dtype=object)]\n",
      "Feature Names after encoding: ['cut_Fair' 'cut_Good' 'cut_Ideal' 'cut_Premium' 'cut_Very Good' 'color_D'\n",
      " 'color_E' 'color_F' 'color_G' 'color_H' 'color_I' 'color_J' 'clarity_I1'\n",
      " 'clarity_IF' 'clarity_SI1' 'clarity_SI2' 'clarity_VS1' 'clarity_VS2'\n",
      " 'clarity_VVS1' 'clarity_VVS2']\n"
     ]
    }
   ],
   "source": [
    "print(\"Applied encoding on:\", encoder_.feature_names_in_)\n",
    "print(\"Unique Categories:\", encoder_.categories_)\n",
    "print(\"Feature Names after encoding:\", encoder_.get_feature_names_out())"
   ]
  },
  {
   "cell_type": "code",
   "execution_count": 19,
   "metadata": {},
   "outputs": [
    {
     "name": "stdout",
     "output_type": "stream",
     "text": [
      "Shape of Data before Transformation: (40455, 3)\n",
      "Shape of Data after Transformation: (40455, 17)\n"
     ]
    },
    {
     "data": {
      "text/html": [
       "<div>\n",
       "<style scoped>\n",
       "    .dataframe tbody tr th:only-of-type {\n",
       "        vertical-align: middle;\n",
       "    }\n",
       "\n",
       "    .dataframe tbody tr th {\n",
       "        vertical-align: top;\n",
       "    }\n",
       "\n",
       "    .dataframe thead th {\n",
       "        text-align: right;\n",
       "    }\n",
       "</style>\n",
       "<table border=\"1\" class=\"dataframe\">\n",
       "  <thead>\n",
       "    <tr style=\"text-align: right;\">\n",
       "      <th></th>\n",
       "      <th>cut_Good</th>\n",
       "      <th>cut_Ideal</th>\n",
       "      <th>cut_Premium</th>\n",
       "      <th>cut_Very Good</th>\n",
       "      <th>color_E</th>\n",
       "      <th>color_F</th>\n",
       "      <th>color_G</th>\n",
       "      <th>color_H</th>\n",
       "      <th>color_I</th>\n",
       "      <th>color_J</th>\n",
       "      <th>clarity_IF</th>\n",
       "      <th>clarity_SI1</th>\n",
       "      <th>clarity_SI2</th>\n",
       "      <th>clarity_VS1</th>\n",
       "      <th>clarity_VS2</th>\n",
       "      <th>clarity_VVS1</th>\n",
       "      <th>clarity_VVS2</th>\n",
       "    </tr>\n",
       "  </thead>\n",
       "  <tbody>\n",
       "    <tr>\n",
       "      <th>441</th>\n",
       "      <td>0.0</td>\n",
       "      <td>0.0</td>\n",
       "      <td>1.0</td>\n",
       "      <td>0.0</td>\n",
       "      <td>0.0</td>\n",
       "      <td>0.0</td>\n",
       "      <td>0.0</td>\n",
       "      <td>1.0</td>\n",
       "      <td>0.0</td>\n",
       "      <td>0.0</td>\n",
       "      <td>0.0</td>\n",
       "      <td>0.0</td>\n",
       "      <td>1.0</td>\n",
       "      <td>0.0</td>\n",
       "      <td>0.0</td>\n",
       "      <td>0.0</td>\n",
       "      <td>0.0</td>\n",
       "    </tr>\n",
       "    <tr>\n",
       "      <th>50332</th>\n",
       "      <td>0.0</td>\n",
       "      <td>0.0</td>\n",
       "      <td>0.0</td>\n",
       "      <td>1.0</td>\n",
       "      <td>0.0</td>\n",
       "      <td>0.0</td>\n",
       "      <td>0.0</td>\n",
       "      <td>0.0</td>\n",
       "      <td>0.0</td>\n",
       "      <td>0.0</td>\n",
       "      <td>0.0</td>\n",
       "      <td>1.0</td>\n",
       "      <td>0.0</td>\n",
       "      <td>0.0</td>\n",
       "      <td>0.0</td>\n",
       "      <td>0.0</td>\n",
       "      <td>0.0</td>\n",
       "    </tr>\n",
       "    <tr>\n",
       "      <th>35652</th>\n",
       "      <td>0.0</td>\n",
       "      <td>1.0</td>\n",
       "      <td>0.0</td>\n",
       "      <td>0.0</td>\n",
       "      <td>0.0</td>\n",
       "      <td>0.0</td>\n",
       "      <td>1.0</td>\n",
       "      <td>0.0</td>\n",
       "      <td>0.0</td>\n",
       "      <td>0.0</td>\n",
       "      <td>0.0</td>\n",
       "      <td>0.0</td>\n",
       "      <td>0.0</td>\n",
       "      <td>0.0</td>\n",
       "      <td>0.0</td>\n",
       "      <td>0.0</td>\n",
       "      <td>1.0</td>\n",
       "    </tr>\n",
       "    <tr>\n",
       "      <th>9439</th>\n",
       "      <td>0.0</td>\n",
       "      <td>0.0</td>\n",
       "      <td>0.0</td>\n",
       "      <td>1.0</td>\n",
       "      <td>0.0</td>\n",
       "      <td>0.0</td>\n",
       "      <td>0.0</td>\n",
       "      <td>1.0</td>\n",
       "      <td>0.0</td>\n",
       "      <td>0.0</td>\n",
       "      <td>0.0</td>\n",
       "      <td>0.0</td>\n",
       "      <td>0.0</td>\n",
       "      <td>1.0</td>\n",
       "      <td>0.0</td>\n",
       "      <td>0.0</td>\n",
       "      <td>0.0</td>\n",
       "    </tr>\n",
       "    <tr>\n",
       "      <th>15824</th>\n",
       "      <td>1.0</td>\n",
       "      <td>0.0</td>\n",
       "      <td>0.0</td>\n",
       "      <td>0.0</td>\n",
       "      <td>0.0</td>\n",
       "      <td>1.0</td>\n",
       "      <td>0.0</td>\n",
       "      <td>0.0</td>\n",
       "      <td>0.0</td>\n",
       "      <td>0.0</td>\n",
       "      <td>0.0</td>\n",
       "      <td>0.0</td>\n",
       "      <td>0.0</td>\n",
       "      <td>0.0</td>\n",
       "      <td>1.0</td>\n",
       "      <td>0.0</td>\n",
       "      <td>0.0</td>\n",
       "    </tr>\n",
       "  </tbody>\n",
       "</table>\n",
       "</div>"
      ],
      "text/plain": [
       "       cut_Good  cut_Ideal  cut_Premium  cut_Very Good  color_E  color_F  \\\n",
       "441         0.0        0.0          1.0            0.0      0.0      0.0   \n",
       "50332       0.0        0.0          0.0            1.0      0.0      0.0   \n",
       "35652       0.0        1.0          0.0            0.0      0.0      0.0   \n",
       "9439        0.0        0.0          0.0            1.0      0.0      0.0   \n",
       "15824       1.0        0.0          0.0            0.0      0.0      1.0   \n",
       "\n",
       "       color_G  color_H  color_I  color_J  clarity_IF  clarity_SI1  \\\n",
       "441        0.0      1.0      0.0      0.0         0.0          0.0   \n",
       "50332      0.0      0.0      0.0      0.0         0.0          1.0   \n",
       "35652      1.0      0.0      0.0      0.0         0.0          0.0   \n",
       "9439       0.0      1.0      0.0      0.0         0.0          0.0   \n",
       "15824      0.0      0.0      0.0      0.0         0.0          0.0   \n",
       "\n",
       "       clarity_SI2  clarity_VS1  clarity_VS2  clarity_VVS1  clarity_VVS2  \n",
       "441            1.0          0.0          0.0           0.0           0.0  \n",
       "50332          0.0          0.0          0.0           0.0           0.0  \n",
       "35652          0.0          0.0          0.0           0.0           1.0  \n",
       "9439           0.0          1.0          0.0           0.0           0.0  \n",
       "15824          0.0          0.0          1.0           0.0           0.0  "
      ]
     },
     "execution_count": 19,
     "metadata": {},
     "output_type": "execute_result"
    }
   ],
   "source": [
    "# OneHotEncoding the categorical features\n",
    "from sklearn.preprocessing import OneHotEncoder\n",
    "\n",
    "encoder_ = OneHotEncoder(drop='first', sparse_output=False)\n",
    "\n",
    "# column names are (annoyingly) lost after OneHotEncoding\n",
    "# (i.e. the dataframe is converted to a numpy ndarray)\n",
    "X_train_cat_tansformed = pd.DataFrame(encoder_.fit_transform(x_train_cat), \n",
    "                               columns=encoder_.get_feature_names_out(), \n",
    "                               index = x_train_cat.index)\n",
    "\n",
    "print(\"Shape of Data before Transformation:\", x_train_cat.shape)\n",
    "print(\"Shape of Data after Transformation:\", X_train_cat_tansformed.shape)\n",
    "\n",
    "X_train_cat_tansformed.head()"
   ]
  },
  {
   "cell_type": "code",
   "execution_count": 20,
   "metadata": {},
   "outputs": [
    {
     "name": "stdout",
     "output_type": "stream",
     "text": [
      "Applied encoding on: ['cut' 'color' 'clarity']\n",
      "Unique Categories: [array(['Fair', 'Good', 'Ideal', 'Premium', 'Very Good'], dtype=object), array(['D', 'E', 'F', 'G', 'H', 'I', 'J'], dtype=object), array(['I1', 'IF', 'SI1', 'SI2', 'VS1', 'VS2', 'VVS1', 'VVS2'],\n",
      "      dtype=object)]\n",
      "Feature Names after encoding: ['cut_Good' 'cut_Ideal' 'cut_Premium' 'cut_Very Good' 'color_E' 'color_F'\n",
      " 'color_G' 'color_H' 'color_I' 'color_J' 'clarity_IF' 'clarity_SI1'\n",
      " 'clarity_SI2' 'clarity_VS1' 'clarity_VS2' 'clarity_VVS1' 'clarity_VVS2']\n"
     ]
    }
   ],
   "source": [
    "print(\"Applied encoding on:\", encoder_.feature_names_in_)\n",
    "print(\"Unique Categories:\", encoder_.categories_)\n",
    "print(\"Feature Names after encoding:\", encoder_.get_feature_names_out())"
   ]
  },
  {
   "cell_type": "code",
   "execution_count": 21,
   "metadata": {},
   "outputs": [
    {
     "name": "stdout",
     "output_type": "stream",
     "text": [
      "Shape of Data before Transformation: (40455, 3)\n",
      "Shape of Data after Transformation: (40455, 15)\n"
     ]
    },
    {
     "data": {
      "text/html": [
       "<div>\n",
       "<style scoped>\n",
       "    .dataframe tbody tr th:only-of-type {\n",
       "        vertical-align: middle;\n",
       "    }\n",
       "\n",
       "    .dataframe tbody tr th {\n",
       "        vertical-align: top;\n",
       "    }\n",
       "\n",
       "    .dataframe thead th {\n",
       "        text-align: right;\n",
       "    }\n",
       "</style>\n",
       "<table border=\"1\" class=\"dataframe\">\n",
       "  <thead>\n",
       "    <tr style=\"text-align: right;\">\n",
       "      <th></th>\n",
       "      <th>cut_Ideal</th>\n",
       "      <th>cut_Premium</th>\n",
       "      <th>cut_Very Good</th>\n",
       "      <th>cut_infrequent_sklearn</th>\n",
       "      <th>color_E</th>\n",
       "      <th>color_F</th>\n",
       "      <th>color_G</th>\n",
       "      <th>color_H</th>\n",
       "      <th>color_I</th>\n",
       "      <th>color_infrequent_sklearn</th>\n",
       "      <th>clarity_SI2</th>\n",
       "      <th>clarity_VS1</th>\n",
       "      <th>clarity_VS2</th>\n",
       "      <th>clarity_VVS2</th>\n",
       "      <th>clarity_infrequent_sklearn</th>\n",
       "    </tr>\n",
       "  </thead>\n",
       "  <tbody>\n",
       "    <tr>\n",
       "      <th>441</th>\n",
       "      <td>0.0</td>\n",
       "      <td>1.0</td>\n",
       "      <td>0.0</td>\n",
       "      <td>0.0</td>\n",
       "      <td>0.0</td>\n",
       "      <td>0.0</td>\n",
       "      <td>0.0</td>\n",
       "      <td>1.0</td>\n",
       "      <td>0.0</td>\n",
       "      <td>0.0</td>\n",
       "      <td>1.0</td>\n",
       "      <td>0.0</td>\n",
       "      <td>0.0</td>\n",
       "      <td>0.0</td>\n",
       "      <td>0.0</td>\n",
       "    </tr>\n",
       "    <tr>\n",
       "      <th>50332</th>\n",
       "      <td>0.0</td>\n",
       "      <td>0.0</td>\n",
       "      <td>1.0</td>\n",
       "      <td>0.0</td>\n",
       "      <td>0.0</td>\n",
       "      <td>0.0</td>\n",
       "      <td>0.0</td>\n",
       "      <td>0.0</td>\n",
       "      <td>0.0</td>\n",
       "      <td>0.0</td>\n",
       "      <td>0.0</td>\n",
       "      <td>0.0</td>\n",
       "      <td>0.0</td>\n",
       "      <td>0.0</td>\n",
       "      <td>0.0</td>\n",
       "    </tr>\n",
       "    <tr>\n",
       "      <th>35652</th>\n",
       "      <td>1.0</td>\n",
       "      <td>0.0</td>\n",
       "      <td>0.0</td>\n",
       "      <td>0.0</td>\n",
       "      <td>0.0</td>\n",
       "      <td>0.0</td>\n",
       "      <td>1.0</td>\n",
       "      <td>0.0</td>\n",
       "      <td>0.0</td>\n",
       "      <td>0.0</td>\n",
       "      <td>0.0</td>\n",
       "      <td>0.0</td>\n",
       "      <td>0.0</td>\n",
       "      <td>1.0</td>\n",
       "      <td>0.0</td>\n",
       "    </tr>\n",
       "    <tr>\n",
       "      <th>9439</th>\n",
       "      <td>0.0</td>\n",
       "      <td>0.0</td>\n",
       "      <td>1.0</td>\n",
       "      <td>0.0</td>\n",
       "      <td>0.0</td>\n",
       "      <td>0.0</td>\n",
       "      <td>0.0</td>\n",
       "      <td>1.0</td>\n",
       "      <td>0.0</td>\n",
       "      <td>0.0</td>\n",
       "      <td>0.0</td>\n",
       "      <td>1.0</td>\n",
       "      <td>0.0</td>\n",
       "      <td>0.0</td>\n",
       "      <td>0.0</td>\n",
       "    </tr>\n",
       "    <tr>\n",
       "      <th>15824</th>\n",
       "      <td>0.0</td>\n",
       "      <td>0.0</td>\n",
       "      <td>0.0</td>\n",
       "      <td>0.0</td>\n",
       "      <td>0.0</td>\n",
       "      <td>1.0</td>\n",
       "      <td>0.0</td>\n",
       "      <td>0.0</td>\n",
       "      <td>0.0</td>\n",
       "      <td>0.0</td>\n",
       "      <td>0.0</td>\n",
       "      <td>0.0</td>\n",
       "      <td>1.0</td>\n",
       "      <td>0.0</td>\n",
       "      <td>0.0</td>\n",
       "    </tr>\n",
       "  </tbody>\n",
       "</table>\n",
       "</div>"
      ],
      "text/plain": [
       "       cut_Ideal  cut_Premium  cut_Very Good  cut_infrequent_sklearn  color_E  \\\n",
       "441          0.0          1.0            0.0                     0.0      0.0   \n",
       "50332        0.0          0.0            1.0                     0.0      0.0   \n",
       "35652        1.0          0.0            0.0                     0.0      0.0   \n",
       "9439         0.0          0.0            1.0                     0.0      0.0   \n",
       "15824        0.0          0.0            0.0                     0.0      0.0   \n",
       "\n",
       "       color_F  color_G  color_H  color_I  color_infrequent_sklearn  \\\n",
       "441        0.0      0.0      1.0      0.0                       0.0   \n",
       "50332      0.0      0.0      0.0      0.0                       0.0   \n",
       "35652      0.0      1.0      0.0      0.0                       0.0   \n",
       "9439       0.0      0.0      1.0      0.0                       0.0   \n",
       "15824      1.0      0.0      0.0      0.0                       0.0   \n",
       "\n",
       "       clarity_SI2  clarity_VS1  clarity_VS2  clarity_VVS2  \\\n",
       "441            1.0          0.0          0.0           0.0   \n",
       "50332          0.0          0.0          0.0           0.0   \n",
       "35652          0.0          0.0          0.0           1.0   \n",
       "9439           0.0          1.0          0.0           0.0   \n",
       "15824          0.0          0.0          1.0           0.0   \n",
       "\n",
       "       clarity_infrequent_sklearn  \n",
       "441                           0.0  \n",
       "50332                         0.0  \n",
       "35652                         0.0  \n",
       "9439                          0.0  \n",
       "15824                         0.0  "
      ]
     },
     "execution_count": 21,
     "metadata": {},
     "output_type": "execute_result"
    }
   ],
   "source": [
    "# OneHotEncoding the categorical features\n",
    "from sklearn.preprocessing import OneHotEncoder\n",
    "\n",
    "encoder_ = OneHotEncoder(drop='first', min_frequency=3000, sparse_output=False)\n",
    "\n",
    "# column names are (annoyingly) lost after OneHotEncoding\n",
    "# (i.e. the dataframe is converted to a numpy ndarray)\n",
    "X_train_cat_tansformed = pd.DataFrame(encoder_.fit_transform(x_train_cat), \n",
    "                               columns=encoder_.get_feature_names_out(), \n",
    "                               index = x_train_cat.index)\n",
    "\n",
    "print(\"Shape of Data before Transformation:\", x_train_cat.shape)\n",
    "print(\"Shape of Data after Transformation:\", X_train_cat_tansformed.shape)\n",
    "\n",
    "X_train_cat_tansformed.head()"
   ]
  },
  {
   "cell_type": "code",
   "execution_count": 22,
   "metadata": {},
   "outputs": [
    {
     "name": "stdout",
     "output_type": "stream",
     "text": [
      "Applied encoding on: ['cut' 'color' 'clarity']\n",
      "Unique Categories: [array(['Fair', 'Good', 'Ideal', 'Premium', 'Very Good'], dtype=object), array(['D', 'E', 'F', 'G', 'H', 'I', 'J'], dtype=object), array(['I1', 'IF', 'SI1', 'SI2', 'VS1', 'VS2', 'VVS1', 'VVS2'],\n",
      "      dtype=object)]\n",
      "Infrequent Categories [array(['Fair'], dtype=object), array(['J'], dtype=object), array(['I1', 'IF', 'VVS1'], dtype=object)]\n",
      "Feature Names after encoding: ['cut_Ideal' 'cut_Premium' 'cut_Very Good' 'cut_infrequent_sklearn'\n",
      " 'color_E' 'color_F' 'color_G' 'color_H' 'color_I'\n",
      " 'color_infrequent_sklearn' 'clarity_SI2' 'clarity_VS1' 'clarity_VS2'\n",
      " 'clarity_VVS2' 'clarity_infrequent_sklearn']\n"
     ]
    }
   ],
   "source": [
    "print(\"Applied encoding on:\", encoder_.feature_names_in_)\n",
    "print(\"Unique Categories:\", encoder_.categories_)\n",
    "print(\"Infrequent Categories\", encoder_.infrequent_categories_)\n",
    "print(\"Feature Names after encoding:\", encoder_.get_feature_names_out())"
   ]
  },
  {
   "cell_type": "markdown",
   "metadata": {},
   "source": [
    "Feature Engineering: Applying Label Encoding on Categorical Features\n",
    "As the three categorical features are ordinal, we will proceed with the Label Encoding instead of One-Hot Encoding"
   ]
  },
  {
   "cell_type": "code",
   "execution_count": 23,
   "metadata": {},
   "outputs": [
    {
     "data": {
      "text/html": [
       "<div>\n",
       "<style scoped>\n",
       "    .dataframe tbody tr th:only-of-type {\n",
       "        vertical-align: middle;\n",
       "    }\n",
       "\n",
       "    .dataframe tbody tr th {\n",
       "        vertical-align: top;\n",
       "    }\n",
       "\n",
       "    .dataframe thead th {\n",
       "        text-align: right;\n",
       "    }\n",
       "</style>\n",
       "<table border=\"1\" class=\"dataframe\">\n",
       "  <thead>\n",
       "    <tr style=\"text-align: right;\">\n",
       "      <th></th>\n",
       "    </tr>\n",
       "  </thead>\n",
       "  <tbody>\n",
       "    <tr>\n",
       "      <th>441</th>\n",
       "    </tr>\n",
       "    <tr>\n",
       "      <th>50332</th>\n",
       "    </tr>\n",
       "    <tr>\n",
       "      <th>35652</th>\n",
       "    </tr>\n",
       "    <tr>\n",
       "      <th>9439</th>\n",
       "    </tr>\n",
       "    <tr>\n",
       "      <th>15824</th>\n",
       "    </tr>\n",
       "  </tbody>\n",
       "</table>\n",
       "</div>"
      ],
      "text/plain": [
       "Empty DataFrame\n",
       "Columns: []\n",
       "Index: [441, 50332, 35652, 9439, 15824]"
      ]
     },
     "execution_count": 23,
     "metadata": {},
     "output_type": "execute_result"
    }
   ],
   "source": [
    "X_train_cat_transformed = pd.DataFrame(index=x_train_cat.index)\n",
    "\n",
    "X_train_cat_transformed.head()"
   ]
  },
  {
   "cell_type": "code",
   "execution_count": 24,
   "metadata": {},
   "outputs": [
    {
     "data": {
      "text/html": [
       "<div>\n",
       "<style scoped>\n",
       "    .dataframe tbody tr th:only-of-type {\n",
       "        vertical-align: middle;\n",
       "    }\n",
       "\n",
       "    .dataframe tbody tr th {\n",
       "        vertical-align: top;\n",
       "    }\n",
       "\n",
       "    .dataframe thead th {\n",
       "        text-align: right;\n",
       "    }\n",
       "</style>\n",
       "<table border=\"1\" class=\"dataframe\">\n",
       "  <thead>\n",
       "    <tr style=\"text-align: right;\">\n",
       "      <th></th>\n",
       "      <th>cut</th>\n",
       "      <th>color</th>\n",
       "      <th>clarity</th>\n",
       "    </tr>\n",
       "  </thead>\n",
       "  <tbody>\n",
       "    <tr>\n",
       "      <th>441</th>\n",
       "      <td>5</td>\n",
       "      <td>3</td>\n",
       "      <td>2</td>\n",
       "    </tr>\n",
       "    <tr>\n",
       "      <th>50332</th>\n",
       "      <td>3</td>\n",
       "      <td>7</td>\n",
       "      <td>3</td>\n",
       "    </tr>\n",
       "    <tr>\n",
       "      <th>35652</th>\n",
       "      <td>4</td>\n",
       "      <td>4</td>\n",
       "      <td>6</td>\n",
       "    </tr>\n",
       "    <tr>\n",
       "      <th>9439</th>\n",
       "      <td>3</td>\n",
       "      <td>3</td>\n",
       "      <td>5</td>\n",
       "    </tr>\n",
       "    <tr>\n",
       "      <th>15824</th>\n",
       "      <td>2</td>\n",
       "      <td>5</td>\n",
       "      <td>4</td>\n",
       "    </tr>\n",
       "  </tbody>\n",
       "</table>\n",
       "</div>"
      ],
      "text/plain": [
       "       cut  color  clarity\n",
       "441      5      3        2\n",
       "50332    3      7        3\n",
       "35652    4      4        6\n",
       "9439     3      3        5\n",
       "15824    2      5        4"
      ]
     },
     "execution_count": 24,
     "metadata": {},
     "output_type": "execute_result"
    }
   ],
   "source": [
    "# Specify the order\n",
    "cut_encoder = {'Fair' : 1, 'Good' : 2, 'Very Good' : 3, 'Ideal' : 4, 'Premium' : 5}\n",
    "color_encoder = {'J':1, 'I':2, 'H':3, 'G':4, 'F':5, 'E':6, 'D':7}\n",
    "clarity_encoder = {'I1':1, 'SI2':2, 'SI1':3, 'VS2':4, 'VS1':5, 'VVS2':6, 'VVS1':7, 'IF':8}\n",
    "\n",
    "# Apply Label Encoding\n",
    "X_train_cat_transformed['cut'] = x_train_cat['cut'].map(cut_encoder)\n",
    "X_train_cat_transformed['color'] = x_train_cat['color'].map(color_encoder)\n",
    "X_train_cat_transformed['clarity'] = x_train_cat['clarity'].map(clarity_encoder)\n",
    "\n",
    "X_train_cat_transformed.head()"
   ]
  },
  {
   "cell_type": "markdown",
   "metadata": {},
   "source": [
    "Concatenate X_train_num_transformed and X_train_cat_transformed"
   ]
  },
  {
   "cell_type": "code",
   "execution_count": 25,
   "metadata": {},
   "outputs": [
    {
     "data": {
      "text/html": [
       "<div>\n",
       "<style scoped>\n",
       "    .dataframe tbody tr th:only-of-type {\n",
       "        vertical-align: middle;\n",
       "    }\n",
       "\n",
       "    .dataframe tbody tr th {\n",
       "        vertical-align: top;\n",
       "    }\n",
       "\n",
       "    .dataframe thead th {\n",
       "        text-align: right;\n",
       "    }\n",
       "</style>\n",
       "<table border=\"1\" class=\"dataframe\">\n",
       "  <thead>\n",
       "    <tr style=\"text-align: right;\">\n",
       "      <th></th>\n",
       "      <th>carat</th>\n",
       "      <th>depth</th>\n",
       "      <th>table</th>\n",
       "      <th>x</th>\n",
       "      <th>y</th>\n",
       "      <th>z</th>\n",
       "      <th>cut</th>\n",
       "      <th>color</th>\n",
       "      <th>clarity</th>\n",
       "    </tr>\n",
       "  </thead>\n",
       "  <tbody>\n",
       "    <tr>\n",
       "      <th>441</th>\n",
       "      <td>0.194920</td>\n",
       "      <td>-1.085697</td>\n",
       "      <td>0.694368</td>\n",
       "      <td>0.472201</td>\n",
       "      <td>0.430971</td>\n",
       "      <td>0.312528</td>\n",
       "      <td>5</td>\n",
       "      <td>3</td>\n",
       "      <td>2</td>\n",
       "    </tr>\n",
       "    <tr>\n",
       "      <th>50332</th>\n",
       "      <td>-0.205679</td>\n",
       "      <td>1.567623</td>\n",
       "      <td>-1.997562</td>\n",
       "      <td>-0.142482</td>\n",
       "      <td>-0.107276</td>\n",
       "      <td>0.058918</td>\n",
       "      <td>3</td>\n",
       "      <td>7</td>\n",
       "      <td>3</td>\n",
       "    </tr>\n",
       "    <tr>\n",
       "      <th>35652</th>\n",
       "      <td>-1.027961</td>\n",
       "      <td>0.659908</td>\n",
       "      <td>-0.202942</td>\n",
       "      <td>-1.247129</td>\n",
       "      <td>-1.235860</td>\n",
       "      <td>-1.166861</td>\n",
       "      <td>4</td>\n",
       "      <td>4</td>\n",
       "      <td>6</td>\n",
       "    </tr>\n",
       "    <tr>\n",
       "      <th>9439</th>\n",
       "      <td>0.216004</td>\n",
       "      <td>0.380611</td>\n",
       "      <td>0.694368</td>\n",
       "      <td>0.347483</td>\n",
       "      <td>0.378883</td>\n",
       "      <td>0.411154</td>\n",
       "      <td>3</td>\n",
       "      <td>3</td>\n",
       "      <td>5</td>\n",
       "    </tr>\n",
       "    <tr>\n",
       "      <th>15824</th>\n",
       "      <td>0.447930</td>\n",
       "      <td>-0.806400</td>\n",
       "      <td>2.040332</td>\n",
       "      <td>0.703821</td>\n",
       "      <td>0.656688</td>\n",
       "      <td>0.566137</td>\n",
       "      <td>2</td>\n",
       "      <td>5</td>\n",
       "      <td>4</td>\n",
       "    </tr>\n",
       "  </tbody>\n",
       "</table>\n",
       "</div>"
      ],
      "text/plain": [
       "          carat     depth     table         x         y         z  cut  color  \\\n",
       "441    0.194920 -1.085697  0.694368  0.472201  0.430971  0.312528    5      3   \n",
       "50332 -0.205679  1.567623 -1.997562 -0.142482 -0.107276  0.058918    3      7   \n",
       "35652 -1.027961  0.659908 -0.202942 -1.247129 -1.235860 -1.166861    4      4   \n",
       "9439   0.216004  0.380611  0.694368  0.347483  0.378883  0.411154    3      3   \n",
       "15824  0.447930 -0.806400  2.040332  0.703821  0.656688  0.566137    2      5   \n",
       "\n",
       "       clarity  \n",
       "441          2  \n",
       "50332        3  \n",
       "35652        6  \n",
       "9439         5  \n",
       "15824        4  "
      ]
     },
     "execution_count": 25,
     "metadata": {},
     "output_type": "execute_result"
    }
   ],
   "source": [
    "X_train_transformed = pd.concat([X_train_num_transformed, X_train_cat_transformed], axis=1)\n",
    "\n",
    "X_train_transformed.head()"
   ]
  },
  {
   "cell_type": "markdown",
   "metadata": {},
   "source": [
    "Step 5 - Preparing Test Data\n",
    "Note that, Step-4 is discussed after this."
   ]
  },
  {
   "cell_type": "code",
   "execution_count": 26,
   "metadata": {},
   "outputs": [],
   "source": [
    "# Separate Categorical and Numerical Features\n",
    "\n",
    "X_test_cat = x_test.select_dtypes(include=['object'])\n",
    "X_test_num = x_test.select_dtypes(include=['int64', 'float64'])"
   ]
  },
  {
   "cell_type": "code",
   "execution_count": 28,
   "metadata": {},
   "outputs": [
    {
     "data": {
      "text/html": [
       "<div>\n",
       "<style scoped>\n",
       "    .dataframe tbody tr th:only-of-type {\n",
       "        vertical-align: middle;\n",
       "    }\n",
       "\n",
       "    .dataframe tbody tr th {\n",
       "        vertical-align: top;\n",
       "    }\n",
       "\n",
       "    .dataframe thead th {\n",
       "        text-align: right;\n",
       "    }\n",
       "</style>\n",
       "<table border=\"1\" class=\"dataframe\">\n",
       "  <thead>\n",
       "    <tr style=\"text-align: right;\">\n",
       "      <th></th>\n",
       "      <th>carat</th>\n",
       "      <th>depth</th>\n",
       "      <th>table</th>\n",
       "      <th>x</th>\n",
       "      <th>y</th>\n",
       "      <th>z</th>\n",
       "    </tr>\n",
       "  </thead>\n",
       "  <tbody>\n",
       "    <tr>\n",
       "      <th>10176</th>\n",
       "      <td>0.637687</td>\n",
       "      <td>0.171139</td>\n",
       "      <td>-1.100252</td>\n",
       "      <td>0.783997</td>\n",
       "      <td>0.795591</td>\n",
       "      <td>0.805657</td>\n",
       "    </tr>\n",
       "    <tr>\n",
       "      <th>16083</th>\n",
       "      <td>1.038286</td>\n",
       "      <td>0.590084</td>\n",
       "      <td>-0.651597</td>\n",
       "      <td>1.095792</td>\n",
       "      <td>1.038670</td>\n",
       "      <td>1.143803</td>\n",
       "    </tr>\n",
       "    <tr>\n",
       "      <th>13420</th>\n",
       "      <td>0.848529</td>\n",
       "      <td>-0.457279</td>\n",
       "      <td>0.245713</td>\n",
       "      <td>1.024525</td>\n",
       "      <td>0.925812</td>\n",
       "      <td>0.904283</td>\n",
       "    </tr>\n",
       "    <tr>\n",
       "      <th>20407</th>\n",
       "      <td>1.481053</td>\n",
       "      <td>-0.596928</td>\n",
       "      <td>-0.651597</td>\n",
       "      <td>1.514489</td>\n",
       "      <td>1.411971</td>\n",
       "      <td>1.355144</td>\n",
       "    </tr>\n",
       "    <tr>\n",
       "      <th>8909</th>\n",
       "      <td>0.216004</td>\n",
       "      <td>-0.038334</td>\n",
       "      <td>-0.202942</td>\n",
       "      <td>0.392025</td>\n",
       "      <td>0.413609</td>\n",
       "      <td>0.397064</td>\n",
       "    </tr>\n",
       "  </tbody>\n",
       "</table>\n",
       "</div>"
      ],
      "text/plain": [
       "          carat     depth     table         x         y         z\n",
       "10176  0.637687  0.171139 -1.100252  0.783997  0.795591  0.805657\n",
       "16083  1.038286  0.590084 -0.651597  1.095792  1.038670  1.143803\n",
       "13420  0.848529 -0.457279  0.245713  1.024525  0.925812  0.904283\n",
       "20407  1.481053 -0.596928 -0.651597  1.514489  1.411971  1.355144\n",
       "8909   0.216004 -0.038334 -0.202942  0.392025  0.413609  0.397064"
      ]
     },
     "execution_count": 28,
     "metadata": {},
     "output_type": "execute_result"
    }
   ],
   "source": [
    "# Apply transformation on Numerical data\n",
    "\n",
    "X_test_num_transformed = pd.DataFrame(scaler.transform(X_test_num), \n",
    "                                   columns = scaler.get_feature_names_out(), \n",
    "                                   index = X_test_num.index)\n",
    "\n",
    "X_test_num_transformed.head()"
   ]
  },
  {
   "cell_type": "code",
   "execution_count": 30,
   "metadata": {},
   "outputs": [
    {
     "data": {
      "text/html": [
       "<div>\n",
       "<style scoped>\n",
       "    .dataframe tbody tr th:only-of-type {\n",
       "        vertical-align: middle;\n",
       "    }\n",
       "\n",
       "    .dataframe tbody tr th {\n",
       "        vertical-align: top;\n",
       "    }\n",
       "\n",
       "    .dataframe thead th {\n",
       "        text-align: right;\n",
       "    }\n",
       "</style>\n",
       "<table border=\"1\" class=\"dataframe\">\n",
       "  <thead>\n",
       "    <tr style=\"text-align: right;\">\n",
       "      <th></th>\n",
       "      <th>cut</th>\n",
       "      <th>color</th>\n",
       "      <th>clarity</th>\n",
       "    </tr>\n",
       "  </thead>\n",
       "  <tbody>\n",
       "    <tr>\n",
       "      <th>10176</th>\n",
       "      <td>4</td>\n",
       "      <td>3</td>\n",
       "      <td>2</td>\n",
       "    </tr>\n",
       "    <tr>\n",
       "      <th>16083</th>\n",
       "      <td>4</td>\n",
       "      <td>3</td>\n",
       "      <td>3</td>\n",
       "    </tr>\n",
       "    <tr>\n",
       "      <th>13420</th>\n",
       "      <td>5</td>\n",
       "      <td>2</td>\n",
       "      <td>3</td>\n",
       "    </tr>\n",
       "    <tr>\n",
       "      <th>20407</th>\n",
       "      <td>4</td>\n",
       "      <td>5</td>\n",
       "      <td>3</td>\n",
       "    </tr>\n",
       "    <tr>\n",
       "      <th>8909</th>\n",
       "      <td>3</td>\n",
       "      <td>5</td>\n",
       "      <td>4</td>\n",
       "    </tr>\n",
       "  </tbody>\n",
       "</table>\n",
       "</div>"
      ],
      "text/plain": [
       "       cut  color  clarity\n",
       "10176    4      3        2\n",
       "16083    4      3        3\n",
       "13420    5      2        3\n",
       "20407    4      5        3\n",
       "8909     3      5        4"
      ]
     },
     "execution_count": 30,
     "metadata": {},
     "output_type": "execute_result"
    }
   ],
   "source": [
    "# Apply transformation on Categorical data\n",
    "\n",
    "X_test_cat_transformed = pd.DataFrame(index = X_test_cat.index)\n",
    "\n",
    "X_test_cat_transformed['cut'] = X_test_cat['cut'].map(cut_encoder)\n",
    "X_test_cat_transformed['color'] = X_test_cat['color'].map(color_encoder)\n",
    "X_test_cat_transformed['clarity'] = X_test_cat['clarity'].map(clarity_encoder)\n",
    "\n",
    "X_test_cat_transformed.head()"
   ]
  },
  {
   "cell_type": "code",
   "execution_count": 31,
   "metadata": {},
   "outputs": [
    {
     "data": {
      "text/html": [
       "<div>\n",
       "<style scoped>\n",
       "    .dataframe tbody tr th:only-of-type {\n",
       "        vertical-align: middle;\n",
       "    }\n",
       "\n",
       "    .dataframe tbody tr th {\n",
       "        vertical-align: top;\n",
       "    }\n",
       "\n",
       "    .dataframe thead th {\n",
       "        text-align: right;\n",
       "    }\n",
       "</style>\n",
       "<table border=\"1\" class=\"dataframe\">\n",
       "  <thead>\n",
       "    <tr style=\"text-align: right;\">\n",
       "      <th></th>\n",
       "      <th>carat</th>\n",
       "      <th>depth</th>\n",
       "      <th>table</th>\n",
       "      <th>x</th>\n",
       "      <th>y</th>\n",
       "      <th>z</th>\n",
       "      <th>cut</th>\n",
       "      <th>color</th>\n",
       "      <th>clarity</th>\n",
       "    </tr>\n",
       "  </thead>\n",
       "  <tbody>\n",
       "    <tr>\n",
       "      <th>10176</th>\n",
       "      <td>0.637687</td>\n",
       "      <td>0.171139</td>\n",
       "      <td>-1.100252</td>\n",
       "      <td>0.783997</td>\n",
       "      <td>0.795591</td>\n",
       "      <td>0.805657</td>\n",
       "      <td>4</td>\n",
       "      <td>3</td>\n",
       "      <td>2</td>\n",
       "    </tr>\n",
       "    <tr>\n",
       "      <th>16083</th>\n",
       "      <td>1.038286</td>\n",
       "      <td>0.590084</td>\n",
       "      <td>-0.651597</td>\n",
       "      <td>1.095792</td>\n",
       "      <td>1.038670</td>\n",
       "      <td>1.143803</td>\n",
       "      <td>4</td>\n",
       "      <td>3</td>\n",
       "      <td>3</td>\n",
       "    </tr>\n",
       "    <tr>\n",
       "      <th>13420</th>\n",
       "      <td>0.848529</td>\n",
       "      <td>-0.457279</td>\n",
       "      <td>0.245713</td>\n",
       "      <td>1.024525</td>\n",
       "      <td>0.925812</td>\n",
       "      <td>0.904283</td>\n",
       "      <td>5</td>\n",
       "      <td>2</td>\n",
       "      <td>3</td>\n",
       "    </tr>\n",
       "    <tr>\n",
       "      <th>20407</th>\n",
       "      <td>1.481053</td>\n",
       "      <td>-0.596928</td>\n",
       "      <td>-0.651597</td>\n",
       "      <td>1.514489</td>\n",
       "      <td>1.411971</td>\n",
       "      <td>1.355144</td>\n",
       "      <td>4</td>\n",
       "      <td>5</td>\n",
       "      <td>3</td>\n",
       "    </tr>\n",
       "    <tr>\n",
       "      <th>8909</th>\n",
       "      <td>0.216004</td>\n",
       "      <td>-0.038334</td>\n",
       "      <td>-0.202942</td>\n",
       "      <td>0.392025</td>\n",
       "      <td>0.413609</td>\n",
       "      <td>0.397064</td>\n",
       "      <td>3</td>\n",
       "      <td>5</td>\n",
       "      <td>4</td>\n",
       "    </tr>\n",
       "  </tbody>\n",
       "</table>\n",
       "</div>"
      ],
      "text/plain": [
       "          carat     depth     table         x         y         z  cut  color  \\\n",
       "10176  0.637687  0.171139 -1.100252  0.783997  0.795591  0.805657    4      3   \n",
       "16083  1.038286  0.590084 -0.651597  1.095792  1.038670  1.143803    4      3   \n",
       "13420  0.848529 -0.457279  0.245713  1.024525  0.925812  0.904283    5      2   \n",
       "20407  1.481053 -0.596928 -0.651597  1.514489  1.411971  1.355144    4      5   \n",
       "8909   0.216004 -0.038334 -0.202942  0.392025  0.413609  0.397064    3      5   \n",
       "\n",
       "       clarity  \n",
       "10176        2  \n",
       "16083        3  \n",
       "13420        3  \n",
       "20407        3  \n",
       "8909         4  "
      ]
     },
     "execution_count": 31,
     "metadata": {},
     "output_type": "execute_result"
    }
   ],
   "source": [
    "# Concatinate X_test_num_transformed and X_test_cat_transformed\n",
    "\n",
    "X_test_transformed = pd.concat([X_test_num_transformed, X_test_cat_transformed], axis=1)\n",
    "\n",
    "X_test_transformed.head()"
   ]
  },
  {
   "cell_type": "markdown",
   "metadata": {},
   "source": [
    "Step 4, 6 and 7 - Training and Testing Phase - Linear Regression"
   ]
  },
  {
   "cell_type": "code",
   "execution_count": 32,
   "metadata": {},
   "outputs": [
    {
     "data": {
      "text/plain": [
       "806.17102071818"
      ]
     },
     "execution_count": 32,
     "metadata": {},
     "output_type": "execute_result"
    }
   ],
   "source": [
    "from sklearn.linear_model import LinearRegression\n",
    "from sklearn import metrics\n",
    "\n",
    "regressor = LinearRegression()\n",
    "regressor.fit(X_train_transformed, y_train)\n",
    "y_test_pred = regressor.predict(X_test_transformed)\n",
    "metrics.mean_absolute_error(y_test, y_test_pred)"
   ]
  },
  {
   "cell_type": "code",
   "execution_count": 33,
   "metadata": {},
   "outputs": [],
   "source": [
    "output_df = pd.DataFrame({'Actual': y_test})"
   ]
  },
  {
   "cell_type": "code",
   "execution_count": 34,
   "metadata": {},
   "outputs": [
    {
     "data": {
      "text/html": [
       "<div>\n",
       "<style scoped>\n",
       "    .dataframe tbody tr th:only-of-type {\n",
       "        vertical-align: middle;\n",
       "    }\n",
       "\n",
       "    .dataframe tbody tr th {\n",
       "        vertical-align: top;\n",
       "    }\n",
       "\n",
       "    .dataframe thead th {\n",
       "        text-align: right;\n",
       "    }\n",
       "</style>\n",
       "<table border=\"1\" class=\"dataframe\">\n",
       "  <thead>\n",
       "    <tr style=\"text-align: right;\">\n",
       "      <th></th>\n",
       "      <th>Actual</th>\n",
       "      <th>Linear Regression Predictions</th>\n",
       "    </tr>\n",
       "  </thead>\n",
       "  <tbody>\n",
       "    <tr>\n",
       "      <th>10176</th>\n",
       "      <td>4733</td>\n",
       "      <td>5068.656613</td>\n",
       "    </tr>\n",
       "    <tr>\n",
       "      <th>16083</th>\n",
       "      <td>6424</td>\n",
       "      <td>7209.240007</td>\n",
       "    </tr>\n",
       "    <tr>\n",
       "      <th>13420</th>\n",
       "      <td>5510</td>\n",
       "      <td>6130.750051</td>\n",
       "    </tr>\n",
       "    <tr>\n",
       "      <th>20407</th>\n",
       "      <td>8770</td>\n",
       "      <td>9851.316033</td>\n",
       "    </tr>\n",
       "    <tr>\n",
       "      <th>8909</th>\n",
       "      <td>4493</td>\n",
       "      <td>4768.121502</td>\n",
       "    </tr>\n",
       "    <tr>\n",
       "      <th>...</th>\n",
       "      <td>...</td>\n",
       "      <td>...</td>\n",
       "    </tr>\n",
       "    <tr>\n",
       "      <th>52283</th>\n",
       "      <td>2494</td>\n",
       "      <td>3350.954062</td>\n",
       "    </tr>\n",
       "    <tr>\n",
       "      <th>10789</th>\n",
       "      <td>4861</td>\n",
       "      <td>4399.620579</td>\n",
       "    </tr>\n",
       "    <tr>\n",
       "      <th>1190</th>\n",
       "      <td>2932</td>\n",
       "      <td>3885.028850</td>\n",
       "    </tr>\n",
       "    <tr>\n",
       "      <th>3583</th>\n",
       "      <td>3422</td>\n",
       "      <td>4128.870138</td>\n",
       "    </tr>\n",
       "    <tr>\n",
       "      <th>40845</th>\n",
       "      <td>1173</td>\n",
       "      <td>1474.419565</td>\n",
       "    </tr>\n",
       "  </tbody>\n",
       "</table>\n",
       "<p>13485 rows × 2 columns</p>\n",
       "</div>"
      ],
      "text/plain": [
       "       Actual  Linear Regression Predictions\n",
       "10176    4733                    5068.656613\n",
       "16083    6424                    7209.240007\n",
       "13420    5510                    6130.750051\n",
       "20407    8770                    9851.316033\n",
       "8909     4493                    4768.121502\n",
       "...       ...                            ...\n",
       "52283    2494                    3350.954062\n",
       "10789    4861                    4399.620579\n",
       "1190     2932                    3885.028850\n",
       "3583     3422                    4128.870138\n",
       "40845    1173                    1474.419565\n",
       "\n",
       "[13485 rows x 2 columns]"
      ]
     },
     "execution_count": 34,
     "metadata": {},
     "output_type": "execute_result"
    }
   ],
   "source": [
    "output_df['Linear Regression Predictions'] = y_test_pred\n",
    "output_df"
   ]
  },
  {
   "cell_type": "code",
   "execution_count": 35,
   "metadata": {},
   "outputs": [
    {
     "name": "stderr",
     "output_type": "stream",
     "text": [
      "/home/idreesy31/.local/lib/python3.9/site-packages/seaborn/_oldcore.py:1119: FutureWarning: use_inf_as_na option is deprecated and will be removed in a future version. Convert inf values to NaN before operating instead.\n",
      "  with pd.option_context('mode.use_inf_as_na', True):\n",
      "/home/idreesy31/.local/lib/python3.9/site-packages/seaborn/_oldcore.py:1119: FutureWarning: use_inf_as_na option is deprecated and will be removed in a future version. Convert inf values to NaN before operating instead.\n",
      "  with pd.option_context('mode.use_inf_as_na', True):\n"
     ]
    },
    {
     "data": {
      "text/plain": [
       "<matplotlib.legend.Legend at 0x78ba342a5eb0>"
      ]
     },
     "execution_count": 35,
     "metadata": {},
     "output_type": "execute_result"
    },
    {
     "data": {
      "image/png": "[encoded data removed]",
      "text/plain": [
       "<Figure size 800x300 with 1 Axes>"
      ]
     },
     "metadata": {},
     "output_type": "display_data"
    }
   ],
   "source": [
    "fig, ax = plt.subplots(figsize=(8,3))\n",
    "sns.histplot(output_df['Actual'], color='blue', alpha=0.5, label='actual')\n",
    "sns.histplot(output_df['Linear Regression Predictions'], color='red', alpha=0.5, label=\"prediction\")\n",
    "\n",
    "plt.legend()"
   ]
  },
  {
   "cell_type": "markdown",
   "metadata": {},
   "source": [
    "Step 4, 6 and 7 - Training and Testing Phase - KNN Regression"
   ]
  },
  {
   "cell_type": "code",
   "execution_count": 36,
   "metadata": {},
   "outputs": [
    {
     "data": {
      "text/plain": [
       "383.2567296996663"
      ]
     },
     "execution_count": 36,
     "metadata": {},
     "output_type": "execute_result"
    }
   ],
   "source": [
    "from sklearn.neighbors import KNeighborsRegressor\n",
    "from sklearn import metrics\n",
    "\n",
    "regressor = KNeighborsRegressor()\n",
    "regressor.fit(X_train_transformed, y_train)\n",
    "\n",
    "y_test_pred = regressor.predict(X_test_transformed)\n",
    "\n",
    "metrics.mean_absolute_error(y_test, y_test_pred)"
   ]
  },
  {
   "cell_type": "code",
   "execution_count": 37,
   "metadata": {},
   "outputs": [
    {
     "data": {
      "text/html": [
       "<div>\n",
       "<style scoped>\n",
       "    .dataframe tbody tr th:only-of-type {\n",
       "        vertical-align: middle;\n",
       "    }\n",
       "\n",
       "    .dataframe tbody tr th {\n",
       "        vertical-align: top;\n",
       "    }\n",
       "\n",
       "    .dataframe thead th {\n",
       "        text-align: right;\n",
       "    }\n",
       "</style>\n",
       "<table border=\"1\" class=\"dataframe\">\n",
       "  <thead>\n",
       "    <tr style=\"text-align: right;\">\n",
       "      <th></th>\n",
       "      <th>Actual</th>\n",
       "      <th>Linear Regression Predictions</th>\n",
       "      <th>KNN Regression Predictions</th>\n",
       "    </tr>\n",
       "  </thead>\n",
       "  <tbody>\n",
       "    <tr>\n",
       "      <th>10176</th>\n",
       "      <td>4733</td>\n",
       "      <td>5068.656613</td>\n",
       "      <td>4664.4</td>\n",
       "    </tr>\n",
       "    <tr>\n",
       "      <th>16083</th>\n",
       "      <td>6424</td>\n",
       "      <td>7209.240007</td>\n",
       "      <td>6278.2</td>\n",
       "    </tr>\n",
       "    <tr>\n",
       "      <th>13420</th>\n",
       "      <td>5510</td>\n",
       "      <td>6130.750051</td>\n",
       "      <td>5180.8</td>\n",
       "    </tr>\n",
       "    <tr>\n",
       "      <th>20407</th>\n",
       "      <td>8770</td>\n",
       "      <td>9851.316033</td>\n",
       "      <td>12080.0</td>\n",
       "    </tr>\n",
       "    <tr>\n",
       "      <th>8909</th>\n",
       "      <td>4493</td>\n",
       "      <td>4768.121502</td>\n",
       "      <td>6015.2</td>\n",
       "    </tr>\n",
       "    <tr>\n",
       "      <th>...</th>\n",
       "      <td>...</td>\n",
       "      <td>...</td>\n",
       "      <td>...</td>\n",
       "    </tr>\n",
       "    <tr>\n",
       "      <th>52283</th>\n",
       "      <td>2494</td>\n",
       "      <td>3350.954062</td>\n",
       "      <td>2445.2</td>\n",
       "    </tr>\n",
       "    <tr>\n",
       "      <th>10789</th>\n",
       "      <td>4861</td>\n",
       "      <td>4399.620579</td>\n",
       "      <td>4301.8</td>\n",
       "    </tr>\n",
       "    <tr>\n",
       "      <th>1190</th>\n",
       "      <td>2932</td>\n",
       "      <td>3885.028850</td>\n",
       "      <td>3569.6</td>\n",
       "    </tr>\n",
       "    <tr>\n",
       "      <th>3583</th>\n",
       "      <td>3422</td>\n",
       "      <td>4128.870138</td>\n",
       "      <td>3228.2</td>\n",
       "    </tr>\n",
       "    <tr>\n",
       "      <th>40845</th>\n",
       "      <td>1173</td>\n",
       "      <td>1474.419565</td>\n",
       "      <td>1533.4</td>\n",
       "    </tr>\n",
       "  </tbody>\n",
       "</table>\n",
       "<p>13485 rows × 3 columns</p>\n",
       "</div>"
      ],
      "text/plain": [
       "       Actual  Linear Regression Predictions  KNN Regression Predictions\n",
       "10176    4733                    5068.656613                      4664.4\n",
       "16083    6424                    7209.240007                      6278.2\n",
       "13420    5510                    6130.750051                      5180.8\n",
       "20407    8770                    9851.316033                     12080.0\n",
       "8909     4493                    4768.121502                      6015.2\n",
       "...       ...                            ...                         ...\n",
       "52283    2494                    3350.954062                      2445.2\n",
       "10789    4861                    4399.620579                      4301.8\n",
       "1190     2932                    3885.028850                      3569.6\n",
       "3583     3422                    4128.870138                      3228.2\n",
       "40845    1173                    1474.419565                      1533.4\n",
       "\n",
       "[13485 rows x 3 columns]"
      ]
     },
     "execution_count": 37,
     "metadata": {},
     "output_type": "execute_result"
    }
   ],
   "source": [
    "output_df['KNN Regression Predictions'] = y_test_pred\n",
    "\n",
    "output_df"
   ]
  },
  {
   "cell_type": "code",
   "execution_count": 38,
   "metadata": {},
   "outputs": [
    {
     "name": "stderr",
     "output_type": "stream",
     "text": [
      "/home/idreesy31/.local/lib/python3.9/site-packages/seaborn/_oldcore.py:1119: FutureWarning: use_inf_as_na option is deprecated and will be removed in a future version. Convert inf values to NaN before operating instead.\n",
      "  with pd.option_context('mode.use_inf_as_na', True):\n",
      "/home/idreesy31/.local/lib/python3.9/site-packages/seaborn/_oldcore.py:1119: FutureWarning: use_inf_as_na option is deprecated and will be removed in a future version. Convert inf values to NaN before operating instead.\n",
      "  with pd.option_context('mode.use_inf_as_na', True):\n"
     ]
    },
    {
     "data": {
      "text/plain": [
       "<matplotlib.legend.Legend at 0x78ba48fd59d0>"
      ]
     },
     "execution_count": 38,
     "metadata": {},
     "output_type": "execute_result"
    },
    {
     "data": {
      "image/png": "[encoded data removed]",
      "text/plain": [
       "<Figure size 800x300 with 1 Axes>"
      ]
     },
     "metadata": {},
     "output_type": "display_data"
    }
   ],
   "source": [
    "fig, ax = plt.subplots(figsize=(8,3))\n",
    "\n",
    "sns.histplot(output_df['Actual'], color='blue', alpha=0.5, label=\"actual\")\n",
    "sns.histplot(output_df['KNN Regression Predictions'], color='red', alpha=0.5, label=\"prediction\")\n",
    "\n",
    "plt.legend()"
   ]
  },
  {
   "cell_type": "markdown",
   "metadata": {},
   "source": [
    "Step 4, 6 and 7 - Training and Testing Phase - DT Regression"
   ]
  },
  {
   "cell_type": "code",
   "execution_count": 39,
   "metadata": {},
   "outputs": [
    {
     "data": {
      "text/plain": [
       "359.02743789395623"
      ]
     },
     "execution_count": 39,
     "metadata": {},
     "output_type": "execute_result"
    }
   ],
   "source": [
    "from sklearn.tree import DecisionTreeRegressor\n",
    "from sklearn import metrics\n",
    "\n",
    "regressor = DecisionTreeRegressor()\n",
    "regressor.fit(X_train_transformed, y_train)\n",
    "\n",
    "y_test_pred = regressor.predict(X_test_transformed)\n",
    "\n",
    "metrics.mean_absolute_error(y_test, y_test_pred)"
   ]
  },
  {
   "cell_type": "code",
   "execution_count": 40,
   "metadata": {},
   "outputs": [
    {
     "data": {
      "text/html": [
       "<div>\n",
       "<style scoped>\n",
       "    .dataframe tbody tr th:only-of-type {\n",
       "        vertical-align: middle;\n",
       "    }\n",
       "\n",
       "    .dataframe tbody tr th {\n",
       "        vertical-align: top;\n",
       "    }\n",
       "\n",
       "    .dataframe thead th {\n",
       "        text-align: right;\n",
       "    }\n",
       "</style>\n",
       "<table border=\"1\" class=\"dataframe\">\n",
       "  <thead>\n",
       "    <tr style=\"text-align: right;\">\n",
       "      <th></th>\n",
       "      <th>Actual</th>\n",
       "      <th>Linear Regression Predictions</th>\n",
       "      <th>KNN Regression Predictions</th>\n",
       "      <th>DT Regression Predictions</th>\n",
       "    </tr>\n",
       "  </thead>\n",
       "  <tbody>\n",
       "    <tr>\n",
       "      <th>10176</th>\n",
       "      <td>4733</td>\n",
       "      <td>5068.656613</td>\n",
       "      <td>4664.4</td>\n",
       "      <td>4620.0</td>\n",
       "    </tr>\n",
       "    <tr>\n",
       "      <th>16083</th>\n",
       "      <td>6424</td>\n",
       "      <td>7209.240007</td>\n",
       "      <td>6278.2</td>\n",
       "      <td>7277.0</td>\n",
       "    </tr>\n",
       "    <tr>\n",
       "      <th>13420</th>\n",
       "      <td>5510</td>\n",
       "      <td>6130.750051</td>\n",
       "      <td>5180.8</td>\n",
       "      <td>5190.0</td>\n",
       "    </tr>\n",
       "    <tr>\n",
       "      <th>20407</th>\n",
       "      <td>8770</td>\n",
       "      <td>9851.316033</td>\n",
       "      <td>12080.0</td>\n",
       "      <td>12182.0</td>\n",
       "    </tr>\n",
       "    <tr>\n",
       "      <th>8909</th>\n",
       "      <td>4493</td>\n",
       "      <td>4768.121502</td>\n",
       "      <td>6015.2</td>\n",
       "      <td>4678.0</td>\n",
       "    </tr>\n",
       "    <tr>\n",
       "      <th>...</th>\n",
       "      <td>...</td>\n",
       "      <td>...</td>\n",
       "      <td>...</td>\n",
       "      <td>...</td>\n",
       "    </tr>\n",
       "    <tr>\n",
       "      <th>52283</th>\n",
       "      <td>2494</td>\n",
       "      <td>3350.954062</td>\n",
       "      <td>2445.2</td>\n",
       "      <td>2442.0</td>\n",
       "    </tr>\n",
       "    <tr>\n",
       "      <th>10789</th>\n",
       "      <td>4861</td>\n",
       "      <td>4399.620579</td>\n",
       "      <td>4301.8</td>\n",
       "      <td>4166.0</td>\n",
       "    </tr>\n",
       "    <tr>\n",
       "      <th>1190</th>\n",
       "      <td>2932</td>\n",
       "      <td>3885.028850</td>\n",
       "      <td>3569.6</td>\n",
       "      <td>3238.0</td>\n",
       "    </tr>\n",
       "    <tr>\n",
       "      <th>3583</th>\n",
       "      <td>3422</td>\n",
       "      <td>4128.870138</td>\n",
       "      <td>3228.2</td>\n",
       "      <td>2856.0</td>\n",
       "    </tr>\n",
       "    <tr>\n",
       "      <th>40845</th>\n",
       "      <td>1173</td>\n",
       "      <td>1474.419565</td>\n",
       "      <td>1533.4</td>\n",
       "      <td>1251.0</td>\n",
       "    </tr>\n",
       "  </tbody>\n",
       "</table>\n",
       "<p>13485 rows × 4 columns</p>\n",
       "</div>"
      ],
      "text/plain": [
       "       Actual  Linear Regression Predictions  KNN Regression Predictions  \\\n",
       "10176    4733                    5068.656613                      4664.4   \n",
       "16083    6424                    7209.240007                      6278.2   \n",
       "13420    5510                    6130.750051                      5180.8   \n",
       "20407    8770                    9851.316033                     12080.0   \n",
       "8909     4493                    4768.121502                      6015.2   \n",
       "...       ...                            ...                         ...   \n",
       "52283    2494                    3350.954062                      2445.2   \n",
       "10789    4861                    4399.620579                      4301.8   \n",
       "1190     2932                    3885.028850                      3569.6   \n",
       "3583     3422                    4128.870138                      3228.2   \n",
       "40845    1173                    1474.419565                      1533.4   \n",
       "\n",
       "       DT Regression Predictions  \n",
       "10176                     4620.0  \n",
       "16083                     7277.0  \n",
       "13420                     5190.0  \n",
       "20407                    12182.0  \n",
       "8909                      4678.0  \n",
       "...                          ...  \n",
       "52283                     2442.0  \n",
       "10789                     4166.0  \n",
       "1190                      3238.0  \n",
       "3583                      2856.0  \n",
       "40845                     1251.0  \n",
       "\n",
       "[13485 rows x 4 columns]"
      ]
     },
     "execution_count": 40,
     "metadata": {},
     "output_type": "execute_result"
    }
   ],
   "source": [
    "output_df['DT Regression Predictions'] = y_test_pred\n",
    "\n",
    "output_df"
   ]
  },
  {
   "cell_type": "code",
   "execution_count": 41,
   "metadata": {},
   "outputs": [
    {
     "name": "stderr",
     "output_type": "stream",
     "text": [
      "/home/idreesy31/.local/lib/python3.9/site-packages/seaborn/_oldcore.py:1119: FutureWarning: use_inf_as_na option is deprecated and will be removed in a future version. Convert inf values to NaN before operating instead.\n",
      "  with pd.option_context('mode.use_inf_as_na', True):\n",
      "/home/idreesy31/.local/lib/python3.9/site-packages/seaborn/_oldcore.py:1119: FutureWarning: use_inf_as_na option is deprecated and will be removed in a future version. Convert inf values to NaN before operating instead.\n",
      "  with pd.option_context('mode.use_inf_as_na', True):\n"
     ]
    },
    {
     "data": {
      "text/plain": [
       "<matplotlib.legend.Legend at 0x78ba33e67640>"
      ]
     },
     "execution_count": 41,
     "metadata": {},
     "output_type": "execute_result"
    },
    {
     "data": {
      "image/png": "[encoded data removed]",
      "text/plain": [
       "<Figure size 800x300 with 1 Axes>"
      ]
     },
     "metadata": {},
     "output_type": "display_data"
    }
   ],
   "source": [
    "fig, ax = plt.subplots(figsize=(8,3))\n",
    "\n",
    "sns.histplot(output_df['Actual'], color='blue', alpha=0.5, label=\"actual\")\n",
    "sns.histplot(output_df['DT Regression Predictions'], color='red', alpha=0.5, label=\"prediction\")\n",
    "\n",
    "plt.legend()"
   ]
  },
  {
   "cell_type": "markdown",
   "metadata": {},
   "source": [
    "Step 4, 6 and 7 - Training and Testing Phase - Random Forest Regression"
   ]
  },
  {
   "cell_type": "code",
   "execution_count": 42,
   "metadata": {},
   "outputs": [
    {
     "data": {
      "text/plain": [
       "270.81326302623137"
      ]
     },
     "execution_count": 42,
     "metadata": {},
     "output_type": "execute_result"
    }
   ],
   "source": [
    "from sklearn.ensemble import RandomForestRegressor\n",
    "from sklearn import metrics\n",
    "\n",
    "regressor = RandomForestRegressor()\n",
    "regressor.fit(X_train_transformed, y_train)\n",
    "\n",
    "y_test_pred = regressor.predict(X_test_transformed)\n",
    "\n",
    "metrics.mean_absolute_error(y_test, y_test_pred)"
   ]
  },
  {
   "cell_type": "code",
   "execution_count": 43,
   "metadata": {},
   "outputs": [
    {
     "data": {
      "text/html": [
       "<div>\n",
       "<style scoped>\n",
       "    .dataframe tbody tr th:only-of-type {\n",
       "        vertical-align: middle;\n",
       "    }\n",
       "\n",
       "    .dataframe tbody tr th {\n",
       "        vertical-align: top;\n",
       "    }\n",
       "\n",
       "    .dataframe thead th {\n",
       "        text-align: right;\n",
       "    }\n",
       "</style>\n",
       "<table border=\"1\" class=\"dataframe\">\n",
       "  <thead>\n",
       "    <tr style=\"text-align: right;\">\n",
       "      <th></th>\n",
       "      <th>Actual</th>\n",
       "      <th>Linear Regression Predictions</th>\n",
       "      <th>KNN Regression Predictions</th>\n",
       "      <th>DT Regression Predictions</th>\n",
       "      <th>RF Regression Predictions</th>\n",
       "    </tr>\n",
       "  </thead>\n",
       "  <tbody>\n",
       "    <tr>\n",
       "      <th>10176</th>\n",
       "      <td>4733</td>\n",
       "      <td>5068.656613</td>\n",
       "      <td>4664.4</td>\n",
       "      <td>4620.0</td>\n",
       "      <td>4730.410000</td>\n",
       "    </tr>\n",
       "    <tr>\n",
       "      <th>16083</th>\n",
       "      <td>6424</td>\n",
       "      <td>7209.240007</td>\n",
       "      <td>6278.2</td>\n",
       "      <td>7277.0</td>\n",
       "      <td>7019.240000</td>\n",
       "    </tr>\n",
       "    <tr>\n",
       "      <th>13420</th>\n",
       "      <td>5510</td>\n",
       "      <td>6130.750051</td>\n",
       "      <td>5180.8</td>\n",
       "      <td>5190.0</td>\n",
       "      <td>5282.660000</td>\n",
       "    </tr>\n",
       "    <tr>\n",
       "      <th>20407</th>\n",
       "      <td>8770</td>\n",
       "      <td>9851.316033</td>\n",
       "      <td>12080.0</td>\n",
       "      <td>12182.0</td>\n",
       "      <td>11133.020000</td>\n",
       "    </tr>\n",
       "    <tr>\n",
       "      <th>8909</th>\n",
       "      <td>4493</td>\n",
       "      <td>4768.121502</td>\n",
       "      <td>6015.2</td>\n",
       "      <td>4678.0</td>\n",
       "      <td>4867.670000</td>\n",
       "    </tr>\n",
       "    <tr>\n",
       "      <th>...</th>\n",
       "      <td>...</td>\n",
       "      <td>...</td>\n",
       "      <td>...</td>\n",
       "      <td>...</td>\n",
       "      <td>...</td>\n",
       "    </tr>\n",
       "    <tr>\n",
       "      <th>52283</th>\n",
       "      <td>2494</td>\n",
       "      <td>3350.954062</td>\n",
       "      <td>2445.2</td>\n",
       "      <td>2442.0</td>\n",
       "      <td>2440.030000</td>\n",
       "    </tr>\n",
       "    <tr>\n",
       "      <th>10789</th>\n",
       "      <td>4861</td>\n",
       "      <td>4399.620579</td>\n",
       "      <td>4301.8</td>\n",
       "      <td>4166.0</td>\n",
       "      <td>4392.130000</td>\n",
       "    </tr>\n",
       "    <tr>\n",
       "      <th>1190</th>\n",
       "      <td>2932</td>\n",
       "      <td>3885.028850</td>\n",
       "      <td>3569.6</td>\n",
       "      <td>3238.0</td>\n",
       "      <td>3052.609667</td>\n",
       "    </tr>\n",
       "    <tr>\n",
       "      <th>3583</th>\n",
       "      <td>3422</td>\n",
       "      <td>4128.870138</td>\n",
       "      <td>3228.2</td>\n",
       "      <td>2856.0</td>\n",
       "      <td>2848.230000</td>\n",
       "    </tr>\n",
       "    <tr>\n",
       "      <th>40845</th>\n",
       "      <td>1173</td>\n",
       "      <td>1474.419565</td>\n",
       "      <td>1533.4</td>\n",
       "      <td>1251.0</td>\n",
       "      <td>1287.860000</td>\n",
       "    </tr>\n",
       "  </tbody>\n",
       "</table>\n",
       "<p>13485 rows × 5 columns</p>\n",
       "</div>"
      ],
      "text/plain": [
       "       Actual  Linear Regression Predictions  KNN Regression Predictions  \\\n",
       "10176    4733                    5068.656613                      4664.4   \n",
       "16083    6424                    7209.240007                      6278.2   \n",
       "13420    5510                    6130.750051                      5180.8   \n",
       "20407    8770                    9851.316033                     12080.0   \n",
       "8909     4493                    4768.121502                      6015.2   \n",
       "...       ...                            ...                         ...   \n",
       "52283    2494                    3350.954062                      2445.2   \n",
       "10789    4861                    4399.620579                      4301.8   \n",
       "1190     2932                    3885.028850                      3569.6   \n",
       "3583     3422                    4128.870138                      3228.2   \n",
       "40845    1173                    1474.419565                      1533.4   \n",
       "\n",
       "       DT Regression Predictions  RF Regression Predictions  \n",
       "10176                     4620.0                4730.410000  \n",
       "16083                     7277.0                7019.240000  \n",
       "13420                     5190.0                5282.660000  \n",
       "20407                    12182.0               11133.020000  \n",
       "8909                      4678.0                4867.670000  \n",
       "...                          ...                        ...  \n",
       "52283                     2442.0                2440.030000  \n",
       "10789                     4166.0                4392.130000  \n",
       "1190                      3238.0                3052.609667  \n",
       "3583                      2856.0                2848.230000  \n",
       "40845                     1251.0                1287.860000  \n",
       "\n",
       "[13485 rows x 5 columns]"
      ]
     },
     "execution_count": 43,
     "metadata": {},
     "output_type": "execute_result"
    }
   ],
   "source": [
    "output_df['RF Regression Predictions'] = y_test_pred\n",
    "\n",
    "output_df"
   ]
  },
  {
   "cell_type": "code",
   "execution_count": 44,
   "metadata": {},
   "outputs": [
    {
     "name": "stderr",
     "output_type": "stream",
     "text": [
      "/home/idreesy31/.local/lib/python3.9/site-packages/seaborn/_oldcore.py:1119: FutureWarning: use_inf_as_na option is deprecated and will be removed in a future version. Convert inf values to NaN before operating instead.\n",
      "  with pd.option_context('mode.use_inf_as_na', True):\n",
      "/home/idreesy31/.local/lib/python3.9/site-packages/seaborn/_oldcore.py:1119: FutureWarning: use_inf_as_na option is deprecated and will be removed in a future version. Convert inf values to NaN before operating instead.\n",
      "  with pd.option_context('mode.use_inf_as_na', True):\n"
     ]
    },
    {
     "data": {
      "text/plain": [
       "<matplotlib.legend.Legend at 0x78ba33bbd8b0>"
      ]
     },
     "execution_count": 44,
     "metadata": {},
     "output_type": "execute_result"
    },
    {
     "data": {
      "image/png": "[encoded data removed]",
      "text/plain": [
       "<Figure size 800x300 with 1 Axes>"
      ]
     },
     "metadata": {},
     "output_type": "display_data"
    }
   ],
   "source": [
    "fig, ax = plt.subplots(figsize=(8,3))\n",
    "\n",
    "sns.histplot(output_df['Actual'], color='blue', alpha=0.5, label=\"actual\")\n",
    "sns.histplot(output_df['RF Regression Predictions'], color='red', alpha=0.5, label=\"prediction\")\n",
    "\n",
    "plt.legend()"
   ]
  },
  {
   "cell_type": "markdown",
   "metadata": {},
   "source": [
    "Comparing all the Models"
   ]
  },
  {
   "cell_type": "code",
   "execution_count": 45,
   "metadata": {},
   "outputs": [
    {
     "data": {
      "text/html": [
       "<div>\n",
       "<style scoped>\n",
       "    .dataframe tbody tr th:only-of-type {\n",
       "        vertical-align: middle;\n",
       "    }\n",
       "\n",
       "    .dataframe tbody tr th {\n",
       "        vertical-align: top;\n",
       "    }\n",
       "\n",
       "    .dataframe thead th {\n",
       "        text-align: right;\n",
       "    }\n",
       "</style>\n",
       "<table border=\"1\" class=\"dataframe\">\n",
       "  <thead>\n",
       "    <tr style=\"text-align: right;\">\n",
       "      <th></th>\n",
       "      <th>Model</th>\n",
       "      <th>Prediction</th>\n",
       "    </tr>\n",
       "  </thead>\n",
       "  <tbody>\n",
       "    <tr>\n",
       "      <th>0</th>\n",
       "      <td>Actual</td>\n",
       "      <td>4733.0</td>\n",
       "    </tr>\n",
       "    <tr>\n",
       "      <th>1</th>\n",
       "      <td>Actual</td>\n",
       "      <td>6424.0</td>\n",
       "    </tr>\n",
       "    <tr>\n",
       "      <th>2</th>\n",
       "      <td>Actual</td>\n",
       "      <td>5510.0</td>\n",
       "    </tr>\n",
       "    <tr>\n",
       "      <th>3</th>\n",
       "      <td>Actual</td>\n",
       "      <td>8770.0</td>\n",
       "    </tr>\n",
       "    <tr>\n",
       "      <th>4</th>\n",
       "      <td>Actual</td>\n",
       "      <td>4493.0</td>\n",
       "    </tr>\n",
       "  </tbody>\n",
       "</table>\n",
       "</div>"
      ],
      "text/plain": [
       "    Model  Prediction\n",
       "0  Actual      4733.0\n",
       "1  Actual      6424.0\n",
       "2  Actual      5510.0\n",
       "3  Actual      8770.0\n",
       "4  Actual      4493.0"
      ]
     },
     "execution_count": 45,
     "metadata": {},
     "output_type": "execute_result"
    }
   ],
   "source": [
    "df_melted = pd.melt(output_df,  var_name='Model', value_name='Prediction')\n",
    "\n",
    "df_melted.head()"
   ]
  },
  {
   "cell_type": "code",
   "execution_count": 46,
   "metadata": {},
   "outputs": [
    {
     "data": {
      "image/png": "[encoded data removed]",
      "text/plain": [
       "<Figure size 800x300 with 1 Axes>"
      ]
     },
     "metadata": {},
     "output_type": "display_data"
    }
   ],
   "source": [
    "fig, ax = plt.subplots(figsize=(8,3))\n",
    "\n",
    "sns.boxplot(x='Prediction', y='Model', data=df_melted)\n",
    "plt.title('Comparison of Actual vs. Predicted Values')\n",
    "\n",
    "plt.show()"
   ]
  }
 ],
 "metadata": {
  "kernelspec": {
   "display_name": "Python 3",
   "language": "python",
   "name": "python3"
  },
  "language_info": {
   "codemirror_mode": {
    "name": "ipython",
    "version": 3
   },
   "file_extension": ".py",
   "mimetype": "text/x-python",
   "name": "python",
   "nbconvert_exporter": "python",
   "pygments_lexer": "ipython3",
   "version": "3.9.2"
  }
 },
 "nbformat": 4,
 "nbformat_minor": 2
}
