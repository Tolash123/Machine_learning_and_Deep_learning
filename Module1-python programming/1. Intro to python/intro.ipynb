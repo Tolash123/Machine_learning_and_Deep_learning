{
 "cells": [
  {
   "cell_type": "markdown",
   "metadata": {},
   "source": [
    "Father of Python - GUIDO VAN ROSSUM\n",
    "\n",
    "# Where can we use Python?\n",
    "\n",
    "Desktop Applications (Calculator, Notepad, etc..)\n",
    "Web Applications (Youtube, Dropbox, Google, Instagram, Quora, Spotify)\n",
    "Scientific and Numeric Computing (Scipy, Numpy)\n",
    "Database Applications (Library Management Systems, Pharmaceutical)\n",
    "Network Applications (Network Sniffer, Network Parameter extraction, Routing Algo's like OSPF)\n",
    "Developing Games (Battlefield, Sims 4, PUBG)\n",
    "Data Science (Pandas, Matplotlib, Seaborn, etc)\n",
    "Machine Learning (scikit)\n",
    "AI (AIMA - AI: A Modern Approach)\n",
    "IOT (Raspberry pi, Phillips(works great with low level code in c++))\n",
    "\n",
    "### Features of Python:\n",
    "Simple and easy to learn\n",
    "Free and open source.\n",
    "General Purpose and high level programming language.\n",
    "Platform independent.\n",
    "Case Sensitive.\n",
    "Interpreted Language.\n",
    "Dynamically typed.\n",
    "Rich Library.\n",
    "We can write concise code using python."
   ]
  },
  {
   "cell_type": "code",
   "execution_count": null,
   "metadata": {},
   "outputs": [],
   "source": []
  },
  {
   "cell_type": "code",
   "execution_count": 3,
   "metadata": {},
   "outputs": [
    {
     "data": {
      "text/plain": [
       "'\\n hello love -1\\n '"
      ]
     },
     "execution_count": 3,
     "metadata": {},
     "output_type": "execute_result"
    }
   ],
   "source": [
    "# is use for comment\n",
    "# print('Hello mom!') "
   ]
  },
  {
   "cell_type": "code",
   "execution_count": 1,
   "metadata": {},
   "outputs": [
    {
     "name": "stdout",
     "output_type": "stream",
     "text": [
      "Hello world!\n"
     ]
    }
   ],
   "source": [
    "# Let's print Hello world\n",
    "print('Hello world!')"
   ]
  },
  {
   "cell_type": "markdown",
   "metadata": {},
   "source": [
    "### Identifiers\n",
    "Identifier is a user-defined name in Python like variable name, function name and class name.\n",
    "\n",
    "- Rules to define identifiers:\n",
    "\n",
    "Allowed characters => Alphabets, Digits and Underscore Symbol\n",
    "Identifier should never start with a digit\n",
    "Case Sensitive\n",
    "No length limit\n",
    "Can't use reserved words for identifier"
   ]
  },
  {
   "cell_type": "code",
   "execution_count": 2,
   "metadata": {},
   "outputs": [
    {
     "name": "stdout",
     "output_type": "stream",
     "text": [
      "['False', 'None', 'True', '__peg_parser__', 'and', 'as', 'assert', 'async', 'await', 'break', 'class', 'continue', 'def', 'del', 'elif', 'else', 'except', 'finally', 'for', 'from', 'global', 'if', 'import', 'in', 'is', 'lambda', 'nonlocal', 'not', 'or', 'pass', 'raise', 'return', 'try', 'while', 'with', 'yield']\n",
      "36\n"
     ]
    }
   ],
   "source": [
    "# Reserved words\n",
    "import keyword\n",
    "print(keyword.kwlist);\n",
    "print(len(keyword.kwlist));"
   ]
  },
  {
   "cell_type": "markdown",
   "metadata": {},
   "source": [
    "### Data Types\n",
    "As we know that python is Dynamically typed programming language, than why do we need to learn about data type at all?\n",
    "\n",
    "Although python automatically understands the data type, but it is important to know about data types so that we can utilize the power of data structures in future.\n",
    "\n",
    "#### Basic Data Types available in python are:\n",
    "\n",
    "    Numeric - int, float, complex (Immutable)\n",
    "    Boolean - bool (True/False)\n",
    "    Strings (Immutable)\n",
    "    List (Mutable, mostly used to store homogeneous data types)\n",
    "    Tuple (Immutable, faster compared to List)\n",
    "    Set (Unordered collection of items, mutable, removes duplicates)\n",
    "    Dictionary (Unordered collection of Key-Value Pairs, Mutable, Keys are Unique - values may not be unique)"
   ]
  }
 ],
 "metadata": {
  "kernelspec": {
   "display_name": "Python 3",
   "language": "python",
   "name": "python3"
  },
  "language_info": {
   "codemirror_mode": {
    "name": "ipython",
    "version": 3
   },
   "file_extension": ".py",
   "mimetype": "text/x-python",
   "name": "python",
   "nbconvert_exporter": "python",
   "pygments_lexer": "ipython3",
   "version": "3.9.2"
  },
  "orig_nbformat": 4
 },
 "nbformat": 4,
 "nbformat_minor": 2
}
